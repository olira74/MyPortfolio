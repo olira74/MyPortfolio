{
 "cells": [
  {
   "cell_type": "markdown",
   "metadata": {
    "toc": true
   },
   "source": [
    "<h1>Содержание<span class=\"tocSkip\"></span></h1>\n",
    "<div class=\"toc\"><ul class=\"toc-item\"><li><span><a href=\"#Подготовка\" data-toc-modified-id=\"Подготовка-1\"><span class=\"toc-item-num\">1&nbsp;&nbsp;</span>Подготовка</a></span></li><li><span><a href=\"#Обучение\" data-toc-modified-id=\"Обучение-2\"><span class=\"toc-item-num\">2&nbsp;&nbsp;</span>Обучение</a></span></li><li><span><a href=\"#Выводы\" data-toc-modified-id=\"Выводы-3\"><span class=\"toc-item-num\">3&nbsp;&nbsp;</span>Выводы</a></span></li></ul></div>"
   ]
  },
  {
   "cell_type": "markdown",
   "metadata": {},
   "source": [
    "# Проект для «Викишоп»"
   ]
  },
  {
   "cell_type": "markdown",
   "metadata": {},
   "source": [
    "Интернет-магазин «Викишоп» запускает новый сервис. Теперь пользователи могут редактировать и дополнять описания товаров, как в вики-сообществах. То есть клиенты предлагают свои правки и комментируют изменения других. Магазину нужен инструмент, который будет искать токсичные комментарии и отправлять их на модерацию. \n",
    "\n",
    "**Описание данных**\n",
    "\n",
    "Данные находятся в файле `toxic_comments.csv`. Столбец *text* в нём содержит текст комментария, а *toxic* — целевой признак."
   ]
  },
  {
   "cell_type": "markdown",
   "metadata": {},
   "source": [
    "**Цель работы**\n",
    "\n",
    "Обучить модель классифицировать комментарии на позитивные и негативные\n",
    "\n",
    "**Описание данных**\n",
    "\n",
    "Набор данных находится в файле /datasets/toxic_comments.csv.\n",
    "\n",
    "Столбец text - текст комментария, а toxic — целевой признак.\n",
    "\n",
    "**План работы**\n",
    "\n",
    "- Изучить данные, выявить пропущенные значения\n",
    "- Провести предобработку и анализ данных\n",
    "- Разделить выборку на тренировочную, валидационную и тестовую\n",
    "- Выбрать для каждой из трех моделей лучшие параметры\n",
    "- Обучить три модели с выбранными параметрами и сравнить их по качеству\n",
    "- Лучшую модель проверить на тестовой выборке\n",
    "- Написать вывод"
   ]
  },
  {
   "cell_type": "markdown",
   "metadata": {},
   "source": [
    "## Подготовка"
   ]
  },
  {
   "cell_type": "code",
   "execution_count": 26,
   "metadata": {},
   "outputs": [
    {
     "name": "stderr",
     "output_type": "stream",
     "text": [
      "[nltk_data] Downloading package averaged_perceptron_tagger to\n",
      "[nltk_data]     /home/jovyan/nltk_data...\n",
      "[nltk_data]   Package averaged_perceptron_tagger is already up-to-\n",
      "[nltk_data]       date!\n"
     ]
    }
   ],
   "source": [
    "import time\n",
    "import numpy as np\n",
    "import pandas as pd\n",
    "import matplotlib.pyplot as plt\n",
    "import seaborn as sns\n",
    "import re\n",
    "import nltk\n",
    "nltk.download('averaged_perceptron_tagger')\n",
    "from nltk.corpus import stopwords as nltk_stopwords\n",
    "from nltk.corpus import wordnet\n",
    "from nltk.stem import WordNetLemmatizer\n",
    "from sklearn.feature_extraction.text import TfidfVectorizer\n",
    "from sklearn.model_selection import train_test_split\n",
    "from sklearn.model_selection import cross_val_score\n",
    "from sklearn.model_selection import GridSearchCV\n",
    "from sklearn.metrics import f1_score\n",
    "from sklearn.linear_model import LogisticRegression, SGDClassifier\n",
    "from sklearn.tree import DecisionTreeClassifier\n",
    "from catboost import CatBoostClassifier"
   ]
  },
  {
   "cell_type": "markdown",
   "metadata": {},
   "source": [
    "**1.1 Изучение данных**"
   ]
  },
  {
   "cell_type": "code",
   "execution_count": 27,
   "metadata": {},
   "outputs": [],
   "source": [
    "# загрузка данных \n",
    "data = pd.read_csv('/datasets/toxic_comments.csv')"
   ]
  },
  {
   "cell_type": "code",
   "execution_count": 28,
   "metadata": {},
   "outputs": [
    {
     "data": {
      "text/html": [
       "<div>\n",
       "<style scoped>\n",
       "    .dataframe tbody tr th:only-of-type {\n",
       "        vertical-align: middle;\n",
       "    }\n",
       "\n",
       "    .dataframe tbody tr th {\n",
       "        vertical-align: top;\n",
       "    }\n",
       "\n",
       "    .dataframe thead th {\n",
       "        text-align: right;\n",
       "    }\n",
       "</style>\n",
       "<table border=\"1\" class=\"dataframe\">\n",
       "  <thead>\n",
       "    <tr style=\"text-align: right;\">\n",
       "      <th></th>\n",
       "      <th>Unnamed: 0</th>\n",
       "      <th>text</th>\n",
       "      <th>toxic</th>\n",
       "    </tr>\n",
       "  </thead>\n",
       "  <tbody>\n",
       "    <tr>\n",
       "      <th>0</th>\n",
       "      <td>0</td>\n",
       "      <td>Explanation\\nWhy the edits made under my usern...</td>\n",
       "      <td>0</td>\n",
       "    </tr>\n",
       "    <tr>\n",
       "      <th>1</th>\n",
       "      <td>1</td>\n",
       "      <td>D'aww! He matches this background colour I'm s...</td>\n",
       "      <td>0</td>\n",
       "    </tr>\n",
       "    <tr>\n",
       "      <th>2</th>\n",
       "      <td>2</td>\n",
       "      <td>Hey man, I'm really not trying to edit war. It...</td>\n",
       "      <td>0</td>\n",
       "    </tr>\n",
       "    <tr>\n",
       "      <th>3</th>\n",
       "      <td>3</td>\n",
       "      <td>\"\\nMore\\nI can't make any real suggestions on ...</td>\n",
       "      <td>0</td>\n",
       "    </tr>\n",
       "    <tr>\n",
       "      <th>4</th>\n",
       "      <td>4</td>\n",
       "      <td>You, sir, are my hero. Any chance you remember...</td>\n",
       "      <td>0</td>\n",
       "    </tr>\n",
       "  </tbody>\n",
       "</table>\n",
       "</div>"
      ],
      "text/plain": [
       "   Unnamed: 0                                               text  toxic\n",
       "0           0  Explanation\\nWhy the edits made under my usern...      0\n",
       "1           1  D'aww! He matches this background colour I'm s...      0\n",
       "2           2  Hey man, I'm really not trying to edit war. It...      0\n",
       "3           3  \"\\nMore\\nI can't make any real suggestions on ...      0\n",
       "4           4  You, sir, are my hero. Any chance you remember...      0"
      ]
     },
     "metadata": {},
     "output_type": "display_data"
    },
    {
     "data": {
      "text/html": [
       "<div>\n",
       "<style scoped>\n",
       "    .dataframe tbody tr th:only-of-type {\n",
       "        vertical-align: middle;\n",
       "    }\n",
       "\n",
       "    .dataframe tbody tr th {\n",
       "        vertical-align: top;\n",
       "    }\n",
       "\n",
       "    .dataframe thead th {\n",
       "        text-align: right;\n",
       "    }\n",
       "</style>\n",
       "<table border=\"1\" class=\"dataframe\">\n",
       "  <thead>\n",
       "    <tr style=\"text-align: right;\">\n",
       "      <th></th>\n",
       "      <th>Unnamed: 0</th>\n",
       "      <th>text</th>\n",
       "      <th>toxic</th>\n",
       "    </tr>\n",
       "  </thead>\n",
       "  <tbody>\n",
       "    <tr>\n",
       "      <th>159287</th>\n",
       "      <td>159446</td>\n",
       "      <td>\":::::And for the second time of asking, when ...</td>\n",
       "      <td>0</td>\n",
       "    </tr>\n",
       "    <tr>\n",
       "      <th>159288</th>\n",
       "      <td>159447</td>\n",
       "      <td>You should be ashamed of yourself \\n\\nThat is ...</td>\n",
       "      <td>0</td>\n",
       "    </tr>\n",
       "    <tr>\n",
       "      <th>159289</th>\n",
       "      <td>159448</td>\n",
       "      <td>Spitzer \\n\\nUmm, theres no actual article for ...</td>\n",
       "      <td>0</td>\n",
       "    </tr>\n",
       "    <tr>\n",
       "      <th>159290</th>\n",
       "      <td>159449</td>\n",
       "      <td>And it looks like it was actually you who put ...</td>\n",
       "      <td>0</td>\n",
       "    </tr>\n",
       "    <tr>\n",
       "      <th>159291</th>\n",
       "      <td>159450</td>\n",
       "      <td>\"\\nAnd ... I really don't think you understand...</td>\n",
       "      <td>0</td>\n",
       "    </tr>\n",
       "  </tbody>\n",
       "</table>\n",
       "</div>"
      ],
      "text/plain": [
       "        Unnamed: 0                                               text  toxic\n",
       "159287      159446  \":::::And for the second time of asking, when ...      0\n",
       "159288      159447  You should be ashamed of yourself \\n\\nThat is ...      0\n",
       "159289      159448  Spitzer \\n\\nUmm, theres no actual article for ...      0\n",
       "159290      159449  And it looks like it was actually you who put ...      0\n",
       "159291      159450  \"\\nAnd ... I really don't think you understand...      0"
      ]
     },
     "metadata": {},
     "output_type": "display_data"
    }
   ],
   "source": [
    "# первые пять сторок и последние пять строк\n",
    "display(data.head())\n",
    "display(data.tail())"
   ]
  },
  {
   "cell_type": "code",
   "execution_count": 29,
   "metadata": {},
   "outputs": [
    {
     "name": "stdout",
     "output_type": "stream",
     "text": [
      "<class 'pandas.core.frame.DataFrame'>\n",
      "RangeIndex: 159292 entries, 0 to 159291\n",
      "Data columns (total 3 columns):\n",
      " #   Column      Non-Null Count   Dtype \n",
      "---  ------      --------------   ----- \n",
      " 0   Unnamed: 0  159292 non-null  int64 \n",
      " 1   text        159292 non-null  object\n",
      " 2   toxic       159292 non-null  int64 \n",
      "dtypes: int64(2), object(1)\n",
      "memory usage: 3.6+ MB\n"
     ]
    },
    {
     "data": {
      "text/html": [
       "<div>\n",
       "<style scoped>\n",
       "    .dataframe tbody tr th:only-of-type {\n",
       "        vertical-align: middle;\n",
       "    }\n",
       "\n",
       "    .dataframe tbody tr th {\n",
       "        vertical-align: top;\n",
       "    }\n",
       "\n",
       "    .dataframe thead th {\n",
       "        text-align: right;\n",
       "    }\n",
       "</style>\n",
       "<table border=\"1\" class=\"dataframe\">\n",
       "  <thead>\n",
       "    <tr style=\"text-align: right;\">\n",
       "      <th></th>\n",
       "      <th>Unnamed: 0</th>\n",
       "      <th>toxic</th>\n",
       "    </tr>\n",
       "  </thead>\n",
       "  <tbody>\n",
       "    <tr>\n",
       "      <th>count</th>\n",
       "      <td>159292.000000</td>\n",
       "      <td>159292.000000</td>\n",
       "    </tr>\n",
       "    <tr>\n",
       "      <th>mean</th>\n",
       "      <td>79725.697242</td>\n",
       "      <td>0.101612</td>\n",
       "    </tr>\n",
       "    <tr>\n",
       "      <th>std</th>\n",
       "      <td>46028.837471</td>\n",
       "      <td>0.302139</td>\n",
       "    </tr>\n",
       "    <tr>\n",
       "      <th>min</th>\n",
       "      <td>0.000000</td>\n",
       "      <td>0.000000</td>\n",
       "    </tr>\n",
       "    <tr>\n",
       "      <th>25%</th>\n",
       "      <td>39872.750000</td>\n",
       "      <td>0.000000</td>\n",
       "    </tr>\n",
       "    <tr>\n",
       "      <th>50%</th>\n",
       "      <td>79721.500000</td>\n",
       "      <td>0.000000</td>\n",
       "    </tr>\n",
       "    <tr>\n",
       "      <th>75%</th>\n",
       "      <td>119573.250000</td>\n",
       "      <td>0.000000</td>\n",
       "    </tr>\n",
       "    <tr>\n",
       "      <th>max</th>\n",
       "      <td>159450.000000</td>\n",
       "      <td>1.000000</td>\n",
       "    </tr>\n",
       "  </tbody>\n",
       "</table>\n",
       "</div>"
      ],
      "text/plain": [
       "          Unnamed: 0          toxic\n",
       "count  159292.000000  159292.000000\n",
       "mean    79725.697242       0.101612\n",
       "std     46028.837471       0.302139\n",
       "min         0.000000       0.000000\n",
       "25%     39872.750000       0.000000\n",
       "50%     79721.500000       0.000000\n",
       "75%    119573.250000       0.000000\n",
       "max    159450.000000       1.000000"
      ]
     },
     "metadata": {},
     "output_type": "display_data"
    }
   ],
   "source": [
    "# информация о данных \n",
    "data.info()\n",
    "display(data.describe())"
   ]
  },
  {
   "cell_type": "code",
   "execution_count": 30,
   "metadata": {},
   "outputs": [
    {
     "name": "stdout",
     "output_type": "stream",
     "text": [
      "0\n"
     ]
    }
   ],
   "source": [
    "print(data.duplicated().sum())"
   ]
  },
  {
   "cell_type": "code",
   "execution_count": 31,
   "metadata": {},
   "outputs": [
    {
     "data": {
      "text/plain": [
       "0    143106\n",
       "1     16186\n",
       "Name: toxic, dtype: int64"
      ]
     },
     "metadata": {},
     "output_type": "display_data"
    },
    {
     "data": {
      "text/plain": [
       "8.841344371679229"
      ]
     },
     "execution_count": 31,
     "metadata": {},
     "output_type": "execute_result"
    }
   ],
   "source": [
    "# проверка балансировки классов\n",
    "display(data['toxic'].value_counts())\n",
    "class_ratio = data['toxic'].value_counts()[0] / data['toxic'].value_counts()[1]\n",
    "class_ratio"
   ]
  },
  {
   "cell_type": "markdown",
   "metadata": {},
   "source": [
    "В ходе изучения данных было получено следующее:\n",
    "- данные состоят из 159292 строк и трех столбцов\n",
    "- комментарии в столбце text на английском языке\n",
    "- пропусков нет\n",
    "- дубликатов нет\n",
    "- столбец toxic - целевой признак\n",
    "- в целевом признаке очевиден дисбаланс классов"
   ]
  },
  {
   "cell_type": "markdown",
   "metadata": {},
   "source": [
    "**1.2 Подготовка данных**"
   ]
  },
  {
   "cell_type": "code",
   "execution_count": 32,
   "metadata": {},
   "outputs": [
    {
     "data": {
      "text/html": [
       "<div>\n",
       "<style scoped>\n",
       "    .dataframe tbody tr th:only-of-type {\n",
       "        vertical-align: middle;\n",
       "    }\n",
       "\n",
       "    .dataframe tbody tr th {\n",
       "        vertical-align: top;\n",
       "    }\n",
       "\n",
       "    .dataframe thead th {\n",
       "        text-align: right;\n",
       "    }\n",
       "</style>\n",
       "<table border=\"1\" class=\"dataframe\">\n",
       "  <thead>\n",
       "    <tr style=\"text-align: right;\">\n",
       "      <th></th>\n",
       "      <th>Unnamed: 0</th>\n",
       "      <th>toxic</th>\n",
       "      <th>lemm_text</th>\n",
       "    </tr>\n",
       "  </thead>\n",
       "  <tbody>\n",
       "    <tr>\n",
       "      <th>0</th>\n",
       "      <td>0</td>\n",
       "      <td>0</td>\n",
       "      <td>explanation why the edits make under my userna...</td>\n",
       "    </tr>\n",
       "    <tr>\n",
       "      <th>1</th>\n",
       "      <td>1</td>\n",
       "      <td>0</td>\n",
       "      <td>d aww he match this background colour i m seem...</td>\n",
       "    </tr>\n",
       "    <tr>\n",
       "      <th>2</th>\n",
       "      <td>2</td>\n",
       "      <td>0</td>\n",
       "      <td>hey man i m really not try to edit war it s ju...</td>\n",
       "    </tr>\n",
       "    <tr>\n",
       "      <th>3</th>\n",
       "      <td>3</td>\n",
       "      <td>0</td>\n",
       "      <td>more i can t make any real suggestion on impro...</td>\n",
       "    </tr>\n",
       "    <tr>\n",
       "      <th>4</th>\n",
       "      <td>4</td>\n",
       "      <td>0</td>\n",
       "      <td>you sir be my hero any chance you remember wha...</td>\n",
       "    </tr>\n",
       "    <tr>\n",
       "      <th>5</th>\n",
       "      <td>5</td>\n",
       "      <td>0</td>\n",
       "      <td>congratulation from me a well use the tool wel...</td>\n",
       "    </tr>\n",
       "    <tr>\n",
       "      <th>6</th>\n",
       "      <td>6</td>\n",
       "      <td>1</td>\n",
       "      <td>cocksucker before you piss around on my work</td>\n",
       "    </tr>\n",
       "    <tr>\n",
       "      <th>7</th>\n",
       "      <td>7</td>\n",
       "      <td>0</td>\n",
       "      <td>your vandalism to the matt shirvington article...</td>\n",
       "    </tr>\n",
       "    <tr>\n",
       "      <th>8</th>\n",
       "      <td>8</td>\n",
       "      <td>0</td>\n",
       "      <td>sorry if the word nonsense be offensive to you...</td>\n",
       "    </tr>\n",
       "    <tr>\n",
       "      <th>9</th>\n",
       "      <td>9</td>\n",
       "      <td>0</td>\n",
       "      <td>alignment on this subject and which be contrar...</td>\n",
       "    </tr>\n",
       "  </tbody>\n",
       "</table>\n",
       "</div>"
      ],
      "text/plain": [
       "   Unnamed: 0  toxic                                          lemm_text\n",
       "0           0      0  explanation why the edits make under my userna...\n",
       "1           1      0  d aww he match this background colour i m seem...\n",
       "2           2      0  hey man i m really not try to edit war it s ju...\n",
       "3           3      0  more i can t make any real suggestion on impro...\n",
       "4           4      0  you sir be my hero any chance you remember wha...\n",
       "5           5      0  congratulation from me a well use the tool wel...\n",
       "6           6      1       cocksucker before you piss around on my work\n",
       "7           7      0  your vandalism to the matt shirvington article...\n",
       "8           8      0  sorry if the word nonsense be offensive to you...\n",
       "9           9      0  alignment on this subject and which be contrar..."
      ]
     },
     "metadata": {},
     "output_type": "display_data"
    }
   ],
   "source": [
    "# лемматизация и очистка текста\n",
    "def get_wordnet_pos(word):\n",
    "    tag = nltk.pos_tag([word])[0][1][0].upper()\n",
    "    tag_dict = {\"J\": wordnet.ADJ,\n",
    "                \"N\": wordnet.NOUN,\n",
    "                \"V\": wordnet.VERB,\n",
    "                \"R\": wordnet.ADV}\n",
    "\n",
    "    return tag_dict.get(tag, wordnet.NOUN)\n",
    "\n",
    "def lemmatize_clear(text):\n",
    "    text = text.lower()\n",
    "    m = WordNetLemmatizer()\n",
    "    text = re.sub(r'[^a-zA-Z]', ' ', text)\n",
    "    text_clear = \" \".join(text.split())\n",
    "    lemm_text = \" \".join(m.lemmatize(w, get_wordnet_pos(w)) for w in nltk.word_tokenize(text_clear))\n",
    "    return lemm_text\n",
    "\n",
    "data['lemm_text'] = data['text'].apply(lemmatize_clear)\n",
    "data = data.drop(['text'], axis=1)\n",
    "\n",
    "# проверка\n",
    "display(data.head(10))"
   ]
  },
  {
   "cell_type": "code",
   "execution_count": 33,
   "metadata": {},
   "outputs": [],
   "source": [
    "# отделим целевой признак\n",
    "features = data.drop(['toxic'], axis=1)\n",
    "target = data['toxic']"
   ]
  },
  {
   "cell_type": "code",
   "execution_count": 34,
   "metadata": {},
   "outputs": [],
   "source": [
    "# разбиение данных на обучающую и тестовую выборки в отношении 90/10\n",
    "features_train, features_test, target_train, target_test = train_test_split(features, target, test_size=0.1, \n",
    "                                                                          random_state=12345, stratify=target)"
   ]
  },
  {
   "cell_type": "code",
   "execution_count": 35,
   "metadata": {},
   "outputs": [
    {
     "name": "stderr",
     "output_type": "stream",
     "text": [
      "[nltk_data] Downloading package stopwords to /home/jovyan/nltk_data...\n",
      "[nltk_data]   Package stopwords is already up-to-date!\n"
     ]
    },
    {
     "name": "stdout",
     "output_type": "stream",
     "text": [
      "143362\n",
      "15930\n"
     ]
    }
   ],
   "source": [
    "# tf_idf\n",
    "nltk.download('stopwords')\n",
    "stopwords = set(nltk_stopwords.words('english'))\n",
    "count_tf_idf = TfidfVectorizer(stop_words=stopwords)\n",
    "\n",
    "tf_idf_train = count_tf_idf.fit_transform(features_train['lemm_text'].values)\n",
    "tf_idf_test = count_tf_idf.transform(features_test['lemm_text'].values)\n",
    "\n",
    "print(tf_idf_train.shape[0])\n",
    "print(tf_idf_test.shape[0])"
   ]
  },
  {
   "cell_type": "markdown",
   "metadata": {},
   "source": [
    "Данные готовы к работе"
   ]
  },
  {
   "cell_type": "markdown",
   "metadata": {},
   "source": [
    "**Вывод по пункту 1**\n",
    "\n",
    "В ходе изучения данных было получено следующее:\n",
    "- данные состоят из 159292 строк и трех столбцов\n",
    "- комментарии в столбце text на английском языке\n",
    "- пропусков нет\n",
    "- дубликатов нет\n",
    "- столбец toxic - целевой признак\n",
    "- в целевом признаке очевиден дисбаланс классов\n",
    "\n",
    "В ходе подготовки данных было проделано следующее:\n",
    "- проведена лемматизация и очистка текста\n",
    "- отделен целевой признак\n",
    "- данные разделены на обучающую и тестовую выборки\n",
    "- проведена векторизация"
   ]
  },
  {
   "cell_type": "markdown",
   "metadata": {},
   "source": [
    "## Обучение"
   ]
  },
  {
   "cell_type": "markdown",
   "metadata": {},
   "source": [
    "Обучение выбранных моделей будем проводить с учетом дисбаланса классов с помощью метода балансировки по весу"
   ]
  },
  {
   "cell_type": "markdown",
   "metadata": {},
   "source": [
    "**2.1 LogisticRegression**"
   ]
  },
  {
   "cell_type": "code",
   "execution_count": 36,
   "metadata": {},
   "outputs": [
    {
     "name": "stdout",
     "output_type": "stream",
     "text": [
      "Best parameters set found on development set:\n",
      "\n",
      "{'class_weight': {0: 1, 1: 8.841344371679229}, 'random_state': 12345, 'solver': 'lbfgs'}\n",
      "\n",
      "Grid scores on development set:\n",
      "\n",
      "0.752561 for {'class_weight': {0: 1, 1: 8.841344371679229}, 'random_state': 12345, 'solver': 'newton-cg'}\n",
      "0.752607 for {'class_weight': {0: 1, 1: 8.841344371679229}, 'random_state': 12345, 'solver': 'lbfgs'}\n",
      "0.752561 for {'class_weight': {0: 1, 1: 8.841344371679229}, 'random_state': 12345, 'solver': 'liblinear'}\n",
      "\n",
      "Best f1 LogisticRegression = 0.7526067813095907\n"
     ]
    }
   ],
   "source": [
    "dict_classes={0:1, 1:class_ratio}\n",
    "model_log = LogisticRegression(max_iter=200)\n",
    "hyperparams = [{'solver':['newton-cg', 'lbfgs', 'liblinear'], 'random_state':[12345], 'class_weight':[dict_classes]}]\n",
    "score_log = GridSearchCV(model_log, hyperparams, scoring='f1', cv=5)\n",
    "score_log.fit(tf_idf_train, target_train)\n",
    "print(\"Best parameters set found on development set:\")\n",
    "print()\n",
    "print(score_log.best_params_)\n",
    "LR_best_params = score_log.best_params_\n",
    "print()\n",
    "print(\"Grid scores on development set:\")\n",
    "print()\n",
    "means = score_log.cv_results_['mean_test_score']\n",
    "for mean, params in zip(means, score_log.cv_results_['params']):\n",
    "    print(\"%0.6f for %r\"% (mean, params))\n",
    "cv_f1_log = max(means)\n",
    "print()\n",
    "print('Best f1 LogisticRegression =', cv_f1_log)\n",
    "best_model_log = score_log.best_estimator_"
   ]
  },
  {
   "cell_type": "markdown",
   "metadata": {},
   "source": [
    "**Вывод по пункту 2.1**\n",
    "\n",
    "Лучшую точность показала модель с параметром solver='lbfgs'"
   ]
  },
  {
   "cell_type": "markdown",
   "metadata": {},
   "source": [
    "**2.2 DecisionTreeClassifier**"
   ]
  },
  {
   "cell_type": "code",
   "execution_count": 37,
   "metadata": {},
   "outputs": [
    {
     "name": "stdout",
     "output_type": "stream",
     "text": [
      "Best parameters set found on development set:\n",
      "\n",
      "{'class_weight': {0: 1, 1: 8.841344371679229}, 'max_depth': 30, 'random_state': 12345}\n",
      "\n",
      "Grid scores on development set:\n",
      "\n",
      "0.377228 for {'class_weight': {0: 1, 1: 8.841344371679229}, 'max_depth': 1, 'random_state': 12345}\n",
      "0.377110 for {'class_weight': {0: 1, 1: 8.841344371679229}, 'max_depth': 2, 'random_state': 12345}\n",
      "0.431348 for {'class_weight': {0: 1, 1: 8.841344371679229}, 'max_depth': 3, 'random_state': 12345}\n",
      "0.480103 for {'class_weight': {0: 1, 1: 8.841344371679229}, 'max_depth': 4, 'random_state': 12345}\n",
      "0.516295 for {'class_weight': {0: 1, 1: 8.841344371679229}, 'max_depth': 5, 'random_state': 12345}\n",
      "0.544476 for {'class_weight': {0: 1, 1: 8.841344371679229}, 'max_depth': 6, 'random_state': 12345}\n",
      "0.544654 for {'class_weight': {0: 1, 1: 8.841344371679229}, 'max_depth': 7, 'random_state': 12345}\n",
      "0.562920 for {'class_weight': {0: 1, 1: 8.841344371679229}, 'max_depth': 8, 'random_state': 12345}\n",
      "0.576810 for {'class_weight': {0: 1, 1: 8.841344371679229}, 'max_depth': 9, 'random_state': 12345}\n",
      "0.580355 for {'class_weight': {0: 1, 1: 8.841344371679229}, 'max_depth': 10, 'random_state': 12345}\n",
      "0.585108 for {'class_weight': {0: 1, 1: 8.841344371679229}, 'max_depth': 11, 'random_state': 12345}\n",
      "0.591737 for {'class_weight': {0: 1, 1: 8.841344371679229}, 'max_depth': 12, 'random_state': 12345}\n",
      "0.600553 for {'class_weight': {0: 1, 1: 8.841344371679229}, 'max_depth': 13, 'random_state': 12345}\n",
      "0.602363 for {'class_weight': {0: 1, 1: 8.841344371679229}, 'max_depth': 14, 'random_state': 12345}\n",
      "0.607541 for {'class_weight': {0: 1, 1: 8.841344371679229}, 'max_depth': 15, 'random_state': 12345}\n",
      "0.601388 for {'class_weight': {0: 1, 1: 8.841344371679229}, 'max_depth': 16, 'random_state': 12345}\n",
      "0.604031 for {'class_weight': {0: 1, 1: 8.841344371679229}, 'max_depth': 17, 'random_state': 12345}\n",
      "0.605264 for {'class_weight': {0: 1, 1: 8.841344371679229}, 'max_depth': 18, 'random_state': 12345}\n",
      "0.606412 for {'class_weight': {0: 1, 1: 8.841344371679229}, 'max_depth': 19, 'random_state': 12345}\n",
      "0.611083 for {'class_weight': {0: 1, 1: 8.841344371679229}, 'max_depth': 20, 'random_state': 12345}\n",
      "0.616405 for {'class_weight': {0: 1, 1: 8.841344371679229}, 'max_depth': 21, 'random_state': 12345}\n",
      "0.618493 for {'class_weight': {0: 1, 1: 8.841344371679229}, 'max_depth': 22, 'random_state': 12345}\n",
      "0.623289 for {'class_weight': {0: 1, 1: 8.841344371679229}, 'max_depth': 23, 'random_state': 12345}\n",
      "0.627007 for {'class_weight': {0: 1, 1: 8.841344371679229}, 'max_depth': 24, 'random_state': 12345}\n",
      "0.630092 for {'class_weight': {0: 1, 1: 8.841344371679229}, 'max_depth': 25, 'random_state': 12345}\n",
      "0.633993 for {'class_weight': {0: 1, 1: 8.841344371679229}, 'max_depth': 26, 'random_state': 12345}\n",
      "0.638812 for {'class_weight': {0: 1, 1: 8.841344371679229}, 'max_depth': 27, 'random_state': 12345}\n",
      "0.639481 for {'class_weight': {0: 1, 1: 8.841344371679229}, 'max_depth': 28, 'random_state': 12345}\n",
      "0.641022 for {'class_weight': {0: 1, 1: 8.841344371679229}, 'max_depth': 29, 'random_state': 12345}\n",
      "0.643736 for {'class_weight': {0: 1, 1: 8.841344371679229}, 'max_depth': 30, 'random_state': 12345}\n",
      "\n",
      "Best f1 DecisionTreeClassifier = 0.643736078505861\n"
     ]
    }
   ],
   "source": [
    "model_tree = DecisionTreeClassifier()\n",
    "max_depth_list = [x for x in range(1, 31)]\n",
    "hyperparams = [{'max_depth':max_depth_list, 'random_state':[12345], 'class_weight':[dict_classes]}]\n",
    "score_tree = GridSearchCV(model_tree, hyperparams, scoring='f1', cv=5)\n",
    "score_tree.fit(tf_idf_train, target_train)\n",
    "print(\"Best parameters set found on development set:\")\n",
    "print()\n",
    "print(score_tree.best_params_)\n",
    "print()\n",
    "print(\"Grid scores on development set:\")\n",
    "print()\n",
    "means = score_tree.cv_results_['mean_test_score']\n",
    "for mean, params in zip(means, score_tree.cv_results_['params']):\n",
    "    print(\"%0.6f for %r\"% (mean, params))\n",
    "cv_f1_tree = max(means)\n",
    "print()\n",
    "print('Best f1 DecisionTreeClassifier =', cv_f1_tree)\n",
    "best_model_tree = score_tree.best_estimator_"
   ]
  },
  {
   "cell_type": "markdown",
   "metadata": {},
   "source": [
    "**Вывод по пункту 2.2**\n",
    "\n",
    "С глубиной 30 модель DecisionTreeClassifier показала лучшую точность."
   ]
  },
  {
   "cell_type": "markdown",
   "metadata": {},
   "source": [
    "**2.3 SGDClassifier**"
   ]
  },
  {
   "cell_type": "code",
   "execution_count": 38,
   "metadata": {
    "scrolled": true
   },
   "outputs": [
    {
     "name": "stdout",
     "output_type": "stream",
     "text": [
      "Best parameters set found on development set:\n",
      "\n",
      "{'class_weight': {0: 1, 1: 8.841344371679229}, 'eta0': 0.01, 'learning_rate': 'adaptive', 'loss': 'modified_huber', 'random_state': 12345}\n",
      "\n",
      "Grid scores on development set:\n",
      "\n",
      "0.733610 for {'class_weight': {0: 1, 1: 8.841344371679229}, 'eta0': 0.01, 'learning_rate': 'constant', 'loss': 'hinge', 'random_state': 12345}\n",
      "\n",
      "0.713930 for {'class_weight': {0: 1, 1: 8.841344371679229}, 'eta0': 0.01, 'learning_rate': 'constant', 'loss': 'log', 'random_state': 12345}\n",
      "\n",
      "0.742908 for {'class_weight': {0: 1, 1: 8.841344371679229}, 'eta0': 0.01, 'learning_rate': 'constant', 'loss': 'modified_huber', 'random_state': 12345}\n",
      "\n",
      "0.735689 for {'class_weight': {0: 1, 1: 8.841344371679229}, 'eta0': 0.01, 'learning_rate': 'optimal', 'loss': 'hinge', 'random_state': 12345}\n",
      "\n",
      "0.713906 for {'class_weight': {0: 1, 1: 8.841344371679229}, 'eta0': 0.01, 'learning_rate': 'optimal', 'loss': 'log', 'random_state': 12345}\n",
      "\n",
      "0.749819 for {'class_weight': {0: 1, 1: 8.841344371679229}, 'eta0': 0.01, 'learning_rate': 'optimal', 'loss': 'modified_huber', 'random_state': 12345}\n",
      "\n",
      "0.683258 for {'class_weight': {0: 1, 1: 8.841344371679229}, 'eta0': 0.01, 'learning_rate': 'invscaling', 'loss': 'hinge', 'random_state': 12345}\n",
      "\n",
      "0.659563 for {'class_weight': {0: 1, 1: 8.841344371679229}, 'eta0': 0.01, 'learning_rate': 'invscaling', 'loss': 'log', 'random_state': 12345}\n",
      "\n",
      "0.663614 for {'class_weight': {0: 1, 1: 8.841344371679229}, 'eta0': 0.01, 'learning_rate': 'invscaling', 'loss': 'modified_huber', 'random_state': 12345}\n",
      "\n",
      "0.737963 for {'class_weight': {0: 1, 1: 8.841344371679229}, 'eta0': 0.01, 'learning_rate': 'adaptive', 'loss': 'hinge', 'random_state': 12345}\n",
      "\n",
      "0.714487 for {'class_weight': {0: 1, 1: 8.841344371679229}, 'eta0': 0.01, 'learning_rate': 'adaptive', 'loss': 'log', 'random_state': 12345}\n",
      "\n",
      "0.752704 for {'class_weight': {0: 1, 1: 8.841344371679229}, 'eta0': 0.01, 'learning_rate': 'adaptive', 'loss': 'modified_huber', 'random_state': 12345}\n",
      "\n",
      "0.722639 for {'class_weight': {0: 1, 1: 8.841344371679229}, 'eta0': 0.05, 'learning_rate': 'constant', 'loss': 'hinge', 'random_state': 12345}\n",
      "\n",
      "0.703643 for {'class_weight': {0: 1, 1: 8.841344371679229}, 'eta0': 0.05, 'learning_rate': 'constant', 'loss': 'log', 'random_state': 12345}\n",
      "\n",
      "0.711566 for {'class_weight': {0: 1, 1: 8.841344371679229}, 'eta0': 0.05, 'learning_rate': 'constant', 'loss': 'modified_huber', 'random_state': 12345}\n",
      "\n",
      "0.735689 for {'class_weight': {0: 1, 1: 8.841344371679229}, 'eta0': 0.05, 'learning_rate': 'optimal', 'loss': 'hinge', 'random_state': 12345}\n",
      "\n",
      "0.713906 for {'class_weight': {0: 1, 1: 8.841344371679229}, 'eta0': 0.05, 'learning_rate': 'optimal', 'loss': 'log', 'random_state': 12345}\n",
      "\n",
      "0.749819 for {'class_weight': {0: 1, 1: 8.841344371679229}, 'eta0': 0.05, 'learning_rate': 'optimal', 'loss': 'modified_huber', 'random_state': 12345}\n",
      "\n",
      "0.687300 for {'class_weight': {0: 1, 1: 8.841344371679229}, 'eta0': 0.05, 'learning_rate': 'invscaling', 'loss': 'hinge', 'random_state': 12345}\n",
      "\n",
      "0.667274 for {'class_weight': {0: 1, 1: 8.841344371679229}, 'eta0': 0.05, 'learning_rate': 'invscaling', 'loss': 'log', 'random_state': 12345}\n",
      "\n",
      "0.670990 for {'class_weight': {0: 1, 1: 8.841344371679229}, 'eta0': 0.05, 'learning_rate': 'invscaling', 'loss': 'modified_huber', 'random_state': 12345}\n",
      "\n",
      "0.738193 for {'class_weight': {0: 1, 1: 8.841344371679229}, 'eta0': 0.05, 'learning_rate': 'adaptive', 'loss': 'hinge', 'random_state': 12345}\n",
      "\n",
      "0.715254 for {'class_weight': {0: 1, 1: 8.841344371679229}, 'eta0': 0.05, 'learning_rate': 'adaptive', 'loss': 'log', 'random_state': 12345}\n",
      "\n",
      "0.752681 for {'class_weight': {0: 1, 1: 8.841344371679229}, 'eta0': 0.05, 'learning_rate': 'adaptive', 'loss': 'modified_huber', 'random_state': 12345}\n",
      "\n",
      "0.714436 for {'class_weight': {0: 1, 1: 8.841344371679229}, 'eta0': 0.1, 'learning_rate': 'constant', 'loss': 'hinge', 'random_state': 12345}\n",
      "\n",
      "0.704697 for {'class_weight': {0: 1, 1: 8.841344371679229}, 'eta0': 0.1, 'learning_rate': 'constant', 'loss': 'log', 'random_state': 12345}\n",
      "\n",
      "0.665205 for {'class_weight': {0: 1, 1: 8.841344371679229}, 'eta0': 0.1, 'learning_rate': 'constant', 'loss': 'modified_huber', 'random_state': 12345}\n",
      "\n",
      "0.735689 for {'class_weight': {0: 1, 1: 8.841344371679229}, 'eta0': 0.1, 'learning_rate': 'optimal', 'loss': 'hinge', 'random_state': 12345}\n",
      "\n",
      "0.713906 for {'class_weight': {0: 1, 1: 8.841344371679229}, 'eta0': 0.1, 'learning_rate': 'optimal', 'loss': 'log', 'random_state': 12345}\n",
      "\n",
      "0.749819 for {'class_weight': {0: 1, 1: 8.841344371679229}, 'eta0': 0.1, 'learning_rate': 'optimal', 'loss': 'modified_huber', 'random_state': 12345}\n",
      "\n",
      "0.678925 for {'class_weight': {0: 1, 1: 8.841344371679229}, 'eta0': 0.1, 'learning_rate': 'invscaling', 'loss': 'hinge', 'random_state': 12345}\n",
      "\n",
      "0.659820 for {'class_weight': {0: 1, 1: 8.841344371679229}, 'eta0': 0.1, 'learning_rate': 'invscaling', 'loss': 'log', 'random_state': 12345}\n",
      "\n",
      "0.691707 for {'class_weight': {0: 1, 1: 8.841344371679229}, 'eta0': 0.1, 'learning_rate': 'invscaling', 'loss': 'modified_huber', 'random_state': 12345}\n",
      "\n",
      "0.738234 for {'class_weight': {0: 1, 1: 8.841344371679229}, 'eta0': 0.1, 'learning_rate': 'adaptive', 'loss': 'hinge', 'random_state': 12345}\n",
      "\n",
      "0.715140 for {'class_weight': {0: 1, 1: 8.841344371679229}, 'eta0': 0.1, 'learning_rate': 'adaptive', 'loss': 'log', 'random_state': 12345}\n",
      "\n",
      "0.752661 for {'class_weight': {0: 1, 1: 8.841344371679229}, 'eta0': 0.1, 'learning_rate': 'adaptive', 'loss': 'modified_huber', 'random_state': 12345}\n",
      "\n",
      "0.675823 for {'class_weight': {0: 1, 1: 8.841344371679229}, 'eta0': 0.2, 'learning_rate': 'constant', 'loss': 'hinge', 'random_state': 12345}\n",
      "\n",
      "0.689031 for {'class_weight': {0: 1, 1: 8.841344371679229}, 'eta0': 0.2, 'learning_rate': 'constant', 'loss': 'log', 'random_state': 12345}\n",
      "\n",
      "0.596390 for {'class_weight': {0: 1, 1: 8.841344371679229}, 'eta0': 0.2, 'learning_rate': 'constant', 'loss': 'modified_huber', 'random_state': 12345}\n",
      "\n",
      "0.735689 for {'class_weight': {0: 1, 1: 8.841344371679229}, 'eta0': 0.2, 'learning_rate': 'optimal', 'loss': 'hinge', 'random_state': 12345}\n",
      "\n",
      "0.713906 for {'class_weight': {0: 1, 1: 8.841344371679229}, 'eta0': 0.2, 'learning_rate': 'optimal', 'loss': 'log', 'random_state': 12345}\n",
      "\n",
      "0.749819 for {'class_weight': {0: 1, 1: 8.841344371679229}, 'eta0': 0.2, 'learning_rate': 'optimal', 'loss': 'modified_huber', 'random_state': 12345}\n",
      "\n",
      "0.681361 for {'class_weight': {0: 1, 1: 8.841344371679229}, 'eta0': 0.2, 'learning_rate': 'invscaling', 'loss': 'hinge', 'random_state': 12345}\n",
      "\n",
      "0.657368 for {'class_weight': {0: 1, 1: 8.841344371679229}, 'eta0': 0.2, 'learning_rate': 'invscaling', 'loss': 'log', 'random_state': 12345}\n",
      "\n",
      "0.712812 for {'class_weight': {0: 1, 1: 8.841344371679229}, 'eta0': 0.2, 'learning_rate': 'invscaling', 'loss': 'modified_huber', 'random_state': 12345}\n",
      "\n",
      "0.737570 for {'class_weight': {0: 1, 1: 8.841344371679229}, 'eta0': 0.2, 'learning_rate': 'adaptive', 'loss': 'hinge', 'random_state': 12345}\n",
      "\n",
      "0.715318 for {'class_weight': {0: 1, 1: 8.841344371679229}, 'eta0': 0.2, 'learning_rate': 'adaptive', 'loss': 'log', 'random_state': 12345}\n",
      "\n",
      "0.752371 for {'class_weight': {0: 1, 1: 8.841344371679229}, 'eta0': 0.2, 'learning_rate': 'adaptive', 'loss': 'modified_huber', 'random_state': 12345}\n",
      "\n",
      "0.648114 for {'class_weight': {0: 1, 1: 8.841344371679229}, 'eta0': 0.3, 'learning_rate': 'constant', 'loss': 'hinge', 'random_state': 12345}\n",
      "\n",
      "0.675523 for {'class_weight': {0: 1, 1: 8.841344371679229}, 'eta0': 0.3, 'learning_rate': 'constant', 'loss': 'log', 'random_state': 12345}\n",
      "\n",
      "0.556518 for {'class_weight': {0: 1, 1: 8.841344371679229}, 'eta0': 0.3, 'learning_rate': 'constant', 'loss': 'modified_huber', 'random_state': 12345}\n",
      "\n",
      "0.735689 for {'class_weight': {0: 1, 1: 8.841344371679229}, 'eta0': 0.3, 'learning_rate': 'optimal', 'loss': 'hinge', 'random_state': 12345}\n",
      "\n",
      "0.713906 for {'class_weight': {0: 1, 1: 8.841344371679229}, 'eta0': 0.3, 'learning_rate': 'optimal', 'loss': 'log', 'random_state': 12345}\n",
      "\n",
      "0.749819 for {'class_weight': {0: 1, 1: 8.841344371679229}, 'eta0': 0.3, 'learning_rate': 'optimal', 'loss': 'modified_huber', 'random_state': 12345}\n",
      "\n",
      "0.690405 for {'class_weight': {0: 1, 1: 8.841344371679229}, 'eta0': 0.3, 'learning_rate': 'invscaling', 'loss': 'hinge', 'random_state': 12345}\n",
      "\n",
      "0.659021 for {'class_weight': {0: 1, 1: 8.841344371679229}, 'eta0': 0.3, 'learning_rate': 'invscaling', 'loss': 'log', 'random_state': 12345}\n",
      "\n",
      "0.725456 for {'class_weight': {0: 1, 1: 8.841344371679229}, 'eta0': 0.3, 'learning_rate': 'invscaling', 'loss': 'modified_huber', 'random_state': 12345}\n",
      "\n",
      "0.737906 for {'class_weight': {0: 1, 1: 8.841344371679229}, 'eta0': 0.3, 'learning_rate': 'adaptive', 'loss': 'hinge', 'random_state': 12345}\n",
      "\n",
      "0.715269 for {'class_weight': {0: 1, 1: 8.841344371679229}, 'eta0': 0.3, 'learning_rate': 'adaptive', 'loss': 'log', 'random_state': 12345}\n",
      "\n",
      "0.752345 for {'class_weight': {0: 1, 1: 8.841344371679229}, 'eta0': 0.3, 'learning_rate': 'adaptive', 'loss': 'modified_huber', 'random_state': 12345}\n",
      "\n",
      "0.603734 for {'class_weight': {0: 1, 1: 8.841344371679229}, 'eta0': 0.5, 'learning_rate': 'constant', 'loss': 'hinge', 'random_state': 12345}\n",
      "\n",
      "0.648100 for {'class_weight': {0: 1, 1: 8.841344371679229}, 'eta0': 0.5, 'learning_rate': 'constant', 'loss': 'log', 'random_state': 12345}\n",
      "\n",
      "0.523034 for {'class_weight': {0: 1, 1: 8.841344371679229}, 'eta0': 0.5, 'learning_rate': 'constant', 'loss': 'modified_huber', 'random_state': 12345}\n",
      "\n",
      "0.735689 for {'class_weight': {0: 1, 1: 8.841344371679229}, 'eta0': 0.5, 'learning_rate': 'optimal', 'loss': 'hinge', 'random_state': 12345}\n",
      "\n",
      "0.713906 for {'class_weight': {0: 1, 1: 8.841344371679229}, 'eta0': 0.5, 'learning_rate': 'optimal', 'loss': 'log', 'random_state': 12345}\n",
      "\n",
      "0.749819 for {'class_weight': {0: 1, 1: 8.841344371679229}, 'eta0': 0.5, 'learning_rate': 'optimal', 'loss': 'modified_huber', 'random_state': 12345}\n",
      "\n",
      "0.706246 for {'class_weight': {0: 1, 1: 8.841344371679229}, 'eta0': 0.5, 'learning_rate': 'invscaling', 'loss': 'hinge', 'random_state': 12345}\n",
      "\n",
      "0.663734 for {'class_weight': {0: 1, 1: 8.841344371679229}, 'eta0': 0.5, 'learning_rate': 'invscaling', 'loss': 'log', 'random_state': 12345}\n",
      "\n",
      "0.735027 for {'class_weight': {0: 1, 1: 8.841344371679229}, 'eta0': 0.5, 'learning_rate': 'invscaling', 'loss': 'modified_huber', 'random_state': 12345}\n",
      "\n",
      "0.737802 for {'class_weight': {0: 1, 1: 8.841344371679229}, 'eta0': 0.5, 'learning_rate': 'adaptive', 'loss': 'hinge', 'random_state': 12345}\n",
      "\n",
      "0.715544 for {'class_weight': {0: 1, 1: 8.841344371679229}, 'eta0': 0.5, 'learning_rate': 'adaptive', 'loss': 'log', 'random_state': 12345}\n",
      "\n",
      "0.752541 for {'class_weight': {0: 1, 1: 8.841344371679229}, 'eta0': 0.5, 'learning_rate': 'adaptive', 'loss': 'modified_huber', 'random_state': 12345}\n",
      "\n",
      "\n",
      "Best f1 SGDClassifier = 0.752704115378409\n"
     ]
    }
   ],
   "source": [
    "model_sgd = SGDClassifier()\n",
    "hyperparams = [{'learning_rate':['constant', 'optimal', 'invscaling', 'adaptive'],\n",
    "                'loss':['hinge', 'log', 'modified_huber'],\n",
    "                'eta0':[0.01, 0.05, 0.1, 0.2, 0.3, 0.5],\n",
    "                'random_state':[12345],\n",
    "                'class_weight':[dict_classes]}]\n",
    "score_sgd = GridSearchCV(model_sgd, hyperparams, scoring='f1', cv=5)\n",
    "score_sgd.fit(tf_idf_train, target_train)\n",
    "print(\"Best parameters set found on development set:\")\n",
    "print()\n",
    "print(score_sgd.best_params_)\n",
    "print()\n",
    "print(\"Grid scores on development set:\")\n",
    "print()\n",
    "means = score_sgd.cv_results_['mean_test_score']\n",
    "for mean, params in zip(means, score_sgd.cv_results_['params']):\n",
    "    print(\"%0.6f for %r\"% (mean, params))\n",
    "    print()\n",
    "cv_f1_sgd = max(means)\n",
    "print()\n",
    "print('Best f1 SGDClassifier =', cv_f1_sgd)\n",
    "best_model_sgd = score_sgd.best_estimator_"
   ]
  },
  {
   "cell_type": "markdown",
   "metadata": {},
   "source": [
    "**Вывод по пункту 2.3**\n",
    "\n",
    "Лучшую точность показала модель с параметрами eta0=0.1, learning_rate='adaptive', loss='modified_huber'"
   ]
  },
  {
   "cell_type": "markdown",
   "metadata": {},
   "source": [
    "**2.4 Анализ моделей**"
   ]
  },
  {
   "cell_type": "markdown",
   "metadata": {},
   "source": [
    "**Сводная таблица результатов**"
   ]
  },
  {
   "cell_type": "code",
   "execution_count": 50,
   "metadata": {},
   "outputs": [
    {
     "data": {
      "text/html": [
       "<div>\n",
       "<style scoped>\n",
       "    .dataframe tbody tr th:only-of-type {\n",
       "        vertical-align: middle;\n",
       "    }\n",
       "\n",
       "    .dataframe tbody tr th {\n",
       "        vertical-align: top;\n",
       "    }\n",
       "\n",
       "    .dataframe thead th {\n",
       "        text-align: right;\n",
       "    }\n",
       "</style>\n",
       "<table border=\"1\" class=\"dataframe\">\n",
       "  <thead>\n",
       "    <tr style=\"text-align: right;\">\n",
       "      <th></th>\n",
       "      <th>f1</th>\n",
       "      <th>Рейтинг f1</th>\n",
       "    </tr>\n",
       "  </thead>\n",
       "  <tbody>\n",
       "    <tr>\n",
       "      <th>LogisticRegression</th>\n",
       "      <td>0.752607</td>\n",
       "      <td>0.999871</td>\n",
       "    </tr>\n",
       "    <tr>\n",
       "      <th>DecisionTreeClassifier</th>\n",
       "      <td>0.643736</td>\n",
       "      <td>0.855231</td>\n",
       "    </tr>\n",
       "    <tr>\n",
       "      <th>SGDClassifier</th>\n",
       "      <td>0.752704</td>\n",
       "      <td>1.000000</td>\n",
       "    </tr>\n",
       "  </tbody>\n",
       "</table>\n",
       "</div>"
      ],
      "text/plain": [
       "                              f1  Рейтинг f1\n",
       "LogisticRegression      0.752607    0.999871\n",
       "DecisionTreeClassifier  0.643736    0.855231\n",
       "SGDClassifier           0.752704    1.000000"
      ]
     },
     "execution_count": 50,
     "metadata": {},
     "output_type": "execute_result"
    }
   ],
   "source": [
    "index = ['LogisticRegression','DecisionTreeClassifier', 'SGDClassifier']\n",
    "data = {'f1':[cv_f1_log, cv_f1_tree, cv_f1_sgd]}\n",
    "        \n",
    "data_score = pd.DataFrame(data=data, index=index)\n",
    "data_score['Рейтинг f1'] = (data_score['f1'])/(data_score['f1'].max())\n",
    "\n",
    "data_score"
   ]
  },
  {
   "cell_type": "markdown",
   "metadata": {},
   "source": [
    "**Вывод по пункту 2**\n",
    "\n",
    "В ходе обучения моделей было проделано следующее:\n",
    "- подобрали лучшие параметры модели LogisticRegression(solver='newton-cg')\n",
    "- подобрали лучшие параметры модели DecisionTreeClassifier(глубина 29)\n",
    "- подобрали лучшие параметры модели SGDClassifier(eta0=0.1, learning_rate='adaptive', loss='modified_huber')\n",
    "- результаты свели в таблицу\n",
    "- по времени предсказания и метрике f1 лучшей оказалась модель SGDClassifier(eta0=0.1, learning_rate='adaptive', loss='modified_huber'), ее и будем проверять на тестовой выборке"
   ]
  },
  {
   "cell_type": "markdown",
   "metadata": {},
   "source": [
    "## Выводы"
   ]
  },
  {
   "cell_type": "code",
   "execution_count": 51,
   "metadata": {},
   "outputs": [
    {
     "name": "stdout",
     "output_type": "stream",
     "text": [
      "CPU times: user 187 µs, sys: 3.71 ms, total: 3.9 ms\n",
      "Wall time: 2.83 ms\n"
     ]
    }
   ],
   "source": [
    "%%time\n",
    "\n",
    "# проверка финальной модели на тестовой выборке\n",
    "predict_sgd = best_model_sgd.predict(tf_idf_test)"
   ]
  },
  {
   "cell_type": "code",
   "execution_count": 52,
   "metadata": {
    "scrolled": true
   },
   "outputs": [
    {
     "name": "stdout",
     "output_type": "stream",
     "text": [
      "F1 SGDClassifier = 0.7523035230352304\n"
     ]
    }
   ],
   "source": [
    "f1_sgd = f1_score(target_test, predict_sgd)\n",
    "print('F1 SGDClassifier =', f1_sgd)"
   ]
  },
  {
   "cell_type": "markdown",
   "metadata": {},
   "source": [
    "На тестовой выборке финальная модель показала себя также хорошо"
   ]
  },
  {
   "cell_type": "markdown",
   "metadata": {},
   "source": [
    "**Общий вывод**\n",
    "\n",
    "В ходе изучения данных было получено следующее:\n",
    "- данные состоят из 159292 строк и трех столбцов\n",
    "- комментарии в столбце text на английском языке\n",
    "- пропусков нет\n",
    "- дубликатов нет\n",
    "- столбец toxic - целевой признак\n",
    "- в целевом признаке очевиден дисбаланс классов\n",
    "\n",
    "В ходе подготовки данных было проделано следующее:\n",
    "- проведена лемматизация и очистка текста\n",
    "- отделен целевой признак\n",
    "- данные разделены на обучающую и тестовую выборки\n",
    "- проведена векторизация\n",
    "\n",
    "\n",
    "В ходе обучения моделей было проделано следующее:\n",
    "- подобрали лучшие параметры модели LogisticRegression(solver='newton-cg')\n",
    "- подобрали лучшие параметры модели DecisionTreeClassifier(глубина 29)\n",
    "- подобрали лучшие параметры модели SGDClassifier(eta0=0.1, learning_rate='adaptive', loss='modified_huber')\n",
    "- резултаты свели в таблицу\n",
    "- по времени предсказания и метрике f1 лучшей оказалась модель SGDClassifier(eta0=0.1, learning_rate='adaptive', loss='modified_huber'), ее и проверили на тестовой выборке\n",
    "\n",
    "На тестовой выборке финальная модель показала себя также хорошо"
   ]
  }
 ],
 "metadata": {
  "ExecuteTimeLog": [
   {
    "duration": 1972,
    "start_time": "2023-02-01T19:05:01.000Z"
   },
   {
    "duration": 6719,
    "start_time": "2023-02-01T19:05:28.587Z"
   },
   {
    "duration": 3,
    "start_time": "2023-02-01T19:05:38.738Z"
   },
   {
    "duration": 1164,
    "start_time": "2023-02-01T19:07:18.865Z"
   },
   {
    "duration": 523,
    "start_time": "2023-02-01T19:08:19.196Z"
   },
   {
    "duration": 2,
    "start_time": "2023-02-01T19:08:49.563Z"
   },
   {
    "duration": 523,
    "start_time": "2023-02-01T19:08:54.667Z"
   },
   {
    "duration": 4,
    "start_time": "2023-02-01T19:09:02.536Z"
   },
   {
    "duration": 1289,
    "start_time": "2023-02-01T19:09:02.542Z"
   },
   {
    "duration": 3215,
    "start_time": "2023-02-01T19:10:16.091Z"
   },
   {
    "duration": 15,
    "start_time": "2023-02-01T19:11:02.325Z"
   },
   {
    "duration": 50,
    "start_time": "2023-02-01T19:11:31.325Z"
   },
   {
    "duration": 144,
    "start_time": "2023-02-01T19:17:49.584Z"
   },
   {
    "duration": 220,
    "start_time": "2023-02-01T19:19:40.923Z"
   },
   {
    "duration": 7,
    "start_time": "2023-02-01T19:22:55.512Z"
   },
   {
    "duration": 6,
    "start_time": "2023-02-01T19:39:50.730Z"
   },
   {
    "duration": 222491,
    "start_time": "2023-02-01T19:52:13.965Z"
   },
   {
    "duration": 965345,
    "start_time": "2023-02-01T19:57:16.036Z"
   },
   {
    "duration": 4,
    "start_time": "2023-02-01T20:16:52.678Z"
   },
   {
    "duration": 1432,
    "start_time": "2023-02-01T20:16:52.684Z"
   },
   {
    "duration": 806,
    "start_time": "2023-02-01T20:16:54.118Z"
   },
   {
    "duration": 15,
    "start_time": "2023-02-01T20:16:54.925Z"
   },
   {
    "duration": 62,
    "start_time": "2023-02-01T20:16:54.941Z"
   },
   {
    "duration": 236,
    "start_time": "2023-02-01T20:16:55.005Z"
   },
   {
    "duration": 5,
    "start_time": "2023-02-01T20:16:55.243Z"
   },
   {
    "duration": 457232,
    "start_time": "2023-02-01T20:16:55.250Z"
   },
   {
    "duration": 0,
    "start_time": "2023-02-01T20:24:32.484Z"
   },
   {
    "duration": 0,
    "start_time": "2023-02-01T20:24:32.486Z"
   },
   {
    "duration": 0,
    "start_time": "2023-02-01T20:24:32.487Z"
   },
   {
    "duration": 1250053,
    "start_time": "2023-02-01T20:27:33.177Z"
   },
   {
    "duration": 6,
    "start_time": "2023-02-01T20:51:13.986Z"
   },
   {
    "duration": 7465,
    "start_time": "2023-02-01T20:52:09.162Z"
   },
   {
    "duration": 746,
    "start_time": "2023-02-01T20:52:47.019Z"
   },
   {
    "duration": 4,
    "start_time": "2023-02-01T20:53:17.289Z"
   },
   {
    "duration": 1489,
    "start_time": "2023-02-01T20:53:17.295Z"
   },
   {
    "duration": 796,
    "start_time": "2023-02-01T20:53:18.785Z"
   },
   {
    "duration": 15,
    "start_time": "2023-02-01T20:53:19.583Z"
   },
   {
    "duration": 57,
    "start_time": "2023-02-01T20:53:19.599Z"
   },
   {
    "duration": 231,
    "start_time": "2023-02-01T20:53:19.658Z"
   },
   {
    "duration": 8,
    "start_time": "2023-02-01T20:53:19.893Z"
   },
   {
    "duration": 6942,
    "start_time": "2023-02-01T20:53:19.903Z"
   },
   {
    "duration": 18,
    "start_time": "2023-02-01T20:53:26.848Z"
   },
   {
    "duration": 33,
    "start_time": "2023-02-01T20:53:26.868Z"
   },
   {
    "duration": 55,
    "start_time": "2023-02-01T20:53:26.903Z"
   },
   {
    "duration": 50,
    "start_time": "2023-02-01T22:03:23.531Z"
   },
   {
    "duration": 1522,
    "start_time": "2023-02-01T22:03:53.841Z"
   },
   {
    "duration": 12,
    "start_time": "2023-02-01T22:07:21.536Z"
   },
   {
    "duration": 39,
    "start_time": "2023-02-01T22:07:23.819Z"
   },
   {
    "duration": 3,
    "start_time": "2023-02-01T22:07:57.126Z"
   },
   {
    "duration": 2200,
    "start_time": "2023-02-01T22:07:57.133Z"
   },
   {
    "duration": 3202,
    "start_time": "2023-02-01T22:07:59.335Z"
   },
   {
    "duration": 17,
    "start_time": "2023-02-01T22:08:02.539Z"
   },
   {
    "duration": 54,
    "start_time": "2023-02-01T22:08:02.557Z"
   },
   {
    "duration": 231,
    "start_time": "2023-02-01T22:08:02.614Z"
   },
   {
    "duration": 6,
    "start_time": "2023-02-01T22:08:02.847Z"
   },
   {
    "duration": 6580,
    "start_time": "2023-02-01T22:08:02.855Z"
   },
   {
    "duration": 10,
    "start_time": "2023-02-01T22:08:09.436Z"
   },
   {
    "duration": 47,
    "start_time": "2023-02-01T22:08:09.448Z"
   },
   {
    "duration": 11206,
    "start_time": "2023-02-01T22:08:09.497Z"
   },
   {
    "duration": 11079,
    "start_time": "2023-02-01T22:10:06.888Z"
   },
   {
    "duration": 4,
    "start_time": "2023-02-01T22:13:10.258Z"
   },
   {
    "duration": 31,
    "start_time": "2023-02-01T22:13:42.784Z"
   },
   {
    "duration": 9,
    "start_time": "2023-02-01T22:14:37.807Z"
   },
   {
    "duration": 9,
    "start_time": "2023-02-01T22:15:07.730Z"
   },
   {
    "duration": 3,
    "start_time": "2023-02-02T14:22:19.634Z"
   },
   {
    "duration": 1682,
    "start_time": "2023-02-02T14:22:19.638Z"
   },
   {
    "duration": 3553,
    "start_time": "2023-02-02T14:22:21.322Z"
   },
   {
    "duration": 14,
    "start_time": "2023-02-02T14:22:24.877Z"
   },
   {
    "duration": 89,
    "start_time": "2023-02-02T14:22:24.893Z"
   },
   {
    "duration": 240,
    "start_time": "2023-02-02T14:22:24.984Z"
   },
   {
    "duration": 5,
    "start_time": "2023-02-02T14:22:25.226Z"
   },
   {
    "duration": 6517,
    "start_time": "2023-02-02T14:22:25.232Z"
   },
   {
    "duration": 10,
    "start_time": "2023-02-02T14:22:31.750Z"
   },
   {
    "duration": 59,
    "start_time": "2023-02-02T14:22:31.761Z"
   },
   {
    "duration": 11077,
    "start_time": "2023-02-02T14:22:31.822Z"
   },
   {
    "duration": 48,
    "start_time": "2023-02-02T14:46:37.195Z"
   },
   {
    "duration": 117,
    "start_time": "2023-02-02T14:47:00.120Z"
   },
   {
    "duration": 4,
    "start_time": "2023-02-02T14:51:15.981Z"
   },
   {
    "duration": 11,
    "start_time": "2023-02-02T14:51:30.574Z"
   },
   {
    "duration": 49,
    "start_time": "2023-02-02T16:01:18.273Z"
   },
   {
    "duration": 4,
    "start_time": "2023-02-02T16:01:27.206Z"
   },
   {
    "duration": 1901,
    "start_time": "2023-02-02T16:01:27.212Z"
   },
   {
    "duration": 2269,
    "start_time": "2023-02-02T16:01:29.115Z"
   },
   {
    "duration": 18,
    "start_time": "2023-02-02T16:01:31.386Z"
   },
   {
    "duration": 60,
    "start_time": "2023-02-02T16:01:31.405Z"
   },
   {
    "duration": 226,
    "start_time": "2023-02-02T16:01:31.466Z"
   },
   {
    "duration": 5,
    "start_time": "2023-02-02T16:01:31.694Z"
   },
   {
    "duration": 6839,
    "start_time": "2023-02-02T16:01:31.700Z"
   },
   {
    "duration": 14,
    "start_time": "2023-02-02T16:01:38.542Z"
   },
   {
    "duration": 39,
    "start_time": "2023-02-02T16:01:38.557Z"
   },
   {
    "duration": 12203,
    "start_time": "2023-02-02T16:01:38.598Z"
   },
   {
    "duration": 134,
    "start_time": "2023-02-02T16:01:50.803Z"
   },
   {
    "duration": 300324,
    "start_time": "2023-02-02T16:02:48.490Z"
   },
   {
    "duration": 2184,
    "start_time": "2023-02-02T16:35:49.339Z"
   },
   {
    "duration": 175,
    "start_time": "2023-02-02T16:36:57.549Z"
   },
   {
    "duration": 4,
    "start_time": "2023-02-02T16:37:11.366Z"
   },
   {
    "duration": 1994,
    "start_time": "2023-02-02T16:37:11.372Z"
   },
   {
    "duration": 3577,
    "start_time": "2023-02-02T16:37:13.368Z"
   },
   {
    "duration": 19,
    "start_time": "2023-02-02T16:37:16.947Z"
   },
   {
    "duration": 79,
    "start_time": "2023-02-02T16:37:16.970Z"
   },
   {
    "duration": 315,
    "start_time": "2023-02-02T16:37:17.052Z"
   },
   {
    "duration": 15,
    "start_time": "2023-02-02T16:37:17.369Z"
   },
   {
    "duration": 8087,
    "start_time": "2023-02-02T16:37:17.387Z"
   },
   {
    "duration": 17,
    "start_time": "2023-02-02T16:37:25.476Z"
   },
   {
    "duration": 67,
    "start_time": "2023-02-02T16:37:25.496Z"
   },
   {
    "duration": 13697,
    "start_time": "2023-02-02T16:37:25.566Z"
   },
   {
    "duration": 175420,
    "start_time": "2023-02-02T16:37:39.265Z"
   },
   {
    "duration": 166492,
    "start_time": "2023-02-02T16:41:02.093Z"
   },
   {
    "duration": 56,
    "start_time": "2023-02-02T16:50:42.318Z"
   },
   {
    "duration": 6211,
    "start_time": "2023-02-02T16:51:22.490Z"
   },
   {
    "duration": 49,
    "start_time": "2023-02-02T16:54:43.221Z"
   },
   {
    "duration": 54,
    "start_time": "2023-02-02T16:55:43.314Z"
   },
   {
    "duration": 54,
    "start_time": "2023-02-02T16:58:01.483Z"
   },
   {
    "duration": 44,
    "start_time": "2023-02-02T17:03:09.031Z"
   },
   {
    "duration": 3,
    "start_time": "2023-02-02T17:07:32.541Z"
   },
   {
    "duration": 1842,
    "start_time": "2023-02-02T17:07:32.546Z"
   },
   {
    "duration": 853,
    "start_time": "2023-02-02T17:07:34.390Z"
   },
   {
    "duration": 16,
    "start_time": "2023-02-02T17:07:35.246Z"
   },
   {
    "duration": 63,
    "start_time": "2023-02-02T17:07:35.264Z"
   },
   {
    "duration": 254,
    "start_time": "2023-02-02T17:07:35.329Z"
   },
   {
    "duration": 6,
    "start_time": "2023-02-02T17:07:35.585Z"
   },
   {
    "duration": 7601,
    "start_time": "2023-02-02T17:07:35.593Z"
   },
   {
    "duration": 11,
    "start_time": "2023-02-02T17:07:43.196Z"
   },
   {
    "duration": 48,
    "start_time": "2023-02-02T17:07:43.210Z"
   },
   {
    "duration": 13079,
    "start_time": "2023-02-02T17:07:43.260Z"
   },
   {
    "duration": 155,
    "start_time": "2023-02-02T17:07:56.341Z"
   },
   {
    "duration": 0,
    "start_time": "2023-02-02T17:07:56.498Z"
   },
   {
    "duration": 15,
    "start_time": "2023-02-02T17:22:42.860Z"
   },
   {
    "duration": 165629,
    "start_time": "2023-02-02T17:23:05.155Z"
   },
   {
    "duration": 49,
    "start_time": "2023-02-02T17:26:36.334Z"
   },
   {
    "duration": 14,
    "start_time": "2023-02-02T17:28:17.903Z"
   },
   {
    "duration": 16,
    "start_time": "2023-02-02T17:30:42.360Z"
   },
   {
    "duration": 5,
    "start_time": "2023-02-02T17:32:58.128Z"
   },
   {
    "duration": 56,
    "start_time": "2023-02-02T17:33:06.815Z"
   },
   {
    "duration": 928287,
    "start_time": "2023-02-02T17:35:23.669Z"
   },
   {
    "duration": 4,
    "start_time": "2023-02-02T17:50:51.958Z"
   },
   {
    "duration": 2630663,
    "start_time": "2023-02-02T17:51:33.937Z"
   },
   {
    "duration": 0,
    "start_time": "2023-02-02T18:35:24.602Z"
   },
   {
    "duration": 0,
    "start_time": "2023-02-02T18:35:24.604Z"
   },
   {
    "duration": 4,
    "start_time": "2023-02-02T18:35:31.897Z"
   },
   {
    "duration": 1758,
    "start_time": "2023-02-02T18:35:31.903Z"
   },
   {
    "duration": 866,
    "start_time": "2023-02-02T18:35:33.662Z"
   },
   {
    "duration": 20,
    "start_time": "2023-02-02T18:35:34.530Z"
   },
   {
    "duration": 79,
    "start_time": "2023-02-02T18:35:34.552Z"
   },
   {
    "duration": 261,
    "start_time": "2023-02-02T18:35:34.633Z"
   },
   {
    "duration": 11,
    "start_time": "2023-02-02T18:35:34.896Z"
   },
   {
    "duration": 7894,
    "start_time": "2023-02-02T18:35:34.909Z"
   },
   {
    "duration": 10,
    "start_time": "2023-02-02T18:35:42.805Z"
   },
   {
    "duration": 59,
    "start_time": "2023-02-02T18:35:42.817Z"
   },
   {
    "duration": 13142,
    "start_time": "2023-02-02T18:35:42.880Z"
   },
   {
    "duration": 104962,
    "start_time": "2023-02-02T18:35:56.024Z"
   },
   {
    "duration": 1001823,
    "start_time": "2023-02-02T18:37:40.988Z"
   },
   {
    "duration": 4,
    "start_time": "2023-02-03T08:15:03.006Z"
   },
   {
    "duration": 1747,
    "start_time": "2023-02-03T08:15:03.012Z"
   },
   {
    "duration": 2361,
    "start_time": "2023-02-03T08:15:04.761Z"
   },
   {
    "duration": 15,
    "start_time": "2023-02-03T08:15:07.124Z"
   },
   {
    "duration": 50,
    "start_time": "2023-02-03T08:15:07.142Z"
   },
   {
    "duration": 240,
    "start_time": "2023-02-03T08:15:07.194Z"
   },
   {
    "duration": 12,
    "start_time": "2023-02-03T08:15:07.436Z"
   },
   {
    "duration": 6412,
    "start_time": "2023-02-03T08:15:07.450Z"
   },
   {
    "duration": 10,
    "start_time": "2023-02-03T08:15:13.867Z"
   },
   {
    "duration": 33,
    "start_time": "2023-02-03T08:15:13.879Z"
   },
   {
    "duration": 11410,
    "start_time": "2023-02-03T08:15:13.915Z"
   },
   {
    "duration": 89949,
    "start_time": "2023-02-03T08:15:25.327Z"
   },
   {
    "duration": 794272,
    "start_time": "2023-02-03T08:16:55.279Z"
   },
   {
    "duration": 10647381,
    "start_time": "2023-02-03T08:30:09.553Z"
   },
   {
    "duration": 0,
    "start_time": "2023-02-03T11:27:36.936Z"
   },
   {
    "duration": 0,
    "start_time": "2023-02-03T11:27:36.938Z"
   },
   {
    "duration": 0,
    "start_time": "2023-02-03T11:27:36.939Z"
   },
   {
    "duration": 0,
    "start_time": "2023-02-03T11:27:36.940Z"
   },
   {
    "duration": 0,
    "start_time": "2023-02-03T11:27:36.941Z"
   },
   {
    "duration": 0,
    "start_time": "2023-02-03T11:27:36.942Z"
   },
   {
    "duration": 0,
    "start_time": "2023-02-03T11:27:36.944Z"
   },
   {
    "duration": 0,
    "start_time": "2023-02-03T11:27:36.945Z"
   },
   {
    "duration": 0,
    "start_time": "2023-02-03T11:27:36.946Z"
   },
   {
    "duration": 40031,
    "start_time": "2023-02-03T11:28:11.292Z"
   },
   {
    "duration": 26172,
    "start_time": "2023-02-03T11:30:48.287Z"
   },
   {
    "duration": 27897,
    "start_time": "2023-02-03T11:33:51.626Z"
   },
   {
    "duration": 12055,
    "start_time": "2023-02-03T11:35:40.419Z"
   },
   {
    "duration": 5,
    "start_time": "2023-02-03T11:48:12.606Z"
   },
   {
    "duration": 1795,
    "start_time": "2023-02-03T11:48:12.613Z"
   },
   {
    "duration": 983,
    "start_time": "2023-02-03T11:48:14.409Z"
   },
   {
    "duration": 14,
    "start_time": "2023-02-03T11:48:15.395Z"
   },
   {
    "duration": 59,
    "start_time": "2023-02-03T11:48:15.410Z"
   },
   {
    "duration": 244,
    "start_time": "2023-02-03T11:48:15.471Z"
   },
   {
    "duration": 14,
    "start_time": "2023-02-03T11:48:15.716Z"
   },
   {
    "duration": 7057,
    "start_time": "2023-02-03T11:48:15.732Z"
   },
   {
    "duration": 12,
    "start_time": "2023-02-03T11:48:22.792Z"
   },
   {
    "duration": 82,
    "start_time": "2023-02-03T11:48:22.807Z"
   },
   {
    "duration": 12121,
    "start_time": "2023-02-03T11:48:22.891Z"
   },
   {
    "duration": 94762,
    "start_time": "2023-02-03T11:48:35.015Z"
   },
   {
    "duration": 179555,
    "start_time": "2023-02-03T11:50:09.779Z"
   },
   {
    "duration": 0,
    "start_time": "2023-02-03T11:53:09.336Z"
   },
   {
    "duration": 0,
    "start_time": "2023-02-03T11:53:09.337Z"
   },
   {
    "duration": 0,
    "start_time": "2023-02-03T11:53:09.338Z"
   },
   {
    "duration": 0,
    "start_time": "2023-02-03T11:53:09.339Z"
   },
   {
    "duration": 0,
    "start_time": "2023-02-03T11:53:09.340Z"
   },
   {
    "duration": 0,
    "start_time": "2023-02-03T11:53:09.341Z"
   },
   {
    "duration": 0,
    "start_time": "2023-02-03T11:53:09.342Z"
   },
   {
    "duration": 0,
    "start_time": "2023-02-03T11:53:09.343Z"
   },
   {
    "duration": 0,
    "start_time": "2023-02-03T11:53:09.344Z"
   },
   {
    "duration": 0,
    "start_time": "2023-02-03T11:53:09.345Z"
   },
   {
    "duration": 0,
    "start_time": "2023-02-03T11:53:09.346Z"
   },
   {
    "duration": 3,
    "start_time": "2023-02-03T11:53:16.228Z"
   },
   {
    "duration": 1638,
    "start_time": "2023-02-03T11:53:16.233Z"
   },
   {
    "duration": 813,
    "start_time": "2023-02-03T11:53:17.872Z"
   },
   {
    "duration": 16,
    "start_time": "2023-02-03T11:53:18.687Z"
   },
   {
    "duration": 66,
    "start_time": "2023-02-03T11:53:18.705Z"
   },
   {
    "duration": 227,
    "start_time": "2023-02-03T11:53:18.773Z"
   },
   {
    "duration": 14,
    "start_time": "2023-02-03T11:53:19.002Z"
   },
   {
    "duration": 6591,
    "start_time": "2023-02-03T11:53:19.018Z"
   },
   {
    "duration": 11,
    "start_time": "2023-02-03T11:53:25.611Z"
   },
   {
    "duration": 58,
    "start_time": "2023-02-03T11:53:25.625Z"
   },
   {
    "duration": 11255,
    "start_time": "2023-02-03T11:53:25.686Z"
   },
   {
    "duration": 94426,
    "start_time": "2023-02-03T11:53:36.942Z"
   },
   {
    "duration": 200256,
    "start_time": "2023-02-03T11:55:11.370Z"
   },
   {
    "duration": 0,
    "start_time": "2023-02-03T11:58:31.628Z"
   },
   {
    "duration": 0,
    "start_time": "2023-02-03T11:58:31.630Z"
   },
   {
    "duration": 0,
    "start_time": "2023-02-03T11:58:31.631Z"
   },
   {
    "duration": 0,
    "start_time": "2023-02-03T11:58:31.632Z"
   },
   {
    "duration": 0,
    "start_time": "2023-02-03T11:58:31.633Z"
   },
   {
    "duration": 0,
    "start_time": "2023-02-03T11:58:31.634Z"
   },
   {
    "duration": 0,
    "start_time": "2023-02-03T11:58:31.635Z"
   },
   {
    "duration": 0,
    "start_time": "2023-02-03T11:58:31.637Z"
   },
   {
    "duration": 0,
    "start_time": "2023-02-03T11:58:31.638Z"
   },
   {
    "duration": 0,
    "start_time": "2023-02-03T11:58:31.639Z"
   },
   {
    "duration": 12,
    "start_time": "2023-02-03T12:07:54.197Z"
   },
   {
    "duration": 185527,
    "start_time": "2023-02-03T12:08:42.563Z"
   },
   {
    "duration": 80,
    "start_time": "2023-02-03T12:20:59.557Z"
   },
   {
    "duration": 52,
    "start_time": "2023-02-03T12:21:34.173Z"
   },
   {
    "duration": 41,
    "start_time": "2023-02-03T12:21:55.855Z"
   },
   {
    "duration": 188781,
    "start_time": "2023-02-03T12:22:39.020Z"
   },
   {
    "duration": 3,
    "start_time": "2023-02-03T13:16:04.957Z"
   },
   {
    "duration": 1854,
    "start_time": "2023-02-03T13:16:04.963Z"
   },
   {
    "duration": 3392,
    "start_time": "2023-02-03T13:16:06.819Z"
   },
   {
    "duration": 14,
    "start_time": "2023-02-03T13:16:10.213Z"
   },
   {
    "duration": 53,
    "start_time": "2023-02-03T13:16:10.228Z"
   },
   {
    "duration": 230,
    "start_time": "2023-02-03T13:16:10.283Z"
   },
   {
    "duration": 11,
    "start_time": "2023-02-03T13:16:10.515Z"
   },
   {
    "duration": 6401,
    "start_time": "2023-02-03T13:16:10.538Z"
   },
   {
    "duration": 14,
    "start_time": "2023-02-03T13:16:16.942Z"
   },
   {
    "duration": 48,
    "start_time": "2023-02-03T13:16:16.958Z"
   },
   {
    "duration": 11306,
    "start_time": "2023-02-03T13:16:17.007Z"
   },
   {
    "duration": 165031,
    "start_time": "2023-02-03T13:16:28.315Z"
   },
   {
    "duration": 770398,
    "start_time": "2023-02-03T13:19:13.348Z"
   },
   {
    "duration": 190596,
    "start_time": "2023-02-03T13:32:03.749Z"
   },
   {
    "duration": 13048,
    "start_time": "2023-02-03T13:35:14.347Z"
   },
   {
    "duration": 9,
    "start_time": "2023-02-03T13:35:27.397Z"
   },
   {
    "duration": 0,
    "start_time": "2023-02-03T13:35:27.407Z"
   },
   {
    "duration": 0,
    "start_time": "2023-02-03T13:35:27.408Z"
   },
   {
    "duration": 0,
    "start_time": "2023-02-03T13:35:27.410Z"
   },
   {
    "duration": 0,
    "start_time": "2023-02-03T13:35:27.411Z"
   },
   {
    "duration": 0,
    "start_time": "2023-02-03T13:35:27.412Z"
   },
   {
    "duration": 0,
    "start_time": "2023-02-03T13:35:27.413Z"
   },
   {
    "duration": 0,
    "start_time": "2023-02-03T13:35:27.414Z"
   },
   {
    "duration": 204630,
    "start_time": "2023-02-03T13:42:12.224Z"
   },
   {
    "duration": 201101,
    "start_time": "2023-02-03T13:46:46.066Z"
   },
   {
    "duration": 71,
    "start_time": "2023-02-03T13:50:54.085Z"
   },
   {
    "duration": 89,
    "start_time": "2023-02-03T13:51:05.692Z"
   },
   {
    "duration": 52,
    "start_time": "2023-02-03T13:54:02.971Z"
   },
   {
    "duration": 79,
    "start_time": "2023-02-03T13:55:05.787Z"
   },
   {
    "duration": 3,
    "start_time": "2023-02-03T13:55:17.561Z"
   },
   {
    "duration": 1601,
    "start_time": "2023-02-03T13:55:17.566Z"
   },
   {
    "duration": 760,
    "start_time": "2023-02-03T13:55:19.169Z"
   },
   {
    "duration": 26,
    "start_time": "2023-02-03T13:55:19.931Z"
   },
   {
    "duration": 52,
    "start_time": "2023-02-03T13:55:19.959Z"
   },
   {
    "duration": 240,
    "start_time": "2023-02-03T13:55:20.012Z"
   },
   {
    "duration": 15,
    "start_time": "2023-02-03T13:55:20.258Z"
   },
   {
    "duration": 7081,
    "start_time": "2023-02-03T13:55:20.275Z"
   },
   {
    "duration": 12,
    "start_time": "2023-02-03T13:55:27.361Z"
   },
   {
    "duration": 98,
    "start_time": "2023-02-03T13:55:27.374Z"
   },
   {
    "duration": 12117,
    "start_time": "2023-02-03T13:55:27.474Z"
   },
   {
    "duration": 255852,
    "start_time": "2023-02-03T13:55:39.593Z"
   },
   {
    "duration": 230631,
    "start_time": "2023-02-03T13:59:55.447Z"
   },
   {
    "duration": 0,
    "start_time": "2023-02-03T14:03:46.081Z"
   },
   {
    "duration": 0,
    "start_time": "2023-02-03T14:03:46.083Z"
   },
   {
    "duration": 0,
    "start_time": "2023-02-03T14:03:46.084Z"
   },
   {
    "duration": 0,
    "start_time": "2023-02-03T14:03:46.085Z"
   },
   {
    "duration": 0,
    "start_time": "2023-02-03T14:03:46.086Z"
   },
   {
    "duration": 0,
    "start_time": "2023-02-03T14:03:46.087Z"
   },
   {
    "duration": 0,
    "start_time": "2023-02-03T14:03:46.089Z"
   },
   {
    "duration": 0,
    "start_time": "2023-02-03T14:03:46.089Z"
   },
   {
    "duration": 0,
    "start_time": "2023-02-03T14:03:46.090Z"
   },
   {
    "duration": 0,
    "start_time": "2023-02-03T14:03:46.091Z"
   },
   {
    "duration": 10223,
    "start_time": "2023-02-03T14:03:53.663Z"
   },
   {
    "duration": 178437,
    "start_time": "2023-02-03T14:04:11.744Z"
   },
   {
    "duration": 200535,
    "start_time": "2023-02-03T14:11:29.703Z"
   },
   {
    "duration": 56,
    "start_time": "2023-02-03T14:16:44.095Z"
   },
   {
    "duration": 200416,
    "start_time": "2023-02-03T14:34:19.322Z"
   },
   {
    "duration": 38136,
    "start_time": "2023-02-03T14:38:30.930Z"
   },
   {
    "duration": 253769,
    "start_time": "2023-02-03T14:55:26.079Z"
   },
   {
    "duration": 75076,
    "start_time": "2023-02-03T15:02:18.863Z"
   },
   {
    "duration": 3,
    "start_time": "2023-02-03T15:40:58.152Z"
   },
   {
    "duration": 4,
    "start_time": "2023-02-03T15:41:00.613Z"
   },
   {
    "duration": 687,
    "start_time": "2023-02-03T15:41:05.884Z"
   },
   {
    "duration": 10,
    "start_time": "2023-02-03T15:41:10.023Z"
   },
   {
    "duration": 46,
    "start_time": "2023-02-03T15:41:15.864Z"
   },
   {
    "duration": 203,
    "start_time": "2023-02-03T15:41:20.092Z"
   },
   {
    "duration": 10,
    "start_time": "2023-02-03T15:41:21.634Z"
   },
   {
    "duration": 5531,
    "start_time": "2023-02-03T15:41:27.386Z"
   },
   {
    "duration": 14,
    "start_time": "2023-02-03T15:41:36.573Z"
   },
   {
    "duration": 103,
    "start_time": "2023-02-03T15:41:37.797Z"
   },
   {
    "duration": 10616,
    "start_time": "2023-02-03T15:41:42.077Z"
   },
   {
    "duration": 396670,
    "start_time": "2023-02-03T15:42:16.814Z"
   },
   {
    "duration": 7,
    "start_time": "2023-02-03T15:50:52.052Z"
   },
   {
    "duration": 12,
    "start_time": "2023-02-03T15:50:57.207Z"
   },
   {
    "duration": 128665,
    "start_time": "2023-02-03T15:53:20.612Z"
   },
   {
    "duration": 4,
    "start_time": "2023-02-03T16:11:48.112Z"
   },
   {
    "duration": 1565,
    "start_time": "2023-02-03T16:11:48.118Z"
   },
   {
    "duration": 712,
    "start_time": "2023-02-03T16:11:49.685Z"
   },
   {
    "duration": 13,
    "start_time": "2023-02-03T16:11:50.399Z"
   },
   {
    "duration": 54,
    "start_time": "2023-02-03T16:11:50.413Z"
   },
   {
    "duration": 226,
    "start_time": "2023-02-03T16:11:50.469Z"
   },
   {
    "duration": 11,
    "start_time": "2023-02-03T16:11:50.697Z"
   },
   {
    "duration": 6353,
    "start_time": "2023-02-03T16:11:50.709Z"
   },
   {
    "duration": 10,
    "start_time": "2023-02-03T16:11:57.063Z"
   },
   {
    "duration": 82,
    "start_time": "2023-02-03T16:11:57.075Z"
   },
   {
    "duration": 10237,
    "start_time": "2023-02-03T16:11:57.158Z"
   },
   {
    "duration": 391698,
    "start_time": "2023-02-03T16:12:07.397Z"
   },
   {
    "duration": 1538709,
    "start_time": "2023-02-03T16:18:39.097Z"
   },
   {
    "duration": 175364,
    "start_time": "2023-02-03T16:44:17.807Z"
   },
   {
    "duration": 6,
    "start_time": "2023-02-03T16:47:13.173Z"
   },
   {
    "duration": 10,
    "start_time": "2023-02-03T16:47:13.181Z"
   },
   {
    "duration": 19,
    "start_time": "2023-02-03T16:47:13.192Z"
   },
   {
    "duration": 32,
    "start_time": "2023-02-03T16:47:13.212Z"
   },
   {
    "duration": 6,
    "start_time": "2023-02-03T16:47:13.246Z"
   },
   {
    "duration": 12,
    "start_time": "2023-02-03T16:47:13.253Z"
   },
   {
    "duration": 33,
    "start_time": "2023-02-03T16:47:13.266Z"
   },
   {
    "duration": 173,
    "start_time": "2023-02-03T16:47:13.300Z"
   },
   {
    "duration": 11,
    "start_time": "2023-02-03T16:47:13.475Z"
   },
   {
    "duration": 734,
    "start_time": "2023-02-03T16:50:02.680Z"
   },
   {
    "duration": 13,
    "start_time": "2023-02-03T16:50:36.194Z"
   },
   {
    "duration": 13,
    "start_time": "2023-02-03T16:51:22.299Z"
   },
   {
    "duration": 9,
    "start_time": "2023-02-03T16:52:23.832Z"
   },
   {
    "duration": 11,
    "start_time": "2023-02-03T16:52:34.934Z"
   },
   {
    "duration": 1708,
    "start_time": "2023-02-03T17:02:22.060Z"
   },
   {
    "duration": 1641,
    "start_time": "2023-02-03T17:02:46.165Z"
   },
   {
    "duration": 4,
    "start_time": "2023-02-03T20:27:04.987Z"
   },
   {
    "duration": 1926,
    "start_time": "2023-02-03T20:27:06.688Z"
   },
   {
    "duration": 3410,
    "start_time": "2023-02-03T20:27:10.743Z"
   },
   {
    "duration": 22,
    "start_time": "2023-02-03T20:27:14.156Z"
   },
   {
    "duration": 63,
    "start_time": "2023-02-03T20:27:14.180Z"
   },
   {
    "duration": 220,
    "start_time": "2023-02-03T20:27:26.808Z"
   },
   {
    "duration": 11,
    "start_time": "2023-02-03T20:27:28.690Z"
   },
   {
    "duration": 3,
    "start_time": "2023-02-04T09:46:57.821Z"
   },
   {
    "duration": 1874,
    "start_time": "2023-02-04T09:46:59.419Z"
   },
   {
    "duration": 2353,
    "start_time": "2023-02-04T09:47:03.119Z"
   },
   {
    "duration": 23,
    "start_time": "2023-02-04T09:47:05.475Z"
   },
   {
    "duration": 49,
    "start_time": "2023-02-04T09:47:13.908Z"
   },
   {
    "duration": 227,
    "start_time": "2023-02-04T09:47:18.688Z"
   },
   {
    "duration": 11,
    "start_time": "2023-02-04T09:47:20.056Z"
   },
   {
    "duration": 2,
    "start_time": "2023-02-04T09:49:14.379Z"
   },
   {
    "duration": 4,
    "start_time": "2023-02-04T09:49:22.498Z"
   },
   {
    "duration": 804,
    "start_time": "2023-02-04T09:49:32.856Z"
   },
   {
    "duration": 11,
    "start_time": "2023-02-04T09:49:38.717Z"
   },
   {
    "duration": 43,
    "start_time": "2023-02-04T09:49:42.981Z"
   },
   {
    "duration": 203,
    "start_time": "2023-02-04T09:49:48.307Z"
   },
   {
    "duration": 10,
    "start_time": "2023-02-04T09:49:51.861Z"
   },
   {
    "duration": 455,
    "start_time": "2023-02-04T09:52:39.137Z"
   },
   {
    "duration": 363,
    "start_time": "2023-02-04T09:53:44.997Z"
   },
   {
    "duration": 560,
    "start_time": "2023-02-04T09:56:10.297Z"
   },
   {
    "duration": 940733,
    "start_time": "2023-02-04T09:56:24.363Z"
   },
   {
    "duration": 6,
    "start_time": "2023-02-04T10:12:20.862Z"
   },
   {
    "duration": 1766,
    "start_time": "2023-02-04T10:12:20.870Z"
   },
   {
    "duration": 799,
    "start_time": "2023-02-04T10:12:22.637Z"
   },
   {
    "duration": 19,
    "start_time": "2023-02-04T10:12:23.438Z"
   },
   {
    "duration": 84,
    "start_time": "2023-02-04T10:12:23.459Z"
   },
   {
    "duration": 248,
    "start_time": "2023-02-04T10:12:23.545Z"
   },
   {
    "duration": 9,
    "start_time": "2023-02-04T10:12:23.795Z"
   },
   {
    "duration": 1116668,
    "start_time": "2023-02-04T10:12:23.806Z"
   },
   {
    "duration": 11,
    "start_time": "2023-02-04T10:31:00.475Z"
   },
   {
    "duration": 90,
    "start_time": "2023-02-04T10:31:00.487Z"
   },
   {
    "duration": 1202,
    "start_time": "2023-02-04T10:31:00.579Z"
   },
   {
    "duration": 101872,
    "start_time": "2023-02-04T10:31:01.783Z"
   },
   {
    "duration": 1982333,
    "start_time": "2023-02-04T10:32:43.658Z"
   },
   {
    "duration": 200330,
    "start_time": "2023-02-04T11:05:45.993Z"
   },
   {
    "duration": 25,
    "start_time": "2023-02-04T11:09:06.325Z"
   },
   {
    "duration": 47,
    "start_time": "2023-02-04T11:09:06.352Z"
   },
   {
    "duration": 17,
    "start_time": "2023-02-04T11:09:06.401Z"
   },
   {
    "duration": 68,
    "start_time": "2023-02-04T11:09:06.420Z"
   },
   {
    "duration": 6,
    "start_time": "2023-02-04T11:09:06.490Z"
   },
   {
    "duration": 70,
    "start_time": "2023-02-04T11:09:06.498Z"
   },
   {
    "duration": 22,
    "start_time": "2023-02-04T11:09:06.570Z"
   },
   {
    "duration": 13,
    "start_time": "2023-02-04T11:09:06.593Z"
   },
   {
    "duration": 14,
    "start_time": "2023-02-04T11:09:06.608Z"
   },
   {
    "duration": 130,
    "start_time": "2023-02-04T13:08:15.353Z"
   },
   {
    "duration": 2,
    "start_time": "2023-02-04T13:08:29.960Z"
   },
   {
    "duration": 155,
    "start_time": "2023-02-04T13:08:30.897Z"
   },
   {
    "duration": 790,
    "start_time": "2023-02-04T13:08:35.867Z"
   },
   {
    "duration": 11,
    "start_time": "2023-02-04T13:08:39.735Z"
   },
   {
    "duration": 48,
    "start_time": "2023-02-04T13:08:41.028Z"
   },
   {
    "duration": 208,
    "start_time": "2023-02-04T13:08:44.169Z"
   },
   {
    "duration": 12,
    "start_time": "2023-02-04T13:08:45.532Z"
   },
   {
    "duration": 1152956,
    "start_time": "2023-02-04T13:08:55.512Z"
   },
   {
    "duration": 15,
    "start_time": "2023-02-04T13:28:44.563Z"
   },
   {
    "duration": 82,
    "start_time": "2023-02-04T13:28:48.520Z"
   },
   {
    "duration": 6687,
    "start_time": "2023-02-04T13:28:52.757Z"
   },
   {
    "duration": 702080,
    "start_time": "2023-02-04T13:29:22.483Z"
   },
   {
    "duration": 2865774,
    "start_time": "2023-02-04T13:42:06.168Z"
   },
   {
    "duration": 493818,
    "start_time": "2023-02-04T14:38:34.777Z"
   },
   {
    "duration": 17,
    "start_time": "2023-02-04T14:49:20.254Z"
   },
   {
    "duration": 38,
    "start_time": "2023-02-04T14:49:24.876Z"
   },
   {
    "duration": 138,
    "start_time": "2023-02-04T14:49:41.232Z"
   },
   {
    "duration": 39,
    "start_time": "2023-02-04T14:49:42.377Z"
   },
   {
    "duration": 19,
    "start_time": "2023-02-04T14:50:04.048Z"
   },
   {
    "duration": 42,
    "start_time": "2023-02-04T14:50:05.847Z"
   },
   {
    "duration": 15,
    "start_time": "2023-02-04T14:50:10.490Z"
   },
   {
    "duration": 6,
    "start_time": "2023-02-04T14:50:23.290Z"
   },
   {
    "duration": 8,
    "start_time": "2023-02-04T14:50:25.105Z"
   },
   {
    "duration": 10,
    "start_time": "2023-02-04T14:53:54.483Z"
   },
   {
    "duration": 74,
    "start_time": "2023-02-04T14:54:52.841Z"
   },
   {
    "duration": 10,
    "start_time": "2023-02-04T14:55:41.718Z"
   },
   {
    "duration": 7,
    "start_time": "2023-02-04T14:57:26.193Z"
   },
   {
    "duration": 8,
    "start_time": "2023-02-04T14:57:29.540Z"
   }
  ],
  "kernelspec": {
   "display_name": "Python 3 (ipykernel)",
   "language": "python",
   "name": "python3"
  },
  "language_info": {
   "codemirror_mode": {
    "name": "ipython",
    "version": 3
   },
   "file_extension": ".py",
   "mimetype": "text/x-python",
   "name": "python",
   "nbconvert_exporter": "python",
   "pygments_lexer": "ipython3",
   "version": "3.9.7"
  },
  "toc": {
   "base_numbering": 1,
   "nav_menu": {},
   "number_sections": true,
   "sideBar": true,
   "skip_h1_title": true,
   "title_cell": "Содержание",
   "title_sidebar": "Contents",
   "toc_cell": true,
   "toc_position": {
    "height": "calc(100% - 180px)",
    "left": "10px",
    "top": "150px",
    "width": "302.391px"
   },
   "toc_section_display": true,
   "toc_window_display": false
  }
 },
 "nbformat": 4,
 "nbformat_minor": 2
}
