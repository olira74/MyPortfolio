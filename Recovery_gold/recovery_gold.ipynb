{
 "cells": [
  {
   "cell_type": "markdown",
   "metadata": {
    "toc": true
   },
   "source": [
    "<h1>Содержание<span class=\"tocSkip\"></span></h1>\n",
    "<div class=\"toc\"><ul class=\"toc-item\"><li><span><a href=\"#Подготовка-данных\" data-toc-modified-id=\"Подготовка-данных-1\"><span class=\"toc-item-num\">1&nbsp;&nbsp;</span>Подготовка данных</a></span></li><li><span><a href=\"#Анализ-данных\" data-toc-modified-id=\"Анализ-данных-2\"><span class=\"toc-item-num\">2&nbsp;&nbsp;</span>Анализ данных</a></span></li><li><span><a href=\"#Модель\" data-toc-modified-id=\"Модель-3\"><span class=\"toc-item-num\">3&nbsp;&nbsp;</span>Модель</a></span></li></ul></div>"
   ]
  },
  {
   "cell_type": "markdown",
   "metadata": {},
   "source": [
    "# Восстановление золота из руды"
   ]
  },
  {
   "cell_type": "markdown",
   "metadata": {},
   "source": [
    "Подготовьте прототип модели машинного обучения для «Цифры». Компания разрабатывает решения для эффективной работы промышленных предприятий.\n",
    "\n",
    "Модель должна предсказать коэффициент восстановления золота из золотосодержащей руды. \n",
    "\n",
    "Модель поможет оптимизировать производство, чтобы не запускать предприятие с убыточными характеристиками."
   ]
  },
  {
   "cell_type": "markdown",
   "metadata": {},
   "source": [
    "**Цель работы**\n",
    "\n",
    "Построить модель, которая предскажет коэффициент восстановления золота из золотосодержащей руды\n",
    "\n",
    "**Описание данных**\n",
    "\n",
    "Данные находятся в трёх файлах:\n",
    "- gold_recovery_train_new.csv — обучающая выборка;\n",
    "- gold_recovery_test_new.csv — тестовая выборка;\n",
    "- gold_recovery_full_new.csv — исходные данные.\n",
    "\n",
    "Исходный датасет содержит обучающую и тестовую выборки со всеми признаками.\n",
    "\n",
    "Данные сырые: их просто выгрузили из хранилища. \n",
    "\n",
    "**План работы**\n",
    "\n",
    "- Открыть файлы и изучить данные.\n",
    "- Рассчитать эффективность обогащения и с помощью МАЕ проверить правильность расчетов\n",
    "- Выяснить, каких признаков нет в тестовой выборке\n",
    "- Провести предобработку данных(дубликаты, пропуски, типы данных и т.п.)\n",
    "- Посмотреть, как меняется концентрация металлов (Au, Ag, Pb) на различных этапах очистки.\n",
    "- Сравнить распределения размеров гранул сырья на обучающей и тестовой выборках.\n",
    "- Исследовать суммарную концентрацию всех веществ на разных стадиях: в сырье, в черновом и финальном концентратах.\n",
    "- Написать функцию для вычисления итоговой sMAPE.\n",
    "- Обучить разные модели и оценить их качество кросс-валидацией. \n",
    "- Выбрать лучшую модель и проверить её на тестовой выборке. \n",
    "- Написать вывод"
   ]
  },
  {
   "cell_type": "markdown",
   "metadata": {},
   "source": [
    "## Подготовка данных"
   ]
  },
  {
   "cell_type": "markdown",
   "metadata": {},
   "source": [
    "**1.1 Изучение данных**"
   ]
  },
  {
   "cell_type": "code",
   "execution_count": 2,
   "metadata": {},
   "outputs": [],
   "source": [
    "# импортируем необходимые библиотеки\n",
    "import pandas as pd\n",
    "import numpy as np\n",
    "import seaborn as sns\n",
    "import matplotlib.pyplot as plt\n",
    "from sklearn.ensemble import RandomForestRegressor\n",
    "from sklearn.linear_model import LinearRegression\n",
    "from sklearn.tree import DecisionTreeRegressor\n",
    "from sklearn.model_selection import cross_val_score\n",
    "from sklearn.model_selection import train_test_split\n",
    "from sklearn.preprocessing import StandardScaler\n",
    "from sklearn.metrics import mean_absolute_error\n",
    "from sklearn.metrics import make_scorer\n",
    "from collections import defaultdict\n",
    "from sklearn.dummy import DummyRegressor"
   ]
  },
  {
   "cell_type": "code",
   "execution_count": 3,
   "metadata": {},
   "outputs": [],
   "source": [
    "# откроем файлы с данными\n",
    "data_train = pd.read_csv('/datasets/gold_recovery_train_new.csv')\n",
    "data_test = pd.read_csv('/datasets/gold_recovery_test_new.csv')\n",
    "data_full = pd.read_csv('/datasets/gold_recovery_full_new.csv')"
   ]
  },
  {
   "cell_type": "code",
   "execution_count": 4,
   "metadata": {},
   "outputs": [
    {
     "name": "stdout",
     "output_type": "stream",
     "text": [
      "Data_train\n"
     ]
    },
    {
     "data": {
      "text/html": [
       "<div>\n",
       "<style scoped>\n",
       "    .dataframe tbody tr th:only-of-type {\n",
       "        vertical-align: middle;\n",
       "    }\n",
       "\n",
       "    .dataframe tbody tr th {\n",
       "        vertical-align: top;\n",
       "    }\n",
       "\n",
       "    .dataframe thead th {\n",
       "        text-align: right;\n",
       "    }\n",
       "</style>\n",
       "<table border=\"1\" class=\"dataframe\">\n",
       "  <thead>\n",
       "    <tr style=\"text-align: right;\">\n",
       "      <th></th>\n",
       "      <th>date</th>\n",
       "      <th>final.output.concentrate_ag</th>\n",
       "      <th>final.output.concentrate_pb</th>\n",
       "      <th>final.output.concentrate_sol</th>\n",
       "      <th>final.output.concentrate_au</th>\n",
       "      <th>final.output.recovery</th>\n",
       "      <th>final.output.tail_ag</th>\n",
       "      <th>final.output.tail_pb</th>\n",
       "      <th>final.output.tail_sol</th>\n",
       "      <th>final.output.tail_au</th>\n",
       "      <th>...</th>\n",
       "      <th>secondary_cleaner.state.floatbank4_a_air</th>\n",
       "      <th>secondary_cleaner.state.floatbank4_a_level</th>\n",
       "      <th>secondary_cleaner.state.floatbank4_b_air</th>\n",
       "      <th>secondary_cleaner.state.floatbank4_b_level</th>\n",
       "      <th>secondary_cleaner.state.floatbank5_a_air</th>\n",
       "      <th>secondary_cleaner.state.floatbank5_a_level</th>\n",
       "      <th>secondary_cleaner.state.floatbank5_b_air</th>\n",
       "      <th>secondary_cleaner.state.floatbank5_b_level</th>\n",
       "      <th>secondary_cleaner.state.floatbank6_a_air</th>\n",
       "      <th>secondary_cleaner.state.floatbank6_a_level</th>\n",
       "    </tr>\n",
       "  </thead>\n",
       "  <tbody>\n",
       "    <tr>\n",
       "      <th>0</th>\n",
       "      <td>2016-01-15 00:00:00</td>\n",
       "      <td>6.055403</td>\n",
       "      <td>9.889648</td>\n",
       "      <td>5.507324</td>\n",
       "      <td>42.192020</td>\n",
       "      <td>70.541216</td>\n",
       "      <td>10.411962</td>\n",
       "      <td>0.895447</td>\n",
       "      <td>16.904297</td>\n",
       "      <td>2.143149</td>\n",
       "      <td>...</td>\n",
       "      <td>14.016835</td>\n",
       "      <td>-502.488007</td>\n",
       "      <td>12.099931</td>\n",
       "      <td>-504.715942</td>\n",
       "      <td>9.925633</td>\n",
       "      <td>-498.310211</td>\n",
       "      <td>8.079666</td>\n",
       "      <td>-500.470978</td>\n",
       "      <td>14.151341</td>\n",
       "      <td>-605.841980</td>\n",
       "    </tr>\n",
       "    <tr>\n",
       "      <th>1</th>\n",
       "      <td>2016-01-15 01:00:00</td>\n",
       "      <td>6.029369</td>\n",
       "      <td>9.968944</td>\n",
       "      <td>5.257781</td>\n",
       "      <td>42.701629</td>\n",
       "      <td>69.266198</td>\n",
       "      <td>10.462676</td>\n",
       "      <td>0.927452</td>\n",
       "      <td>16.634514</td>\n",
       "      <td>2.224930</td>\n",
       "      <td>...</td>\n",
       "      <td>13.992281</td>\n",
       "      <td>-505.503262</td>\n",
       "      <td>11.950531</td>\n",
       "      <td>-501.331529</td>\n",
       "      <td>10.039245</td>\n",
       "      <td>-500.169983</td>\n",
       "      <td>7.984757</td>\n",
       "      <td>-500.582168</td>\n",
       "      <td>13.998353</td>\n",
       "      <td>-599.787184</td>\n",
       "    </tr>\n",
       "    <tr>\n",
       "      <th>2</th>\n",
       "      <td>2016-01-15 02:00:00</td>\n",
       "      <td>6.055926</td>\n",
       "      <td>10.213995</td>\n",
       "      <td>5.383759</td>\n",
       "      <td>42.657501</td>\n",
       "      <td>68.116445</td>\n",
       "      <td>10.507046</td>\n",
       "      <td>0.953716</td>\n",
       "      <td>16.208849</td>\n",
       "      <td>2.257889</td>\n",
       "      <td>...</td>\n",
       "      <td>14.015015</td>\n",
       "      <td>-502.520901</td>\n",
       "      <td>11.912783</td>\n",
       "      <td>-501.133383</td>\n",
       "      <td>10.070913</td>\n",
       "      <td>-500.129135</td>\n",
       "      <td>8.013877</td>\n",
       "      <td>-500.517572</td>\n",
       "      <td>14.028663</td>\n",
       "      <td>-601.427363</td>\n",
       "    </tr>\n",
       "    <tr>\n",
       "      <th>3</th>\n",
       "      <td>2016-01-15 03:00:00</td>\n",
       "      <td>6.047977</td>\n",
       "      <td>9.977019</td>\n",
       "      <td>4.858634</td>\n",
       "      <td>42.689819</td>\n",
       "      <td>68.347543</td>\n",
       "      <td>10.422762</td>\n",
       "      <td>0.883763</td>\n",
       "      <td>16.532835</td>\n",
       "      <td>2.146849</td>\n",
       "      <td>...</td>\n",
       "      <td>14.036510</td>\n",
       "      <td>-500.857308</td>\n",
       "      <td>11.999550</td>\n",
       "      <td>-501.193686</td>\n",
       "      <td>9.970366</td>\n",
       "      <td>-499.201640</td>\n",
       "      <td>7.977324</td>\n",
       "      <td>-500.255908</td>\n",
       "      <td>14.005551</td>\n",
       "      <td>-599.996129</td>\n",
       "    </tr>\n",
       "    <tr>\n",
       "      <th>4</th>\n",
       "      <td>2016-01-15 04:00:00</td>\n",
       "      <td>6.148599</td>\n",
       "      <td>10.142511</td>\n",
       "      <td>4.939416</td>\n",
       "      <td>42.774141</td>\n",
       "      <td>66.927016</td>\n",
       "      <td>10.360302</td>\n",
       "      <td>0.792826</td>\n",
       "      <td>16.525686</td>\n",
       "      <td>2.055292</td>\n",
       "      <td>...</td>\n",
       "      <td>14.027298</td>\n",
       "      <td>-499.838632</td>\n",
       "      <td>11.953070</td>\n",
       "      <td>-501.053894</td>\n",
       "      <td>9.925709</td>\n",
       "      <td>-501.686727</td>\n",
       "      <td>7.894242</td>\n",
       "      <td>-500.356035</td>\n",
       "      <td>13.996647</td>\n",
       "      <td>-601.496691</td>\n",
       "    </tr>\n",
       "  </tbody>\n",
       "</table>\n",
       "<p>5 rows × 87 columns</p>\n",
       "</div>"
      ],
      "text/plain": [
       "                  date  final.output.concentrate_ag  \\\n",
       "0  2016-01-15 00:00:00                     6.055403   \n",
       "1  2016-01-15 01:00:00                     6.029369   \n",
       "2  2016-01-15 02:00:00                     6.055926   \n",
       "3  2016-01-15 03:00:00                     6.047977   \n",
       "4  2016-01-15 04:00:00                     6.148599   \n",
       "\n",
       "   final.output.concentrate_pb  final.output.concentrate_sol  \\\n",
       "0                     9.889648                      5.507324   \n",
       "1                     9.968944                      5.257781   \n",
       "2                    10.213995                      5.383759   \n",
       "3                     9.977019                      4.858634   \n",
       "4                    10.142511                      4.939416   \n",
       "\n",
       "   final.output.concentrate_au  final.output.recovery  final.output.tail_ag  \\\n",
       "0                    42.192020              70.541216             10.411962   \n",
       "1                    42.701629              69.266198             10.462676   \n",
       "2                    42.657501              68.116445             10.507046   \n",
       "3                    42.689819              68.347543             10.422762   \n",
       "4                    42.774141              66.927016             10.360302   \n",
       "\n",
       "   final.output.tail_pb  final.output.tail_sol  final.output.tail_au  ...  \\\n",
       "0              0.895447              16.904297              2.143149  ...   \n",
       "1              0.927452              16.634514              2.224930  ...   \n",
       "2              0.953716              16.208849              2.257889  ...   \n",
       "3              0.883763              16.532835              2.146849  ...   \n",
       "4              0.792826              16.525686              2.055292  ...   \n",
       "\n",
       "   secondary_cleaner.state.floatbank4_a_air  \\\n",
       "0                                 14.016835   \n",
       "1                                 13.992281   \n",
       "2                                 14.015015   \n",
       "3                                 14.036510   \n",
       "4                                 14.027298   \n",
       "\n",
       "   secondary_cleaner.state.floatbank4_a_level  \\\n",
       "0                                 -502.488007   \n",
       "1                                 -505.503262   \n",
       "2                                 -502.520901   \n",
       "3                                 -500.857308   \n",
       "4                                 -499.838632   \n",
       "\n",
       "   secondary_cleaner.state.floatbank4_b_air  \\\n",
       "0                                 12.099931   \n",
       "1                                 11.950531   \n",
       "2                                 11.912783   \n",
       "3                                 11.999550   \n",
       "4                                 11.953070   \n",
       "\n",
       "   secondary_cleaner.state.floatbank4_b_level  \\\n",
       "0                                 -504.715942   \n",
       "1                                 -501.331529   \n",
       "2                                 -501.133383   \n",
       "3                                 -501.193686   \n",
       "4                                 -501.053894   \n",
       "\n",
       "   secondary_cleaner.state.floatbank5_a_air  \\\n",
       "0                                  9.925633   \n",
       "1                                 10.039245   \n",
       "2                                 10.070913   \n",
       "3                                  9.970366   \n",
       "4                                  9.925709   \n",
       "\n",
       "   secondary_cleaner.state.floatbank5_a_level  \\\n",
       "0                                 -498.310211   \n",
       "1                                 -500.169983   \n",
       "2                                 -500.129135   \n",
       "3                                 -499.201640   \n",
       "4                                 -501.686727   \n",
       "\n",
       "   secondary_cleaner.state.floatbank5_b_air  \\\n",
       "0                                  8.079666   \n",
       "1                                  7.984757   \n",
       "2                                  8.013877   \n",
       "3                                  7.977324   \n",
       "4                                  7.894242   \n",
       "\n",
       "   secondary_cleaner.state.floatbank5_b_level  \\\n",
       "0                                 -500.470978   \n",
       "1                                 -500.582168   \n",
       "2                                 -500.517572   \n",
       "3                                 -500.255908   \n",
       "4                                 -500.356035   \n",
       "\n",
       "   secondary_cleaner.state.floatbank6_a_air  \\\n",
       "0                                 14.151341   \n",
       "1                                 13.998353   \n",
       "2                                 14.028663   \n",
       "3                                 14.005551   \n",
       "4                                 13.996647   \n",
       "\n",
       "   secondary_cleaner.state.floatbank6_a_level  \n",
       "0                                 -605.841980  \n",
       "1                                 -599.787184  \n",
       "2                                 -601.427363  \n",
       "3                                 -599.996129  \n",
       "4                                 -601.496691  \n",
       "\n",
       "[5 rows x 87 columns]"
      ]
     },
     "metadata": {},
     "output_type": "display_data"
    },
    {
     "name": "stdout",
     "output_type": "stream",
     "text": [
      "<class 'pandas.core.frame.DataFrame'>\n",
      "RangeIndex: 14149 entries, 0 to 14148\n",
      "Data columns (total 87 columns):\n",
      " #   Column                                              Non-Null Count  Dtype  \n",
      "---  ------                                              --------------  -----  \n",
      " 0   date                                                14149 non-null  object \n",
      " 1   final.output.concentrate_ag                         14148 non-null  float64\n",
      " 2   final.output.concentrate_pb                         14148 non-null  float64\n",
      " 3   final.output.concentrate_sol                        13938 non-null  float64\n",
      " 4   final.output.concentrate_au                         14149 non-null  float64\n",
      " 5   final.output.recovery                               14149 non-null  float64\n",
      " 6   final.output.tail_ag                                14149 non-null  float64\n",
      " 7   final.output.tail_pb                                14049 non-null  float64\n",
      " 8   final.output.tail_sol                               14144 non-null  float64\n",
      " 9   final.output.tail_au                                14149 non-null  float64\n",
      " 10  primary_cleaner.input.sulfate                       14129 non-null  float64\n",
      " 11  primary_cleaner.input.depressant                    14117 non-null  float64\n",
      " 12  primary_cleaner.input.feed_size                     14149 non-null  float64\n",
      " 13  primary_cleaner.input.xanthate                      14049 non-null  float64\n",
      " 14  primary_cleaner.output.concentrate_ag               14149 non-null  float64\n",
      " 15  primary_cleaner.output.concentrate_pb               14063 non-null  float64\n",
      " 16  primary_cleaner.output.concentrate_sol              13863 non-null  float64\n",
      " 17  primary_cleaner.output.concentrate_au               14149 non-null  float64\n",
      " 18  primary_cleaner.output.tail_ag                      14148 non-null  float64\n",
      " 19  primary_cleaner.output.tail_pb                      14134 non-null  float64\n",
      " 20  primary_cleaner.output.tail_sol                     14103 non-null  float64\n",
      " 21  primary_cleaner.output.tail_au                      14149 non-null  float64\n",
      " 22  primary_cleaner.state.floatbank8_a_air              14145 non-null  float64\n",
      " 23  primary_cleaner.state.floatbank8_a_level            14148 non-null  float64\n",
      " 24  primary_cleaner.state.floatbank8_b_air              14145 non-null  float64\n",
      " 25  primary_cleaner.state.floatbank8_b_level            14148 non-null  float64\n",
      " 26  primary_cleaner.state.floatbank8_c_air              14147 non-null  float64\n",
      " 27  primary_cleaner.state.floatbank8_c_level            14148 non-null  float64\n",
      " 28  primary_cleaner.state.floatbank8_d_air              14146 non-null  float64\n",
      " 29  primary_cleaner.state.floatbank8_d_level            14148 non-null  float64\n",
      " 30  rougher.calculation.sulfate_to_au_concentrate       14148 non-null  float64\n",
      " 31  rougher.calculation.floatbank10_sulfate_to_au_feed  14148 non-null  float64\n",
      " 32  rougher.calculation.floatbank11_sulfate_to_au_feed  14148 non-null  float64\n",
      " 33  rougher.calculation.au_pb_ratio                     14149 non-null  float64\n",
      " 34  rougher.input.feed_ag                               14149 non-null  float64\n",
      " 35  rougher.input.feed_pb                               14049 non-null  float64\n",
      " 36  rougher.input.feed_rate                             14141 non-null  float64\n",
      " 37  rougher.input.feed_size                             14005 non-null  float64\n",
      " 38  rougher.input.feed_sol                              14071 non-null  float64\n",
      " 39  rougher.input.feed_au                               14149 non-null  float64\n",
      " 40  rougher.input.floatbank10_sulfate                   14120 non-null  float64\n",
      " 41  rougher.input.floatbank10_xanthate                  14141 non-null  float64\n",
      " 42  rougher.input.floatbank11_sulfate                   14113 non-null  float64\n",
      " 43  rougher.input.floatbank11_xanthate                  13721 non-null  float64\n",
      " 44  rougher.output.concentrate_ag                       14149 non-null  float64\n",
      " 45  rougher.output.concentrate_pb                       14149 non-null  float64\n",
      " 46  rougher.output.concentrate_sol                      14127 non-null  float64\n",
      " 47  rougher.output.concentrate_au                       14149 non-null  float64\n",
      " 48  rougher.output.recovery                             14149 non-null  float64\n",
      " 49  rougher.output.tail_ag                              14148 non-null  float64\n",
      " 50  rougher.output.tail_pb                              14149 non-null  float64\n",
      " 51  rougher.output.tail_sol                             14149 non-null  float64\n",
      " 52  rougher.output.tail_au                              14149 non-null  float64\n",
      " 53  rougher.state.floatbank10_a_air                     14148 non-null  float64\n",
      " 54  rougher.state.floatbank10_a_level                   14148 non-null  float64\n",
      " 55  rougher.state.floatbank10_b_air                     14148 non-null  float64\n",
      " 56  rougher.state.floatbank10_b_level                   14148 non-null  float64\n",
      " 57  rougher.state.floatbank10_c_air                     14148 non-null  float64\n",
      " 58  rougher.state.floatbank10_c_level                   14148 non-null  float64\n",
      " 59  rougher.state.floatbank10_d_air                     14149 non-null  float64\n",
      " 60  rougher.state.floatbank10_d_level                   14149 non-null  float64\n",
      " 61  rougher.state.floatbank10_e_air                     13713 non-null  float64\n",
      " 62  rougher.state.floatbank10_e_level                   14149 non-null  float64\n",
      " 63  rougher.state.floatbank10_f_air                     14149 non-null  float64\n",
      " 64  rougher.state.floatbank10_f_level                   14149 non-null  float64\n",
      " 65  secondary_cleaner.output.tail_ag                    14147 non-null  float64\n",
      " 66  secondary_cleaner.output.tail_pb                    14139 non-null  float64\n",
      " 67  secondary_cleaner.output.tail_sol                   12544 non-null  float64\n",
      " 68  secondary_cleaner.output.tail_au                    14149 non-null  float64\n",
      " 69  secondary_cleaner.state.floatbank2_a_air            13932 non-null  float64\n",
      " 70  secondary_cleaner.state.floatbank2_a_level          14148 non-null  float64\n",
      " 71  secondary_cleaner.state.floatbank2_b_air            14128 non-null  float64\n",
      " 72  secondary_cleaner.state.floatbank2_b_level          14148 non-null  float64\n",
      " 73  secondary_cleaner.state.floatbank3_a_air            14145 non-null  float64\n",
      " 74  secondary_cleaner.state.floatbank3_a_level          14148 non-null  float64\n",
      " 75  secondary_cleaner.state.floatbank3_b_air            14148 non-null  float64\n",
      " 76  secondary_cleaner.state.floatbank3_b_level          14148 non-null  float64\n",
      " 77  secondary_cleaner.state.floatbank4_a_air            14143 non-null  float64\n",
      " 78  secondary_cleaner.state.floatbank4_a_level          14148 non-null  float64\n",
      " 79  secondary_cleaner.state.floatbank4_b_air            14148 non-null  float64\n",
      " 80  secondary_cleaner.state.floatbank4_b_level          14148 non-null  float64\n",
      " 81  secondary_cleaner.state.floatbank5_a_air            14148 non-null  float64\n",
      " 82  secondary_cleaner.state.floatbank5_a_level          14148 non-null  float64\n",
      " 83  secondary_cleaner.state.floatbank5_b_air            14148 non-null  float64\n",
      " 84  secondary_cleaner.state.floatbank5_b_level          14148 non-null  float64\n",
      " 85  secondary_cleaner.state.floatbank6_a_air            14147 non-null  float64\n",
      " 86  secondary_cleaner.state.floatbank6_a_level          14148 non-null  float64\n",
      "dtypes: float64(86), object(1)\n",
      "memory usage: 9.4+ MB\n"
     ]
    },
    {
     "data": {
      "text/html": [
       "<div>\n",
       "<style scoped>\n",
       "    .dataframe tbody tr th:only-of-type {\n",
       "        vertical-align: middle;\n",
       "    }\n",
       "\n",
       "    .dataframe tbody tr th {\n",
       "        vertical-align: top;\n",
       "    }\n",
       "\n",
       "    .dataframe thead th {\n",
       "        text-align: right;\n",
       "    }\n",
       "</style>\n",
       "<table border=\"1\" class=\"dataframe\">\n",
       "  <thead>\n",
       "    <tr style=\"text-align: right;\">\n",
       "      <th></th>\n",
       "      <th>final.output.concentrate_ag</th>\n",
       "      <th>final.output.concentrate_pb</th>\n",
       "      <th>final.output.concentrate_sol</th>\n",
       "      <th>final.output.concentrate_au</th>\n",
       "      <th>final.output.recovery</th>\n",
       "      <th>final.output.tail_ag</th>\n",
       "      <th>final.output.tail_pb</th>\n",
       "      <th>final.output.tail_sol</th>\n",
       "      <th>final.output.tail_au</th>\n",
       "      <th>primary_cleaner.input.sulfate</th>\n",
       "      <th>...</th>\n",
       "      <th>secondary_cleaner.state.floatbank4_a_air</th>\n",
       "      <th>secondary_cleaner.state.floatbank4_a_level</th>\n",
       "      <th>secondary_cleaner.state.floatbank4_b_air</th>\n",
       "      <th>secondary_cleaner.state.floatbank4_b_level</th>\n",
       "      <th>secondary_cleaner.state.floatbank5_a_air</th>\n",
       "      <th>secondary_cleaner.state.floatbank5_a_level</th>\n",
       "      <th>secondary_cleaner.state.floatbank5_b_air</th>\n",
       "      <th>secondary_cleaner.state.floatbank5_b_level</th>\n",
       "      <th>secondary_cleaner.state.floatbank6_a_air</th>\n",
       "      <th>secondary_cleaner.state.floatbank6_a_level</th>\n",
       "    </tr>\n",
       "  </thead>\n",
       "  <tbody>\n",
       "    <tr>\n",
       "      <th>count</th>\n",
       "      <td>14148.000000</td>\n",
       "      <td>14148.000000</td>\n",
       "      <td>13938.000000</td>\n",
       "      <td>14149.000000</td>\n",
       "      <td>14149.000000</td>\n",
       "      <td>14149.000000</td>\n",
       "      <td>14049.000000</td>\n",
       "      <td>14144.000000</td>\n",
       "      <td>14149.000000</td>\n",
       "      <td>14129.000000</td>\n",
       "      <td>...</td>\n",
       "      <td>14143.000000</td>\n",
       "      <td>14148.000000</td>\n",
       "      <td>14148.000000</td>\n",
       "      <td>14148.000000</td>\n",
       "      <td>14148.000000</td>\n",
       "      <td>14148.000000</td>\n",
       "      <td>14148.000000</td>\n",
       "      <td>14148.000000</td>\n",
       "      <td>14147.000000</td>\n",
       "      <td>14148.000000</td>\n",
       "    </tr>\n",
       "    <tr>\n",
       "      <th>mean</th>\n",
       "      <td>5.142034</td>\n",
       "      <td>10.132960</td>\n",
       "      <td>9.202849</td>\n",
       "      <td>44.003792</td>\n",
       "      <td>66.518832</td>\n",
       "      <td>9.607035</td>\n",
       "      <td>2.597298</td>\n",
       "      <td>10.512122</td>\n",
       "      <td>2.918421</td>\n",
       "      <td>133.320659</td>\n",
       "      <td>...</td>\n",
       "      <td>19.985454</td>\n",
       "      <td>-478.696836</td>\n",
       "      <td>15.487065</td>\n",
       "      <td>-460.229416</td>\n",
       "      <td>16.775136</td>\n",
       "      <td>-483.956022</td>\n",
       "      <td>13.064590</td>\n",
       "      <td>-483.966564</td>\n",
       "      <td>19.577539</td>\n",
       "      <td>-506.798480</td>\n",
       "    </tr>\n",
       "    <tr>\n",
       "      <th>std</th>\n",
       "      <td>1.369586</td>\n",
       "      <td>1.654930</td>\n",
       "      <td>2.790516</td>\n",
       "      <td>4.905261</td>\n",
       "      <td>10.295402</td>\n",
       "      <td>2.319069</td>\n",
       "      <td>0.971843</td>\n",
       "      <td>3.003617</td>\n",
       "      <td>0.903712</td>\n",
       "      <td>39.431659</td>\n",
       "      <td>...</td>\n",
       "      <td>5.657723</td>\n",
       "      <td>50.736021</td>\n",
       "      <td>5.255655</td>\n",
       "      <td>58.843586</td>\n",
       "      <td>5.831906</td>\n",
       "      <td>37.892788</td>\n",
       "      <td>5.765617</td>\n",
       "      <td>39.207913</td>\n",
       "      <td>5.764417</td>\n",
       "      <td>37.079249</td>\n",
       "    </tr>\n",
       "    <tr>\n",
       "      <th>min</th>\n",
       "      <td>0.000000</td>\n",
       "      <td>0.000000</td>\n",
       "      <td>0.000000</td>\n",
       "      <td>0.000000</td>\n",
       "      <td>0.000000</td>\n",
       "      <td>0.000000</td>\n",
       "      <td>0.000000</td>\n",
       "      <td>0.000000</td>\n",
       "      <td>0.000000</td>\n",
       "      <td>0.003112</td>\n",
       "      <td>...</td>\n",
       "      <td>0.000000</td>\n",
       "      <td>-799.709069</td>\n",
       "      <td>0.000000</td>\n",
       "      <td>-799.889113</td>\n",
       "      <td>-0.372054</td>\n",
       "      <td>-797.142475</td>\n",
       "      <td>0.646208</td>\n",
       "      <td>-800.006180</td>\n",
       "      <td>0.195324</td>\n",
       "      <td>-809.398668</td>\n",
       "    </tr>\n",
       "    <tr>\n",
       "      <th>25%</th>\n",
       "      <td>4.211620</td>\n",
       "      <td>9.297355</td>\n",
       "      <td>7.484645</td>\n",
       "      <td>43.276111</td>\n",
       "      <td>62.545817</td>\n",
       "      <td>7.997429</td>\n",
       "      <td>1.905973</td>\n",
       "      <td>8.811324</td>\n",
       "      <td>2.368607</td>\n",
       "      <td>107.006651</td>\n",
       "      <td>...</td>\n",
       "      <td>14.990775</td>\n",
       "      <td>-500.628656</td>\n",
       "      <td>11.894558</td>\n",
       "      <td>-500.149000</td>\n",
       "      <td>11.083980</td>\n",
       "      <td>-500.363177</td>\n",
       "      <td>8.994405</td>\n",
       "      <td>-500.105994</td>\n",
       "      <td>14.989304</td>\n",
       "      <td>-500.745104</td>\n",
       "    </tr>\n",
       "    <tr>\n",
       "      <th>50%</th>\n",
       "      <td>4.994652</td>\n",
       "      <td>10.297144</td>\n",
       "      <td>8.845462</td>\n",
       "      <td>44.872436</td>\n",
       "      <td>67.432775</td>\n",
       "      <td>9.480270</td>\n",
       "      <td>2.592022</td>\n",
       "      <td>10.514621</td>\n",
       "      <td>2.851025</td>\n",
       "      <td>133.018328</td>\n",
       "      <td>...</td>\n",
       "      <td>20.001789</td>\n",
       "      <td>-499.681450</td>\n",
       "      <td>14.975536</td>\n",
       "      <td>-499.388738</td>\n",
       "      <td>17.932223</td>\n",
       "      <td>-499.702452</td>\n",
       "      <td>11.997547</td>\n",
       "      <td>-499.914556</td>\n",
       "      <td>19.984175</td>\n",
       "      <td>-500.061431</td>\n",
       "    </tr>\n",
       "    <tr>\n",
       "      <th>75%</th>\n",
       "      <td>5.859540</td>\n",
       "      <td>11.170603</td>\n",
       "      <td>10.487508</td>\n",
       "      <td>46.166425</td>\n",
       "      <td>72.346428</td>\n",
       "      <td>11.003707</td>\n",
       "      <td>3.241723</td>\n",
       "      <td>11.933009</td>\n",
       "      <td>3.434764</td>\n",
       "      <td>159.825396</td>\n",
       "      <td>...</td>\n",
       "      <td>24.990826</td>\n",
       "      <td>-477.472413</td>\n",
       "      <td>20.059375</td>\n",
       "      <td>-400.039008</td>\n",
       "      <td>21.346550</td>\n",
       "      <td>-487.712108</td>\n",
       "      <td>17.982903</td>\n",
       "      <td>-453.186936</td>\n",
       "      <td>24.991623</td>\n",
       "      <td>-499.536466</td>\n",
       "    </tr>\n",
       "    <tr>\n",
       "      <th>max</th>\n",
       "      <td>16.001945</td>\n",
       "      <td>17.031899</td>\n",
       "      <td>18.124851</td>\n",
       "      <td>52.756638</td>\n",
       "      <td>100.000000</td>\n",
       "      <td>19.552149</td>\n",
       "      <td>5.639565</td>\n",
       "      <td>22.317730</td>\n",
       "      <td>8.197408</td>\n",
       "      <td>250.127834</td>\n",
       "      <td>...</td>\n",
       "      <td>30.115735</td>\n",
       "      <td>-245.239184</td>\n",
       "      <td>24.007913</td>\n",
       "      <td>-145.071088</td>\n",
       "      <td>43.709931</td>\n",
       "      <td>-275.073125</td>\n",
       "      <td>27.926001</td>\n",
       "      <td>-157.396071</td>\n",
       "      <td>32.188906</td>\n",
       "      <td>-104.427459</td>\n",
       "    </tr>\n",
       "  </tbody>\n",
       "</table>\n",
       "<p>8 rows × 86 columns</p>\n",
       "</div>"
      ],
      "text/plain": [
       "       final.output.concentrate_ag  final.output.concentrate_pb  \\\n",
       "count                 14148.000000                 14148.000000   \n",
       "mean                      5.142034                    10.132960   \n",
       "std                       1.369586                     1.654930   \n",
       "min                       0.000000                     0.000000   \n",
       "25%                       4.211620                     9.297355   \n",
       "50%                       4.994652                    10.297144   \n",
       "75%                       5.859540                    11.170603   \n",
       "max                      16.001945                    17.031899   \n",
       "\n",
       "       final.output.concentrate_sol  final.output.concentrate_au  \\\n",
       "count                  13938.000000                 14149.000000   \n",
       "mean                       9.202849                    44.003792   \n",
       "std                        2.790516                     4.905261   \n",
       "min                        0.000000                     0.000000   \n",
       "25%                        7.484645                    43.276111   \n",
       "50%                        8.845462                    44.872436   \n",
       "75%                       10.487508                    46.166425   \n",
       "max                       18.124851                    52.756638   \n",
       "\n",
       "       final.output.recovery  final.output.tail_ag  final.output.tail_pb  \\\n",
       "count           14149.000000          14149.000000          14049.000000   \n",
       "mean               66.518832              9.607035              2.597298   \n",
       "std                10.295402              2.319069              0.971843   \n",
       "min                 0.000000              0.000000              0.000000   \n",
       "25%                62.545817              7.997429              1.905973   \n",
       "50%                67.432775              9.480270              2.592022   \n",
       "75%                72.346428             11.003707              3.241723   \n",
       "max               100.000000             19.552149              5.639565   \n",
       "\n",
       "       final.output.tail_sol  final.output.tail_au  \\\n",
       "count           14144.000000          14149.000000   \n",
       "mean               10.512122              2.918421   \n",
       "std                 3.003617              0.903712   \n",
       "min                 0.000000              0.000000   \n",
       "25%                 8.811324              2.368607   \n",
       "50%                10.514621              2.851025   \n",
       "75%                11.933009              3.434764   \n",
       "max                22.317730              8.197408   \n",
       "\n",
       "       primary_cleaner.input.sulfate  ...  \\\n",
       "count                   14129.000000  ...   \n",
       "mean                      133.320659  ...   \n",
       "std                        39.431659  ...   \n",
       "min                         0.003112  ...   \n",
       "25%                       107.006651  ...   \n",
       "50%                       133.018328  ...   \n",
       "75%                       159.825396  ...   \n",
       "max                       250.127834  ...   \n",
       "\n",
       "       secondary_cleaner.state.floatbank4_a_air  \\\n",
       "count                              14143.000000   \n",
       "mean                                  19.985454   \n",
       "std                                    5.657723   \n",
       "min                                    0.000000   \n",
       "25%                                   14.990775   \n",
       "50%                                   20.001789   \n",
       "75%                                   24.990826   \n",
       "max                                   30.115735   \n",
       "\n",
       "       secondary_cleaner.state.floatbank4_a_level  \\\n",
       "count                                14148.000000   \n",
       "mean                                  -478.696836   \n",
       "std                                     50.736021   \n",
       "min                                   -799.709069   \n",
       "25%                                   -500.628656   \n",
       "50%                                   -499.681450   \n",
       "75%                                   -477.472413   \n",
       "max                                   -245.239184   \n",
       "\n",
       "       secondary_cleaner.state.floatbank4_b_air  \\\n",
       "count                              14148.000000   \n",
       "mean                                  15.487065   \n",
       "std                                    5.255655   \n",
       "min                                    0.000000   \n",
       "25%                                   11.894558   \n",
       "50%                                   14.975536   \n",
       "75%                                   20.059375   \n",
       "max                                   24.007913   \n",
       "\n",
       "       secondary_cleaner.state.floatbank4_b_level  \\\n",
       "count                                14148.000000   \n",
       "mean                                  -460.229416   \n",
       "std                                     58.843586   \n",
       "min                                   -799.889113   \n",
       "25%                                   -500.149000   \n",
       "50%                                   -499.388738   \n",
       "75%                                   -400.039008   \n",
       "max                                   -145.071088   \n",
       "\n",
       "       secondary_cleaner.state.floatbank5_a_air  \\\n",
       "count                              14148.000000   \n",
       "mean                                  16.775136   \n",
       "std                                    5.831906   \n",
       "min                                   -0.372054   \n",
       "25%                                   11.083980   \n",
       "50%                                   17.932223   \n",
       "75%                                   21.346550   \n",
       "max                                   43.709931   \n",
       "\n",
       "       secondary_cleaner.state.floatbank5_a_level  \\\n",
       "count                                14148.000000   \n",
       "mean                                  -483.956022   \n",
       "std                                     37.892788   \n",
       "min                                   -797.142475   \n",
       "25%                                   -500.363177   \n",
       "50%                                   -499.702452   \n",
       "75%                                   -487.712108   \n",
       "max                                   -275.073125   \n",
       "\n",
       "       secondary_cleaner.state.floatbank5_b_air  \\\n",
       "count                              14148.000000   \n",
       "mean                                  13.064590   \n",
       "std                                    5.765617   \n",
       "min                                    0.646208   \n",
       "25%                                    8.994405   \n",
       "50%                                   11.997547   \n",
       "75%                                   17.982903   \n",
       "max                                   27.926001   \n",
       "\n",
       "       secondary_cleaner.state.floatbank5_b_level  \\\n",
       "count                                14148.000000   \n",
       "mean                                  -483.966564   \n",
       "std                                     39.207913   \n",
       "min                                   -800.006180   \n",
       "25%                                   -500.105994   \n",
       "50%                                   -499.914556   \n",
       "75%                                   -453.186936   \n",
       "max                                   -157.396071   \n",
       "\n",
       "       secondary_cleaner.state.floatbank6_a_air  \\\n",
       "count                              14147.000000   \n",
       "mean                                  19.577539   \n",
       "std                                    5.764417   \n",
       "min                                    0.195324   \n",
       "25%                                   14.989304   \n",
       "50%                                   19.984175   \n",
       "75%                                   24.991623   \n",
       "max                                   32.188906   \n",
       "\n",
       "       secondary_cleaner.state.floatbank6_a_level  \n",
       "count                                14148.000000  \n",
       "mean                                  -506.798480  \n",
       "std                                     37.079249  \n",
       "min                                   -809.398668  \n",
       "25%                                   -500.745104  \n",
       "50%                                   -500.061431  \n",
       "75%                                   -499.536466  \n",
       "max                                   -104.427459  \n",
       "\n",
       "[8 rows x 86 columns]"
      ]
     },
     "metadata": {},
     "output_type": "display_data"
    }
   ],
   "source": [
    "# функция для изучения данных\n",
    "def exploration(data):\n",
    "    display(data.head())\n",
    "    data.info()\n",
    "    display(data.describe())\n",
    "print('Data_train')    \n",
    "exploration(data_train)"
   ]
  },
  {
   "cell_type": "code",
   "execution_count": 5,
   "metadata": {
    "scrolled": true
   },
   "outputs": [
    {
     "name": "stdout",
     "output_type": "stream",
     "text": [
      "Data_test\n"
     ]
    },
    {
     "data": {
      "text/html": [
       "<div>\n",
       "<style scoped>\n",
       "    .dataframe tbody tr th:only-of-type {\n",
       "        vertical-align: middle;\n",
       "    }\n",
       "\n",
       "    .dataframe tbody tr th {\n",
       "        vertical-align: top;\n",
       "    }\n",
       "\n",
       "    .dataframe thead th {\n",
       "        text-align: right;\n",
       "    }\n",
       "</style>\n",
       "<table border=\"1\" class=\"dataframe\">\n",
       "  <thead>\n",
       "    <tr style=\"text-align: right;\">\n",
       "      <th></th>\n",
       "      <th>date</th>\n",
       "      <th>primary_cleaner.input.sulfate</th>\n",
       "      <th>primary_cleaner.input.depressant</th>\n",
       "      <th>primary_cleaner.input.feed_size</th>\n",
       "      <th>primary_cleaner.input.xanthate</th>\n",
       "      <th>primary_cleaner.state.floatbank8_a_air</th>\n",
       "      <th>primary_cleaner.state.floatbank8_a_level</th>\n",
       "      <th>primary_cleaner.state.floatbank8_b_air</th>\n",
       "      <th>primary_cleaner.state.floatbank8_b_level</th>\n",
       "      <th>primary_cleaner.state.floatbank8_c_air</th>\n",
       "      <th>...</th>\n",
       "      <th>secondary_cleaner.state.floatbank4_a_air</th>\n",
       "      <th>secondary_cleaner.state.floatbank4_a_level</th>\n",
       "      <th>secondary_cleaner.state.floatbank4_b_air</th>\n",
       "      <th>secondary_cleaner.state.floatbank4_b_level</th>\n",
       "      <th>secondary_cleaner.state.floatbank5_a_air</th>\n",
       "      <th>secondary_cleaner.state.floatbank5_a_level</th>\n",
       "      <th>secondary_cleaner.state.floatbank5_b_air</th>\n",
       "      <th>secondary_cleaner.state.floatbank5_b_level</th>\n",
       "      <th>secondary_cleaner.state.floatbank6_a_air</th>\n",
       "      <th>secondary_cleaner.state.floatbank6_a_level</th>\n",
       "    </tr>\n",
       "  </thead>\n",
       "  <tbody>\n",
       "    <tr>\n",
       "      <th>0</th>\n",
       "      <td>2016-09-01 00:59:59</td>\n",
       "      <td>210.800909</td>\n",
       "      <td>14.993118</td>\n",
       "      <td>8.080000</td>\n",
       "      <td>1.005021</td>\n",
       "      <td>1398.981301</td>\n",
       "      <td>-500.225577</td>\n",
       "      <td>1399.144926</td>\n",
       "      <td>-499.919735</td>\n",
       "      <td>1400.102998</td>\n",
       "      <td>...</td>\n",
       "      <td>12.023554</td>\n",
       "      <td>-497.795834</td>\n",
       "      <td>8.016656</td>\n",
       "      <td>-501.289139</td>\n",
       "      <td>7.946562</td>\n",
       "      <td>-432.317850</td>\n",
       "      <td>4.872511</td>\n",
       "      <td>-500.037437</td>\n",
       "      <td>26.705889</td>\n",
       "      <td>-499.709414</td>\n",
       "    </tr>\n",
       "    <tr>\n",
       "      <th>1</th>\n",
       "      <td>2016-09-01 01:59:59</td>\n",
       "      <td>215.392455</td>\n",
       "      <td>14.987471</td>\n",
       "      <td>8.080000</td>\n",
       "      <td>0.990469</td>\n",
       "      <td>1398.777912</td>\n",
       "      <td>-500.057435</td>\n",
       "      <td>1398.055362</td>\n",
       "      <td>-499.778182</td>\n",
       "      <td>1396.151033</td>\n",
       "      <td>...</td>\n",
       "      <td>12.058140</td>\n",
       "      <td>-498.695773</td>\n",
       "      <td>8.130979</td>\n",
       "      <td>-499.634209</td>\n",
       "      <td>7.958270</td>\n",
       "      <td>-525.839648</td>\n",
       "      <td>4.878850</td>\n",
       "      <td>-500.162375</td>\n",
       "      <td>25.019940</td>\n",
       "      <td>-499.819438</td>\n",
       "    </tr>\n",
       "    <tr>\n",
       "      <th>2</th>\n",
       "      <td>2016-09-01 02:59:59</td>\n",
       "      <td>215.259946</td>\n",
       "      <td>12.884934</td>\n",
       "      <td>7.786667</td>\n",
       "      <td>0.996043</td>\n",
       "      <td>1398.493666</td>\n",
       "      <td>-500.868360</td>\n",
       "      <td>1398.860436</td>\n",
       "      <td>-499.764529</td>\n",
       "      <td>1398.075709</td>\n",
       "      <td>...</td>\n",
       "      <td>11.962366</td>\n",
       "      <td>-498.767484</td>\n",
       "      <td>8.096893</td>\n",
       "      <td>-500.827423</td>\n",
       "      <td>8.071056</td>\n",
       "      <td>-500.801673</td>\n",
       "      <td>4.905125</td>\n",
       "      <td>-499.828510</td>\n",
       "      <td>24.994862</td>\n",
       "      <td>-500.622559</td>\n",
       "    </tr>\n",
       "    <tr>\n",
       "      <th>3</th>\n",
       "      <td>2016-09-01 03:59:59</td>\n",
       "      <td>215.336236</td>\n",
       "      <td>12.006805</td>\n",
       "      <td>7.640000</td>\n",
       "      <td>0.863514</td>\n",
       "      <td>1399.618111</td>\n",
       "      <td>-498.863574</td>\n",
       "      <td>1397.440120</td>\n",
       "      <td>-499.211024</td>\n",
       "      <td>1400.129303</td>\n",
       "      <td>...</td>\n",
       "      <td>12.033091</td>\n",
       "      <td>-498.350935</td>\n",
       "      <td>8.074946</td>\n",
       "      <td>-499.474407</td>\n",
       "      <td>7.897085</td>\n",
       "      <td>-500.868509</td>\n",
       "      <td>4.931400</td>\n",
       "      <td>-499.963623</td>\n",
       "      <td>24.948919</td>\n",
       "      <td>-498.709987</td>\n",
       "    </tr>\n",
       "    <tr>\n",
       "      <th>4</th>\n",
       "      <td>2016-09-01 04:59:59</td>\n",
       "      <td>199.099327</td>\n",
       "      <td>10.682530</td>\n",
       "      <td>7.530000</td>\n",
       "      <td>0.805575</td>\n",
       "      <td>1401.268123</td>\n",
       "      <td>-500.808305</td>\n",
       "      <td>1398.128818</td>\n",
       "      <td>-499.504543</td>\n",
       "      <td>1402.172226</td>\n",
       "      <td>...</td>\n",
       "      <td>12.025367</td>\n",
       "      <td>-500.786497</td>\n",
       "      <td>8.054678</td>\n",
       "      <td>-500.397500</td>\n",
       "      <td>8.107890</td>\n",
       "      <td>-509.526725</td>\n",
       "      <td>4.957674</td>\n",
       "      <td>-500.360026</td>\n",
       "      <td>25.003331</td>\n",
       "      <td>-500.856333</td>\n",
       "    </tr>\n",
       "  </tbody>\n",
       "</table>\n",
       "<p>5 rows × 53 columns</p>\n",
       "</div>"
      ],
      "text/plain": [
       "                  date  primary_cleaner.input.sulfate  \\\n",
       "0  2016-09-01 00:59:59                     210.800909   \n",
       "1  2016-09-01 01:59:59                     215.392455   \n",
       "2  2016-09-01 02:59:59                     215.259946   \n",
       "3  2016-09-01 03:59:59                     215.336236   \n",
       "4  2016-09-01 04:59:59                     199.099327   \n",
       "\n",
       "   primary_cleaner.input.depressant  primary_cleaner.input.feed_size  \\\n",
       "0                         14.993118                         8.080000   \n",
       "1                         14.987471                         8.080000   \n",
       "2                         12.884934                         7.786667   \n",
       "3                         12.006805                         7.640000   \n",
       "4                         10.682530                         7.530000   \n",
       "\n",
       "   primary_cleaner.input.xanthate  primary_cleaner.state.floatbank8_a_air  \\\n",
       "0                        1.005021                             1398.981301   \n",
       "1                        0.990469                             1398.777912   \n",
       "2                        0.996043                             1398.493666   \n",
       "3                        0.863514                             1399.618111   \n",
       "4                        0.805575                             1401.268123   \n",
       "\n",
       "   primary_cleaner.state.floatbank8_a_level  \\\n",
       "0                               -500.225577   \n",
       "1                               -500.057435   \n",
       "2                               -500.868360   \n",
       "3                               -498.863574   \n",
       "4                               -500.808305   \n",
       "\n",
       "   primary_cleaner.state.floatbank8_b_air  \\\n",
       "0                             1399.144926   \n",
       "1                             1398.055362   \n",
       "2                             1398.860436   \n",
       "3                             1397.440120   \n",
       "4                             1398.128818   \n",
       "\n",
       "   primary_cleaner.state.floatbank8_b_level  \\\n",
       "0                               -499.919735   \n",
       "1                               -499.778182   \n",
       "2                               -499.764529   \n",
       "3                               -499.211024   \n",
       "4                               -499.504543   \n",
       "\n",
       "   primary_cleaner.state.floatbank8_c_air  ...  \\\n",
       "0                             1400.102998  ...   \n",
       "1                             1396.151033  ...   \n",
       "2                             1398.075709  ...   \n",
       "3                             1400.129303  ...   \n",
       "4                             1402.172226  ...   \n",
       "\n",
       "   secondary_cleaner.state.floatbank4_a_air  \\\n",
       "0                                 12.023554   \n",
       "1                                 12.058140   \n",
       "2                                 11.962366   \n",
       "3                                 12.033091   \n",
       "4                                 12.025367   \n",
       "\n",
       "   secondary_cleaner.state.floatbank4_a_level  \\\n",
       "0                                 -497.795834   \n",
       "1                                 -498.695773   \n",
       "2                                 -498.767484   \n",
       "3                                 -498.350935   \n",
       "4                                 -500.786497   \n",
       "\n",
       "   secondary_cleaner.state.floatbank4_b_air  \\\n",
       "0                                  8.016656   \n",
       "1                                  8.130979   \n",
       "2                                  8.096893   \n",
       "3                                  8.074946   \n",
       "4                                  8.054678   \n",
       "\n",
       "   secondary_cleaner.state.floatbank4_b_level  \\\n",
       "0                                 -501.289139   \n",
       "1                                 -499.634209   \n",
       "2                                 -500.827423   \n",
       "3                                 -499.474407   \n",
       "4                                 -500.397500   \n",
       "\n",
       "   secondary_cleaner.state.floatbank5_a_air  \\\n",
       "0                                  7.946562   \n",
       "1                                  7.958270   \n",
       "2                                  8.071056   \n",
       "3                                  7.897085   \n",
       "4                                  8.107890   \n",
       "\n",
       "   secondary_cleaner.state.floatbank5_a_level  \\\n",
       "0                                 -432.317850   \n",
       "1                                 -525.839648   \n",
       "2                                 -500.801673   \n",
       "3                                 -500.868509   \n",
       "4                                 -509.526725   \n",
       "\n",
       "   secondary_cleaner.state.floatbank5_b_air  \\\n",
       "0                                  4.872511   \n",
       "1                                  4.878850   \n",
       "2                                  4.905125   \n",
       "3                                  4.931400   \n",
       "4                                  4.957674   \n",
       "\n",
       "   secondary_cleaner.state.floatbank5_b_level  \\\n",
       "0                                 -500.037437   \n",
       "1                                 -500.162375   \n",
       "2                                 -499.828510   \n",
       "3                                 -499.963623   \n",
       "4                                 -500.360026   \n",
       "\n",
       "   secondary_cleaner.state.floatbank6_a_air  \\\n",
       "0                                 26.705889   \n",
       "1                                 25.019940   \n",
       "2                                 24.994862   \n",
       "3                                 24.948919   \n",
       "4                                 25.003331   \n",
       "\n",
       "   secondary_cleaner.state.floatbank6_a_level  \n",
       "0                                 -499.709414  \n",
       "1                                 -499.819438  \n",
       "2                                 -500.622559  \n",
       "3                                 -498.709987  \n",
       "4                                 -500.856333  \n",
       "\n",
       "[5 rows x 53 columns]"
      ]
     },
     "metadata": {},
     "output_type": "display_data"
    },
    {
     "name": "stdout",
     "output_type": "stream",
     "text": [
      "<class 'pandas.core.frame.DataFrame'>\n",
      "RangeIndex: 5290 entries, 0 to 5289\n",
      "Data columns (total 53 columns):\n",
      " #   Column                                      Non-Null Count  Dtype  \n",
      "---  ------                                      --------------  -----  \n",
      " 0   date                                        5290 non-null   object \n",
      " 1   primary_cleaner.input.sulfate               5286 non-null   float64\n",
      " 2   primary_cleaner.input.depressant            5285 non-null   float64\n",
      " 3   primary_cleaner.input.feed_size             5290 non-null   float64\n",
      " 4   primary_cleaner.input.xanthate              5286 non-null   float64\n",
      " 5   primary_cleaner.state.floatbank8_a_air      5290 non-null   float64\n",
      " 6   primary_cleaner.state.floatbank8_a_level    5290 non-null   float64\n",
      " 7   primary_cleaner.state.floatbank8_b_air      5290 non-null   float64\n",
      " 8   primary_cleaner.state.floatbank8_b_level    5290 non-null   float64\n",
      " 9   primary_cleaner.state.floatbank8_c_air      5290 non-null   float64\n",
      " 10  primary_cleaner.state.floatbank8_c_level    5290 non-null   float64\n",
      " 11  primary_cleaner.state.floatbank8_d_air      5290 non-null   float64\n",
      " 12  primary_cleaner.state.floatbank8_d_level    5290 non-null   float64\n",
      " 13  rougher.input.feed_ag                       5290 non-null   float64\n",
      " 14  rougher.input.feed_pb                       5290 non-null   float64\n",
      " 15  rougher.input.feed_rate                     5287 non-null   float64\n",
      " 16  rougher.input.feed_size                     5289 non-null   float64\n",
      " 17  rougher.input.feed_sol                      5269 non-null   float64\n",
      " 18  rougher.input.feed_au                       5290 non-null   float64\n",
      " 19  rougher.input.floatbank10_sulfate           5285 non-null   float64\n",
      " 20  rougher.input.floatbank10_xanthate          5290 non-null   float64\n",
      " 21  rougher.input.floatbank11_sulfate           5282 non-null   float64\n",
      " 22  rougher.input.floatbank11_xanthate          5265 non-null   float64\n",
      " 23  rougher.state.floatbank10_a_air             5290 non-null   float64\n",
      " 24  rougher.state.floatbank10_a_level           5290 non-null   float64\n",
      " 25  rougher.state.floatbank10_b_air             5290 non-null   float64\n",
      " 26  rougher.state.floatbank10_b_level           5290 non-null   float64\n",
      " 27  rougher.state.floatbank10_c_air             5290 non-null   float64\n",
      " 28  rougher.state.floatbank10_c_level           5290 non-null   float64\n",
      " 29  rougher.state.floatbank10_d_air             5290 non-null   float64\n",
      " 30  rougher.state.floatbank10_d_level           5290 non-null   float64\n",
      " 31  rougher.state.floatbank10_e_air             5290 non-null   float64\n",
      " 32  rougher.state.floatbank10_e_level           5290 non-null   float64\n",
      " 33  rougher.state.floatbank10_f_air             5290 non-null   float64\n",
      " 34  rougher.state.floatbank10_f_level           5290 non-null   float64\n",
      " 35  secondary_cleaner.state.floatbank2_a_air    5287 non-null   float64\n",
      " 36  secondary_cleaner.state.floatbank2_a_level  5290 non-null   float64\n",
      " 37  secondary_cleaner.state.floatbank2_b_air    5288 non-null   float64\n",
      " 38  secondary_cleaner.state.floatbank2_b_level  5290 non-null   float64\n",
      " 39  secondary_cleaner.state.floatbank3_a_air    5281 non-null   float64\n",
      " 40  secondary_cleaner.state.floatbank3_a_level  5290 non-null   float64\n",
      " 41  secondary_cleaner.state.floatbank3_b_air    5290 non-null   float64\n",
      " 42  secondary_cleaner.state.floatbank3_b_level  5290 non-null   float64\n",
      " 43  secondary_cleaner.state.floatbank4_a_air    5290 non-null   float64\n",
      " 44  secondary_cleaner.state.floatbank4_a_level  5290 non-null   float64\n",
      " 45  secondary_cleaner.state.floatbank4_b_air    5290 non-null   float64\n",
      " 46  secondary_cleaner.state.floatbank4_b_level  5290 non-null   float64\n",
      " 47  secondary_cleaner.state.floatbank5_a_air    5290 non-null   float64\n",
      " 48  secondary_cleaner.state.floatbank5_a_level  5290 non-null   float64\n",
      " 49  secondary_cleaner.state.floatbank5_b_air    5290 non-null   float64\n",
      " 50  secondary_cleaner.state.floatbank5_b_level  5290 non-null   float64\n",
      " 51  secondary_cleaner.state.floatbank6_a_air    5290 non-null   float64\n",
      " 52  secondary_cleaner.state.floatbank6_a_level  5290 non-null   float64\n",
      "dtypes: float64(52), object(1)\n",
      "memory usage: 2.1+ MB\n"
     ]
    },
    {
     "data": {
      "text/html": [
       "<div>\n",
       "<style scoped>\n",
       "    .dataframe tbody tr th:only-of-type {\n",
       "        vertical-align: middle;\n",
       "    }\n",
       "\n",
       "    .dataframe tbody tr th {\n",
       "        vertical-align: top;\n",
       "    }\n",
       "\n",
       "    .dataframe thead th {\n",
       "        text-align: right;\n",
       "    }\n",
       "</style>\n",
       "<table border=\"1\" class=\"dataframe\">\n",
       "  <thead>\n",
       "    <tr style=\"text-align: right;\">\n",
       "      <th></th>\n",
       "      <th>primary_cleaner.input.sulfate</th>\n",
       "      <th>primary_cleaner.input.depressant</th>\n",
       "      <th>primary_cleaner.input.feed_size</th>\n",
       "      <th>primary_cleaner.input.xanthate</th>\n",
       "      <th>primary_cleaner.state.floatbank8_a_air</th>\n",
       "      <th>primary_cleaner.state.floatbank8_a_level</th>\n",
       "      <th>primary_cleaner.state.floatbank8_b_air</th>\n",
       "      <th>primary_cleaner.state.floatbank8_b_level</th>\n",
       "      <th>primary_cleaner.state.floatbank8_c_air</th>\n",
       "      <th>primary_cleaner.state.floatbank8_c_level</th>\n",
       "      <th>...</th>\n",
       "      <th>secondary_cleaner.state.floatbank4_a_air</th>\n",
       "      <th>secondary_cleaner.state.floatbank4_a_level</th>\n",
       "      <th>secondary_cleaner.state.floatbank4_b_air</th>\n",
       "      <th>secondary_cleaner.state.floatbank4_b_level</th>\n",
       "      <th>secondary_cleaner.state.floatbank5_a_air</th>\n",
       "      <th>secondary_cleaner.state.floatbank5_a_level</th>\n",
       "      <th>secondary_cleaner.state.floatbank5_b_air</th>\n",
       "      <th>secondary_cleaner.state.floatbank5_b_level</th>\n",
       "      <th>secondary_cleaner.state.floatbank6_a_air</th>\n",
       "      <th>secondary_cleaner.state.floatbank6_a_level</th>\n",
       "    </tr>\n",
       "  </thead>\n",
       "  <tbody>\n",
       "    <tr>\n",
       "      <th>count</th>\n",
       "      <td>5286.000000</td>\n",
       "      <td>5285.000000</td>\n",
       "      <td>5290.000000</td>\n",
       "      <td>5286.000000</td>\n",
       "      <td>5.290000e+03</td>\n",
       "      <td>5290.000000</td>\n",
       "      <td>5.290000e+03</td>\n",
       "      <td>5290.000000</td>\n",
       "      <td>5.290000e+03</td>\n",
       "      <td>5290.000000</td>\n",
       "      <td>...</td>\n",
       "      <td>5.290000e+03</td>\n",
       "      <td>5290.000000</td>\n",
       "      <td>5.290000e+03</td>\n",
       "      <td>5290.000000</td>\n",
       "      <td>5290.000000</td>\n",
       "      <td>5290.000000</td>\n",
       "      <td>5290.000000</td>\n",
       "      <td>5290.000000</td>\n",
       "      <td>5290.000000</td>\n",
       "      <td>5290.000000</td>\n",
       "    </tr>\n",
       "    <tr>\n",
       "      <th>mean</th>\n",
       "      <td>174.839652</td>\n",
       "      <td>8.683596</td>\n",
       "      <td>7.266339</td>\n",
       "      <td>1.383803</td>\n",
       "      <td>1.539494e+03</td>\n",
       "      <td>-497.665883</td>\n",
       "      <td>1.545174e+03</td>\n",
       "      <td>-500.273098</td>\n",
       "      <td>1.527272e+03</td>\n",
       "      <td>-498.330680</td>\n",
       "      <td>...</td>\n",
       "      <td>1.632007e+01</td>\n",
       "      <td>-505.144570</td>\n",
       "      <td>1.373544e+01</td>\n",
       "      <td>-463.349858</td>\n",
       "      <td>12.804186</td>\n",
       "      <td>-501.329122</td>\n",
       "      <td>9.881145</td>\n",
       "      <td>-495.663398</td>\n",
       "      <td>17.304935</td>\n",
       "      <td>-501.793193</td>\n",
       "    </tr>\n",
       "    <tr>\n",
       "      <th>std</th>\n",
       "      <td>43.027080</td>\n",
       "      <td>3.072050</td>\n",
       "      <td>0.610219</td>\n",
       "      <td>0.643474</td>\n",
       "      <td>1.167979e+02</td>\n",
       "      <td>19.952431</td>\n",
       "      <td>1.222246e+02</td>\n",
       "      <td>32.968307</td>\n",
       "      <td>1.225380e+02</td>\n",
       "      <td>21.964876</td>\n",
       "      <td>...</td>\n",
       "      <td>3.493583e+00</td>\n",
       "      <td>31.427337</td>\n",
       "      <td>3.430484e+00</td>\n",
       "      <td>86.189107</td>\n",
       "      <td>3.026591</td>\n",
       "      <td>17.951495</td>\n",
       "      <td>2.868205</td>\n",
       "      <td>34.535007</td>\n",
       "      <td>4.536544</td>\n",
       "      <td>39.044215</td>\n",
       "    </tr>\n",
       "    <tr>\n",
       "      <th>min</th>\n",
       "      <td>2.566156</td>\n",
       "      <td>0.003839</td>\n",
       "      <td>5.650000</td>\n",
       "      <td>0.004984</td>\n",
       "      <td>5.445860e-32</td>\n",
       "      <td>-795.316337</td>\n",
       "      <td>6.647490e-32</td>\n",
       "      <td>-799.997015</td>\n",
       "      <td>4.033736e-32</td>\n",
       "      <td>-799.960571</td>\n",
       "      <td>...</td>\n",
       "      <td>1.079872e-16</td>\n",
       "      <td>-799.798523</td>\n",
       "      <td>2.489718e-17</td>\n",
       "      <td>-800.836914</td>\n",
       "      <td>0.069227</td>\n",
       "      <td>-797.323986</td>\n",
       "      <td>0.528083</td>\n",
       "      <td>-800.220337</td>\n",
       "      <td>-0.079426</td>\n",
       "      <td>-809.741464</td>\n",
       "    </tr>\n",
       "    <tr>\n",
       "      <th>25%</th>\n",
       "      <td>147.121401</td>\n",
       "      <td>6.489555</td>\n",
       "      <td>6.890000</td>\n",
       "      <td>0.907623</td>\n",
       "      <td>1.498936e+03</td>\n",
       "      <td>-500.357298</td>\n",
       "      <td>1.498971e+03</td>\n",
       "      <td>-500.703002</td>\n",
       "      <td>1.473230e+03</td>\n",
       "      <td>-501.018117</td>\n",
       "      <td>...</td>\n",
       "      <td>1.403618e+01</td>\n",
       "      <td>-500.868258</td>\n",
       "      <td>1.202862e+01</td>\n",
       "      <td>-500.323028</td>\n",
       "      <td>10.914838</td>\n",
       "      <td>-500.726841</td>\n",
       "      <td>8.036719</td>\n",
       "      <td>-500.194668</td>\n",
       "      <td>13.997317</td>\n",
       "      <td>-500.690984</td>\n",
       "    </tr>\n",
       "    <tr>\n",
       "      <th>50%</th>\n",
       "      <td>177.828489</td>\n",
       "      <td>8.052207</td>\n",
       "      <td>7.250000</td>\n",
       "      <td>1.197610</td>\n",
       "      <td>1.585129e+03</td>\n",
       "      <td>-499.969164</td>\n",
       "      <td>1.595622e+03</td>\n",
       "      <td>-500.028514</td>\n",
       "      <td>1.549595e+03</td>\n",
       "      <td>-500.017711</td>\n",
       "      <td>...</td>\n",
       "      <td>1.700847e+01</td>\n",
       "      <td>-500.115727</td>\n",
       "      <td>1.496486e+01</td>\n",
       "      <td>-499.576513</td>\n",
       "      <td>12.954182</td>\n",
       "      <td>-499.990332</td>\n",
       "      <td>10.004301</td>\n",
       "      <td>-499.990535</td>\n",
       "      <td>16.014935</td>\n",
       "      <td>-500.007126</td>\n",
       "    </tr>\n",
       "    <tr>\n",
       "      <th>75%</th>\n",
       "      <td>208.125438</td>\n",
       "      <td>10.027764</td>\n",
       "      <td>7.600000</td>\n",
       "      <td>1.797819</td>\n",
       "      <td>1.602077e+03</td>\n",
       "      <td>-499.568951</td>\n",
       "      <td>1.602324e+03</td>\n",
       "      <td>-499.293257</td>\n",
       "      <td>1.601144e+03</td>\n",
       "      <td>-498.994130</td>\n",
       "      <td>...</td>\n",
       "      <td>1.803862e+01</td>\n",
       "      <td>-499.404224</td>\n",
       "      <td>1.596213e+01</td>\n",
       "      <td>-400.933805</td>\n",
       "      <td>15.097528</td>\n",
       "      <td>-499.283191</td>\n",
       "      <td>11.997467</td>\n",
       "      <td>-499.719913</td>\n",
       "      <td>21.020013</td>\n",
       "      <td>-499.373018</td>\n",
       "    </tr>\n",
       "    <tr>\n",
       "      <th>max</th>\n",
       "      <td>265.983123</td>\n",
       "      <td>40.000000</td>\n",
       "      <td>15.500000</td>\n",
       "      <td>4.102454</td>\n",
       "      <td>2.103104e+03</td>\n",
       "      <td>-57.195404</td>\n",
       "      <td>1.813084e+03</td>\n",
       "      <td>-142.527229</td>\n",
       "      <td>1.715054e+03</td>\n",
       "      <td>-150.937035</td>\n",
       "      <td>...</td>\n",
       "      <td>3.005180e+01</td>\n",
       "      <td>-401.565212</td>\n",
       "      <td>3.126971e+01</td>\n",
       "      <td>-6.506986</td>\n",
       "      <td>25.258848</td>\n",
       "      <td>-244.483566</td>\n",
       "      <td>14.086866</td>\n",
       "      <td>-137.740004</td>\n",
       "      <td>26.705889</td>\n",
       "      <td>-123.307487</td>\n",
       "    </tr>\n",
       "  </tbody>\n",
       "</table>\n",
       "<p>8 rows × 52 columns</p>\n",
       "</div>"
      ],
      "text/plain": [
       "       primary_cleaner.input.sulfate  primary_cleaner.input.depressant  \\\n",
       "count                    5286.000000                       5285.000000   \n",
       "mean                      174.839652                          8.683596   \n",
       "std                        43.027080                          3.072050   \n",
       "min                         2.566156                          0.003839   \n",
       "25%                       147.121401                          6.489555   \n",
       "50%                       177.828489                          8.052207   \n",
       "75%                       208.125438                         10.027764   \n",
       "max                       265.983123                         40.000000   \n",
       "\n",
       "       primary_cleaner.input.feed_size  primary_cleaner.input.xanthate  \\\n",
       "count                      5290.000000                     5286.000000   \n",
       "mean                          7.266339                        1.383803   \n",
       "std                           0.610219                        0.643474   \n",
       "min                           5.650000                        0.004984   \n",
       "25%                           6.890000                        0.907623   \n",
       "50%                           7.250000                        1.197610   \n",
       "75%                           7.600000                        1.797819   \n",
       "max                          15.500000                        4.102454   \n",
       "\n",
       "       primary_cleaner.state.floatbank8_a_air  \\\n",
       "count                            5.290000e+03   \n",
       "mean                             1.539494e+03   \n",
       "std                              1.167979e+02   \n",
       "min                              5.445860e-32   \n",
       "25%                              1.498936e+03   \n",
       "50%                              1.585129e+03   \n",
       "75%                              1.602077e+03   \n",
       "max                              2.103104e+03   \n",
       "\n",
       "       primary_cleaner.state.floatbank8_a_level  \\\n",
       "count                               5290.000000   \n",
       "mean                                -497.665883   \n",
       "std                                   19.952431   \n",
       "min                                 -795.316337   \n",
       "25%                                 -500.357298   \n",
       "50%                                 -499.969164   \n",
       "75%                                 -499.568951   \n",
       "max                                  -57.195404   \n",
       "\n",
       "       primary_cleaner.state.floatbank8_b_air  \\\n",
       "count                            5.290000e+03   \n",
       "mean                             1.545174e+03   \n",
       "std                              1.222246e+02   \n",
       "min                              6.647490e-32   \n",
       "25%                              1.498971e+03   \n",
       "50%                              1.595622e+03   \n",
       "75%                              1.602324e+03   \n",
       "max                              1.813084e+03   \n",
       "\n",
       "       primary_cleaner.state.floatbank8_b_level  \\\n",
       "count                               5290.000000   \n",
       "mean                                -500.273098   \n",
       "std                                   32.968307   \n",
       "min                                 -799.997015   \n",
       "25%                                 -500.703002   \n",
       "50%                                 -500.028514   \n",
       "75%                                 -499.293257   \n",
       "max                                 -142.527229   \n",
       "\n",
       "       primary_cleaner.state.floatbank8_c_air  \\\n",
       "count                            5.290000e+03   \n",
       "mean                             1.527272e+03   \n",
       "std                              1.225380e+02   \n",
       "min                              4.033736e-32   \n",
       "25%                              1.473230e+03   \n",
       "50%                              1.549595e+03   \n",
       "75%                              1.601144e+03   \n",
       "max                              1.715054e+03   \n",
       "\n",
       "       primary_cleaner.state.floatbank8_c_level  ...  \\\n",
       "count                               5290.000000  ...   \n",
       "mean                                -498.330680  ...   \n",
       "std                                   21.964876  ...   \n",
       "min                                 -799.960571  ...   \n",
       "25%                                 -501.018117  ...   \n",
       "50%                                 -500.017711  ...   \n",
       "75%                                 -498.994130  ...   \n",
       "max                                 -150.937035  ...   \n",
       "\n",
       "       secondary_cleaner.state.floatbank4_a_air  \\\n",
       "count                              5.290000e+03   \n",
       "mean                               1.632007e+01   \n",
       "std                                3.493583e+00   \n",
       "min                                1.079872e-16   \n",
       "25%                                1.403618e+01   \n",
       "50%                                1.700847e+01   \n",
       "75%                                1.803862e+01   \n",
       "max                                3.005180e+01   \n",
       "\n",
       "       secondary_cleaner.state.floatbank4_a_level  \\\n",
       "count                                 5290.000000   \n",
       "mean                                  -505.144570   \n",
       "std                                     31.427337   \n",
       "min                                   -799.798523   \n",
       "25%                                   -500.868258   \n",
       "50%                                   -500.115727   \n",
       "75%                                   -499.404224   \n",
       "max                                   -401.565212   \n",
       "\n",
       "       secondary_cleaner.state.floatbank4_b_air  \\\n",
       "count                              5.290000e+03   \n",
       "mean                               1.373544e+01   \n",
       "std                                3.430484e+00   \n",
       "min                                2.489718e-17   \n",
       "25%                                1.202862e+01   \n",
       "50%                                1.496486e+01   \n",
       "75%                                1.596213e+01   \n",
       "max                                3.126971e+01   \n",
       "\n",
       "       secondary_cleaner.state.floatbank4_b_level  \\\n",
       "count                                 5290.000000   \n",
       "mean                                  -463.349858   \n",
       "std                                     86.189107   \n",
       "min                                   -800.836914   \n",
       "25%                                   -500.323028   \n",
       "50%                                   -499.576513   \n",
       "75%                                   -400.933805   \n",
       "max                                     -6.506986   \n",
       "\n",
       "       secondary_cleaner.state.floatbank5_a_air  \\\n",
       "count                               5290.000000   \n",
       "mean                                  12.804186   \n",
       "std                                    3.026591   \n",
       "min                                    0.069227   \n",
       "25%                                   10.914838   \n",
       "50%                                   12.954182   \n",
       "75%                                   15.097528   \n",
       "max                                   25.258848   \n",
       "\n",
       "       secondary_cleaner.state.floatbank5_a_level  \\\n",
       "count                                 5290.000000   \n",
       "mean                                  -501.329122   \n",
       "std                                     17.951495   \n",
       "min                                   -797.323986   \n",
       "25%                                   -500.726841   \n",
       "50%                                   -499.990332   \n",
       "75%                                   -499.283191   \n",
       "max                                   -244.483566   \n",
       "\n",
       "       secondary_cleaner.state.floatbank5_b_air  \\\n",
       "count                               5290.000000   \n",
       "mean                                   9.881145   \n",
       "std                                    2.868205   \n",
       "min                                    0.528083   \n",
       "25%                                    8.036719   \n",
       "50%                                   10.004301   \n",
       "75%                                   11.997467   \n",
       "max                                   14.086866   \n",
       "\n",
       "       secondary_cleaner.state.floatbank5_b_level  \\\n",
       "count                                 5290.000000   \n",
       "mean                                  -495.663398   \n",
       "std                                     34.535007   \n",
       "min                                   -800.220337   \n",
       "25%                                   -500.194668   \n",
       "50%                                   -499.990535   \n",
       "75%                                   -499.719913   \n",
       "max                                   -137.740004   \n",
       "\n",
       "       secondary_cleaner.state.floatbank6_a_air  \\\n",
       "count                               5290.000000   \n",
       "mean                                  17.304935   \n",
       "std                                    4.536544   \n",
       "min                                   -0.079426   \n",
       "25%                                   13.997317   \n",
       "50%                                   16.014935   \n",
       "75%                                   21.020013   \n",
       "max                                   26.705889   \n",
       "\n",
       "       secondary_cleaner.state.floatbank6_a_level  \n",
       "count                                 5290.000000  \n",
       "mean                                  -501.793193  \n",
       "std                                     39.044215  \n",
       "min                                   -809.741464  \n",
       "25%                                   -500.690984  \n",
       "50%                                   -500.007126  \n",
       "75%                                   -499.373018  \n",
       "max                                   -123.307487  \n",
       "\n",
       "[8 rows x 52 columns]"
      ]
     },
     "metadata": {},
     "output_type": "display_data"
    }
   ],
   "source": [
    "print('Data_test')    \n",
    "exploration(data_test)"
   ]
  },
  {
   "cell_type": "code",
   "execution_count": 6,
   "metadata": {},
   "outputs": [
    {
     "name": "stdout",
     "output_type": "stream",
     "text": [
      "Data_full\n"
     ]
    },
    {
     "data": {
      "text/html": [
       "<div>\n",
       "<style scoped>\n",
       "    .dataframe tbody tr th:only-of-type {\n",
       "        vertical-align: middle;\n",
       "    }\n",
       "\n",
       "    .dataframe tbody tr th {\n",
       "        vertical-align: top;\n",
       "    }\n",
       "\n",
       "    .dataframe thead th {\n",
       "        text-align: right;\n",
       "    }\n",
       "</style>\n",
       "<table border=\"1\" class=\"dataframe\">\n",
       "  <thead>\n",
       "    <tr style=\"text-align: right;\">\n",
       "      <th></th>\n",
       "      <th>date</th>\n",
       "      <th>final.output.concentrate_ag</th>\n",
       "      <th>final.output.concentrate_pb</th>\n",
       "      <th>final.output.concentrate_sol</th>\n",
       "      <th>final.output.concentrate_au</th>\n",
       "      <th>final.output.recovery</th>\n",
       "      <th>final.output.tail_ag</th>\n",
       "      <th>final.output.tail_pb</th>\n",
       "      <th>final.output.tail_sol</th>\n",
       "      <th>final.output.tail_au</th>\n",
       "      <th>...</th>\n",
       "      <th>secondary_cleaner.state.floatbank4_a_air</th>\n",
       "      <th>secondary_cleaner.state.floatbank4_a_level</th>\n",
       "      <th>secondary_cleaner.state.floatbank4_b_air</th>\n",
       "      <th>secondary_cleaner.state.floatbank4_b_level</th>\n",
       "      <th>secondary_cleaner.state.floatbank5_a_air</th>\n",
       "      <th>secondary_cleaner.state.floatbank5_a_level</th>\n",
       "      <th>secondary_cleaner.state.floatbank5_b_air</th>\n",
       "      <th>secondary_cleaner.state.floatbank5_b_level</th>\n",
       "      <th>secondary_cleaner.state.floatbank6_a_air</th>\n",
       "      <th>secondary_cleaner.state.floatbank6_a_level</th>\n",
       "    </tr>\n",
       "  </thead>\n",
       "  <tbody>\n",
       "    <tr>\n",
       "      <th>0</th>\n",
       "      <td>2016-01-15 00:00:00</td>\n",
       "      <td>6.055403</td>\n",
       "      <td>9.889648</td>\n",
       "      <td>5.507324</td>\n",
       "      <td>42.192020</td>\n",
       "      <td>70.541216</td>\n",
       "      <td>10.411962</td>\n",
       "      <td>0.895447</td>\n",
       "      <td>16.904297</td>\n",
       "      <td>2.143149</td>\n",
       "      <td>...</td>\n",
       "      <td>14.016835</td>\n",
       "      <td>-502.488007</td>\n",
       "      <td>12.099931</td>\n",
       "      <td>-504.715942</td>\n",
       "      <td>9.925633</td>\n",
       "      <td>-498.310211</td>\n",
       "      <td>8.079666</td>\n",
       "      <td>-500.470978</td>\n",
       "      <td>14.151341</td>\n",
       "      <td>-605.841980</td>\n",
       "    </tr>\n",
       "    <tr>\n",
       "      <th>1</th>\n",
       "      <td>2016-01-15 01:00:00</td>\n",
       "      <td>6.029369</td>\n",
       "      <td>9.968944</td>\n",
       "      <td>5.257781</td>\n",
       "      <td>42.701629</td>\n",
       "      <td>69.266198</td>\n",
       "      <td>10.462676</td>\n",
       "      <td>0.927452</td>\n",
       "      <td>16.634514</td>\n",
       "      <td>2.224930</td>\n",
       "      <td>...</td>\n",
       "      <td>13.992281</td>\n",
       "      <td>-505.503262</td>\n",
       "      <td>11.950531</td>\n",
       "      <td>-501.331529</td>\n",
       "      <td>10.039245</td>\n",
       "      <td>-500.169983</td>\n",
       "      <td>7.984757</td>\n",
       "      <td>-500.582168</td>\n",
       "      <td>13.998353</td>\n",
       "      <td>-599.787184</td>\n",
       "    </tr>\n",
       "    <tr>\n",
       "      <th>2</th>\n",
       "      <td>2016-01-15 02:00:00</td>\n",
       "      <td>6.055926</td>\n",
       "      <td>10.213995</td>\n",
       "      <td>5.383759</td>\n",
       "      <td>42.657501</td>\n",
       "      <td>68.116445</td>\n",
       "      <td>10.507046</td>\n",
       "      <td>0.953716</td>\n",
       "      <td>16.208849</td>\n",
       "      <td>2.257889</td>\n",
       "      <td>...</td>\n",
       "      <td>14.015015</td>\n",
       "      <td>-502.520901</td>\n",
       "      <td>11.912783</td>\n",
       "      <td>-501.133383</td>\n",
       "      <td>10.070913</td>\n",
       "      <td>-500.129135</td>\n",
       "      <td>8.013877</td>\n",
       "      <td>-500.517572</td>\n",
       "      <td>14.028663</td>\n",
       "      <td>-601.427363</td>\n",
       "    </tr>\n",
       "    <tr>\n",
       "      <th>3</th>\n",
       "      <td>2016-01-15 03:00:00</td>\n",
       "      <td>6.047977</td>\n",
       "      <td>9.977019</td>\n",
       "      <td>4.858634</td>\n",
       "      <td>42.689819</td>\n",
       "      <td>68.347543</td>\n",
       "      <td>10.422762</td>\n",
       "      <td>0.883763</td>\n",
       "      <td>16.532835</td>\n",
       "      <td>2.146849</td>\n",
       "      <td>...</td>\n",
       "      <td>14.036510</td>\n",
       "      <td>-500.857308</td>\n",
       "      <td>11.999550</td>\n",
       "      <td>-501.193686</td>\n",
       "      <td>9.970366</td>\n",
       "      <td>-499.201640</td>\n",
       "      <td>7.977324</td>\n",
       "      <td>-500.255908</td>\n",
       "      <td>14.005551</td>\n",
       "      <td>-599.996129</td>\n",
       "    </tr>\n",
       "    <tr>\n",
       "      <th>4</th>\n",
       "      <td>2016-01-15 04:00:00</td>\n",
       "      <td>6.148599</td>\n",
       "      <td>10.142511</td>\n",
       "      <td>4.939416</td>\n",
       "      <td>42.774141</td>\n",
       "      <td>66.927016</td>\n",
       "      <td>10.360302</td>\n",
       "      <td>0.792826</td>\n",
       "      <td>16.525686</td>\n",
       "      <td>2.055292</td>\n",
       "      <td>...</td>\n",
       "      <td>14.027298</td>\n",
       "      <td>-499.838632</td>\n",
       "      <td>11.953070</td>\n",
       "      <td>-501.053894</td>\n",
       "      <td>9.925709</td>\n",
       "      <td>-501.686727</td>\n",
       "      <td>7.894242</td>\n",
       "      <td>-500.356035</td>\n",
       "      <td>13.996647</td>\n",
       "      <td>-601.496691</td>\n",
       "    </tr>\n",
       "  </tbody>\n",
       "</table>\n",
       "<p>5 rows × 87 columns</p>\n",
       "</div>"
      ],
      "text/plain": [
       "                  date  final.output.concentrate_ag  \\\n",
       "0  2016-01-15 00:00:00                     6.055403   \n",
       "1  2016-01-15 01:00:00                     6.029369   \n",
       "2  2016-01-15 02:00:00                     6.055926   \n",
       "3  2016-01-15 03:00:00                     6.047977   \n",
       "4  2016-01-15 04:00:00                     6.148599   \n",
       "\n",
       "   final.output.concentrate_pb  final.output.concentrate_sol  \\\n",
       "0                     9.889648                      5.507324   \n",
       "1                     9.968944                      5.257781   \n",
       "2                    10.213995                      5.383759   \n",
       "3                     9.977019                      4.858634   \n",
       "4                    10.142511                      4.939416   \n",
       "\n",
       "   final.output.concentrate_au  final.output.recovery  final.output.tail_ag  \\\n",
       "0                    42.192020              70.541216             10.411962   \n",
       "1                    42.701629              69.266198             10.462676   \n",
       "2                    42.657501              68.116445             10.507046   \n",
       "3                    42.689819              68.347543             10.422762   \n",
       "4                    42.774141              66.927016             10.360302   \n",
       "\n",
       "   final.output.tail_pb  final.output.tail_sol  final.output.tail_au  ...  \\\n",
       "0              0.895447              16.904297              2.143149  ...   \n",
       "1              0.927452              16.634514              2.224930  ...   \n",
       "2              0.953716              16.208849              2.257889  ...   \n",
       "3              0.883763              16.532835              2.146849  ...   \n",
       "4              0.792826              16.525686              2.055292  ...   \n",
       "\n",
       "   secondary_cleaner.state.floatbank4_a_air  \\\n",
       "0                                 14.016835   \n",
       "1                                 13.992281   \n",
       "2                                 14.015015   \n",
       "3                                 14.036510   \n",
       "4                                 14.027298   \n",
       "\n",
       "   secondary_cleaner.state.floatbank4_a_level  \\\n",
       "0                                 -502.488007   \n",
       "1                                 -505.503262   \n",
       "2                                 -502.520901   \n",
       "3                                 -500.857308   \n",
       "4                                 -499.838632   \n",
       "\n",
       "   secondary_cleaner.state.floatbank4_b_air  \\\n",
       "0                                 12.099931   \n",
       "1                                 11.950531   \n",
       "2                                 11.912783   \n",
       "3                                 11.999550   \n",
       "4                                 11.953070   \n",
       "\n",
       "   secondary_cleaner.state.floatbank4_b_level  \\\n",
       "0                                 -504.715942   \n",
       "1                                 -501.331529   \n",
       "2                                 -501.133383   \n",
       "3                                 -501.193686   \n",
       "4                                 -501.053894   \n",
       "\n",
       "   secondary_cleaner.state.floatbank5_a_air  \\\n",
       "0                                  9.925633   \n",
       "1                                 10.039245   \n",
       "2                                 10.070913   \n",
       "3                                  9.970366   \n",
       "4                                  9.925709   \n",
       "\n",
       "   secondary_cleaner.state.floatbank5_a_level  \\\n",
       "0                                 -498.310211   \n",
       "1                                 -500.169983   \n",
       "2                                 -500.129135   \n",
       "3                                 -499.201640   \n",
       "4                                 -501.686727   \n",
       "\n",
       "   secondary_cleaner.state.floatbank5_b_air  \\\n",
       "0                                  8.079666   \n",
       "1                                  7.984757   \n",
       "2                                  8.013877   \n",
       "3                                  7.977324   \n",
       "4                                  7.894242   \n",
       "\n",
       "   secondary_cleaner.state.floatbank5_b_level  \\\n",
       "0                                 -500.470978   \n",
       "1                                 -500.582168   \n",
       "2                                 -500.517572   \n",
       "3                                 -500.255908   \n",
       "4                                 -500.356035   \n",
       "\n",
       "   secondary_cleaner.state.floatbank6_a_air  \\\n",
       "0                                 14.151341   \n",
       "1                                 13.998353   \n",
       "2                                 14.028663   \n",
       "3                                 14.005551   \n",
       "4                                 13.996647   \n",
       "\n",
       "   secondary_cleaner.state.floatbank6_a_level  \n",
       "0                                 -605.841980  \n",
       "1                                 -599.787184  \n",
       "2                                 -601.427363  \n",
       "3                                 -599.996129  \n",
       "4                                 -601.496691  \n",
       "\n",
       "[5 rows x 87 columns]"
      ]
     },
     "metadata": {},
     "output_type": "display_data"
    },
    {
     "name": "stdout",
     "output_type": "stream",
     "text": [
      "<class 'pandas.core.frame.DataFrame'>\n",
      "RangeIndex: 19439 entries, 0 to 19438\n",
      "Data columns (total 87 columns):\n",
      " #   Column                                              Non-Null Count  Dtype  \n",
      "---  ------                                              --------------  -----  \n",
      " 0   date                                                19439 non-null  object \n",
      " 1   final.output.concentrate_ag                         19438 non-null  float64\n",
      " 2   final.output.concentrate_pb                         19438 non-null  float64\n",
      " 3   final.output.concentrate_sol                        19228 non-null  float64\n",
      " 4   final.output.concentrate_au                         19439 non-null  float64\n",
      " 5   final.output.recovery                               19439 non-null  float64\n",
      " 6   final.output.tail_ag                                19438 non-null  float64\n",
      " 7   final.output.tail_pb                                19338 non-null  float64\n",
      " 8   final.output.tail_sol                               19433 non-null  float64\n",
      " 9   final.output.tail_au                                19439 non-null  float64\n",
      " 10  primary_cleaner.input.sulfate                       19415 non-null  float64\n",
      " 11  primary_cleaner.input.depressant                    19402 non-null  float64\n",
      " 12  primary_cleaner.input.feed_size                     19439 non-null  float64\n",
      " 13  primary_cleaner.input.xanthate                      19335 non-null  float64\n",
      " 14  primary_cleaner.output.concentrate_ag               19439 non-null  float64\n",
      " 15  primary_cleaner.output.concentrate_pb               19323 non-null  float64\n",
      " 16  primary_cleaner.output.concentrate_sol              19069 non-null  float64\n",
      " 17  primary_cleaner.output.concentrate_au               19439 non-null  float64\n",
      " 18  primary_cleaner.output.tail_ag                      19435 non-null  float64\n",
      " 19  primary_cleaner.output.tail_pb                      19418 non-null  float64\n",
      " 20  primary_cleaner.output.tail_sol                     19377 non-null  float64\n",
      " 21  primary_cleaner.output.tail_au                      19439 non-null  float64\n",
      " 22  primary_cleaner.state.floatbank8_a_air              19435 non-null  float64\n",
      " 23  primary_cleaner.state.floatbank8_a_level            19438 non-null  float64\n",
      " 24  primary_cleaner.state.floatbank8_b_air              19435 non-null  float64\n",
      " 25  primary_cleaner.state.floatbank8_b_level            19438 non-null  float64\n",
      " 26  primary_cleaner.state.floatbank8_c_air              19437 non-null  float64\n",
      " 27  primary_cleaner.state.floatbank8_c_level            19438 non-null  float64\n",
      " 28  primary_cleaner.state.floatbank8_d_air              19436 non-null  float64\n",
      " 29  primary_cleaner.state.floatbank8_d_level            19438 non-null  float64\n",
      " 30  rougher.calculation.sulfate_to_au_concentrate       19437 non-null  float64\n",
      " 31  rougher.calculation.floatbank10_sulfate_to_au_feed  19437 non-null  float64\n",
      " 32  rougher.calculation.floatbank11_sulfate_to_au_feed  19437 non-null  float64\n",
      " 33  rougher.calculation.au_pb_ratio                     19439 non-null  float64\n",
      " 34  rougher.input.feed_ag                               19439 non-null  float64\n",
      " 35  rougher.input.feed_pb                               19339 non-null  float64\n",
      " 36  rougher.input.feed_rate                             19428 non-null  float64\n",
      " 37  rougher.input.feed_size                             19294 non-null  float64\n",
      " 38  rougher.input.feed_sol                              19340 non-null  float64\n",
      " 39  rougher.input.feed_au                               19439 non-null  float64\n",
      " 40  rougher.input.floatbank10_sulfate                   19405 non-null  float64\n",
      " 41  rougher.input.floatbank10_xanthate                  19431 non-null  float64\n",
      " 42  rougher.input.floatbank11_sulfate                   19395 non-null  float64\n",
      " 43  rougher.input.floatbank11_xanthate                  18986 non-null  float64\n",
      " 44  rougher.output.concentrate_ag                       19439 non-null  float64\n",
      " 45  rougher.output.concentrate_pb                       19439 non-null  float64\n",
      " 46  rougher.output.concentrate_sol                      19416 non-null  float64\n",
      " 47  rougher.output.concentrate_au                       19439 non-null  float64\n",
      " 48  rougher.output.recovery                             19439 non-null  float64\n",
      " 49  rougher.output.tail_ag                              19438 non-null  float64\n",
      " 50  rougher.output.tail_pb                              19439 non-null  float64\n",
      " 51  rougher.output.tail_sol                             19439 non-null  float64\n",
      " 52  rougher.output.tail_au                              19439 non-null  float64\n",
      " 53  rougher.state.floatbank10_a_air                     19438 non-null  float64\n",
      " 54  rougher.state.floatbank10_a_level                   19438 non-null  float64\n",
      " 55  rougher.state.floatbank10_b_air                     19438 non-null  float64\n",
      " 56  rougher.state.floatbank10_b_level                   19438 non-null  float64\n",
      " 57  rougher.state.floatbank10_c_air                     19438 non-null  float64\n",
      " 58  rougher.state.floatbank10_c_level                   19438 non-null  float64\n",
      " 59  rougher.state.floatbank10_d_air                     19439 non-null  float64\n",
      " 60  rougher.state.floatbank10_d_level                   19439 non-null  float64\n",
      " 61  rougher.state.floatbank10_e_air                     19003 non-null  float64\n",
      " 62  rougher.state.floatbank10_e_level                   19439 non-null  float64\n",
      " 63  rougher.state.floatbank10_f_air                     19439 non-null  float64\n",
      " 64  rougher.state.floatbank10_f_level                   19439 non-null  float64\n",
      " 65  secondary_cleaner.output.tail_ag                    19437 non-null  float64\n",
      " 66  secondary_cleaner.output.tail_pb                    19427 non-null  float64\n",
      " 67  secondary_cleaner.output.tail_sol                   17691 non-null  float64\n",
      " 68  secondary_cleaner.output.tail_au                    19439 non-null  float64\n",
      " 69  secondary_cleaner.state.floatbank2_a_air            19219 non-null  float64\n",
      " 70  secondary_cleaner.state.floatbank2_a_level          19438 non-null  float64\n",
      " 71  secondary_cleaner.state.floatbank2_b_air            19416 non-null  float64\n",
      " 72  secondary_cleaner.state.floatbank2_b_level          19438 non-null  float64\n",
      " 73  secondary_cleaner.state.floatbank3_a_air            19426 non-null  float64\n",
      " 74  secondary_cleaner.state.floatbank3_a_level          19438 non-null  float64\n",
      " 75  secondary_cleaner.state.floatbank3_b_air            19438 non-null  float64\n",
      " 76  secondary_cleaner.state.floatbank3_b_level          19438 non-null  float64\n",
      " 77  secondary_cleaner.state.floatbank4_a_air            19433 non-null  float64\n",
      " 78  secondary_cleaner.state.floatbank4_a_level          19438 non-null  float64\n",
      " 79  secondary_cleaner.state.floatbank4_b_air            19438 non-null  float64\n",
      " 80  secondary_cleaner.state.floatbank4_b_level          19438 non-null  float64\n",
      " 81  secondary_cleaner.state.floatbank5_a_air            19438 non-null  float64\n",
      " 82  secondary_cleaner.state.floatbank5_a_level          19438 non-null  float64\n",
      " 83  secondary_cleaner.state.floatbank5_b_air            19438 non-null  float64\n",
      " 84  secondary_cleaner.state.floatbank5_b_level          19438 non-null  float64\n",
      " 85  secondary_cleaner.state.floatbank6_a_air            19437 non-null  float64\n",
      " 86  secondary_cleaner.state.floatbank6_a_level          19438 non-null  float64\n",
      "dtypes: float64(86), object(1)\n",
      "memory usage: 12.9+ MB\n"
     ]
    },
    {
     "data": {
      "text/html": [
       "<div>\n",
       "<style scoped>\n",
       "    .dataframe tbody tr th:only-of-type {\n",
       "        vertical-align: middle;\n",
       "    }\n",
       "\n",
       "    .dataframe tbody tr th {\n",
       "        vertical-align: top;\n",
       "    }\n",
       "\n",
       "    .dataframe thead th {\n",
       "        text-align: right;\n",
       "    }\n",
       "</style>\n",
       "<table border=\"1\" class=\"dataframe\">\n",
       "  <thead>\n",
       "    <tr style=\"text-align: right;\">\n",
       "      <th></th>\n",
       "      <th>final.output.concentrate_ag</th>\n",
       "      <th>final.output.concentrate_pb</th>\n",
       "      <th>final.output.concentrate_sol</th>\n",
       "      <th>final.output.concentrate_au</th>\n",
       "      <th>final.output.recovery</th>\n",
       "      <th>final.output.tail_ag</th>\n",
       "      <th>final.output.tail_pb</th>\n",
       "      <th>final.output.tail_sol</th>\n",
       "      <th>final.output.tail_au</th>\n",
       "      <th>primary_cleaner.input.sulfate</th>\n",
       "      <th>...</th>\n",
       "      <th>secondary_cleaner.state.floatbank4_a_air</th>\n",
       "      <th>secondary_cleaner.state.floatbank4_a_level</th>\n",
       "      <th>secondary_cleaner.state.floatbank4_b_air</th>\n",
       "      <th>secondary_cleaner.state.floatbank4_b_level</th>\n",
       "      <th>secondary_cleaner.state.floatbank5_a_air</th>\n",
       "      <th>secondary_cleaner.state.floatbank5_a_level</th>\n",
       "      <th>secondary_cleaner.state.floatbank5_b_air</th>\n",
       "      <th>secondary_cleaner.state.floatbank5_b_level</th>\n",
       "      <th>secondary_cleaner.state.floatbank6_a_air</th>\n",
       "      <th>secondary_cleaner.state.floatbank6_a_level</th>\n",
       "    </tr>\n",
       "  </thead>\n",
       "  <tbody>\n",
       "    <tr>\n",
       "      <th>count</th>\n",
       "      <td>19438.000000</td>\n",
       "      <td>19438.000000</td>\n",
       "      <td>19228.000000</td>\n",
       "      <td>19439.000000</td>\n",
       "      <td>19439.000000</td>\n",
       "      <td>19438.000000</td>\n",
       "      <td>19338.000000</td>\n",
       "      <td>19433.000000</td>\n",
       "      <td>19439.000000</td>\n",
       "      <td>19415.000000</td>\n",
       "      <td>...</td>\n",
       "      <td>19433.000000</td>\n",
       "      <td>19438.000000</td>\n",
       "      <td>19438.000000</td>\n",
       "      <td>19438.000000</td>\n",
       "      <td>19438.000000</td>\n",
       "      <td>19438.000000</td>\n",
       "      <td>19438.000000</td>\n",
       "      <td>19438.000000</td>\n",
       "      <td>19437.000000</td>\n",
       "      <td>19438.000000</td>\n",
       "    </tr>\n",
       "    <tr>\n",
       "      <th>mean</th>\n",
       "      <td>5.168470</td>\n",
       "      <td>9.978895</td>\n",
       "      <td>9.501224</td>\n",
       "      <td>44.076513</td>\n",
       "      <td>67.050208</td>\n",
       "      <td>9.688589</td>\n",
       "      <td>2.705795</td>\n",
       "      <td>10.583728</td>\n",
       "      <td>3.042467</td>\n",
       "      <td>144.624774</td>\n",
       "      <td>...</td>\n",
       "      <td>18.987674</td>\n",
       "      <td>-485.894516</td>\n",
       "      <td>15.010366</td>\n",
       "      <td>-461.078636</td>\n",
       "      <td>15.694452</td>\n",
       "      <td>-488.684065</td>\n",
       "      <td>12.198224</td>\n",
       "      <td>-487.149827</td>\n",
       "      <td>18.959024</td>\n",
       "      <td>-505.436305</td>\n",
       "    </tr>\n",
       "    <tr>\n",
       "      <th>std</th>\n",
       "      <td>1.372348</td>\n",
       "      <td>1.669240</td>\n",
       "      <td>2.787537</td>\n",
       "      <td>5.129784</td>\n",
       "      <td>10.125840</td>\n",
       "      <td>2.328642</td>\n",
       "      <td>0.949077</td>\n",
       "      <td>2.868782</td>\n",
       "      <td>0.922808</td>\n",
       "      <td>44.464071</td>\n",
       "      <td>...</td>\n",
       "      <td>5.411058</td>\n",
       "      <td>47.758570</td>\n",
       "      <td>4.890228</td>\n",
       "      <td>67.405524</td>\n",
       "      <td>5.510974</td>\n",
       "      <td>34.533396</td>\n",
       "      <td>5.333024</td>\n",
       "      <td>38.347312</td>\n",
       "      <td>5.550498</td>\n",
       "      <td>37.689057</td>\n",
       "    </tr>\n",
       "    <tr>\n",
       "      <th>min</th>\n",
       "      <td>0.000000</td>\n",
       "      <td>0.000000</td>\n",
       "      <td>0.000000</td>\n",
       "      <td>0.000000</td>\n",
       "      <td>0.000000</td>\n",
       "      <td>0.000000</td>\n",
       "      <td>0.000000</td>\n",
       "      <td>0.000000</td>\n",
       "      <td>0.000000</td>\n",
       "      <td>0.003112</td>\n",
       "      <td>...</td>\n",
       "      <td>0.000000</td>\n",
       "      <td>-799.798523</td>\n",
       "      <td>0.000000</td>\n",
       "      <td>-800.836914</td>\n",
       "      <td>-0.372054</td>\n",
       "      <td>-797.323986</td>\n",
       "      <td>0.528083</td>\n",
       "      <td>-800.220337</td>\n",
       "      <td>-0.079426</td>\n",
       "      <td>-809.741464</td>\n",
       "    </tr>\n",
       "    <tr>\n",
       "      <th>25%</th>\n",
       "      <td>4.251240</td>\n",
       "      <td>9.137262</td>\n",
       "      <td>7.722820</td>\n",
       "      <td>43.402215</td>\n",
       "      <td>63.299712</td>\n",
       "      <td>8.062878</td>\n",
       "      <td>2.040119</td>\n",
       "      <td>8.938947</td>\n",
       "      <td>2.461138</td>\n",
       "      <td>114.107029</td>\n",
       "      <td>...</td>\n",
       "      <td>14.975734</td>\n",
       "      <td>-500.704892</td>\n",
       "      <td>11.940294</td>\n",
       "      <td>-500.187742</td>\n",
       "      <td>10.988606</td>\n",
       "      <td>-500.458467</td>\n",
       "      <td>8.971105</td>\n",
       "      <td>-500.129462</td>\n",
       "      <td>14.983037</td>\n",
       "      <td>-500.728067</td>\n",
       "    </tr>\n",
       "    <tr>\n",
       "      <th>50%</th>\n",
       "      <td>5.066094</td>\n",
       "      <td>10.102433</td>\n",
       "      <td>9.218961</td>\n",
       "      <td>45.011244</td>\n",
       "      <td>68.172738</td>\n",
       "      <td>9.743623</td>\n",
       "      <td>2.748730</td>\n",
       "      <td>10.622456</td>\n",
       "      <td>2.984909</td>\n",
       "      <td>143.232103</td>\n",
       "      <td>...</td>\n",
       "      <td>18.017481</td>\n",
       "      <td>-499.837793</td>\n",
       "      <td>14.971014</td>\n",
       "      <td>-499.459786</td>\n",
       "      <td>15.000036</td>\n",
       "      <td>-499.802605</td>\n",
       "      <td>11.019433</td>\n",
       "      <td>-499.935317</td>\n",
       "      <td>19.960541</td>\n",
       "      <td>-500.048400</td>\n",
       "    </tr>\n",
       "    <tr>\n",
       "      <th>75%</th>\n",
       "      <td>5.895527</td>\n",
       "      <td>11.035769</td>\n",
       "      <td>10.947813</td>\n",
       "      <td>46.275313</td>\n",
       "      <td>72.686642</td>\n",
       "      <td>11.134294</td>\n",
       "      <td>3.333216</td>\n",
       "      <td>12.104271</td>\n",
       "      <td>3.571351</td>\n",
       "      <td>175.075656</td>\n",
       "      <td>...</td>\n",
       "      <td>23.012470</td>\n",
       "      <td>-498.249730</td>\n",
       "      <td>19.034162</td>\n",
       "      <td>-400.118106</td>\n",
       "      <td>18.026190</td>\n",
       "      <td>-498.384187</td>\n",
       "      <td>14.019088</td>\n",
       "      <td>-499.436708</td>\n",
       "      <td>24.003170</td>\n",
       "      <td>-499.495378</td>\n",
       "    </tr>\n",
       "    <tr>\n",
       "      <th>max</th>\n",
       "      <td>16.001945</td>\n",
       "      <td>17.031899</td>\n",
       "      <td>19.615720</td>\n",
       "      <td>52.756638</td>\n",
       "      <td>100.000000</td>\n",
       "      <td>19.552149</td>\n",
       "      <td>5.804178</td>\n",
       "      <td>22.317730</td>\n",
       "      <td>8.245022</td>\n",
       "      <td>265.983123</td>\n",
       "      <td>...</td>\n",
       "      <td>30.115735</td>\n",
       "      <td>-245.239184</td>\n",
       "      <td>31.269706</td>\n",
       "      <td>-6.506986</td>\n",
       "      <td>43.709931</td>\n",
       "      <td>-244.483566</td>\n",
       "      <td>27.926001</td>\n",
       "      <td>-137.740004</td>\n",
       "      <td>32.188906</td>\n",
       "      <td>-104.427459</td>\n",
       "    </tr>\n",
       "  </tbody>\n",
       "</table>\n",
       "<p>8 rows × 86 columns</p>\n",
       "</div>"
      ],
      "text/plain": [
       "       final.output.concentrate_ag  final.output.concentrate_pb  \\\n",
       "count                 19438.000000                 19438.000000   \n",
       "mean                      5.168470                     9.978895   \n",
       "std                       1.372348                     1.669240   \n",
       "min                       0.000000                     0.000000   \n",
       "25%                       4.251240                     9.137262   \n",
       "50%                       5.066094                    10.102433   \n",
       "75%                       5.895527                    11.035769   \n",
       "max                      16.001945                    17.031899   \n",
       "\n",
       "       final.output.concentrate_sol  final.output.concentrate_au  \\\n",
       "count                  19228.000000                 19439.000000   \n",
       "mean                       9.501224                    44.076513   \n",
       "std                        2.787537                     5.129784   \n",
       "min                        0.000000                     0.000000   \n",
       "25%                        7.722820                    43.402215   \n",
       "50%                        9.218961                    45.011244   \n",
       "75%                       10.947813                    46.275313   \n",
       "max                       19.615720                    52.756638   \n",
       "\n",
       "       final.output.recovery  final.output.tail_ag  final.output.tail_pb  \\\n",
       "count           19439.000000          19438.000000          19338.000000   \n",
       "mean               67.050208              9.688589              2.705795   \n",
       "std                10.125840              2.328642              0.949077   \n",
       "min                 0.000000              0.000000              0.000000   \n",
       "25%                63.299712              8.062878              2.040119   \n",
       "50%                68.172738              9.743623              2.748730   \n",
       "75%                72.686642             11.134294              3.333216   \n",
       "max               100.000000             19.552149              5.804178   \n",
       "\n",
       "       final.output.tail_sol  final.output.tail_au  \\\n",
       "count           19433.000000          19439.000000   \n",
       "mean               10.583728              3.042467   \n",
       "std                 2.868782              0.922808   \n",
       "min                 0.000000              0.000000   \n",
       "25%                 8.938947              2.461138   \n",
       "50%                10.622456              2.984909   \n",
       "75%                12.104271              3.571351   \n",
       "max                22.317730              8.245022   \n",
       "\n",
       "       primary_cleaner.input.sulfate  ...  \\\n",
       "count                   19415.000000  ...   \n",
       "mean                      144.624774  ...   \n",
       "std                        44.464071  ...   \n",
       "min                         0.003112  ...   \n",
       "25%                       114.107029  ...   \n",
       "50%                       143.232103  ...   \n",
       "75%                       175.075656  ...   \n",
       "max                       265.983123  ...   \n",
       "\n",
       "       secondary_cleaner.state.floatbank4_a_air  \\\n",
       "count                              19433.000000   \n",
       "mean                                  18.987674   \n",
       "std                                    5.411058   \n",
       "min                                    0.000000   \n",
       "25%                                   14.975734   \n",
       "50%                                   18.017481   \n",
       "75%                                   23.012470   \n",
       "max                                   30.115735   \n",
       "\n",
       "       secondary_cleaner.state.floatbank4_a_level  \\\n",
       "count                                19438.000000   \n",
       "mean                                  -485.894516   \n",
       "std                                     47.758570   \n",
       "min                                   -799.798523   \n",
       "25%                                   -500.704892   \n",
       "50%                                   -499.837793   \n",
       "75%                                   -498.249730   \n",
       "max                                   -245.239184   \n",
       "\n",
       "       secondary_cleaner.state.floatbank4_b_air  \\\n",
       "count                              19438.000000   \n",
       "mean                                  15.010366   \n",
       "std                                    4.890228   \n",
       "min                                    0.000000   \n",
       "25%                                   11.940294   \n",
       "50%                                   14.971014   \n",
       "75%                                   19.034162   \n",
       "max                                   31.269706   \n",
       "\n",
       "       secondary_cleaner.state.floatbank4_b_level  \\\n",
       "count                                19438.000000   \n",
       "mean                                  -461.078636   \n",
       "std                                     67.405524   \n",
       "min                                   -800.836914   \n",
       "25%                                   -500.187742   \n",
       "50%                                   -499.459786   \n",
       "75%                                   -400.118106   \n",
       "max                                     -6.506986   \n",
       "\n",
       "       secondary_cleaner.state.floatbank5_a_air  \\\n",
       "count                              19438.000000   \n",
       "mean                                  15.694452   \n",
       "std                                    5.510974   \n",
       "min                                   -0.372054   \n",
       "25%                                   10.988606   \n",
       "50%                                   15.000036   \n",
       "75%                                   18.026190   \n",
       "max                                   43.709931   \n",
       "\n",
       "       secondary_cleaner.state.floatbank5_a_level  \\\n",
       "count                                19438.000000   \n",
       "mean                                  -488.684065   \n",
       "std                                     34.533396   \n",
       "min                                   -797.323986   \n",
       "25%                                   -500.458467   \n",
       "50%                                   -499.802605   \n",
       "75%                                   -498.384187   \n",
       "max                                   -244.483566   \n",
       "\n",
       "       secondary_cleaner.state.floatbank5_b_air  \\\n",
       "count                              19438.000000   \n",
       "mean                                  12.198224   \n",
       "std                                    5.333024   \n",
       "min                                    0.528083   \n",
       "25%                                    8.971105   \n",
       "50%                                   11.019433   \n",
       "75%                                   14.019088   \n",
       "max                                   27.926001   \n",
       "\n",
       "       secondary_cleaner.state.floatbank5_b_level  \\\n",
       "count                                19438.000000   \n",
       "mean                                  -487.149827   \n",
       "std                                     38.347312   \n",
       "min                                   -800.220337   \n",
       "25%                                   -500.129462   \n",
       "50%                                   -499.935317   \n",
       "75%                                   -499.436708   \n",
       "max                                   -137.740004   \n",
       "\n",
       "       secondary_cleaner.state.floatbank6_a_air  \\\n",
       "count                              19437.000000   \n",
       "mean                                  18.959024   \n",
       "std                                    5.550498   \n",
       "min                                   -0.079426   \n",
       "25%                                   14.983037   \n",
       "50%                                   19.960541   \n",
       "75%                                   24.003170   \n",
       "max                                   32.188906   \n",
       "\n",
       "       secondary_cleaner.state.floatbank6_a_level  \n",
       "count                                19438.000000  \n",
       "mean                                  -505.436305  \n",
       "std                                     37.689057  \n",
       "min                                   -809.741464  \n",
       "25%                                   -500.728067  \n",
       "50%                                   -500.048400  \n",
       "75%                                   -499.495378  \n",
       "max                                   -104.427459  \n",
       "\n",
       "[8 rows x 86 columns]"
      ]
     },
     "metadata": {},
     "output_type": "display_data"
    }
   ],
   "source": [
    "print('Data_full')    \n",
    "exploration(data_full)"
   ]
  },
  {
   "cell_type": "markdown",
   "metadata": {},
   "source": [
    "**Вывод по пункту 1.1**\n",
    "\n",
    "Изучив данные в трех датасетах, заметили следующее:\n",
    "\n",
    "- в первом датасете 14149 строк и 87 столбцов, во втором датасете 5290 строк и 53 столбца, в третьем датасете 19439 строк и 87 столбцов\n",
    "- названия столбцов в корректном виде\n",
    "- типы столбцов корректны, кроме столбца date\n",
    "- целевой признак количественный, значит, это задача регрессии\n",
    "- во всех трех датасетах есть столбцы с отрицательными значениями и с пропусками"
   ]
  },
  {
   "cell_type": "markdown",
   "metadata": {},
   "source": [
    "**1.2 Проверим, что эффективность обогащения рассчитана правильно.** "
   ]
  },
  {
   "cell_type": "code",
   "execution_count": 7,
   "metadata": {},
   "outputs": [
    {
     "name": "stdout",
     "output_type": "stream",
     "text": [
      "0        87.107763\n",
      "1        86.843261\n",
      "2        86.842308\n",
      "3        87.226430\n",
      "4        86.688794\n",
      "           ...    \n",
      "14144    89.574376\n",
      "14145    87.724007\n",
      "14146    88.890579\n",
      "14147    89.858126\n",
      "14148    89.514960\n",
      "Length: 14149, dtype: float64\n"
     ]
    }
   ],
   "source": [
    "# введем необходимые для расчета переменные и найдем эффективность обогащения\n",
    "C = data_train['rougher.output.concentrate_au']\n",
    "F = data_train['rougher.input.feed_au']\n",
    "T = data_train['rougher.output.tail_au']\n",
    "recovery = C * (F-T)/(F*(C-T))*100\n",
    "print(recovery)"
   ]
  },
  {
   "cell_type": "code",
   "execution_count": 8,
   "metadata": {},
   "outputs": [
    {
     "name": "stdout",
     "output_type": "stream",
     "text": [
      "MAE: 9.73512347450521e-15\n"
     ]
    }
   ],
   "source": [
    "# найдем MAE между расчётами и значением признака\n",
    "print('MAE:', mean_absolute_error(data_train['rougher.output.recovery'],recovery))"
   ]
  },
  {
   "cell_type": "markdown",
   "metadata": {},
   "source": [
    "**Вывод по пункту 1.2**\n",
    "\n",
    "В ходе проделанной работы была найдена эффективность обогащения и рассчитано среднее абсолютное отклонение найденных значений от значений признака. Мы видим, что среднее абсолютное отклонение очень маленькое. Следовательно, эффективность обогащения рассчитана верно "
   ]
  },
  {
   "cell_type": "markdown",
   "metadata": {},
   "source": [
    "**1.3 Проанализируем признаки, недоступные в тестовой выборке.**"
   ]
  },
  {
   "cell_type": "code",
   "execution_count": 9,
   "metadata": {},
   "outputs": [
    {
     "name": "stdout",
     "output_type": "stream",
     "text": [
      "final.output.concentrate_ag\n",
      "final.output.concentrate_pb\n",
      "final.output.concentrate_sol\n",
      "final.output.concentrate_au\n",
      "final.output.recovery\n",
      "final.output.tail_ag\n",
      "final.output.tail_pb\n",
      "final.output.tail_sol\n",
      "final.output.tail_au\n",
      "primary_cleaner.output.concentrate_ag\n",
      "primary_cleaner.output.concentrate_pb\n",
      "primary_cleaner.output.concentrate_sol\n",
      "primary_cleaner.output.concentrate_au\n",
      "primary_cleaner.output.tail_ag\n",
      "primary_cleaner.output.tail_pb\n",
      "primary_cleaner.output.tail_sol\n",
      "primary_cleaner.output.tail_au\n",
      "rougher.calculation.sulfate_to_au_concentrate\n",
      "rougher.calculation.floatbank10_sulfate_to_au_feed\n",
      "rougher.calculation.floatbank11_sulfate_to_au_feed\n",
      "rougher.calculation.au_pb_ratio\n",
      "rougher.output.concentrate_ag\n",
      "rougher.output.concentrate_pb\n",
      "rougher.output.concentrate_sol\n",
      "rougher.output.concentrate_au\n",
      "rougher.output.recovery\n",
      "rougher.output.tail_ag\n",
      "rougher.output.tail_pb\n",
      "rougher.output.tail_sol\n",
      "rougher.output.tail_au\n",
      "secondary_cleaner.output.tail_ag\n",
      "secondary_cleaner.output.tail_pb\n",
      "secondary_cleaner.output.tail_sol\n",
      "secondary_cleaner.output.tail_au\n",
      "34\n"
     ]
    }
   ],
   "source": [
    "# найдем столбцы, которые есть в полной выборке, но нет в тестовой\n",
    "column_list = []\n",
    "for column in data_full.columns:\n",
    "    if column not in data_test.columns:\n",
    "        column_list.append(column)\n",
    "for i in column_list:\n",
    "    print(i, end='\\n')\n",
    "print(len(column_list))"
   ]
  },
  {
   "cell_type": "markdown",
   "metadata": {},
   "source": [
    "**Вывод по пункту 1.3**\n",
    "\n",
    "В ходе исследования мы выявили столбцы, которые есть в полной выборке, но нет в тестовой. Таких столбцов 34. Из этих столбцов два являются целевыми признаками. Это final.output.recovery и rougher.output.recovery. Их надо будет добавить в тестовую выборку. А остальные признаки надо будет убрать из тренировочной выборки.\n",
    "\n",
    "Заметим, что из 34 признаков 30 относятся к output, т.е. к параметрам продукта, и только 4 к расчетным характеристикам. Возможно, значения этих признаков недоступны во время технологического процесса, они рассчитываются позже.\n"
   ]
  },
  {
   "cell_type": "markdown",
   "metadata": {},
   "source": [
    "**1.4 Проведение предобработки данных.**"
   ]
  },
  {
   "cell_type": "code",
   "execution_count": 10,
   "metadata": {},
   "outputs": [
    {
     "name": "stdout",
     "output_type": "stream",
     "text": [
      "<class 'pandas.core.frame.DataFrame'>\n",
      "RangeIndex: 14149 entries, 0 to 14148\n",
      "Data columns (total 87 columns):\n",
      " #   Column                                              Non-Null Count  Dtype         \n",
      "---  ------                                              --------------  -----         \n",
      " 0   date                                                14149 non-null  datetime64[ns]\n",
      " 1   final.output.concentrate_ag                         14148 non-null  float64       \n",
      " 2   final.output.concentrate_pb                         14148 non-null  float64       \n",
      " 3   final.output.concentrate_sol                        13938 non-null  float64       \n",
      " 4   final.output.concentrate_au                         14149 non-null  float64       \n",
      " 5   final.output.recovery                               14149 non-null  float64       \n",
      " 6   final.output.tail_ag                                14149 non-null  float64       \n",
      " 7   final.output.tail_pb                                14049 non-null  float64       \n",
      " 8   final.output.tail_sol                               14144 non-null  float64       \n",
      " 9   final.output.tail_au                                14149 non-null  float64       \n",
      " 10  primary_cleaner.input.sulfate                       14129 non-null  float64       \n",
      " 11  primary_cleaner.input.depressant                    14117 non-null  float64       \n",
      " 12  primary_cleaner.input.feed_size                     14149 non-null  float64       \n",
      " 13  primary_cleaner.input.xanthate                      14049 non-null  float64       \n",
      " 14  primary_cleaner.output.concentrate_ag               14149 non-null  float64       \n",
      " 15  primary_cleaner.output.concentrate_pb               14063 non-null  float64       \n",
      " 16  primary_cleaner.output.concentrate_sol              13863 non-null  float64       \n",
      " 17  primary_cleaner.output.concentrate_au               14149 non-null  float64       \n",
      " 18  primary_cleaner.output.tail_ag                      14148 non-null  float64       \n",
      " 19  primary_cleaner.output.tail_pb                      14134 non-null  float64       \n",
      " 20  primary_cleaner.output.tail_sol                     14103 non-null  float64       \n",
      " 21  primary_cleaner.output.tail_au                      14149 non-null  float64       \n",
      " 22  primary_cleaner.state.floatbank8_a_air              14145 non-null  float64       \n",
      " 23  primary_cleaner.state.floatbank8_a_level            14148 non-null  float64       \n",
      " 24  primary_cleaner.state.floatbank8_b_air              14145 non-null  float64       \n",
      " 25  primary_cleaner.state.floatbank8_b_level            14148 non-null  float64       \n",
      " 26  primary_cleaner.state.floatbank8_c_air              14147 non-null  float64       \n",
      " 27  primary_cleaner.state.floatbank8_c_level            14148 non-null  float64       \n",
      " 28  primary_cleaner.state.floatbank8_d_air              14146 non-null  float64       \n",
      " 29  primary_cleaner.state.floatbank8_d_level            14148 non-null  float64       \n",
      " 30  rougher.calculation.sulfate_to_au_concentrate       14148 non-null  float64       \n",
      " 31  rougher.calculation.floatbank10_sulfate_to_au_feed  14148 non-null  float64       \n",
      " 32  rougher.calculation.floatbank11_sulfate_to_au_feed  14148 non-null  float64       \n",
      " 33  rougher.calculation.au_pb_ratio                     14149 non-null  float64       \n",
      " 34  rougher.input.feed_ag                               14149 non-null  float64       \n",
      " 35  rougher.input.feed_pb                               14049 non-null  float64       \n",
      " 36  rougher.input.feed_rate                             14141 non-null  float64       \n",
      " 37  rougher.input.feed_size                             14005 non-null  float64       \n",
      " 38  rougher.input.feed_sol                              14071 non-null  float64       \n",
      " 39  rougher.input.feed_au                               14149 non-null  float64       \n",
      " 40  rougher.input.floatbank10_sulfate                   14120 non-null  float64       \n",
      " 41  rougher.input.floatbank10_xanthate                  14141 non-null  float64       \n",
      " 42  rougher.input.floatbank11_sulfate                   14113 non-null  float64       \n",
      " 43  rougher.input.floatbank11_xanthate                  13721 non-null  float64       \n",
      " 44  rougher.output.concentrate_ag                       14149 non-null  float64       \n",
      " 45  rougher.output.concentrate_pb                       14149 non-null  float64       \n",
      " 46  rougher.output.concentrate_sol                      14127 non-null  float64       \n",
      " 47  rougher.output.concentrate_au                       14149 non-null  float64       \n",
      " 48  rougher.output.recovery                             14149 non-null  float64       \n",
      " 49  rougher.output.tail_ag                              14148 non-null  float64       \n",
      " 50  rougher.output.tail_pb                              14149 non-null  float64       \n",
      " 51  rougher.output.tail_sol                             14149 non-null  float64       \n",
      " 52  rougher.output.tail_au                              14149 non-null  float64       \n",
      " 53  rougher.state.floatbank10_a_air                     14148 non-null  float64       \n",
      " 54  rougher.state.floatbank10_a_level                   14148 non-null  float64       \n",
      " 55  rougher.state.floatbank10_b_air                     14148 non-null  float64       \n",
      " 56  rougher.state.floatbank10_b_level                   14148 non-null  float64       \n",
      " 57  rougher.state.floatbank10_c_air                     14148 non-null  float64       \n",
      " 58  rougher.state.floatbank10_c_level                   14148 non-null  float64       \n",
      " 59  rougher.state.floatbank10_d_air                     14149 non-null  float64       \n",
      " 60  rougher.state.floatbank10_d_level                   14149 non-null  float64       \n",
      " 61  rougher.state.floatbank10_e_air                     13713 non-null  float64       \n",
      " 62  rougher.state.floatbank10_e_level                   14149 non-null  float64       \n",
      " 63  rougher.state.floatbank10_f_air                     14149 non-null  float64       \n",
      " 64  rougher.state.floatbank10_f_level                   14149 non-null  float64       \n",
      " 65  secondary_cleaner.output.tail_ag                    14147 non-null  float64       \n",
      " 66  secondary_cleaner.output.tail_pb                    14139 non-null  float64       \n",
      " 67  secondary_cleaner.output.tail_sol                   12544 non-null  float64       \n",
      " 68  secondary_cleaner.output.tail_au                    14149 non-null  float64       \n",
      " 69  secondary_cleaner.state.floatbank2_a_air            13932 non-null  float64       \n",
      " 70  secondary_cleaner.state.floatbank2_a_level          14148 non-null  float64       \n",
      " 71  secondary_cleaner.state.floatbank2_b_air            14128 non-null  float64       \n",
      " 72  secondary_cleaner.state.floatbank2_b_level          14148 non-null  float64       \n",
      " 73  secondary_cleaner.state.floatbank3_a_air            14145 non-null  float64       \n",
      " 74  secondary_cleaner.state.floatbank3_a_level          14148 non-null  float64       \n",
      " 75  secondary_cleaner.state.floatbank3_b_air            14148 non-null  float64       \n",
      " 76  secondary_cleaner.state.floatbank3_b_level          14148 non-null  float64       \n",
      " 77  secondary_cleaner.state.floatbank4_a_air            14143 non-null  float64       \n",
      " 78  secondary_cleaner.state.floatbank4_a_level          14148 non-null  float64       \n",
      " 79  secondary_cleaner.state.floatbank4_b_air            14148 non-null  float64       \n",
      " 80  secondary_cleaner.state.floatbank4_b_level          14148 non-null  float64       \n",
      " 81  secondary_cleaner.state.floatbank5_a_air            14148 non-null  float64       \n",
      " 82  secondary_cleaner.state.floatbank5_a_level          14148 non-null  float64       \n",
      " 83  secondary_cleaner.state.floatbank5_b_air            14148 non-null  float64       \n",
      " 84  secondary_cleaner.state.floatbank5_b_level          14148 non-null  float64       \n",
      " 85  secondary_cleaner.state.floatbank6_a_air            14147 non-null  float64       \n",
      " 86  secondary_cleaner.state.floatbank6_a_level          14148 non-null  float64       \n",
      "dtypes: datetime64[ns](1), float64(86)\n",
      "memory usage: 9.4 MB\n",
      "<class 'pandas.core.frame.DataFrame'>\n",
      "RangeIndex: 5290 entries, 0 to 5289\n",
      "Data columns (total 53 columns):\n",
      " #   Column                                      Non-Null Count  Dtype         \n",
      "---  ------                                      --------------  -----         \n",
      " 0   date                                        5290 non-null   datetime64[ns]\n",
      " 1   primary_cleaner.input.sulfate               5286 non-null   float64       \n",
      " 2   primary_cleaner.input.depressant            5285 non-null   float64       \n",
      " 3   primary_cleaner.input.feed_size             5290 non-null   float64       \n",
      " 4   primary_cleaner.input.xanthate              5286 non-null   float64       \n",
      " 5   primary_cleaner.state.floatbank8_a_air      5290 non-null   float64       \n",
      " 6   primary_cleaner.state.floatbank8_a_level    5290 non-null   float64       \n",
      " 7   primary_cleaner.state.floatbank8_b_air      5290 non-null   float64       \n",
      " 8   primary_cleaner.state.floatbank8_b_level    5290 non-null   float64       \n",
      " 9   primary_cleaner.state.floatbank8_c_air      5290 non-null   float64       \n",
      " 10  primary_cleaner.state.floatbank8_c_level    5290 non-null   float64       \n",
      " 11  primary_cleaner.state.floatbank8_d_air      5290 non-null   float64       \n",
      " 12  primary_cleaner.state.floatbank8_d_level    5290 non-null   float64       \n",
      " 13  rougher.input.feed_ag                       5290 non-null   float64       \n",
      " 14  rougher.input.feed_pb                       5290 non-null   float64       \n",
      " 15  rougher.input.feed_rate                     5287 non-null   float64       \n",
      " 16  rougher.input.feed_size                     5289 non-null   float64       \n",
      " 17  rougher.input.feed_sol                      5269 non-null   float64       \n",
      " 18  rougher.input.feed_au                       5290 non-null   float64       \n",
      " 19  rougher.input.floatbank10_sulfate           5285 non-null   float64       \n",
      " 20  rougher.input.floatbank10_xanthate          5290 non-null   float64       \n",
      " 21  rougher.input.floatbank11_sulfate           5282 non-null   float64       \n",
      " 22  rougher.input.floatbank11_xanthate          5265 non-null   float64       \n",
      " 23  rougher.state.floatbank10_a_air             5290 non-null   float64       \n",
      " 24  rougher.state.floatbank10_a_level           5290 non-null   float64       \n",
      " 25  rougher.state.floatbank10_b_air             5290 non-null   float64       \n",
      " 26  rougher.state.floatbank10_b_level           5290 non-null   float64       \n",
      " 27  rougher.state.floatbank10_c_air             5290 non-null   float64       \n",
      " 28  rougher.state.floatbank10_c_level           5290 non-null   float64       \n",
      " 29  rougher.state.floatbank10_d_air             5290 non-null   float64       \n",
      " 30  rougher.state.floatbank10_d_level           5290 non-null   float64       \n",
      " 31  rougher.state.floatbank10_e_air             5290 non-null   float64       \n",
      " 32  rougher.state.floatbank10_e_level           5290 non-null   float64       \n",
      " 33  rougher.state.floatbank10_f_air             5290 non-null   float64       \n",
      " 34  rougher.state.floatbank10_f_level           5290 non-null   float64       \n",
      " 35  secondary_cleaner.state.floatbank2_a_air    5287 non-null   float64       \n",
      " 36  secondary_cleaner.state.floatbank2_a_level  5290 non-null   float64       \n",
      " 37  secondary_cleaner.state.floatbank2_b_air    5288 non-null   float64       \n",
      " 38  secondary_cleaner.state.floatbank2_b_level  5290 non-null   float64       \n",
      " 39  secondary_cleaner.state.floatbank3_a_air    5281 non-null   float64       \n",
      " 40  secondary_cleaner.state.floatbank3_a_level  5290 non-null   float64       \n",
      " 41  secondary_cleaner.state.floatbank3_b_air    5290 non-null   float64       \n",
      " 42  secondary_cleaner.state.floatbank3_b_level  5290 non-null   float64       \n",
      " 43  secondary_cleaner.state.floatbank4_a_air    5290 non-null   float64       \n",
      " 44  secondary_cleaner.state.floatbank4_a_level  5290 non-null   float64       \n",
      " 45  secondary_cleaner.state.floatbank4_b_air    5290 non-null   float64       \n",
      " 46  secondary_cleaner.state.floatbank4_b_level  5290 non-null   float64       \n",
      " 47  secondary_cleaner.state.floatbank5_a_air    5290 non-null   float64       \n",
      " 48  secondary_cleaner.state.floatbank5_a_level  5290 non-null   float64       \n",
      " 49  secondary_cleaner.state.floatbank5_b_air    5290 non-null   float64       \n",
      " 50  secondary_cleaner.state.floatbank5_b_level  5290 non-null   float64       \n",
      " 51  secondary_cleaner.state.floatbank6_a_air    5290 non-null   float64       \n",
      " 52  secondary_cleaner.state.floatbank6_a_level  5290 non-null   float64       \n",
      "dtypes: datetime64[ns](1), float64(52)\n",
      "memory usage: 2.1 MB\n",
      "<class 'pandas.core.frame.DataFrame'>\n",
      "RangeIndex: 19439 entries, 0 to 19438\n",
      "Data columns (total 87 columns):\n",
      " #   Column                                              Non-Null Count  Dtype         \n",
      "---  ------                                              --------------  -----         \n",
      " 0   date                                                19439 non-null  datetime64[ns]\n",
      " 1   final.output.concentrate_ag                         19438 non-null  float64       \n",
      " 2   final.output.concentrate_pb                         19438 non-null  float64       \n",
      " 3   final.output.concentrate_sol                        19228 non-null  float64       \n",
      " 4   final.output.concentrate_au                         19439 non-null  float64       \n",
      " 5   final.output.recovery                               19439 non-null  float64       \n",
      " 6   final.output.tail_ag                                19438 non-null  float64       \n",
      " 7   final.output.tail_pb                                19338 non-null  float64       \n",
      " 8   final.output.tail_sol                               19433 non-null  float64       \n",
      " 9   final.output.tail_au                                19439 non-null  float64       \n",
      " 10  primary_cleaner.input.sulfate                       19415 non-null  float64       \n",
      " 11  primary_cleaner.input.depressant                    19402 non-null  float64       \n",
      " 12  primary_cleaner.input.feed_size                     19439 non-null  float64       \n",
      " 13  primary_cleaner.input.xanthate                      19335 non-null  float64       \n",
      " 14  primary_cleaner.output.concentrate_ag               19439 non-null  float64       \n",
      " 15  primary_cleaner.output.concentrate_pb               19323 non-null  float64       \n",
      " 16  primary_cleaner.output.concentrate_sol              19069 non-null  float64       \n",
      " 17  primary_cleaner.output.concentrate_au               19439 non-null  float64       \n",
      " 18  primary_cleaner.output.tail_ag                      19435 non-null  float64       \n",
      " 19  primary_cleaner.output.tail_pb                      19418 non-null  float64       \n",
      " 20  primary_cleaner.output.tail_sol                     19377 non-null  float64       \n",
      " 21  primary_cleaner.output.tail_au                      19439 non-null  float64       \n",
      " 22  primary_cleaner.state.floatbank8_a_air              19435 non-null  float64       \n",
      " 23  primary_cleaner.state.floatbank8_a_level            19438 non-null  float64       \n",
      " 24  primary_cleaner.state.floatbank8_b_air              19435 non-null  float64       \n",
      " 25  primary_cleaner.state.floatbank8_b_level            19438 non-null  float64       \n",
      " 26  primary_cleaner.state.floatbank8_c_air              19437 non-null  float64       \n",
      " 27  primary_cleaner.state.floatbank8_c_level            19438 non-null  float64       \n",
      " 28  primary_cleaner.state.floatbank8_d_air              19436 non-null  float64       \n",
      " 29  primary_cleaner.state.floatbank8_d_level            19438 non-null  float64       \n",
      " 30  rougher.calculation.sulfate_to_au_concentrate       19437 non-null  float64       \n",
      " 31  rougher.calculation.floatbank10_sulfate_to_au_feed  19437 non-null  float64       \n",
      " 32  rougher.calculation.floatbank11_sulfate_to_au_feed  19437 non-null  float64       \n",
      " 33  rougher.calculation.au_pb_ratio                     19439 non-null  float64       \n",
      " 34  rougher.input.feed_ag                               19439 non-null  float64       \n",
      " 35  rougher.input.feed_pb                               19339 non-null  float64       \n",
      " 36  rougher.input.feed_rate                             19428 non-null  float64       \n",
      " 37  rougher.input.feed_size                             19294 non-null  float64       \n",
      " 38  rougher.input.feed_sol                              19340 non-null  float64       \n",
      " 39  rougher.input.feed_au                               19439 non-null  float64       \n",
      " 40  rougher.input.floatbank10_sulfate                   19405 non-null  float64       \n",
      " 41  rougher.input.floatbank10_xanthate                  19431 non-null  float64       \n",
      " 42  rougher.input.floatbank11_sulfate                   19395 non-null  float64       \n",
      " 43  rougher.input.floatbank11_xanthate                  18986 non-null  float64       \n",
      " 44  rougher.output.concentrate_ag                       19439 non-null  float64       \n",
      " 45  rougher.output.concentrate_pb                       19439 non-null  float64       \n",
      " 46  rougher.output.concentrate_sol                      19416 non-null  float64       \n",
      " 47  rougher.output.concentrate_au                       19439 non-null  float64       \n",
      " 48  rougher.output.recovery                             19439 non-null  float64       \n",
      " 49  rougher.output.tail_ag                              19438 non-null  float64       \n",
      " 50  rougher.output.tail_pb                              19439 non-null  float64       \n",
      " 51  rougher.output.tail_sol                             19439 non-null  float64       \n",
      " 52  rougher.output.tail_au                              19439 non-null  float64       \n",
      " 53  rougher.state.floatbank10_a_air                     19438 non-null  float64       \n",
      " 54  rougher.state.floatbank10_a_level                   19438 non-null  float64       \n",
      " 55  rougher.state.floatbank10_b_air                     19438 non-null  float64       \n",
      " 56  rougher.state.floatbank10_b_level                   19438 non-null  float64       \n",
      " 57  rougher.state.floatbank10_c_air                     19438 non-null  float64       \n",
      " 58  rougher.state.floatbank10_c_level                   19438 non-null  float64       \n",
      " 59  rougher.state.floatbank10_d_air                     19439 non-null  float64       \n",
      " 60  rougher.state.floatbank10_d_level                   19439 non-null  float64       \n",
      " 61  rougher.state.floatbank10_e_air                     19003 non-null  float64       \n",
      " 62  rougher.state.floatbank10_e_level                   19439 non-null  float64       \n",
      " 63  rougher.state.floatbank10_f_air                     19439 non-null  float64       \n",
      " 64  rougher.state.floatbank10_f_level                   19439 non-null  float64       \n",
      " 65  secondary_cleaner.output.tail_ag                    19437 non-null  float64       \n",
      " 66  secondary_cleaner.output.tail_pb                    19427 non-null  float64       \n",
      " 67  secondary_cleaner.output.tail_sol                   17691 non-null  float64       \n",
      " 68  secondary_cleaner.output.tail_au                    19439 non-null  float64       \n",
      " 69  secondary_cleaner.state.floatbank2_a_air            19219 non-null  float64       \n",
      " 70  secondary_cleaner.state.floatbank2_a_level          19438 non-null  float64       \n",
      " 71  secondary_cleaner.state.floatbank2_b_air            19416 non-null  float64       \n",
      " 72  secondary_cleaner.state.floatbank2_b_level          19438 non-null  float64       \n",
      " 73  secondary_cleaner.state.floatbank3_a_air            19426 non-null  float64       \n",
      " 74  secondary_cleaner.state.floatbank3_a_level          19438 non-null  float64       \n",
      " 75  secondary_cleaner.state.floatbank3_b_air            19438 non-null  float64       \n",
      " 76  secondary_cleaner.state.floatbank3_b_level          19438 non-null  float64       \n",
      " 77  secondary_cleaner.state.floatbank4_a_air            19433 non-null  float64       \n",
      " 78  secondary_cleaner.state.floatbank4_a_level          19438 non-null  float64       \n",
      " 79  secondary_cleaner.state.floatbank4_b_air            19438 non-null  float64       \n",
      " 80  secondary_cleaner.state.floatbank4_b_level          19438 non-null  float64       \n",
      " 81  secondary_cleaner.state.floatbank5_a_air            19438 non-null  float64       \n",
      " 82  secondary_cleaner.state.floatbank5_a_level          19438 non-null  float64       \n",
      " 83  secondary_cleaner.state.floatbank5_b_air            19438 non-null  float64       \n",
      " 84  secondary_cleaner.state.floatbank5_b_level          19438 non-null  float64       \n",
      " 85  secondary_cleaner.state.floatbank6_a_air            19437 non-null  float64       \n",
      " 86  secondary_cleaner.state.floatbank6_a_level          19438 non-null  float64       \n",
      "dtypes: datetime64[ns](1), float64(86)\n",
      "memory usage: 12.9 MB\n"
     ]
    }
   ],
   "source": [
    "# преобразуем к корректному типу данных столбец date, который есть во всех трех датасетах\n",
    "data_train['date'] = pd.to_datetime(data_train['date'], format='%Y-%m-%dT%H:%M:%S')\n",
    "data_test['date'] = pd.to_datetime(data_test['date'], format='%Y-%m-%dT%H:%M:%S')\n",
    "data_full['date'] = pd.to_datetime(data_full['date'], format='%Y-%m-%dT%H:%M:%S')\n",
    "\n",
    "# проверка\n",
    "data_train.info()\n",
    "data_test.info()\n",
    "data_full.info()"
   ]
  },
  {
   "cell_type": "code",
   "execution_count": 11,
   "metadata": {},
   "outputs": [
    {
     "name": "stdout",
     "output_type": "stream",
     "text": [
      "<class 'pandas.core.frame.DataFrame'>\n",
      "Int64Index: 5290 entries, 0 to 5289\n",
      "Data columns (total 55 columns):\n",
      " #   Column                                      Non-Null Count  Dtype         \n",
      "---  ------                                      --------------  -----         \n",
      " 0   date                                        5290 non-null   datetime64[ns]\n",
      " 1   primary_cleaner.input.sulfate               5286 non-null   float64       \n",
      " 2   primary_cleaner.input.depressant            5285 non-null   float64       \n",
      " 3   primary_cleaner.input.feed_size             5290 non-null   float64       \n",
      " 4   primary_cleaner.input.xanthate              5286 non-null   float64       \n",
      " 5   primary_cleaner.state.floatbank8_a_air      5290 non-null   float64       \n",
      " 6   primary_cleaner.state.floatbank8_a_level    5290 non-null   float64       \n",
      " 7   primary_cleaner.state.floatbank8_b_air      5290 non-null   float64       \n",
      " 8   primary_cleaner.state.floatbank8_b_level    5290 non-null   float64       \n",
      " 9   primary_cleaner.state.floatbank8_c_air      5290 non-null   float64       \n",
      " 10  primary_cleaner.state.floatbank8_c_level    5290 non-null   float64       \n",
      " 11  primary_cleaner.state.floatbank8_d_air      5290 non-null   float64       \n",
      " 12  primary_cleaner.state.floatbank8_d_level    5290 non-null   float64       \n",
      " 13  rougher.input.feed_ag                       5290 non-null   float64       \n",
      " 14  rougher.input.feed_pb                       5290 non-null   float64       \n",
      " 15  rougher.input.feed_rate                     5287 non-null   float64       \n",
      " 16  rougher.input.feed_size                     5289 non-null   float64       \n",
      " 17  rougher.input.feed_sol                      5269 non-null   float64       \n",
      " 18  rougher.input.feed_au                       5290 non-null   float64       \n",
      " 19  rougher.input.floatbank10_sulfate           5285 non-null   float64       \n",
      " 20  rougher.input.floatbank10_xanthate          5290 non-null   float64       \n",
      " 21  rougher.input.floatbank11_sulfate           5282 non-null   float64       \n",
      " 22  rougher.input.floatbank11_xanthate          5265 non-null   float64       \n",
      " 23  rougher.state.floatbank10_a_air             5290 non-null   float64       \n",
      " 24  rougher.state.floatbank10_a_level           5290 non-null   float64       \n",
      " 25  rougher.state.floatbank10_b_air             5290 non-null   float64       \n",
      " 26  rougher.state.floatbank10_b_level           5290 non-null   float64       \n",
      " 27  rougher.state.floatbank10_c_air             5290 non-null   float64       \n",
      " 28  rougher.state.floatbank10_c_level           5290 non-null   float64       \n",
      " 29  rougher.state.floatbank10_d_air             5290 non-null   float64       \n",
      " 30  rougher.state.floatbank10_d_level           5290 non-null   float64       \n",
      " 31  rougher.state.floatbank10_e_air             5290 non-null   float64       \n",
      " 32  rougher.state.floatbank10_e_level           5290 non-null   float64       \n",
      " 33  rougher.state.floatbank10_f_air             5290 non-null   float64       \n",
      " 34  rougher.state.floatbank10_f_level           5290 non-null   float64       \n",
      " 35  secondary_cleaner.state.floatbank2_a_air    5287 non-null   float64       \n",
      " 36  secondary_cleaner.state.floatbank2_a_level  5290 non-null   float64       \n",
      " 37  secondary_cleaner.state.floatbank2_b_air    5288 non-null   float64       \n",
      " 38  secondary_cleaner.state.floatbank2_b_level  5290 non-null   float64       \n",
      " 39  secondary_cleaner.state.floatbank3_a_air    5281 non-null   float64       \n",
      " 40  secondary_cleaner.state.floatbank3_a_level  5290 non-null   float64       \n",
      " 41  secondary_cleaner.state.floatbank3_b_air    5290 non-null   float64       \n",
      " 42  secondary_cleaner.state.floatbank3_b_level  5290 non-null   float64       \n",
      " 43  secondary_cleaner.state.floatbank4_a_air    5290 non-null   float64       \n",
      " 44  secondary_cleaner.state.floatbank4_a_level  5290 non-null   float64       \n",
      " 45  secondary_cleaner.state.floatbank4_b_air    5290 non-null   float64       \n",
      " 46  secondary_cleaner.state.floatbank4_b_level  5290 non-null   float64       \n",
      " 47  secondary_cleaner.state.floatbank5_a_air    5290 non-null   float64       \n",
      " 48  secondary_cleaner.state.floatbank5_a_level  5290 non-null   float64       \n",
      " 49  secondary_cleaner.state.floatbank5_b_air    5290 non-null   float64       \n",
      " 50  secondary_cleaner.state.floatbank5_b_level  5290 non-null   float64       \n",
      " 51  secondary_cleaner.state.floatbank6_a_air    5290 non-null   float64       \n",
      " 52  secondary_cleaner.state.floatbank6_a_level  5290 non-null   float64       \n",
      " 53  rougher.output.recovery                     5290 non-null   float64       \n",
      " 54  final.output.recovery                       5290 non-null   float64       \n",
      "dtypes: datetime64[ns](1), float64(54)\n",
      "memory usage: 2.3 MB\n"
     ]
    }
   ],
   "source": [
    "# разберемся с недостающими столбцами в тестовой выборке\n",
    "data_test = data_test.merge(data_full.loc[:,['date', \"rougher.output.recovery\",\"final.output.recovery\"]],on = 'date')\n",
    "data_test.info()"
   ]
  },
  {
   "cell_type": "code",
   "execution_count": 13,
   "metadata": {},
   "outputs": [
    {
     "name": "stdout",
     "output_type": "stream",
     "text": [
      "Количество дубликатов: 0\n",
      "Количество пропусков: secondary_cleaner.output.tail_sol           1605\n",
      "rougher.state.floatbank10_e_air              436\n",
      "rougher.input.floatbank11_xanthate           428\n",
      "primary_cleaner.output.concentrate_sol       286\n",
      "secondary_cleaner.state.floatbank2_a_air     217\n",
      "                                            ... \n",
      "rougher.output.concentrate_pb                  0\n",
      "rougher.output.concentrate_au                  0\n",
      "rougher.output.recovery                        0\n",
      "rougher.output.tail_pb                         0\n",
      "date                                           0\n",
      "Length: 87, dtype: int64\n"
     ]
    }
   ],
   "source": [
    "# проверим пропуски в полученных датасетах\n",
    "def data_nan(data):\n",
    "    print('Количество дубликатов:', data.duplicated().sum())\n",
    "    print('Количество пропусков:', data.isna().sum().sort_values(ascending=False))\n",
    "data_nan(data_train)"
   ]
  },
  {
   "cell_type": "code",
   "execution_count": 14,
   "metadata": {},
   "outputs": [
    {
     "name": "stdout",
     "output_type": "stream",
     "text": [
      "Количество дубликатов: 0\n",
      "Количество пропусков: rougher.input.floatbank11_xanthate            25\n",
      "rougher.input.feed_sol                        21\n",
      "secondary_cleaner.state.floatbank3_a_air       9\n",
      "rougher.input.floatbank11_sulfate              8\n",
      "primary_cleaner.input.depressant               5\n",
      "rougher.input.floatbank10_sulfate              5\n",
      "primary_cleaner.input.xanthate                 4\n",
      "primary_cleaner.input.sulfate                  4\n",
      "secondary_cleaner.state.floatbank2_a_air       3\n",
      "rougher.input.feed_rate                        3\n",
      "secondary_cleaner.state.floatbank2_b_air       2\n",
      "rougher.input.feed_size                        1\n",
      "secondary_cleaner.state.floatbank3_a_level     0\n",
      "secondary_cleaner.state.floatbank3_b_level     0\n",
      "secondary_cleaner.state.floatbank3_b_air       0\n",
      "secondary_cleaner.state.floatbank2_a_level     0\n",
      "rougher.state.floatbank10_f_level              0\n",
      "secondary_cleaner.state.floatbank2_b_level     0\n",
      "date                                           0\n",
      "rougher.state.floatbank10_e_level              0\n",
      "secondary_cleaner.state.floatbank4_a_air       0\n",
      "secondary_cleaner.state.floatbank4_a_level     0\n",
      "secondary_cleaner.state.floatbank4_b_air       0\n",
      "secondary_cleaner.state.floatbank4_b_level     0\n",
      "secondary_cleaner.state.floatbank5_a_air       0\n",
      "secondary_cleaner.state.floatbank5_a_level     0\n",
      "secondary_cleaner.state.floatbank5_b_air       0\n",
      "secondary_cleaner.state.floatbank5_b_level     0\n",
      "secondary_cleaner.state.floatbank6_a_air       0\n",
      "secondary_cleaner.state.floatbank6_a_level     0\n",
      "rougher.output.recovery                        0\n",
      "rougher.state.floatbank10_f_air                0\n",
      "rougher.state.floatbank10_c_air                0\n",
      "rougher.state.floatbank10_e_air                0\n",
      "rougher.state.floatbank10_d_level              0\n",
      "primary_cleaner.input.feed_size                0\n",
      "primary_cleaner.state.floatbank8_a_air         0\n",
      "primary_cleaner.state.floatbank8_a_level       0\n",
      "primary_cleaner.state.floatbank8_b_air         0\n",
      "primary_cleaner.state.floatbank8_b_level       0\n",
      "primary_cleaner.state.floatbank8_c_air         0\n",
      "primary_cleaner.state.floatbank8_c_level       0\n",
      "primary_cleaner.state.floatbank8_d_air         0\n",
      "primary_cleaner.state.floatbank8_d_level       0\n",
      "rougher.input.feed_ag                          0\n",
      "rougher.input.feed_pb                          0\n",
      "rougher.input.feed_au                          0\n",
      "rougher.input.floatbank10_xanthate             0\n",
      "rougher.state.floatbank10_a_air                0\n",
      "rougher.state.floatbank10_a_level              0\n",
      "rougher.state.floatbank10_b_air                0\n",
      "rougher.state.floatbank10_b_level              0\n",
      "rougher.state.floatbank10_c_level              0\n",
      "rougher.state.floatbank10_d_air                0\n",
      "final.output.recovery                          0\n",
      "dtype: int64\n"
     ]
    }
   ],
   "source": [
    "data_nan(data_test)"
   ]
  },
  {
   "cell_type": "code",
   "execution_count": 15,
   "metadata": {},
   "outputs": [
    {
     "name": "stdout",
     "output_type": "stream",
     "text": [
      "Количество дубликатов: 0\n",
      "Количество пропусков: secondary_cleaner.output.tail_sol           1748\n",
      "rougher.input.floatbank11_xanthate           453\n",
      "rougher.state.floatbank10_e_air              436\n",
      "primary_cleaner.output.concentrate_sol       370\n",
      "secondary_cleaner.state.floatbank2_a_air     220\n",
      "                                            ... \n",
      "rougher.state.floatbank10_d_level              0\n",
      "rougher.state.floatbank10_d_air                0\n",
      "rougher.output.tail_pb                         0\n",
      "rougher.output.tail_sol                        0\n",
      "date                                           0\n",
      "Length: 87, dtype: int64\n"
     ]
    }
   ],
   "source": [
    "data_nan(data_full)"
   ]
  },
  {
   "cell_type": "code",
   "execution_count": 16,
   "metadata": {},
   "outputs": [
    {
     "name": "stdout",
     "output_type": "stream",
     "text": [
      "Количество пропусков: date                                          0\n",
      "rougher.state.floatbank10_b_air               0\n",
      "rougher.state.floatbank10_f_air               0\n",
      "rougher.state.floatbank10_e_level             0\n",
      "rougher.state.floatbank10_e_air               0\n",
      "                                             ..\n",
      "primary_cleaner.state.floatbank8_c_level      0\n",
      "primary_cleaner.state.floatbank8_c_air        0\n",
      "primary_cleaner.state.floatbank8_b_level      0\n",
      "primary_cleaner.state.floatbank8_b_air        0\n",
      "secondary_cleaner.state.floatbank6_a_level    0\n",
      "Length: 87, dtype: int64\n",
      "Количество пропусков: date                                          0\n",
      "secondary_cleaner.state.floatbank3_b_air      0\n",
      "rougher.state.floatbank10_d_level             0\n",
      "rougher.state.floatbank10_e_air               0\n",
      "rougher.state.floatbank10_e_level             0\n",
      "rougher.state.floatbank10_f_air               0\n",
      "rougher.state.floatbank10_f_level             0\n",
      "secondary_cleaner.state.floatbank2_a_air      0\n",
      "secondary_cleaner.state.floatbank2_a_level    0\n",
      "secondary_cleaner.state.floatbank2_b_air      0\n",
      "secondary_cleaner.state.floatbank2_b_level    0\n",
      "secondary_cleaner.state.floatbank3_a_air      0\n",
      "secondary_cleaner.state.floatbank3_a_level    0\n",
      "secondary_cleaner.state.floatbank3_b_level    0\n",
      "rougher.state.floatbank10_c_level             0\n",
      "secondary_cleaner.state.floatbank4_a_air      0\n",
      "secondary_cleaner.state.floatbank4_a_level    0\n",
      "secondary_cleaner.state.floatbank4_b_air      0\n",
      "secondary_cleaner.state.floatbank4_b_level    0\n",
      "secondary_cleaner.state.floatbank5_a_air      0\n",
      "secondary_cleaner.state.floatbank5_a_level    0\n",
      "secondary_cleaner.state.floatbank5_b_air      0\n",
      "secondary_cleaner.state.floatbank5_b_level    0\n",
      "secondary_cleaner.state.floatbank6_a_air      0\n",
      "secondary_cleaner.state.floatbank6_a_level    0\n",
      "rougher.output.recovery                       0\n",
      "rougher.state.floatbank10_d_air               0\n",
      "rougher.state.floatbank10_c_air               0\n",
      "primary_cleaner.input.sulfate                 0\n",
      "rougher.input.feed_ag                         0\n",
      "primary_cleaner.input.depressant              0\n",
      "primary_cleaner.input.feed_size               0\n",
      "primary_cleaner.input.xanthate                0\n",
      "primary_cleaner.state.floatbank8_a_air        0\n",
      "primary_cleaner.state.floatbank8_a_level      0\n",
      "primary_cleaner.state.floatbank8_b_air        0\n",
      "primary_cleaner.state.floatbank8_b_level      0\n",
      "primary_cleaner.state.floatbank8_c_air        0\n",
      "primary_cleaner.state.floatbank8_c_level      0\n",
      "primary_cleaner.state.floatbank8_d_air        0\n",
      "primary_cleaner.state.floatbank8_d_level      0\n",
      "rougher.input.feed_pb                         0\n",
      "rougher.state.floatbank10_b_level             0\n",
      "rougher.input.feed_rate                       0\n",
      "rougher.input.feed_size                       0\n",
      "rougher.input.feed_sol                        0\n",
      "rougher.input.feed_au                         0\n",
      "rougher.input.floatbank10_sulfate             0\n",
      "rougher.input.floatbank10_xanthate            0\n",
      "rougher.input.floatbank11_sulfate             0\n",
      "rougher.input.floatbank11_xanthate            0\n",
      "rougher.state.floatbank10_a_air               0\n",
      "rougher.state.floatbank10_a_level             0\n",
      "rougher.state.floatbank10_b_air               0\n",
      "final.output.recovery                         0\n",
      "dtype: int64\n"
     ]
    }
   ],
   "source": [
    "# обработаем пропуски в тренировочной и тестовой выборках\n",
    "for data in (data_train, data_test):\n",
    "    data.fillna(method='ffill', inplace=True)\n",
    "    print('Количество пропусков:', data.isna().sum().sort_values(ascending=False))"
   ]
  },
  {
   "cell_type": "markdown",
   "metadata": {},
   "source": [
    "**Вывод по пункту 1.4**\n",
    "\n",
    "В ходе предобработки данных было проделано следующее:\n",
    "\n",
    "- в трех датасетах столбец date был приведен к корректному типу данных datetime\n",
    "- в тестовую выборку добавлены два недостающих целевых признака из полной выборки\n",
    "- проверили датасеты на наличие дубликатов и пропусков: явных дубликатов нет нигде, пропуски есть во всех трех выборках\n",
    "- в полной выборке пропуски нет смысла обрабатывать\n",
    "- в тренировочной и тестовой обработали пропуски методом ffill\n",
    "\n",
    "Данные готовы к работе"
   ]
  },
  {
   "cell_type": "markdown",
   "metadata": {},
   "source": [
    "## Анализ данных"
   ]
  },
  {
   "cell_type": "markdown",
   "metadata": {},
   "source": [
    "**2.1 Посмотрим, как меняется концентрация металлов (Au, Ag, Pb) на различных этапах очистки.** "
   ]
  },
  {
   "cell_type": "code",
   "execution_count": 17,
   "metadata": {},
   "outputs": [
    {
     "data": {
      "image/png": "[encoded data removed]",
      "text/plain": [
       "<Figure size 1440x720 with 1 Axes>"
      ]
     },
     "metadata": {
      "needs_background": "light"
     },
     "output_type": "display_data"
    }
   ],
   "source": [
    "plt.figure(figsize=(20, 10))\n",
    "sns.histplot(data_full[['rougher.input.feed_au', 'rougher.output.concentrate_au', 'primary_cleaner.output.concentrate_au', 'final.output.concentrate_au']], kde=True, bins=100)\n",
    "plt.title('Изменение концентрации металла Au на различных этапах обработки', fontsize=20)\n",
    "plt.ylabel('')\n",
    "plt.xlabel('%', fontsize=18)\n",
    "plt.show()"
   ]
  },
  {
   "cell_type": "code",
   "execution_count": 18,
   "metadata": {},
   "outputs": [
    {
     "data": {
      "image/png": "[encoded data removed]",
      "text/plain": [
       "<Figure size 1440x720 with 1 Axes>"
      ]
     },
     "metadata": {
      "needs_background": "light"
     },
     "output_type": "display_data"
    }
   ],
   "source": [
    "plt.figure(figsize=(20, 10))\n",
    "sns.histplot(data_full[['rougher.input.feed_ag', 'rougher.output.concentrate_ag', 'primary_cleaner.output.concentrate_ag', 'final.output.concentrate_ag']], kde=True, bins=100)\n",
    "plt.title('Изменение концентрации металла Ag на различных этапах обработки', fontsize=20)\n",
    "plt.ylabel('')\n",
    "plt.xlabel('%', fontsize=18)\n",
    "plt.show()"
   ]
  },
  {
   "cell_type": "code",
   "execution_count": 19,
   "metadata": {},
   "outputs": [
    {
     "data": {
      "image/png": "[encoded data removed]",
      "text/plain": [
       "<Figure size 1440x720 with 1 Axes>"
      ]
     },
     "metadata": {
      "needs_background": "light"
     },
     "output_type": "display_data"
    }
   ],
   "source": [
    "plt.figure(figsize=(20, 10))\n",
    "sns.histplot(data_full[['rougher.input.feed_pb', 'rougher.output.concentrate_pb', 'primary_cleaner.output.concentrate_pb', 'final.output.concentrate_pb']], kde=True, bins=100)\n",
    "plt.title('Изменение концентрации металла Pb на различных этапах обработки', fontsize=20)\n",
    "plt.ylabel('')\n",
    "plt.xlabel('%', fontsize=18)\n",
    "plt.show()"
   ]
  },
  {
   "cell_type": "markdown",
   "metadata": {},
   "source": [
    "**Вывод по пункту 2.1**\n",
    "\n",
    "В ходе выполнения данного пункта были построены графики изменения концентрации золота, серебра и свинца на разных этапах обработки. По первому графику мы видим, что концентрация золота от этапа к этапу растет. У серебра концентрация сначала растет, а потом снижается. У свинца на первых трех этапах растет, а на четвертом практически совпадает с третьим"
   ]
  },
  {
   "cell_type": "markdown",
   "metadata": {},
   "source": [
    "**2.2 Сравним распределения размеров гранул сырья на обучающей и тестовой выборках.**"
   ]
  },
  {
   "cell_type": "code",
   "execution_count": 20,
   "metadata": {},
   "outputs": [
    {
     "name": "stderr",
     "output_type": "stream",
     "text": [
      "/opt/conda/lib/python3.9/site-packages/seaborn/distributions.py:2557: FutureWarning: `distplot` is a deprecated function and will be removed in a future version. Please adapt your code to use either `displot` (a figure-level function with similar flexibility) or `kdeplot` (an axes-level function for kernel density plots).\n",
      "  warnings.warn(msg, FutureWarning)\n",
      "/opt/conda/lib/python3.9/site-packages/seaborn/distributions.py:2557: FutureWarning: `distplot` is a deprecated function and will be removed in a future version. Please adapt your code to use either `displot` (a figure-level function with similar flexibility) or `kdeplot` (an axes-level function for kernel density plots).\n",
      "  warnings.warn(msg, FutureWarning)\n"
     ]
    },
    {
     "data": {
      "image/png": "[encoded data removed]",
      "text/plain": [
       "<Figure size 1080x360 with 1 Axes>"
      ]
     },
     "metadata": {
      "needs_background": "light"
     },
     "output_type": "display_data"
    }
   ],
   "source": [
    "plt.figure(figsize=(15, 5))\n",
    "for data, name in zip([data_train['rougher.input.feed_size'], data_test['rougher.input.feed_size']], ['data_train', 'data-test']):\n",
    "    sns.distplot(data, hist=False, kde=True, label=name, bins=100)\n",
    "plt.title('Распределения размеров гранул сырья на обучающей и тестовой выборках', fontsize=15)\n",
    "plt.legend(prop={'size': 15}, title = 'data')\n",
    "plt.show()"
   ]
  },
  {
   "cell_type": "markdown",
   "metadata": {},
   "source": [
    "**Вывод по пункту 2.2**\n",
    "\n",
    "В ходе работы над этим пунктом были построены графики распределения размеров гранул сырья на обучающей и тестовой выборках. По графику мы видим, что распределения очень похожи."
   ]
  },
  {
   "cell_type": "markdown",
   "metadata": {},
   "source": [
    "**2.3 Исследуем суммарную концентрацию всех веществ на разных стадиях: в сырье, в черновом и финальном концентратах.**"
   ]
  },
  {
   "cell_type": "code",
   "execution_count": 28,
   "metadata": {},
   "outputs": [
    {
     "name": "stderr",
     "output_type": "stream",
     "text": [
      "/opt/conda/lib/python3.9/site-packages/seaborn/distributions.py:2557: FutureWarning: `distplot` is a deprecated function and will be removed in a future version. Please adapt your code to use either `displot` (a figure-level function with similar flexibility) or `kdeplot` (an axes-level function for kernel density plots).\n",
      "  warnings.warn(msg, FutureWarning)\n"
     ]
    },
    {
     "data": {
      "image/png": "[encoded data removed]",
      "text/plain": [
       "<Figure size 1080x360 with 1 Axes>"
      ]
     },
     "metadata": {
      "needs_background": "light"
     },
     "output_type": "display_data"
    },
    {
     "name": "stderr",
     "output_type": "stream",
     "text": [
      "/opt/conda/lib/python3.9/site-packages/seaborn/distributions.py:2557: FutureWarning: `distplot` is a deprecated function and will be removed in a future version. Please adapt your code to use either `displot` (a figure-level function with similar flexibility) or `kdeplot` (an axes-level function for kernel density plots).\n",
      "  warnings.warn(msg, FutureWarning)\n"
     ]
    },
    {
     "data": {
      "image/png": "[encoded data removed]",
      "text/plain": [
       "<Figure size 1080x360 with 1 Axes>"
      ]
     },
     "metadata": {
      "needs_background": "light"
     },
     "output_type": "display_data"
    },
    {
     "name": "stderr",
     "output_type": "stream",
     "text": [
      "/opt/conda/lib/python3.9/site-packages/seaborn/distributions.py:2557: FutureWarning: `distplot` is a deprecated function and will be removed in a future version. Please adapt your code to use either `displot` (a figure-level function with similar flexibility) or `kdeplot` (an axes-level function for kernel density plots).\n",
      "  warnings.warn(msg, FutureWarning)\n"
     ]
    },
    {
     "data": {
      "image/png": "[encoded data removed]",
      "text/plain": [
       "<Figure size 1080x360 with 1 Axes>"
      ]
     },
     "metadata": {
      "needs_background": "light"
     },
     "output_type": "display_data"
    }
   ],
   "source": [
    "data_train.loc[:, 'Суммарная концентрация всех веществ на стадии сырья'] = data_train.loc[:, ['rougher.input.feed_au',\n",
    "                                'rougher.input.feed_ag',\n",
    "                                'rougher.input.feed_pb',\n",
    "                                'rougher.input.feed_sol']].sum(axis=1)\n",
    "\n",
    "data_train.loc[:, 'Суммарная концентрация всех веществ на стадии чернового концентрата'] = data_train.loc[:, ['rougher.output.concentrate_au',\n",
    "                                'rougher.output.concentrate_ag',\n",
    "                                'rougher.output.concentrate_pb',\n",
    "                                'rougher.output.concentrate_sol']].sum(axis=1)\n",
    "\n",
    "    \n",
    "data_train.loc[:, 'Суммарная концентрация всех веществ на стадии финального концентрата'] = data_train.loc[:, ['final.output.concentrate_au',\n",
    "                               'final.output.concentrate_ag',\n",
    "                               'final.output.concentrate_pb',\n",
    "                               'final.output.concentrate_sol']].sum(axis=1)\n",
    "\n",
    "plt.figure(figsize=(15, 5))\n",
    "plt.title('Суммарная концентрация всех веществ на стадии сырья', fontsize=15)\n",
    "sns.distplot(data_train['Суммарная концентрация всех веществ на стадии сырья'], color='green', hist=False, kde=True, bins=100)\n",
    "plt.show()\n",
    "\n",
    "plt.figure(figsize=(15, 5))\n",
    "plt.title('Суммарная концентрация всех веществ на стадии чернового концентрата', fontsize=15)\n",
    "sns.distplot(data_train['Суммарная концентрация всех веществ на стадии чернового концентрата'], color='blue', hist=False, kde=True, bins=100)\n",
    "plt.show()\n",
    "\n",
    "plt.figure(figsize=(15, 5))\n",
    "plt.title('Суммарная концентрация всех веществ на стадии финального концентрата', fontsize=15)\n",
    "sns.distplot(data_train['Суммарная концентрация всех веществ на стадии финального концентрата'], color='pink', hist=False, kde=True, bins=100)\n",
    "plt.show()"
   ]
  },
  {
   "cell_type": "markdown",
   "metadata": {},
   "source": [
    "Можно заметить, что во всех распределениях присутствует пик около нулевого значения. Он очень далек от общего распределения, его следует удалить. "
   ]
  },
  {
   "cell_type": "code",
   "execution_count": 31,
   "metadata": {},
   "outputs": [],
   "source": [
    "# удаление выбросов из тренировочной выборки\n",
    "data_train = data_train.loc[data_train['rougher.input.feed_au'] > 1]\n",
    "data_train = data_train.loc[data_train['rougher.input.feed_ag'] > 1]\n",
    "data_train = data_train.loc[data_train['rougher.input.feed_pb'] > 1]\n",
    "data_train = data_train.loc[data_train['rougher.input.feed_sol'] > 1]\n",
    "\n",
    "data_train = data_train.loc[data_train['rougher.output.concentrate_au'] > 1]\n",
    "data_train = data_train.loc[data_train['rougher.output.concentrate_ag'] > 1]\n",
    "data_train = data_train.loc[data_train['rougher.output.concentrate_pb'] > 1]\n",
    "data_train = data_train.loc[data_train['rougher.output.concentrate_sol'] > 1]\n",
    "\n",
    "data_train = data_train.loc[data_train['primary_cleaner.output.concentrate_au'] > 1]\n",
    "data_train = data_train.loc[data_train['primary_cleaner.output.concentrate_ag'] > 1]\n",
    "data_train = data_train.loc[data_train['primary_cleaner.output.concentrate_pb'] > 1]\n",
    "data_train = data_train.loc[data_train['primary_cleaner.output.concentrate_sol'] > 1]\n",
    "\n",
    "data_train = data_train.loc[data_train['final.output.concentrate_au'] > 1]\n",
    "data_train = data_train.loc[data_train['final.output.concentrate_ag'] > 1]\n",
    "data_train = data_train.loc[data_train['final.output.concentrate_pb'] > 1]\n",
    "data_train = data_train.loc[data_train['final.output.concentrate_sol'] > 1]"
   ]
  },
  {
   "cell_type": "code",
   "execution_count": 32,
   "metadata": {},
   "outputs": [
    {
     "name": "stderr",
     "output_type": "stream",
     "text": [
      "/opt/conda/lib/python3.9/site-packages/seaborn/distributions.py:2557: FutureWarning: `distplot` is a deprecated function and will be removed in a future version. Please adapt your code to use either `displot` (a figure-level function with similar flexibility) or `kdeplot` (an axes-level function for kernel density plots).\n",
      "  warnings.warn(msg, FutureWarning)\n"
     ]
    },
    {
     "data": {
      "image/png": "[encoded data removed]",
      "text/plain": [
       "<Figure size 1080x360 with 1 Axes>"
      ]
     },
     "metadata": {
      "needs_background": "light"
     },
     "output_type": "display_data"
    },
    {
     "name": "stderr",
     "output_type": "stream",
     "text": [
      "/opt/conda/lib/python3.9/site-packages/seaborn/distributions.py:2557: FutureWarning: `distplot` is a deprecated function and will be removed in a future version. Please adapt your code to use either `displot` (a figure-level function with similar flexibility) or `kdeplot` (an axes-level function for kernel density plots).\n",
      "  warnings.warn(msg, FutureWarning)\n"
     ]
    },
    {
     "data": {
      "image/png": "[encoded data removed]",
      "text/plain": [
       "<Figure size 1080x360 with 1 Axes>"
      ]
     },
     "metadata": {
      "needs_background": "light"
     },
     "output_type": "display_data"
    },
    {
     "name": "stderr",
     "output_type": "stream",
     "text": [
      "/opt/conda/lib/python3.9/site-packages/seaborn/distributions.py:2557: FutureWarning: `distplot` is a deprecated function and will be removed in a future version. Please adapt your code to use either `displot` (a figure-level function with similar flexibility) or `kdeplot` (an axes-level function for kernel density plots).\n",
      "  warnings.warn(msg, FutureWarning)\n"
     ]
    },
    {
     "data": {
      "image/png": "[encoded data removed]",
      "text/plain": [
       "<Figure size 1080x360 with 1 Axes>"
      ]
     },
     "metadata": {
      "needs_background": "light"
     },
     "output_type": "display_data"
    }
   ],
   "source": [
    "# проверим изменения на графиках\n",
    "data_train.loc[:, 'Суммарная концентрация всех веществ на стадии сырья'] = data_train.loc[:, ['rougher.input.feed_au',\n",
    "                                'rougher.input.feed_ag',\n",
    "                                'rougher.input.feed_pb',\n",
    "                                'rougher.input.feed_sol']].sum(axis=1)\n",
    "\n",
    "data_train.loc[:, 'Суммарная концентрация всех веществ на стадии чернового концентрата'] = data_train.loc[:, ['rougher.output.concentrate_au',\n",
    "                                'rougher.output.concentrate_ag',\n",
    "                                'rougher.output.concentrate_pb',\n",
    "                                'rougher.output.concentrate_sol']].sum(axis=1)\n",
    "\n",
    "    \n",
    "data_train.loc[:, 'Суммарная концентрация всех веществ на стадии финального концентрата'] = data_train.loc[:, ['final.output.concentrate_au',\n",
    "                               'final.output.concentrate_ag',\n",
    "                               'final.output.concentrate_pb',\n",
    "                               'final.output.concentrate_sol']].sum(axis=1)\n",
    "\n",
    "plt.figure(figsize=(15, 5))\n",
    "plt.title('Суммарная концентрация всех веществ на стадии сырья', fontsize=15)\n",
    "sns.distplot(data_train['Суммарная концентрация всех веществ на стадии сырья'], color='green', hist=False, kde=True, bins=100)\n",
    "plt.show()\n",
    "\n",
    "plt.figure(figsize=(15, 5))\n",
    "plt.title('Суммарная концентрация всех веществ на стадии чернового концентрата', fontsize=15)\n",
    "sns.distplot(data_train['Суммарная концентрация всех веществ на стадии чернового концентрата'], color='blue', hist=False, kde=True, bins=100)\n",
    "plt.show()\n",
    "\n",
    "plt.figure(figsize=(15, 5))\n",
    "plt.title('Суммарная концентрация всех веществ на стадии финального концентрата', fontsize=15)\n",
    "sns.distplot(data_train['Суммарная концентрация всех веществ на стадии финального концентрата'], color='pink', hist=False, kde=True, bins=100)\n",
    "plt.show()"
   ]
  },
  {
   "cell_type": "markdown",
   "metadata": {},
   "source": [
    "**Вывод по пункту 2.3**\n",
    "\n",
    "- Суммарная концентрация всех веществ на стадиях от сырья к финальной стадии возрастает\n",
    "- Удалили выбросы из обучающей выборки"
   ]
  },
  {
   "cell_type": "markdown",
   "metadata": {},
   "source": [
    "## Модель"
   ]
  },
  {
   "cell_type": "code",
   "execution_count": 33,
   "metadata": {},
   "outputs": [
    {
     "name": "stdout",
     "output_type": "stream",
     "text": [
      "<class 'pandas.core.frame.DataFrame'>\n",
      "Int64Index: 13304 entries, 0 to 14148\n",
      "Data columns (total 55 columns):\n",
      " #   Column                                      Non-Null Count  Dtype         \n",
      "---  ------                                      --------------  -----         \n",
      " 0   date                                        13304 non-null  datetime64[ns]\n",
      " 1   primary_cleaner.input.sulfate               13304 non-null  float64       \n",
      " 2   primary_cleaner.input.depressant            13304 non-null  float64       \n",
      " 3   primary_cleaner.input.feed_size             13304 non-null  float64       \n",
      " 4   primary_cleaner.input.xanthate              13304 non-null  float64       \n",
      " 5   primary_cleaner.state.floatbank8_a_air      13304 non-null  float64       \n",
      " 6   primary_cleaner.state.floatbank8_a_level    13304 non-null  float64       \n",
      " 7   primary_cleaner.state.floatbank8_b_air      13304 non-null  float64       \n",
      " 8   primary_cleaner.state.floatbank8_b_level    13304 non-null  float64       \n",
      " 9   primary_cleaner.state.floatbank8_c_air      13304 non-null  float64       \n",
      " 10  primary_cleaner.state.floatbank8_c_level    13304 non-null  float64       \n",
      " 11  primary_cleaner.state.floatbank8_d_air      13304 non-null  float64       \n",
      " 12  primary_cleaner.state.floatbank8_d_level    13304 non-null  float64       \n",
      " 13  rougher.input.feed_ag                       13304 non-null  float64       \n",
      " 14  rougher.input.feed_pb                       13304 non-null  float64       \n",
      " 15  rougher.input.feed_rate                     13304 non-null  float64       \n",
      " 16  rougher.input.feed_size                     13304 non-null  float64       \n",
      " 17  rougher.input.feed_sol                      13304 non-null  float64       \n",
      " 18  rougher.input.feed_au                       13304 non-null  float64       \n",
      " 19  rougher.input.floatbank10_sulfate           13304 non-null  float64       \n",
      " 20  rougher.input.floatbank10_xanthate          13304 non-null  float64       \n",
      " 21  rougher.input.floatbank11_sulfate           13304 non-null  float64       \n",
      " 22  rougher.input.floatbank11_xanthate          13304 non-null  float64       \n",
      " 23  rougher.state.floatbank10_a_air             13304 non-null  float64       \n",
      " 24  rougher.state.floatbank10_a_level           13304 non-null  float64       \n",
      " 25  rougher.state.floatbank10_b_air             13304 non-null  float64       \n",
      " 26  rougher.state.floatbank10_b_level           13304 non-null  float64       \n",
      " 27  rougher.state.floatbank10_c_air             13304 non-null  float64       \n",
      " 28  rougher.state.floatbank10_c_level           13304 non-null  float64       \n",
      " 29  rougher.state.floatbank10_d_air             13304 non-null  float64       \n",
      " 30  rougher.state.floatbank10_d_level           13304 non-null  float64       \n",
      " 31  rougher.state.floatbank10_e_air             13304 non-null  float64       \n",
      " 32  rougher.state.floatbank10_e_level           13304 non-null  float64       \n",
      " 33  rougher.state.floatbank10_f_air             13304 non-null  float64       \n",
      " 34  rougher.state.floatbank10_f_level           13304 non-null  float64       \n",
      " 35  secondary_cleaner.state.floatbank2_a_air    13304 non-null  float64       \n",
      " 36  secondary_cleaner.state.floatbank2_a_level  13304 non-null  float64       \n",
      " 37  secondary_cleaner.state.floatbank2_b_air    13304 non-null  float64       \n",
      " 38  secondary_cleaner.state.floatbank2_b_level  13304 non-null  float64       \n",
      " 39  secondary_cleaner.state.floatbank3_a_air    13304 non-null  float64       \n",
      " 40  secondary_cleaner.state.floatbank3_a_level  13304 non-null  float64       \n",
      " 41  secondary_cleaner.state.floatbank3_b_air    13304 non-null  float64       \n",
      " 42  secondary_cleaner.state.floatbank3_b_level  13304 non-null  float64       \n",
      " 43  secondary_cleaner.state.floatbank4_a_air    13304 non-null  float64       \n",
      " 44  secondary_cleaner.state.floatbank4_a_level  13304 non-null  float64       \n",
      " 45  secondary_cleaner.state.floatbank4_b_air    13304 non-null  float64       \n",
      " 46  secondary_cleaner.state.floatbank4_b_level  13304 non-null  float64       \n",
      " 47  secondary_cleaner.state.floatbank5_a_air    13304 non-null  float64       \n",
      " 48  secondary_cleaner.state.floatbank5_a_level  13304 non-null  float64       \n",
      " 49  secondary_cleaner.state.floatbank5_b_air    13304 non-null  float64       \n",
      " 50  secondary_cleaner.state.floatbank5_b_level  13304 non-null  float64       \n",
      " 51  secondary_cleaner.state.floatbank6_a_air    13304 non-null  float64       \n",
      " 52  secondary_cleaner.state.floatbank6_a_level  13304 non-null  float64       \n",
      " 53  rougher.output.recovery                     13304 non-null  float64       \n",
      " 54  final.output.recovery                       13304 non-null  float64       \n",
      "dtypes: datetime64[ns](1), float64(54)\n",
      "memory usage: 5.7 MB\n"
     ]
    }
   ],
   "source": [
    "# обрезаем тренировочную выборку, оставив только те столбцы, которые есть в тестовой\n",
    "data_train = data_train[data_test.columns]\n",
    "data_train.info()"
   ]
  },
  {
   "cell_type": "markdown",
   "metadata": {},
   "source": [
    "**3.1 Напишем функцию для вычисления итоговой sMAPE**"
   ]
  },
  {
   "cell_type": "code",
   "execution_count": 34,
   "metadata": {},
   "outputs": [],
   "source": [
    "def smape(y, y_pred, **kwargs):\n",
    "    return (((abs(y - y_pred) * 2 * 100) /\n",
    "              (abs(y) + abs(y_pred))).sum()) / len(y)\n",
    "\n",
    "def end_smape(rougher_smape, final_smape):\n",
    "    return 0.25 * rougher_smape.item() + 0.75 * final_smape.item()"
   ]
  },
  {
   "cell_type": "markdown",
   "metadata": {},
   "source": [
    "**3.2 Обучим разные модели и оценим их качество кросс-валидацией. Выберем лучшую модель и проверим её на тестовой выборке.**"
   ]
  },
  {
   "cell_type": "code",
   "execution_count": 35,
   "metadata": {},
   "outputs": [
    {
     "name": "stdout",
     "output_type": "stream",
     "text": [
      "<class 'pandas.core.frame.DataFrame'>\n",
      "Int64Index: 13304 entries, 0 to 14148\n",
      "Data columns (total 54 columns):\n",
      " #   Column                                      Non-Null Count  Dtype  \n",
      "---  ------                                      --------------  -----  \n",
      " 0   primary_cleaner.input.sulfate               13304 non-null  float64\n",
      " 1   primary_cleaner.input.depressant            13304 non-null  float64\n",
      " 2   primary_cleaner.input.feed_size             13304 non-null  float64\n",
      " 3   primary_cleaner.input.xanthate              13304 non-null  float64\n",
      " 4   primary_cleaner.state.floatbank8_a_air      13304 non-null  float64\n",
      " 5   primary_cleaner.state.floatbank8_a_level    13304 non-null  float64\n",
      " 6   primary_cleaner.state.floatbank8_b_air      13304 non-null  float64\n",
      " 7   primary_cleaner.state.floatbank8_b_level    13304 non-null  float64\n",
      " 8   primary_cleaner.state.floatbank8_c_air      13304 non-null  float64\n",
      " 9   primary_cleaner.state.floatbank8_c_level    13304 non-null  float64\n",
      " 10  primary_cleaner.state.floatbank8_d_air      13304 non-null  float64\n",
      " 11  primary_cleaner.state.floatbank8_d_level    13304 non-null  float64\n",
      " 12  rougher.input.feed_ag                       13304 non-null  float64\n",
      " 13  rougher.input.feed_pb                       13304 non-null  float64\n",
      " 14  rougher.input.feed_rate                     13304 non-null  float64\n",
      " 15  rougher.input.feed_size                     13304 non-null  float64\n",
      " 16  rougher.input.feed_sol                      13304 non-null  float64\n",
      " 17  rougher.input.feed_au                       13304 non-null  float64\n",
      " 18  rougher.input.floatbank10_sulfate           13304 non-null  float64\n",
      " 19  rougher.input.floatbank10_xanthate          13304 non-null  float64\n",
      " 20  rougher.input.floatbank11_sulfate           13304 non-null  float64\n",
      " 21  rougher.input.floatbank11_xanthate          13304 non-null  float64\n",
      " 22  rougher.state.floatbank10_a_air             13304 non-null  float64\n",
      " 23  rougher.state.floatbank10_a_level           13304 non-null  float64\n",
      " 24  rougher.state.floatbank10_b_air             13304 non-null  float64\n",
      " 25  rougher.state.floatbank10_b_level           13304 non-null  float64\n",
      " 26  rougher.state.floatbank10_c_air             13304 non-null  float64\n",
      " 27  rougher.state.floatbank10_c_level           13304 non-null  float64\n",
      " 28  rougher.state.floatbank10_d_air             13304 non-null  float64\n",
      " 29  rougher.state.floatbank10_d_level           13304 non-null  float64\n",
      " 30  rougher.state.floatbank10_e_air             13304 non-null  float64\n",
      " 31  rougher.state.floatbank10_e_level           13304 non-null  float64\n",
      " 32  rougher.state.floatbank10_f_air             13304 non-null  float64\n",
      " 33  rougher.state.floatbank10_f_level           13304 non-null  float64\n",
      " 34  secondary_cleaner.state.floatbank2_a_air    13304 non-null  float64\n",
      " 35  secondary_cleaner.state.floatbank2_a_level  13304 non-null  float64\n",
      " 36  secondary_cleaner.state.floatbank2_b_air    13304 non-null  float64\n",
      " 37  secondary_cleaner.state.floatbank2_b_level  13304 non-null  float64\n",
      " 38  secondary_cleaner.state.floatbank3_a_air    13304 non-null  float64\n",
      " 39  secondary_cleaner.state.floatbank3_a_level  13304 non-null  float64\n",
      " 40  secondary_cleaner.state.floatbank3_b_air    13304 non-null  float64\n",
      " 41  secondary_cleaner.state.floatbank3_b_level  13304 non-null  float64\n",
      " 42  secondary_cleaner.state.floatbank4_a_air    13304 non-null  float64\n",
      " 43  secondary_cleaner.state.floatbank4_a_level  13304 non-null  float64\n",
      " 44  secondary_cleaner.state.floatbank4_b_air    13304 non-null  float64\n",
      " 45  secondary_cleaner.state.floatbank4_b_level  13304 non-null  float64\n",
      " 46  secondary_cleaner.state.floatbank5_a_air    13304 non-null  float64\n",
      " 47  secondary_cleaner.state.floatbank5_a_level  13304 non-null  float64\n",
      " 48  secondary_cleaner.state.floatbank5_b_air    13304 non-null  float64\n",
      " 49  secondary_cleaner.state.floatbank5_b_level  13304 non-null  float64\n",
      " 50  secondary_cleaner.state.floatbank6_a_air    13304 non-null  float64\n",
      " 51  secondary_cleaner.state.floatbank6_a_level  13304 non-null  float64\n",
      " 52  rougher.output.recovery                     13304 non-null  float64\n",
      " 53  final.output.recovery                       13304 non-null  float64\n",
      "dtypes: float64(54)\n",
      "memory usage: 5.6 MB\n",
      "<class 'pandas.core.frame.DataFrame'>\n",
      "Int64Index: 5290 entries, 0 to 5289\n",
      "Data columns (total 54 columns):\n",
      " #   Column                                      Non-Null Count  Dtype  \n",
      "---  ------                                      --------------  -----  \n",
      " 0   primary_cleaner.input.sulfate               5290 non-null   float64\n",
      " 1   primary_cleaner.input.depressant            5290 non-null   float64\n",
      " 2   primary_cleaner.input.feed_size             5290 non-null   float64\n",
      " 3   primary_cleaner.input.xanthate              5290 non-null   float64\n",
      " 4   primary_cleaner.state.floatbank8_a_air      5290 non-null   float64\n",
      " 5   primary_cleaner.state.floatbank8_a_level    5290 non-null   float64\n",
      " 6   primary_cleaner.state.floatbank8_b_air      5290 non-null   float64\n",
      " 7   primary_cleaner.state.floatbank8_b_level    5290 non-null   float64\n",
      " 8   primary_cleaner.state.floatbank8_c_air      5290 non-null   float64\n",
      " 9   primary_cleaner.state.floatbank8_c_level    5290 non-null   float64\n",
      " 10  primary_cleaner.state.floatbank8_d_air      5290 non-null   float64\n",
      " 11  primary_cleaner.state.floatbank8_d_level    5290 non-null   float64\n",
      " 12  rougher.input.feed_ag                       5290 non-null   float64\n",
      " 13  rougher.input.feed_pb                       5290 non-null   float64\n",
      " 14  rougher.input.feed_rate                     5290 non-null   float64\n",
      " 15  rougher.input.feed_size                     5290 non-null   float64\n",
      " 16  rougher.input.feed_sol                      5290 non-null   float64\n",
      " 17  rougher.input.feed_au                       5290 non-null   float64\n",
      " 18  rougher.input.floatbank10_sulfate           5290 non-null   float64\n",
      " 19  rougher.input.floatbank10_xanthate          5290 non-null   float64\n",
      " 20  rougher.input.floatbank11_sulfate           5290 non-null   float64\n",
      " 21  rougher.input.floatbank11_xanthate          5290 non-null   float64\n",
      " 22  rougher.state.floatbank10_a_air             5290 non-null   float64\n",
      " 23  rougher.state.floatbank10_a_level           5290 non-null   float64\n",
      " 24  rougher.state.floatbank10_b_air             5290 non-null   float64\n",
      " 25  rougher.state.floatbank10_b_level           5290 non-null   float64\n",
      " 26  rougher.state.floatbank10_c_air             5290 non-null   float64\n",
      " 27  rougher.state.floatbank10_c_level           5290 non-null   float64\n",
      " 28  rougher.state.floatbank10_d_air             5290 non-null   float64\n",
      " 29  rougher.state.floatbank10_d_level           5290 non-null   float64\n",
      " 30  rougher.state.floatbank10_e_air             5290 non-null   float64\n",
      " 31  rougher.state.floatbank10_e_level           5290 non-null   float64\n",
      " 32  rougher.state.floatbank10_f_air             5290 non-null   float64\n",
      " 33  rougher.state.floatbank10_f_level           5290 non-null   float64\n",
      " 34  secondary_cleaner.state.floatbank2_a_air    5290 non-null   float64\n",
      " 35  secondary_cleaner.state.floatbank2_a_level  5290 non-null   float64\n",
      " 36  secondary_cleaner.state.floatbank2_b_air    5290 non-null   float64\n",
      " 37  secondary_cleaner.state.floatbank2_b_level  5290 non-null   float64\n",
      " 38  secondary_cleaner.state.floatbank3_a_air    5290 non-null   float64\n",
      " 39  secondary_cleaner.state.floatbank3_a_level  5290 non-null   float64\n",
      " 40  secondary_cleaner.state.floatbank3_b_air    5290 non-null   float64\n",
      " 41  secondary_cleaner.state.floatbank3_b_level  5290 non-null   float64\n",
      " 42  secondary_cleaner.state.floatbank4_a_air    5290 non-null   float64\n",
      " 43  secondary_cleaner.state.floatbank4_a_level  5290 non-null   float64\n",
      " 44  secondary_cleaner.state.floatbank4_b_air    5290 non-null   float64\n",
      " 45  secondary_cleaner.state.floatbank4_b_level  5290 non-null   float64\n",
      " 46  secondary_cleaner.state.floatbank5_a_air    5290 non-null   float64\n",
      " 47  secondary_cleaner.state.floatbank5_a_level  5290 non-null   float64\n",
      " 48  secondary_cleaner.state.floatbank5_b_air    5290 non-null   float64\n",
      " 49  secondary_cleaner.state.floatbank5_b_level  5290 non-null   float64\n",
      " 50  secondary_cleaner.state.floatbank6_a_air    5290 non-null   float64\n",
      " 51  secondary_cleaner.state.floatbank6_a_level  5290 non-null   float64\n",
      " 52  rougher.output.recovery                     5290 non-null   float64\n",
      " 53  final.output.recovery                       5290 non-null   float64\n",
      "dtypes: float64(54)\n",
      "memory usage: 2.2 MB\n"
     ]
    }
   ],
   "source": [
    "# удаление ненужного для моделей столбца date\n",
    "data_train = data_train.drop(['date'], axis=1)\n",
    "data_test = data_test.drop(['date'], axis=1)\n",
    "data_train.info()\n",
    "data_test.info()"
   ]
  },
  {
   "cell_type": "code",
   "execution_count": 36,
   "metadata": {},
   "outputs": [],
   "source": [
    "# отделим целевые признаки от признаков в обучающей и тестовой выборках\n",
    "features_train = data_train.drop(['rougher.output.recovery', 'final.output.recovery'], axis=1)\n",
    "target_train_rougher = data_train['rougher.output.recovery']\n",
    "target_train_final= data_train['final.output.recovery']\n",
    "\n",
    "features_test = data_test.drop(['rougher.output.recovery', 'final.output.recovery'], axis=1)\n",
    "target_test_rougher = data_test['rougher.output.recovery']\n",
    "target_test_final = data_test['final.output.recovery']"
   ]
  },
  {
   "cell_type": "code",
   "execution_count": 37,
   "metadata": {},
   "outputs": [],
   "source": [
    "# функция для применения кросс-валидации\n",
    "def get_cv_scores(model, target, features):\n",
    "    my_scorer = make_scorer(smape)\n",
    "    \n",
    "    scores = cross_val_score(model,\n",
    "                             features,\n",
    "                             target,\n",
    "                             cv=5,\n",
    "                             scoring=my_scorer)\n",
    "    \n",
    "    return scores.mean()"
   ]
  },
  {
   "cell_type": "code",
   "execution_count": 38,
   "metadata": {},
   "outputs": [
    {
     "data": {
      "text/html": [
       "<div>\n",
       "<style scoped>\n",
       "    .dataframe tbody tr th:only-of-type {\n",
       "        vertical-align: middle;\n",
       "    }\n",
       "\n",
       "    .dataframe tbody tr th {\n",
       "        vertical-align: top;\n",
       "    }\n",
       "\n",
       "    .dataframe thead th {\n",
       "        text-align: right;\n",
       "    }\n",
       "</style>\n",
       "<table border=\"1\" class=\"dataframe\">\n",
       "  <thead>\n",
       "    <tr style=\"text-align: right;\">\n",
       "      <th></th>\n",
       "      <th>smape_rougher_tree</th>\n",
       "      <th>smape_final_tree</th>\n",
       "      <th>smape_result_tree</th>\n",
       "      <th>depth</th>\n",
       "    </tr>\n",
       "  </thead>\n",
       "  <tbody>\n",
       "    <tr>\n",
       "      <th>2</th>\n",
       "      <td>7.237966</td>\n",
       "      <td>9.017300</td>\n",
       "      <td>8.572467</td>\n",
       "      <td>3</td>\n",
       "    </tr>\n",
       "    <tr>\n",
       "      <th>1</th>\n",
       "      <td>7.682140</td>\n",
       "      <td>8.997029</td>\n",
       "      <td>8.668307</td>\n",
       "      <td>2</td>\n",
       "    </tr>\n",
       "    <tr>\n",
       "      <th>4</th>\n",
       "      <td>6.752620</td>\n",
       "      <td>9.514451</td>\n",
       "      <td>8.823993</td>\n",
       "      <td>5</td>\n",
       "    </tr>\n",
       "    <tr>\n",
       "      <th>0</th>\n",
       "      <td>7.805160</td>\n",
       "      <td>9.200628</td>\n",
       "      <td>8.851761</td>\n",
       "      <td>1</td>\n",
       "    </tr>\n",
       "    <tr>\n",
       "      <th>3</th>\n",
       "      <td>7.219191</td>\n",
       "      <td>9.595976</td>\n",
       "      <td>9.001780</td>\n",
       "      <td>4</td>\n",
       "    </tr>\n",
       "    <tr>\n",
       "      <th>5</th>\n",
       "      <td>7.505132</td>\n",
       "      <td>10.008128</td>\n",
       "      <td>9.382379</td>\n",
       "      <td>6</td>\n",
       "    </tr>\n",
       "    <tr>\n",
       "      <th>6</th>\n",
       "      <td>7.629819</td>\n",
       "      <td>10.924342</td>\n",
       "      <td>10.100711</td>\n",
       "      <td>7</td>\n",
       "    </tr>\n",
       "    <tr>\n",
       "      <th>8</th>\n",
       "      <td>8.111485</td>\n",
       "      <td>11.521427</td>\n",
       "      <td>10.668941</td>\n",
       "      <td>9</td>\n",
       "    </tr>\n",
       "    <tr>\n",
       "      <th>7</th>\n",
       "      <td>8.019881</td>\n",
       "      <td>11.812825</td>\n",
       "      <td>10.864589</td>\n",
       "      <td>8</td>\n",
       "    </tr>\n",
       "    <tr>\n",
       "      <th>9</th>\n",
       "      <td>8.482888</td>\n",
       "      <td>12.765902</td>\n",
       "      <td>11.695149</td>\n",
       "      <td>10</td>\n",
       "    </tr>\n",
       "  </tbody>\n",
       "</table>\n",
       "</div>"
      ],
      "text/plain": [
       "   smape_rougher_tree  smape_final_tree  smape_result_tree  depth\n",
       "2            7.237966          9.017300           8.572467      3\n",
       "1            7.682140          8.997029           8.668307      2\n",
       "4            6.752620          9.514451           8.823993      5\n",
       "0            7.805160          9.200628           8.851761      1\n",
       "3            7.219191          9.595976           9.001780      4\n",
       "5            7.505132         10.008128           9.382379      6\n",
       "6            7.629819         10.924342          10.100711      7\n",
       "8            8.111485         11.521427          10.668941      9\n",
       "7            8.019881         11.812825          10.864589      8\n",
       "9            8.482888         12.765902          11.695149     10"
      ]
     },
     "metadata": {},
     "output_type": "display_data"
    }
   ],
   "source": [
    "tree = defaultdict(list)\n",
    "\n",
    "state = np.random.RandomState(12345)\n",
    "\n",
    "# построим и исследуем модель Решающее дерево\n",
    "for depth in range(1, 11):\n",
    "    \n",
    "    model_rougher_tree = DecisionTreeRegressor(max_depth=depth, random_state=state)\n",
    "    model_final_tree = DecisionTreeRegressor(max_depth=depth, random_state=state)\n",
    "\n",
    "\n",
    "    smape_rougher_tree = get_cv_scores(model_rougher_tree, target_train_rougher, features_train)\n",
    "    smape_final_tree = get_cv_scores(model_final_tree, target_train_final, features_train)\n",
    "    tree['smape_rougher_tree'].append(smape_rougher_tree)\n",
    "    tree['smape_final_tree'].append(smape_final_tree)\n",
    "    tree['smape_result_tree'].append(end_smape(smape_rougher_tree, smape_final_tree))\n",
    "    tree['depth'].append(depth)\n",
    "    \n",
    "display(pd.DataFrame(tree).sort_values(by='smape_result_tree'))"
   ]
  },
  {
   "cell_type": "markdown",
   "metadata": {},
   "source": [
    "Для модели Решающее дерево лучший sMAPE при следующих параметрах: max_depth=3, smape_result_tree=8.572467"
   ]
  },
  {
   "cell_type": "code",
   "execution_count": 39,
   "metadata": {},
   "outputs": [
    {
     "data": {
      "text/html": [
       "<div>\n",
       "<style scoped>\n",
       "    .dataframe tbody tr th:only-of-type {\n",
       "        vertical-align: middle;\n",
       "    }\n",
       "\n",
       "    .dataframe tbody tr th {\n",
       "        vertical-align: top;\n",
       "    }\n",
       "\n",
       "    .dataframe thead th {\n",
       "        text-align: right;\n",
       "    }\n",
       "</style>\n",
       "<table border=\"1\" class=\"dataframe\">\n",
       "  <thead>\n",
       "    <tr style=\"text-align: right;\">\n",
       "      <th></th>\n",
       "      <th>smape_rougher_forest</th>\n",
       "      <th>smape_final_forest</th>\n",
       "      <th>smape_result_forest</th>\n",
       "      <th>est</th>\n",
       "    </tr>\n",
       "  </thead>\n",
       "  <tbody>\n",
       "    <tr>\n",
       "      <th>8</th>\n",
       "      <td>6.828135</td>\n",
       "      <td>8.787266</td>\n",
       "      <td>8.297483</td>\n",
       "      <td>9</td>\n",
       "    </tr>\n",
       "    <tr>\n",
       "      <th>9</th>\n",
       "      <td>6.832660</td>\n",
       "      <td>8.786844</td>\n",
       "      <td>8.298298</td>\n",
       "      <td>10</td>\n",
       "    </tr>\n",
       "    <tr>\n",
       "      <th>10</th>\n",
       "      <td>6.831628</td>\n",
       "      <td>8.789270</td>\n",
       "      <td>8.299859</td>\n",
       "      <td>11</td>\n",
       "    </tr>\n",
       "    <tr>\n",
       "      <th>18</th>\n",
       "      <td>6.892476</td>\n",
       "      <td>8.786246</td>\n",
       "      <td>8.312803</td>\n",
       "      <td>19</td>\n",
       "    </tr>\n",
       "    <tr>\n",
       "      <th>13</th>\n",
       "      <td>6.860666</td>\n",
       "      <td>8.803150</td>\n",
       "      <td>8.317529</td>\n",
       "      <td>14</td>\n",
       "    </tr>\n",
       "    <tr>\n",
       "      <th>12</th>\n",
       "      <td>6.863854</td>\n",
       "      <td>8.807830</td>\n",
       "      <td>8.321836</td>\n",
       "      <td>13</td>\n",
       "    </tr>\n",
       "    <tr>\n",
       "      <th>14</th>\n",
       "      <td>6.868122</td>\n",
       "      <td>8.809088</td>\n",
       "      <td>8.323847</td>\n",
       "      <td>15</td>\n",
       "    </tr>\n",
       "    <tr>\n",
       "      <th>16</th>\n",
       "      <td>6.896460</td>\n",
       "      <td>8.800137</td>\n",
       "      <td>8.324218</td>\n",
       "      <td>17</td>\n",
       "    </tr>\n",
       "    <tr>\n",
       "      <th>15</th>\n",
       "      <td>6.883020</td>\n",
       "      <td>8.805797</td>\n",
       "      <td>8.325103</td>\n",
       "      <td>16</td>\n",
       "    </tr>\n",
       "    <tr>\n",
       "      <th>17</th>\n",
       "      <td>6.906908</td>\n",
       "      <td>8.798970</td>\n",
       "      <td>8.325954</td>\n",
       "      <td>18</td>\n",
       "    </tr>\n",
       "    <tr>\n",
       "      <th>11</th>\n",
       "      <td>6.841921</td>\n",
       "      <td>8.825834</td>\n",
       "      <td>8.329856</td>\n",
       "      <td>12</td>\n",
       "    </tr>\n",
       "    <tr>\n",
       "      <th>7</th>\n",
       "      <td>6.878067</td>\n",
       "      <td>8.821792</td>\n",
       "      <td>8.335861</td>\n",
       "      <td>8</td>\n",
       "    </tr>\n",
       "    <tr>\n",
       "      <th>6</th>\n",
       "      <td>6.914589</td>\n",
       "      <td>8.827982</td>\n",
       "      <td>8.349634</td>\n",
       "      <td>7</td>\n",
       "    </tr>\n",
       "    <tr>\n",
       "      <th>5</th>\n",
       "      <td>6.909299</td>\n",
       "      <td>8.922491</td>\n",
       "      <td>8.419193</td>\n",
       "      <td>6</td>\n",
       "    </tr>\n",
       "    <tr>\n",
       "      <th>4</th>\n",
       "      <td>6.942336</td>\n",
       "      <td>8.937353</td>\n",
       "      <td>8.438598</td>\n",
       "      <td>5</td>\n",
       "    </tr>\n",
       "    <tr>\n",
       "      <th>2</th>\n",
       "      <td>6.977309</td>\n",
       "      <td>8.953997</td>\n",
       "      <td>8.459825</td>\n",
       "      <td>3</td>\n",
       "    </tr>\n",
       "    <tr>\n",
       "      <th>3</th>\n",
       "      <td>6.981292</td>\n",
       "      <td>8.959417</td>\n",
       "      <td>8.464886</td>\n",
       "      <td>4</td>\n",
       "    </tr>\n",
       "    <tr>\n",
       "      <th>0</th>\n",
       "      <td>6.817979</td>\n",
       "      <td>9.191275</td>\n",
       "      <td>8.597951</td>\n",
       "      <td>1</td>\n",
       "    </tr>\n",
       "    <tr>\n",
       "      <th>1</th>\n",
       "      <td>6.931172</td>\n",
       "      <td>9.192026</td>\n",
       "      <td>8.626813</td>\n",
       "      <td>2</td>\n",
       "    </tr>\n",
       "  </tbody>\n",
       "</table>\n",
       "</div>"
      ],
      "text/plain": [
       "    smape_rougher_forest  smape_final_forest  smape_result_forest  est\n",
       "8               6.828135            8.787266             8.297483    9\n",
       "9               6.832660            8.786844             8.298298   10\n",
       "10              6.831628            8.789270             8.299859   11\n",
       "18              6.892476            8.786246             8.312803   19\n",
       "13              6.860666            8.803150             8.317529   14\n",
       "12              6.863854            8.807830             8.321836   13\n",
       "14              6.868122            8.809088             8.323847   15\n",
       "16              6.896460            8.800137             8.324218   17\n",
       "15              6.883020            8.805797             8.325103   16\n",
       "17              6.906908            8.798970             8.325954   18\n",
       "11              6.841921            8.825834             8.329856   12\n",
       "7               6.878067            8.821792             8.335861    8\n",
       "6               6.914589            8.827982             8.349634    7\n",
       "5               6.909299            8.922491             8.419193    6\n",
       "4               6.942336            8.937353             8.438598    5\n",
       "2               6.977309            8.953997             8.459825    3\n",
       "3               6.981292            8.959417             8.464886    4\n",
       "0               6.817979            9.191275             8.597951    1\n",
       "1               6.931172            9.192026             8.626813    2"
      ]
     },
     "metadata": {},
     "output_type": "display_data"
    }
   ],
   "source": [
    "# построим и исследуем модель Случайный лес\n",
    "forest = defaultdict(list)\n",
    "for est in range(1, 20):\n",
    "    model_rougher_forest = RandomForestRegressor(max_depth=3, n_estimators=est, random_state=state)\n",
    "    model_final_forest = RandomForestRegressor(max_depth=3, n_estimators=est, random_state=state)\n",
    "    \n",
    "    smape_rougher_forest = get_cv_scores(model_rougher_forest, target_train_rougher, features_train)\n",
    "    smape_final_forest = get_cv_scores(model_final_forest, target_train_final, features_train)\n",
    "    \n",
    "    forest['smape_rougher_forest'].append(smape_rougher_forest)\n",
    "    forest['smape_final_forest'].append(smape_final_forest)\n",
    "    forest['smape_result_forest'].append(end_smape(smape_rougher_forest, smape_final_forest))\n",
    "    forest['est'].append(est)\n",
    "\n",
    "display(pd.DataFrame(forest).sort_values(by='smape_result_forest'))"
   ]
  },
  {
   "cell_type": "markdown",
   "metadata": {},
   "source": [
    "Для модели Случайный лес лучший sMAPE при следующих параметрах: est=9, smape_result_forest=8.297483"
   ]
  },
  {
   "cell_type": "code",
   "execution_count": 40,
   "metadata": {},
   "outputs": [
    {
     "data": {
      "text/plain": [
       "smape_rougher_linear     7.281963\n",
       "smape_final_linear      10.676503\n",
       "smape_result_linear      9.827868\n",
       "dtype: float64"
      ]
     },
     "metadata": {},
     "output_type": "display_data"
    }
   ],
   "source": [
    "# построим и исследуем модель Линейная регрессия\n",
    "model_rougher_linear = LinearRegression()\n",
    "model_final_linear = LinearRegression()\n",
    "\n",
    "smape_rougher_linear = get_cv_scores(model_rougher_linear, target_train_rougher, features_train)\n",
    "smape_final_linear = get_cv_scores(model_final_linear, target_train_final, features_train)\n",
    "smape_result_linear = end_smape(smape_rougher_linear, smape_final_linear)\n",
    "\n",
    "linear_temp = pd.Series({'smape_rougher_linear': smape_rougher_linear, 'smape_final_linear': smape_final_linear, 'smape_result_linear': smape_result_linear}) \n",
    "display(linear_temp)"
   ]
  },
  {
   "cell_type": "markdown",
   "metadata": {},
   "source": [
    "Для модели Линейная регрессия лучший sMAPE smape_result_linear=9.827868"
   ]
  },
  {
   "cell_type": "markdown",
   "metadata": {},
   "source": [
    "**Вывод**\n",
    "\n",
    "Лучшая модель - модель Случайного леса с количеством деревьев est=9  и показателем sMAPE=8.297483"
   ]
  },
  {
   "cell_type": "markdown",
   "metadata": {},
   "source": [
    "**Проверка лучшей модели на тестовой выборке**"
   ]
  },
  {
   "cell_type": "code",
   "execution_count": 41,
   "metadata": {},
   "outputs": [
    {
     "data": {
      "text/html": [
       "<div>\n",
       "<style scoped>\n",
       "    .dataframe tbody tr th:only-of-type {\n",
       "        vertical-align: middle;\n",
       "    }\n",
       "\n",
       "    .dataframe tbody tr th {\n",
       "        vertical-align: top;\n",
       "    }\n",
       "\n",
       "    .dataframe thead th {\n",
       "        text-align: right;\n",
       "    }\n",
       "</style>\n",
       "<table border=\"1\" class=\"dataframe\">\n",
       "  <thead>\n",
       "    <tr style=\"text-align: right;\">\n",
       "      <th></th>\n",
       "      <th>smape_rougher</th>\n",
       "      <th>smape_final</th>\n",
       "      <th>smape_result</th>\n",
       "    </tr>\n",
       "  </thead>\n",
       "  <tbody>\n",
       "    <tr>\n",
       "      <th>0</th>\n",
       "      <td>8.427228</td>\n",
       "      <td>9.935884</td>\n",
       "      <td>9.55872</td>\n",
       "    </tr>\n",
       "  </tbody>\n",
       "</table>\n",
       "</div>"
      ],
      "text/plain": [
       "   smape_rougher  smape_final  smape_result\n",
       "0       8.427228     9.935884       9.55872"
      ]
     },
     "metadata": {},
     "output_type": "display_data"
    }
   ],
   "source": [
    "test_dict = defaultdict(list)\n",
    "\n",
    "model_rougher_forest = RandomForestRegressor(max_depth=3, n_estimators=9, random_state=state)\n",
    "model_final_forest =  RandomForestRegressor(max_depth=3, n_estimators=9, random_state=state)\n",
    "\n",
    "model_rougher_forest.fit(features_train, target_train_rougher)\n",
    "model_final_forest.fit(features_train, target_train_final)\n",
    "\n",
    "predictions_rougher = model_rougher_forest.predict(features_test)\n",
    "predictions_final = model_final_forest.predict(features_test)\n",
    "\n",
    "test_dict['smape_rougher'].append(smape(target_test_rougher, predictions_rougher))\n",
    "test_dict['smape_final'].append(smape(target_test_final, predictions_final))\n",
    "test_dict['smape_result'].append(end_smape(smape(target_test_rougher, predictions_rougher), smape(target_test_final, predictions_final)))\n",
    "\n",
    "display(pd.DataFrame(test_dict))"
   ]
  },
  {
   "cell_type": "code",
   "execution_count": 44,
   "metadata": {},
   "outputs": [
    {
     "name": "stdout",
     "output_type": "stream",
     "text": [
      "smape_rougher     8.968490\n",
      "smape_final      10.003827\n",
      "smape_result      9.744993\n",
      "dtype: float64\n"
     ]
    }
   ],
   "source": [
    "# проверим найденную модель на адекватность\n",
    "\n",
    "model_dummy_rougher = DummyRegressor(strategy=\"mean\")\n",
    "model_dummy_final = DummyRegressor(strategy=\"mean\")\n",
    "\n",
    "model_dummy_rougher.fit(features_train, target_train_rougher)\n",
    "model_dummy_final.fit(features_train, target_train_final)\n",
    "\n",
    "predictions_rougher_dummy = model_dummy_rougher.predict(features_test)\n",
    "predictions_final_dummy = model_dummy_final.predict(features_test)\n",
    "\n",
    "smape_rougher = smape(target_test_rougher, predictions_rougher_dummy)\n",
    "smape_final = smape(target_test_final, predictions_final_dummy)\n",
    "smape_result = end_smape(smape_rougher, smape_final)\n",
    "\n",
    "dummy = pd.Series({'smape_rougher': smape_rougher, 'smape_final': smape_final, 'smape_result': smape_result }) \n",
    "print(dummy)"
   ]
  },
  {
   "cell_type": "markdown",
   "metadata": {},
   "source": [
    "**Вывод**\n",
    "\n",
    "- Наилучшая модель Случайный лес с количеством деревьев 9 и глубиной 3\n",
    "- При проверке на тестовой выборке она показала результат 9.55872. Прошла проверку на адекватность. Следовательно, модель выбрана правильно"
   ]
  },
  {
   "cell_type": "markdown",
   "metadata": {},
   "source": [
    "**Общий вывод**\n",
    "\n",
    "Изучив данные в трех датасетах, заметили следующее:\n",
    "\n",
    "- в первом датасете 14149 строк и 87 столбцов, во втором датасете 5290 строк и 53 столбца, в третьем датасете 19439 строк и 87 столбцов\n",
    "- названия столбцов в корректном виде\n",
    "- типы столбцов корректны, кроме столбца date\n",
    "\n",
    "Далее, в ходе проделанной работы была найдена эффективность обогащения и рассчитано среднее абсолютное отклонение найденных значений от значений признака. Мы видим, что среднее абсолютное отклонение очень маленькое. Следовательно, эффективность обогащения рассчитана верно \n",
    "\n",
    "В ходе исследования мы выявили столбцы, которые есть в полной выборке, но нет в тестовой. Таких столбцов 34. Из этих столбцов два являются целевыми признаками. Это final.output.recovery и rougher.output.recovery. Их надо будет добавить в тестовую выборку. А остальные признаки надо будет убрать из тренировочной выборки.\n",
    "\n",
    "Заметим, что из 34 признаков 30 относятся к output, т.е. к параметрам продукта, и только 4 к расчетным характеристикам. Возможно, значения этих признаков недоступны во время технологического процесса, они рассчитываются позже.\n",
    "\n",
    "В ходе предобработки данных было проделано следующее:\n",
    "\n",
    "- в трех датасетах столбец date был приведен к корректному типу данных datetime\n",
    "- в тестовую выборку добавлены два недостающих целевых признака из полной выборки\n",
    "- в тренировочной выборке оставили только те столбцы, которые есть в тестовой выборке\n",
    "- проверили датасеты на наличие дубликатов и пропусков: явных дубликатов нет нигде, пропуски есть во всех трех выборках\n",
    "- в полной выборке пропуски нет смысла обрабатывать\n",
    "- в тренировочной и тестовой обработали пропуски методом ffill\n",
    "\n",
    "Изучая, как меняется концентрация металлов (Au, Ag, Pb) на различных этапах очистки, были построены графики изменения концентрации золота, серебра и свинца на разных этапах обработки. По первому графику мы видим, что концентрация золота от этапа к этапу растет. У серебра концентрация сначала растет, а потом снижается. У свинца на первых трех этапах растет, а на четвертом практически совпадает с третьим\n",
    "\n",
    "В ходе сравнения распределения размеров гранул сырья на обучающей и тестовой выборках, были построены графики распределения размеров гранул сырья на этих выборках. По графику мы видим, что распределения очень похожи.\n",
    "\n",
    "Суммарная концентрация всех веществ на стадиях от сырья к финальной стадии возрастает. Были замечены и удалены выбросы.\n",
    "\n",
    "Написали функцию для вычисления итоговой sMAPE\n",
    "\n",
    "В последнем пункте были рассмотрены три модели Решающее дерево, случайный лес и Линейная регрессия. С помощью кросс-валидации и метрики sMAPE была отобрана лучшая модель Случайное дерево с количеством деревьев 9 и глубиной 3. При проверке на тестовой выборке она показала результат 9.55872. Прошла проверку на адекватность. Следовательно, модель выбрана правильно"
   ]
  }
 ],
 "metadata": {
  "ExecuteTimeLog": [
   {
    "duration": 1643,
    "start_time": "2022-12-03T11:15:36.024Z"
   },
   {
    "duration": 2807,
    "start_time": "2022-12-03T11:41:41.475Z"
   },
   {
    "duration": 696,
    "start_time": "2022-12-03T11:54:15.387Z"
   },
   {
    "duration": 280,
    "start_time": "2022-12-03T12:10:13.577Z"
   },
   {
    "duration": 780,
    "start_time": "2022-12-03T12:12:28.533Z"
   },
   {
    "duration": 307,
    "start_time": "2022-12-03T12:31:35.723Z"
   },
   {
    "duration": 161,
    "start_time": "2022-12-03T12:31:56.549Z"
   },
   {
    "duration": 322,
    "start_time": "2022-12-03T12:32:05.845Z"
   },
   {
    "duration": 8,
    "start_time": "2022-12-03T15:27:21.418Z"
   },
   {
    "duration": 4,
    "start_time": "2022-12-03T15:33:42.379Z"
   },
   {
    "duration": 133,
    "start_time": "2022-12-03T15:35:45.026Z"
   },
   {
    "duration": 5,
    "start_time": "2022-12-03T15:36:33.421Z"
   },
   {
    "duration": 4,
    "start_time": "2022-12-03T17:35:59.180Z"
   },
   {
    "duration": 13,
    "start_time": "2022-12-03T17:36:24.107Z"
   },
   {
    "duration": 50,
    "start_time": "2022-12-03T17:36:31.780Z"
   },
   {
    "duration": 60,
    "start_time": "2022-12-03T17:38:22.749Z"
   },
   {
    "duration": 48,
    "start_time": "2022-12-03T17:38:27.365Z"
   },
   {
    "duration": 4,
    "start_time": "2022-12-03T17:39:33.470Z"
   },
   {
    "duration": 5,
    "start_time": "2022-12-03T17:41:30.504Z"
   },
   {
    "duration": 4,
    "start_time": "2022-12-03T17:42:26.998Z"
   },
   {
    "duration": 5,
    "start_time": "2022-12-03T17:42:45.053Z"
   },
   {
    "duration": 4,
    "start_time": "2022-12-03T18:01:59.373Z"
   },
   {
    "duration": 7,
    "start_time": "2022-12-03T18:05:40.974Z"
   },
   {
    "duration": 7,
    "start_time": "2022-12-03T18:32:13.609Z"
   },
   {
    "duration": 1506,
    "start_time": "2022-12-04T14:20:53.136Z"
   },
   {
    "duration": 2969,
    "start_time": "2022-12-04T14:20:54.644Z"
   },
   {
    "duration": 307,
    "start_time": "2022-12-04T14:20:57.615Z"
   },
   {
    "duration": 175,
    "start_time": "2022-12-04T14:20:57.925Z"
   },
   {
    "duration": 299,
    "start_time": "2022-12-04T14:20:58.102Z"
   },
   {
    "duration": 18,
    "start_time": "2022-12-04T14:20:58.403Z"
   },
   {
    "duration": 7,
    "start_time": "2022-12-04T14:20:58.423Z"
   },
   {
    "duration": 11,
    "start_time": "2022-12-04T14:20:58.432Z"
   },
   {
    "duration": 103,
    "start_time": "2022-12-04T15:42:03.031Z"
   },
   {
    "duration": 424,
    "start_time": "2022-12-04T15:42:16.907Z"
   },
   {
    "duration": 8,
    "start_time": "2022-12-04T15:43:24.343Z"
   },
   {
    "duration": 17,
    "start_time": "2022-12-04T15:48:05.117Z"
   },
   {
    "duration": 104,
    "start_time": "2022-12-04T15:49:10.758Z"
   },
   {
    "duration": 688,
    "start_time": "2022-12-04T16:38:27.507Z"
   },
   {
    "duration": 355,
    "start_time": "2022-12-04T16:39:20.674Z"
   },
   {
    "duration": 9,
    "start_time": "2022-12-04T16:41:04.971Z"
   },
   {
    "duration": 41,
    "start_time": "2022-12-04T17:03:52.666Z"
   },
   {
    "duration": 44,
    "start_time": "2022-12-04T17:16:33.974Z"
   },
   {
    "duration": 42,
    "start_time": "2022-12-04T17:19:25.511Z"
   },
   {
    "duration": 1302,
    "start_time": "2022-12-04T17:40:21.629Z"
   },
   {
    "duration": 672,
    "start_time": "2022-12-04T17:40:22.933Z"
   },
   {
    "duration": 275,
    "start_time": "2022-12-04T17:40:23.607Z"
   },
   {
    "duration": 151,
    "start_time": "2022-12-04T17:40:23.884Z"
   },
   {
    "duration": 276,
    "start_time": "2022-12-04T17:40:24.036Z"
   },
   {
    "duration": 8,
    "start_time": "2022-12-04T17:40:24.316Z"
   },
   {
    "duration": 13,
    "start_time": "2022-12-04T17:40:24.326Z"
   },
   {
    "duration": 13,
    "start_time": "2022-12-04T17:40:24.340Z"
   },
   {
    "duration": 62,
    "start_time": "2022-12-04T17:40:24.355Z"
   },
   {
    "duration": 47,
    "start_time": "2022-12-04T17:40:24.419Z"
   },
   {
    "duration": 40,
    "start_time": "2022-12-04T17:41:14.467Z"
   },
   {
    "duration": 101,
    "start_time": "2022-12-04T17:41:31.743Z"
   },
   {
    "duration": 46,
    "start_time": "2022-12-04T17:47:49.737Z"
   },
   {
    "duration": 1367,
    "start_time": "2022-12-04T17:47:58.985Z"
   },
   {
    "duration": 2572,
    "start_time": "2022-12-04T17:48:00.354Z"
   },
   {
    "duration": 270,
    "start_time": "2022-12-04T17:48:02.928Z"
   },
   {
    "duration": 160,
    "start_time": "2022-12-04T17:48:03.200Z"
   },
   {
    "duration": 299,
    "start_time": "2022-12-04T17:48:03.362Z"
   },
   {
    "duration": 6,
    "start_time": "2022-12-04T17:48:03.663Z"
   },
   {
    "duration": 5,
    "start_time": "2022-12-04T17:48:03.671Z"
   },
   {
    "duration": 11,
    "start_time": "2022-12-04T17:48:03.677Z"
   },
   {
    "duration": 62,
    "start_time": "2022-12-04T17:48:03.690Z"
   },
   {
    "duration": 1295,
    "start_time": "2022-12-04T17:49:38.203Z"
   },
   {
    "duration": 2540,
    "start_time": "2022-12-04T17:49:39.500Z"
   },
   {
    "duration": 271,
    "start_time": "2022-12-04T17:49:42.042Z"
   },
   {
    "duration": 155,
    "start_time": "2022-12-04T17:49:42.315Z"
   },
   {
    "duration": 287,
    "start_time": "2022-12-04T17:49:42.472Z"
   },
   {
    "duration": 7,
    "start_time": "2022-12-04T17:49:42.761Z"
   },
   {
    "duration": 9,
    "start_time": "2022-12-04T17:49:42.769Z"
   },
   {
    "duration": 5,
    "start_time": "2022-12-04T17:49:42.780Z"
   },
   {
    "duration": 61,
    "start_time": "2022-12-04T17:49:42.788Z"
   },
   {
    "duration": 47,
    "start_time": "2022-12-04T17:50:51.969Z"
   },
   {
    "duration": 1371,
    "start_time": "2022-12-04T17:50:57.894Z"
   },
   {
    "duration": 2601,
    "start_time": "2022-12-04T17:50:59.267Z"
   },
   {
    "duration": 271,
    "start_time": "2022-12-04T17:51:01.869Z"
   },
   {
    "duration": 155,
    "start_time": "2022-12-04T17:51:02.143Z"
   },
   {
    "duration": 290,
    "start_time": "2022-12-04T17:51:02.300Z"
   },
   {
    "duration": 7,
    "start_time": "2022-12-04T17:51:02.592Z"
   },
   {
    "duration": 38,
    "start_time": "2022-12-04T17:51:02.600Z"
   },
   {
    "duration": 20,
    "start_time": "2022-12-04T17:51:02.639Z"
   },
   {
    "duration": 46,
    "start_time": "2022-12-04T17:51:02.660Z"
   },
   {
    "duration": 44,
    "start_time": "2022-12-04T17:53:08.674Z"
   },
   {
    "duration": 1259,
    "start_time": "2022-12-04T17:53:16.538Z"
   },
   {
    "duration": 2554,
    "start_time": "2022-12-04T17:53:17.799Z"
   },
   {
    "duration": 257,
    "start_time": "2022-12-04T17:53:20.355Z"
   },
   {
    "duration": 162,
    "start_time": "2022-12-04T17:53:20.615Z"
   },
   {
    "duration": 291,
    "start_time": "2022-12-04T17:53:20.779Z"
   },
   {
    "duration": 6,
    "start_time": "2022-12-04T17:53:21.072Z"
   },
   {
    "duration": 16,
    "start_time": "2022-12-04T17:53:21.079Z"
   },
   {
    "duration": 28,
    "start_time": "2022-12-04T17:53:21.096Z"
   },
   {
    "duration": 56,
    "start_time": "2022-12-04T17:53:21.126Z"
   },
   {
    "duration": 45,
    "start_time": "2022-12-04T17:54:02.833Z"
   },
   {
    "duration": 1296,
    "start_time": "2022-12-04T17:54:09.315Z"
   },
   {
    "duration": 2788,
    "start_time": "2022-12-04T17:54:10.612Z"
   },
   {
    "duration": 249,
    "start_time": "2022-12-04T17:54:13.401Z"
   },
   {
    "duration": 154,
    "start_time": "2022-12-04T17:54:13.652Z"
   },
   {
    "duration": 275,
    "start_time": "2022-12-04T17:54:13.815Z"
   },
   {
    "duration": 7,
    "start_time": "2022-12-04T17:54:14.092Z"
   },
   {
    "duration": 15,
    "start_time": "2022-12-04T17:54:14.100Z"
   },
   {
    "duration": 13,
    "start_time": "2022-12-04T17:54:14.117Z"
   },
   {
    "duration": 47,
    "start_time": "2022-12-04T17:54:14.132Z"
   },
   {
    "duration": 46,
    "start_time": "2022-12-04T18:00:21.779Z"
   },
   {
    "duration": 1271,
    "start_time": "2022-12-04T18:00:29.142Z"
   },
   {
    "duration": 2550,
    "start_time": "2022-12-04T18:00:30.416Z"
   },
   {
    "duration": 255,
    "start_time": "2022-12-04T18:00:32.968Z"
   },
   {
    "duration": 154,
    "start_time": "2022-12-04T18:00:33.224Z"
   },
   {
    "duration": 268,
    "start_time": "2022-12-04T18:00:33.379Z"
   },
   {
    "duration": 7,
    "start_time": "2022-12-04T18:00:33.648Z"
   },
   {
    "duration": 6,
    "start_time": "2022-12-04T18:00:33.656Z"
   },
   {
    "duration": 8,
    "start_time": "2022-12-04T18:00:33.663Z"
   },
   {
    "duration": 65,
    "start_time": "2022-12-04T18:00:33.673Z"
   },
   {
    "duration": 1301,
    "start_time": "2022-12-04T18:48:33.786Z"
   },
   {
    "duration": 2609,
    "start_time": "2022-12-04T18:48:35.088Z"
   },
   {
    "duration": 266,
    "start_time": "2022-12-04T18:48:37.699Z"
   },
   {
    "duration": 173,
    "start_time": "2022-12-04T18:48:37.968Z"
   },
   {
    "duration": 282,
    "start_time": "2022-12-04T18:48:38.143Z"
   },
   {
    "duration": 6,
    "start_time": "2022-12-04T18:48:38.426Z"
   },
   {
    "duration": 7,
    "start_time": "2022-12-04T18:48:38.434Z"
   },
   {
    "duration": 8,
    "start_time": "2022-12-04T18:48:38.442Z"
   },
   {
    "duration": 63,
    "start_time": "2022-12-04T18:48:38.452Z"
   },
   {
    "duration": 14,
    "start_time": "2022-12-04T18:48:38.517Z"
   },
   {
    "duration": 45,
    "start_time": "2022-12-04T19:03:52.513Z"
   },
   {
    "duration": 1298,
    "start_time": "2022-12-04T19:03:59.009Z"
   },
   {
    "duration": 2563,
    "start_time": "2022-12-04T19:04:00.309Z"
   },
   {
    "duration": 247,
    "start_time": "2022-12-04T19:04:02.874Z"
   },
   {
    "duration": 152,
    "start_time": "2022-12-04T19:04:03.123Z"
   },
   {
    "duration": 272,
    "start_time": "2022-12-04T19:04:03.276Z"
   },
   {
    "duration": 7,
    "start_time": "2022-12-04T19:04:03.550Z"
   },
   {
    "duration": 11,
    "start_time": "2022-12-04T19:04:03.558Z"
   },
   {
    "duration": 10,
    "start_time": "2022-12-04T19:04:03.570Z"
   },
   {
    "duration": 61,
    "start_time": "2022-12-04T19:04:03.581Z"
   },
   {
    "duration": 120,
    "start_time": "2022-12-04T19:04:03.644Z"
   },
   {
    "duration": 22,
    "start_time": "2022-12-04T19:12:33.901Z"
   },
   {
    "duration": 24,
    "start_time": "2022-12-04T19:13:15.033Z"
   },
   {
    "duration": 17,
    "start_time": "2022-12-04T19:13:43.332Z"
   },
   {
    "duration": 357,
    "start_time": "2022-12-04T19:15:13.459Z"
   },
   {
    "duration": 9,
    "start_time": "2022-12-04T19:22:26.917Z"
   },
   {
    "duration": 23,
    "start_time": "2022-12-04T19:22:55.387Z"
   },
   {
    "duration": 15,
    "start_time": "2022-12-04T19:24:56.069Z"
   },
   {
    "duration": 17,
    "start_time": "2022-12-04T19:37:22.363Z"
   },
   {
    "duration": 6,
    "start_time": "2022-12-04T19:48:10.166Z"
   },
   {
    "duration": 17,
    "start_time": "2022-12-04T19:49:41.093Z"
   },
   {
    "duration": 79,
    "start_time": "2022-12-04T20:20:08.648Z"
   },
   {
    "duration": 31,
    "start_time": "2022-12-04T20:20:54.649Z"
   },
   {
    "duration": 38,
    "start_time": "2022-12-04T20:22:11.408Z"
   },
   {
    "duration": 24,
    "start_time": "2022-12-04T20:22:30.178Z"
   },
   {
    "duration": 95,
    "start_time": "2022-12-04T20:23:12.505Z"
   },
   {
    "duration": 11,
    "start_time": "2022-12-04T20:35:18.844Z"
   },
   {
    "duration": 11,
    "start_time": "2022-12-04T20:36:27.064Z"
   },
   {
    "duration": 13,
    "start_time": "2022-12-04T20:37:31.203Z"
   },
   {
    "duration": 21,
    "start_time": "2022-12-04T20:45:04.698Z"
   },
   {
    "duration": 22,
    "start_time": "2022-12-04T20:45:32.103Z"
   },
   {
    "duration": 142,
    "start_time": "2022-12-04T20:45:55.283Z"
   },
   {
    "duration": 22,
    "start_time": "2022-12-04T20:46:06.453Z"
   },
   {
    "duration": 86,
    "start_time": "2022-12-04T20:46:12.247Z"
   },
   {
    "duration": 19,
    "start_time": "2022-12-04T20:46:42.327Z"
   },
   {
    "duration": 46,
    "start_time": "2022-12-04T20:49:38.243Z"
   },
   {
    "duration": 77,
    "start_time": "2022-12-05T15:35:38.432Z"
   },
   {
    "duration": 1594,
    "start_time": "2022-12-05T15:35:51.050Z"
   },
   {
    "duration": 2433,
    "start_time": "2022-12-05T15:35:52.646Z"
   },
   {
    "duration": 308,
    "start_time": "2022-12-05T15:35:55.081Z"
   },
   {
    "duration": 206,
    "start_time": "2022-12-05T15:35:55.392Z"
   },
   {
    "duration": 318,
    "start_time": "2022-12-05T15:35:55.601Z"
   },
   {
    "duration": 8,
    "start_time": "2022-12-05T15:35:55.921Z"
   },
   {
    "duration": 6,
    "start_time": "2022-12-05T15:35:55.931Z"
   },
   {
    "duration": 10,
    "start_time": "2022-12-05T15:35:55.938Z"
   },
   {
    "duration": 69,
    "start_time": "2022-12-05T15:35:55.951Z"
   },
   {
    "duration": 19,
    "start_time": "2022-12-05T15:35:56.022Z"
   },
   {
    "duration": 36,
    "start_time": "2022-12-05T15:35:56.042Z"
   },
   {
    "duration": 78,
    "start_time": "2022-12-05T15:35:56.080Z"
   },
   {
    "duration": 37,
    "start_time": "2022-12-05T15:35:56.159Z"
   },
   {
    "duration": 109,
    "start_time": "2022-12-05T15:35:56.198Z"
   },
   {
    "duration": 15,
    "start_time": "2022-12-05T15:35:56.310Z"
   },
   {
    "duration": 1014,
    "start_time": "2022-12-05T15:35:56.326Z"
   },
   {
    "duration": 14,
    "start_time": "2022-12-05T15:49:04.688Z"
   },
   {
    "duration": 148,
    "start_time": "2022-12-05T15:49:44.059Z"
   },
   {
    "duration": 18,
    "start_time": "2022-12-05T15:49:56.136Z"
   },
   {
    "duration": 83,
    "start_time": "2022-12-05T15:51:52.775Z"
   },
   {
    "duration": 2061,
    "start_time": "2022-12-05T15:52:19.105Z"
   },
   {
    "duration": 2200,
    "start_time": "2022-12-05T15:59:08.969Z"
   },
   {
    "duration": 1927,
    "start_time": "2022-12-05T16:01:41.786Z"
   },
   {
    "duration": 2259,
    "start_time": "2022-12-05T16:04:48.351Z"
   },
   {
    "duration": 1868,
    "start_time": "2022-12-05T16:04:55.204Z"
   },
   {
    "duration": 2174,
    "start_time": "2022-12-05T16:05:03.436Z"
   },
   {
    "duration": 445,
    "start_time": "2022-12-05T17:33:30.986Z"
   },
   {
    "duration": 349,
    "start_time": "2022-12-05T17:33:48.779Z"
   },
   {
    "duration": 854,
    "start_time": "2022-12-05T17:36:49.748Z"
   },
   {
    "duration": 609,
    "start_time": "2022-12-05T17:42:04.916Z"
   },
   {
    "duration": 890,
    "start_time": "2022-12-05T17:49:30.335Z"
   },
   {
    "duration": 769,
    "start_time": "2022-12-05T17:50:30.030Z"
   },
   {
    "duration": 642,
    "start_time": "2022-12-05T17:51:35.078Z"
   },
   {
    "duration": 17,
    "start_time": "2022-12-05T17:59:58.401Z"
   },
   {
    "duration": 16,
    "start_time": "2022-12-05T18:00:38.332Z"
   },
   {
    "duration": 16,
    "start_time": "2022-12-05T18:01:34.330Z"
   },
   {
    "duration": 758,
    "start_time": "2022-12-05T18:03:09.666Z"
   },
   {
    "duration": 165,
    "start_time": "2022-12-05T18:04:41.788Z"
   },
   {
    "duration": 19,
    "start_time": "2022-12-05T18:08:24.460Z"
   },
   {
    "duration": 669,
    "start_time": "2022-12-05T18:09:01.852Z"
   },
   {
    "duration": 801,
    "start_time": "2022-12-05T18:25:46.293Z"
   },
   {
    "duration": 1057,
    "start_time": "2022-12-05T18:27:41.941Z"
   },
   {
    "duration": 727,
    "start_time": "2022-12-05T18:28:39.152Z"
   },
   {
    "duration": 510,
    "start_time": "2022-12-05T18:29:13.916Z"
   },
   {
    "duration": 522,
    "start_time": "2022-12-05T18:29:36.170Z"
   },
   {
    "duration": 375,
    "start_time": "2022-12-05T18:30:20.903Z"
   },
   {
    "duration": 471,
    "start_time": "2022-12-05T18:30:32.438Z"
   },
   {
    "duration": 452,
    "start_time": "2022-12-05T18:30:44.847Z"
   },
   {
    "duration": 406,
    "start_time": "2022-12-05T18:31:35.397Z"
   },
   {
    "duration": 603,
    "start_time": "2022-12-05T18:31:48.709Z"
   },
   {
    "duration": 369,
    "start_time": "2022-12-05T18:32:21.511Z"
   },
   {
    "duration": 441,
    "start_time": "2022-12-05T18:36:06.656Z"
   },
   {
    "duration": 651,
    "start_time": "2022-12-05T18:36:36.376Z"
   },
   {
    "duration": 471,
    "start_time": "2022-12-05T18:37:28.614Z"
   },
   {
    "duration": 1489,
    "start_time": "2022-12-06T14:52:45.165Z"
   },
   {
    "duration": 1968,
    "start_time": "2022-12-06T14:52:46.656Z"
   },
   {
    "duration": 246,
    "start_time": "2022-12-06T14:52:48.626Z"
   },
   {
    "duration": 161,
    "start_time": "2022-12-06T14:52:48.874Z"
   },
   {
    "duration": 274,
    "start_time": "2022-12-06T14:52:49.037Z"
   },
   {
    "duration": 7,
    "start_time": "2022-12-06T14:52:49.312Z"
   },
   {
    "duration": 9,
    "start_time": "2022-12-06T14:52:49.320Z"
   },
   {
    "duration": 8,
    "start_time": "2022-12-06T14:52:49.331Z"
   },
   {
    "duration": 68,
    "start_time": "2022-12-06T14:52:49.340Z"
   },
   {
    "duration": 16,
    "start_time": "2022-12-06T14:52:49.410Z"
   },
   {
    "duration": 18,
    "start_time": "2022-12-06T14:52:49.428Z"
   },
   {
    "duration": 95,
    "start_time": "2022-12-06T14:52:49.448Z"
   },
   {
    "duration": 22,
    "start_time": "2022-12-06T14:52:49.545Z"
   },
   {
    "duration": 103,
    "start_time": "2022-12-06T14:52:49.568Z"
   },
   {
    "duration": 12,
    "start_time": "2022-12-06T14:52:49.672Z"
   },
   {
    "duration": 2095,
    "start_time": "2022-12-06T14:52:49.686Z"
   },
   {
    "duration": 1915,
    "start_time": "2022-12-06T14:52:51.784Z"
   },
   {
    "duration": 2099,
    "start_time": "2022-12-06T14:52:53.704Z"
   },
   {
    "duration": 418,
    "start_time": "2022-12-06T14:52:55.805Z"
   },
   {
    "duration": 39,
    "start_time": "2022-12-06T14:52:56.225Z"
   },
   {
    "duration": 1573,
    "start_time": "2022-12-06T14:57:04.725Z"
   },
   {
    "duration": 1462,
    "start_time": "2022-12-06T14:57:50.016Z"
   },
   {
    "duration": 1468,
    "start_time": "2022-12-06T14:58:56.992Z"
   },
   {
    "duration": 883,
    "start_time": "2022-12-06T14:59:41.464Z"
   },
   {
    "duration": 998,
    "start_time": "2022-12-06T15:05:19.459Z"
   },
   {
    "duration": 1129,
    "start_time": "2022-12-06T15:08:53.349Z"
   },
   {
    "duration": 3,
    "start_time": "2022-12-06T15:38:43.875Z"
   },
   {
    "duration": 4,
    "start_time": "2022-12-06T16:05:19.420Z"
   },
   {
    "duration": 1178,
    "start_time": "2022-12-06T17:27:26.032Z"
   },
   {
    "duration": 1165,
    "start_time": "2022-12-06T17:29:11.521Z"
   },
   {
    "duration": 8,
    "start_time": "2022-12-06T17:29:28.467Z"
   },
   {
    "duration": 25,
    "start_time": "2022-12-06T17:29:55.198Z"
   },
   {
    "duration": 17,
    "start_time": "2022-12-06T17:30:41.389Z"
   },
   {
    "duration": 15,
    "start_time": "2022-12-06T17:30:54.099Z"
   },
   {
    "duration": 14,
    "start_time": "2022-12-06T17:31:07.379Z"
   },
   {
    "duration": 8,
    "start_time": "2022-12-06T17:31:15.378Z"
   },
   {
    "duration": 8,
    "start_time": "2022-12-06T18:01:16.710Z"
   },
   {
    "duration": 89,
    "start_time": "2022-12-06T18:06:58.981Z"
   },
   {
    "duration": 18,
    "start_time": "2022-12-06T18:08:41.302Z"
   },
   {
    "duration": 24,
    "start_time": "2022-12-06T18:09:12.712Z"
   },
   {
    "duration": 17,
    "start_time": "2022-12-06T18:09:33.366Z"
   },
   {
    "duration": 9,
    "start_time": "2022-12-06T18:15:51.008Z"
   },
   {
    "duration": 14,
    "start_time": "2022-12-06T18:18:44.241Z"
   },
   {
    "duration": 11,
    "start_time": "2022-12-06T18:19:36.745Z"
   },
   {
    "duration": 7,
    "start_time": "2022-12-06T18:34:51.987Z"
   },
   {
    "duration": 16,
    "start_time": "2022-12-06T18:34:53.989Z"
   },
   {
    "duration": 7,
    "start_time": "2022-12-06T18:45:13.442Z"
   },
   {
    "duration": 15,
    "start_time": "2022-12-06T18:45:19.158Z"
   },
   {
    "duration": 8,
    "start_time": "2022-12-06T19:46:36.071Z"
   },
   {
    "duration": 6,
    "start_time": "2022-12-06T19:47:04.000Z"
   },
   {
    "duration": 11,
    "start_time": "2022-12-06T19:55:57.588Z"
   },
   {
    "duration": 364,
    "start_time": "2022-12-06T19:57:45.108Z"
   },
   {
    "duration": 28385,
    "start_time": "2022-12-06T19:57:58.243Z"
   },
   {
    "duration": 3,
    "start_time": "2022-12-06T20:22:13.835Z"
   },
   {
    "duration": 3,
    "start_time": "2022-12-06T20:26:54.109Z"
   },
   {
    "duration": 14,
    "start_time": "2022-12-06T20:48:17.694Z"
   },
   {
    "duration": 4,
    "start_time": "2022-12-06T20:49:20.131Z"
   },
   {
    "duration": 28651,
    "start_time": "2022-12-06T20:49:27.202Z"
   },
   {
    "duration": 28764,
    "start_time": "2022-12-06T20:50:40.695Z"
   },
   {
    "duration": 1322,
    "start_time": "2022-12-06T20:52:07.734Z"
   },
   {
    "duration": 679,
    "start_time": "2022-12-06T20:52:09.058Z"
   },
   {
    "duration": 254,
    "start_time": "2022-12-06T20:52:09.738Z"
   },
   {
    "duration": 164,
    "start_time": "2022-12-06T20:52:09.994Z"
   },
   {
    "duration": 272,
    "start_time": "2022-12-06T20:52:10.160Z"
   },
   {
    "duration": 7,
    "start_time": "2022-12-06T20:52:10.434Z"
   },
   {
    "duration": 5,
    "start_time": "2022-12-06T20:52:10.442Z"
   },
   {
    "duration": 7,
    "start_time": "2022-12-06T20:52:10.449Z"
   },
   {
    "duration": 72,
    "start_time": "2022-12-06T20:52:10.458Z"
   },
   {
    "duration": 18,
    "start_time": "2022-12-06T20:52:10.533Z"
   },
   {
    "duration": 25,
    "start_time": "2022-12-06T20:52:10.553Z"
   },
   {
    "duration": 88,
    "start_time": "2022-12-06T20:52:10.580Z"
   },
   {
    "duration": 21,
    "start_time": "2022-12-06T20:52:10.670Z"
   },
   {
    "duration": 89,
    "start_time": "2022-12-06T20:52:10.705Z"
   },
   {
    "duration": 12,
    "start_time": "2022-12-06T20:52:10.804Z"
   },
   {
    "duration": 2148,
    "start_time": "2022-12-06T20:52:10.817Z"
   },
   {
    "duration": 1923,
    "start_time": "2022-12-06T20:52:12.967Z"
   },
   {
    "duration": 1984,
    "start_time": "2022-12-06T20:52:14.892Z"
   },
   {
    "duration": 438,
    "start_time": "2022-12-06T20:52:16.877Z"
   },
   {
    "duration": 1272,
    "start_time": "2022-12-06T20:52:17.317Z"
   },
   {
    "duration": 3,
    "start_time": "2022-12-06T20:52:18.591Z"
   },
   {
    "duration": 31,
    "start_time": "2022-12-06T20:52:18.595Z"
   },
   {
    "duration": 7,
    "start_time": "2022-12-06T20:52:18.627Z"
   },
   {
    "duration": 22,
    "start_time": "2022-12-06T20:52:18.635Z"
   },
   {
    "duration": 28449,
    "start_time": "2022-12-06T20:52:18.659Z"
   },
   {
    "duration": 13,
    "start_time": "2022-12-06T20:53:44.579Z"
   },
   {
    "duration": 136,
    "start_time": "2022-12-06T20:54:37.350Z"
   },
   {
    "duration": 3,
    "start_time": "2022-12-06T20:58:52.766Z"
   },
   {
    "duration": 17,
    "start_time": "2022-12-06T20:58:57.032Z"
   },
   {
    "duration": 1314,
    "start_time": "2022-12-06T20:59:11.842Z"
   },
   {
    "duration": 691,
    "start_time": "2022-12-06T20:59:13.158Z"
   },
   {
    "duration": 281,
    "start_time": "2022-12-06T20:59:13.850Z"
   },
   {
    "duration": 157,
    "start_time": "2022-12-06T20:59:14.133Z"
   },
   {
    "duration": 270,
    "start_time": "2022-12-06T20:59:14.292Z"
   },
   {
    "duration": 8,
    "start_time": "2022-12-06T20:59:14.563Z"
   },
   {
    "duration": 4,
    "start_time": "2022-12-06T20:59:14.573Z"
   },
   {
    "duration": 7,
    "start_time": "2022-12-06T20:59:14.578Z"
   },
   {
    "duration": 43,
    "start_time": "2022-12-06T20:59:14.605Z"
   },
   {
    "duration": 16,
    "start_time": "2022-12-06T20:59:14.651Z"
   },
   {
    "duration": 44,
    "start_time": "2022-12-06T20:59:14.668Z"
   },
   {
    "duration": 74,
    "start_time": "2022-12-06T20:59:14.714Z"
   },
   {
    "duration": 35,
    "start_time": "2022-12-06T20:59:14.790Z"
   },
   {
    "duration": 104,
    "start_time": "2022-12-06T20:59:14.826Z"
   },
   {
    "duration": 13,
    "start_time": "2022-12-06T20:59:14.932Z"
   },
   {
    "duration": 1970,
    "start_time": "2022-12-06T20:59:14.947Z"
   },
   {
    "duration": 1885,
    "start_time": "2022-12-06T20:59:16.919Z"
   },
   {
    "duration": 2084,
    "start_time": "2022-12-06T20:59:18.806Z"
   },
   {
    "duration": 415,
    "start_time": "2022-12-06T20:59:20.892Z"
   },
   {
    "duration": 1265,
    "start_time": "2022-12-06T20:59:21.309Z"
   },
   {
    "duration": 3,
    "start_time": "2022-12-06T20:59:22.576Z"
   },
   {
    "duration": 32,
    "start_time": "2022-12-06T20:59:22.580Z"
   },
   {
    "duration": 8,
    "start_time": "2022-12-06T20:59:22.614Z"
   },
   {
    "duration": 25,
    "start_time": "2022-12-06T20:59:22.623Z"
   },
   {
    "duration": 122,
    "start_time": "2022-12-06T20:59:22.649Z"
   },
   {
    "duration": 1330,
    "start_time": "2022-12-06T20:59:58.963Z"
   },
   {
    "duration": 687,
    "start_time": "2022-12-06T21:00:00.295Z"
   },
   {
    "duration": 263,
    "start_time": "2022-12-06T21:00:00.984Z"
   },
   {
    "duration": 157,
    "start_time": "2022-12-06T21:00:01.249Z"
   },
   {
    "duration": 292,
    "start_time": "2022-12-06T21:00:01.408Z"
   },
   {
    "duration": 7,
    "start_time": "2022-12-06T21:00:01.704Z"
   },
   {
    "duration": 33,
    "start_time": "2022-12-06T21:00:01.713Z"
   },
   {
    "duration": 42,
    "start_time": "2022-12-06T21:00:01.748Z"
   },
   {
    "duration": 81,
    "start_time": "2022-12-06T21:00:01.792Z"
   },
   {
    "duration": 17,
    "start_time": "2022-12-06T21:00:01.876Z"
   },
   {
    "duration": 25,
    "start_time": "2022-12-06T21:00:01.895Z"
   },
   {
    "duration": 96,
    "start_time": "2022-12-06T21:00:01.922Z"
   },
   {
    "duration": 23,
    "start_time": "2022-12-06T21:00:02.020Z"
   },
   {
    "duration": 109,
    "start_time": "2022-12-06T21:00:02.045Z"
   },
   {
    "duration": 14,
    "start_time": "2022-12-06T21:00:02.155Z"
   },
   {
    "duration": 2142,
    "start_time": "2022-12-06T21:00:02.171Z"
   },
   {
    "duration": 1876,
    "start_time": "2022-12-06T21:00:04.315Z"
   },
   {
    "duration": 2035,
    "start_time": "2022-12-06T21:00:06.192Z"
   },
   {
    "duration": 400,
    "start_time": "2022-12-06T21:00:08.229Z"
   },
   {
    "duration": 1250,
    "start_time": "2022-12-06T21:00:08.631Z"
   },
   {
    "duration": 3,
    "start_time": "2022-12-06T21:00:09.883Z"
   },
   {
    "duration": 36,
    "start_time": "2022-12-06T21:00:09.887Z"
   },
   {
    "duration": 8,
    "start_time": "2022-12-06T21:00:09.925Z"
   },
   {
    "duration": 24,
    "start_time": "2022-12-06T21:00:09.935Z"
   },
   {
    "duration": 133,
    "start_time": "2022-12-06T21:00:09.961Z"
   },
   {
    "duration": 3,
    "start_time": "2022-12-06T21:01:26.309Z"
   },
   {
    "duration": 44964,
    "start_time": "2022-12-06T21:04:14.593Z"
   },
   {
    "duration": 3,
    "start_time": "2022-12-06T21:05:46.380Z"
   },
   {
    "duration": 22,
    "start_time": "2022-12-06T21:05:51.181Z"
   },
   {
    "duration": 3,
    "start_time": "2022-12-06T21:07:20.265Z"
   },
   {
    "duration": 15,
    "start_time": "2022-12-06T21:07:26.108Z"
   },
   {
    "duration": 13,
    "start_time": "2022-12-06T21:07:36.341Z"
   },
   {
    "duration": 1403,
    "start_time": "2022-12-06T21:07:44.784Z"
   },
   {
    "duration": 676,
    "start_time": "2022-12-06T21:07:46.189Z"
   },
   {
    "duration": 256,
    "start_time": "2022-12-06T21:07:46.867Z"
   },
   {
    "duration": 145,
    "start_time": "2022-12-06T21:07:47.124Z"
   },
   {
    "duration": 304,
    "start_time": "2022-12-06T21:07:47.271Z"
   },
   {
    "duration": 6,
    "start_time": "2022-12-06T21:07:47.577Z"
   },
   {
    "duration": 5,
    "start_time": "2022-12-06T21:07:47.584Z"
   },
   {
    "duration": 17,
    "start_time": "2022-12-06T21:07:47.591Z"
   },
   {
    "duration": 46,
    "start_time": "2022-12-06T21:07:47.610Z"
   },
   {
    "duration": 18,
    "start_time": "2022-12-06T21:07:47.658Z"
   },
   {
    "duration": 37,
    "start_time": "2022-12-06T21:07:47.678Z"
   },
   {
    "duration": 90,
    "start_time": "2022-12-06T21:07:47.716Z"
   },
   {
    "duration": 24,
    "start_time": "2022-12-06T21:07:47.807Z"
   },
   {
    "duration": 105,
    "start_time": "2022-12-06T21:07:47.833Z"
   },
   {
    "duration": 13,
    "start_time": "2022-12-06T21:07:47.940Z"
   },
   {
    "duration": 1988,
    "start_time": "2022-12-06T21:07:47.954Z"
   },
   {
    "duration": 1845,
    "start_time": "2022-12-06T21:07:49.943Z"
   },
   {
    "duration": 1987,
    "start_time": "2022-12-06T21:07:51.789Z"
   },
   {
    "duration": 427,
    "start_time": "2022-12-06T21:07:53.778Z"
   },
   {
    "duration": 1170,
    "start_time": "2022-12-06T21:07:54.207Z"
   },
   {
    "duration": 3,
    "start_time": "2022-12-06T21:07:55.378Z"
   },
   {
    "duration": 36,
    "start_time": "2022-12-06T21:07:55.383Z"
   },
   {
    "duration": 7,
    "start_time": "2022-12-06T21:07:55.420Z"
   },
   {
    "duration": 31,
    "start_time": "2022-12-06T21:07:55.428Z"
   },
   {
    "duration": 3,
    "start_time": "2022-12-06T21:07:55.460Z"
   },
   {
    "duration": 111,
    "start_time": "2022-12-06T21:07:55.465Z"
   },
   {
    "duration": 0,
    "start_time": "2022-12-06T21:07:55.578Z"
   },
   {
    "duration": 3,
    "start_time": "2022-12-06T21:08:21.188Z"
   },
   {
    "duration": 12,
    "start_time": "2022-12-06T21:08:28.481Z"
   },
   {
    "duration": 1196,
    "start_time": "2022-12-06T21:09:15.192Z"
   },
   {
    "duration": 44245,
    "start_time": "2022-12-06T21:10:28.520Z"
   },
   {
    "duration": 3,
    "start_time": "2022-12-06T21:11:54.859Z"
   },
   {
    "duration": 3,
    "start_time": "2022-12-06T21:12:36.724Z"
   },
   {
    "duration": 28394,
    "start_time": "2022-12-06T21:16:41.266Z"
   },
   {
    "duration": 13,
    "start_time": "2022-12-06T21:19:52.207Z"
   },
   {
    "duration": 1340,
    "start_time": "2022-12-06T21:19:58.210Z"
   },
   {
    "duration": 673,
    "start_time": "2022-12-06T21:19:59.552Z"
   },
   {
    "duration": 270,
    "start_time": "2022-12-06T21:20:00.226Z"
   },
   {
    "duration": 159,
    "start_time": "2022-12-06T21:20:00.498Z"
   },
   {
    "duration": 283,
    "start_time": "2022-12-06T21:20:00.659Z"
   },
   {
    "duration": 8,
    "start_time": "2022-12-06T21:20:00.943Z"
   },
   {
    "duration": 32,
    "start_time": "2022-12-06T21:20:00.952Z"
   },
   {
    "duration": 29,
    "start_time": "2022-12-06T21:20:00.985Z"
   },
   {
    "duration": 72,
    "start_time": "2022-12-06T21:20:01.016Z"
   },
   {
    "duration": 30,
    "start_time": "2022-12-06T21:20:01.091Z"
   },
   {
    "duration": 39,
    "start_time": "2022-12-06T21:20:01.123Z"
   },
   {
    "duration": 94,
    "start_time": "2022-12-06T21:20:01.164Z"
   },
   {
    "duration": 23,
    "start_time": "2022-12-06T21:20:01.260Z"
   },
   {
    "duration": 108,
    "start_time": "2022-12-06T21:20:01.285Z"
   },
   {
    "duration": 17,
    "start_time": "2022-12-06T21:20:01.394Z"
   },
   {
    "duration": 2168,
    "start_time": "2022-12-06T21:20:01.413Z"
   },
   {
    "duration": 1899,
    "start_time": "2022-12-06T21:20:03.583Z"
   },
   {
    "duration": 2044,
    "start_time": "2022-12-06T21:20:05.484Z"
   },
   {
    "duration": 384,
    "start_time": "2022-12-06T21:20:07.530Z"
   },
   {
    "duration": 1256,
    "start_time": "2022-12-06T21:20:07.916Z"
   },
   {
    "duration": 3,
    "start_time": "2022-12-06T21:20:09.173Z"
   },
   {
    "duration": 35,
    "start_time": "2022-12-06T21:20:09.177Z"
   },
   {
    "duration": 7,
    "start_time": "2022-12-06T21:20:09.213Z"
   },
   {
    "duration": 20,
    "start_time": "2022-12-06T21:20:09.221Z"
   },
   {
    "duration": 3,
    "start_time": "2022-12-06T21:20:09.242Z"
   },
   {
    "duration": 28206,
    "start_time": "2022-12-06T21:20:09.246Z"
   },
   {
    "duration": 3,
    "start_time": "2022-12-06T21:21:27.778Z"
   },
   {
    "duration": 28155,
    "start_time": "2022-12-06T21:24:30.009Z"
   },
   {
    "duration": 28586,
    "start_time": "2022-12-06T21:28:53.415Z"
   },
   {
    "duration": 1423,
    "start_time": "2022-12-06T22:02:17.478Z"
   },
   {
    "duration": 672,
    "start_time": "2022-12-06T22:02:18.902Z"
   },
   {
    "duration": 254,
    "start_time": "2022-12-06T22:02:19.576Z"
   },
   {
    "duration": 143,
    "start_time": "2022-12-06T22:02:19.832Z"
   },
   {
    "duration": 274,
    "start_time": "2022-12-06T22:02:19.977Z"
   },
   {
    "duration": 7,
    "start_time": "2022-12-06T22:02:20.253Z"
   },
   {
    "duration": 9,
    "start_time": "2022-12-06T22:02:20.261Z"
   },
   {
    "duration": 9,
    "start_time": "2022-12-06T22:02:20.272Z"
   },
   {
    "duration": 61,
    "start_time": "2022-12-06T22:02:20.282Z"
   },
   {
    "duration": 19,
    "start_time": "2022-12-06T22:02:20.345Z"
   },
   {
    "duration": 15,
    "start_time": "2022-12-06T22:02:20.365Z"
   },
   {
    "duration": 94,
    "start_time": "2022-12-06T22:02:20.382Z"
   },
   {
    "duration": 30,
    "start_time": "2022-12-06T22:02:20.478Z"
   },
   {
    "duration": 96,
    "start_time": "2022-12-06T22:02:20.509Z"
   },
   {
    "duration": 13,
    "start_time": "2022-12-06T22:02:20.607Z"
   },
   {
    "duration": 2044,
    "start_time": "2022-12-06T22:02:20.621Z"
   },
   {
    "duration": 1904,
    "start_time": "2022-12-06T22:02:22.667Z"
   },
   {
    "duration": 2018,
    "start_time": "2022-12-06T22:02:24.573Z"
   },
   {
    "duration": 419,
    "start_time": "2022-12-06T22:02:26.593Z"
   },
   {
    "duration": 1280,
    "start_time": "2022-12-06T22:02:27.015Z"
   },
   {
    "duration": 3,
    "start_time": "2022-12-06T22:02:28.304Z"
   },
   {
    "duration": 41,
    "start_time": "2022-12-06T22:02:28.308Z"
   },
   {
    "duration": 7,
    "start_time": "2022-12-06T22:02:28.351Z"
   },
   {
    "duration": 43,
    "start_time": "2022-12-06T22:02:28.360Z"
   },
   {
    "duration": 8,
    "start_time": "2022-12-06T22:02:28.405Z"
   },
   {
    "duration": 28173,
    "start_time": "2022-12-06T22:02:28.415Z"
   },
   {
    "duration": 133246,
    "start_time": "2022-12-06T22:02:56.589Z"
   },
   {
    "duration": 2573,
    "start_time": "2022-12-06T22:05:09.837Z"
   },
   {
    "duration": 1364,
    "start_time": "2022-12-06T22:22:19.783Z"
   },
   {
    "duration": 683,
    "start_time": "2022-12-06T22:22:21.149Z"
   },
   {
    "duration": 259,
    "start_time": "2022-12-06T22:22:21.833Z"
   },
   {
    "duration": 152,
    "start_time": "2022-12-06T22:22:22.093Z"
   },
   {
    "duration": 268,
    "start_time": "2022-12-06T22:22:22.246Z"
   },
   {
    "duration": 8,
    "start_time": "2022-12-06T22:22:22.516Z"
   },
   {
    "duration": 4,
    "start_time": "2022-12-06T22:22:22.525Z"
   },
   {
    "duration": 7,
    "start_time": "2022-12-06T22:22:22.531Z"
   },
   {
    "duration": 78,
    "start_time": "2022-12-06T22:22:22.540Z"
   },
   {
    "duration": 19,
    "start_time": "2022-12-06T22:22:22.621Z"
   },
   {
    "duration": 17,
    "start_time": "2022-12-06T22:22:22.642Z"
   },
   {
    "duration": 104,
    "start_time": "2022-12-06T22:22:22.661Z"
   },
   {
    "duration": 23,
    "start_time": "2022-12-06T22:22:22.767Z"
   },
   {
    "duration": 100,
    "start_time": "2022-12-06T22:22:22.792Z"
   },
   {
    "duration": 22,
    "start_time": "2022-12-06T22:22:22.894Z"
   },
   {
    "duration": 1979,
    "start_time": "2022-12-06T22:22:22.918Z"
   },
   {
    "duration": 1866,
    "start_time": "2022-12-06T22:22:24.899Z"
   },
   {
    "duration": 1965,
    "start_time": "2022-12-06T22:22:26.766Z"
   },
   {
    "duration": 375,
    "start_time": "2022-12-06T22:22:28.732Z"
   },
   {
    "duration": 1268,
    "start_time": "2022-12-06T22:22:29.108Z"
   },
   {
    "duration": 4,
    "start_time": "2022-12-06T22:22:30.377Z"
   },
   {
    "duration": 40,
    "start_time": "2022-12-06T22:22:30.383Z"
   },
   {
    "duration": 8,
    "start_time": "2022-12-06T22:22:30.425Z"
   },
   {
    "duration": 29,
    "start_time": "2022-12-06T22:22:30.435Z"
   },
   {
    "duration": 24,
    "start_time": "2022-12-06T22:22:30.466Z"
   },
   {
    "duration": 28001,
    "start_time": "2022-12-06T22:22:30.492Z"
   },
   {
    "duration": 855990,
    "start_time": "2022-12-06T22:22:58.495Z"
   },
   {
    "duration": 2818,
    "start_time": "2022-12-06T22:37:14.488Z"
   },
   {
    "duration": 1311,
    "start_time": "2022-12-06T23:00:16.365Z"
   },
   {
    "duration": 695,
    "start_time": "2022-12-06T23:00:17.678Z"
   },
   {
    "duration": 271,
    "start_time": "2022-12-06T23:00:18.374Z"
   },
   {
    "duration": 163,
    "start_time": "2022-12-06T23:00:18.647Z"
   },
   {
    "duration": 286,
    "start_time": "2022-12-06T23:00:18.813Z"
   },
   {
    "duration": 8,
    "start_time": "2022-12-06T23:00:19.101Z"
   },
   {
    "duration": 3,
    "start_time": "2022-12-06T23:00:19.111Z"
   },
   {
    "duration": 8,
    "start_time": "2022-12-06T23:00:19.116Z"
   },
   {
    "duration": 44,
    "start_time": "2022-12-06T23:00:19.125Z"
   },
   {
    "duration": 47,
    "start_time": "2022-12-06T23:00:19.171Z"
   },
   {
    "duration": 16,
    "start_time": "2022-12-06T23:00:19.219Z"
   },
   {
    "duration": 89,
    "start_time": "2022-12-06T23:00:19.237Z"
   },
   {
    "duration": 20,
    "start_time": "2022-12-06T23:00:19.327Z"
   },
   {
    "duration": 97,
    "start_time": "2022-12-06T23:00:19.350Z"
   },
   {
    "duration": 13,
    "start_time": "2022-12-06T23:00:19.449Z"
   },
   {
    "duration": 2022,
    "start_time": "2022-12-06T23:00:19.463Z"
   },
   {
    "duration": 1841,
    "start_time": "2022-12-06T23:00:21.487Z"
   },
   {
    "duration": 1930,
    "start_time": "2022-12-06T23:00:23.329Z"
   },
   {
    "duration": 435,
    "start_time": "2022-12-06T23:00:25.261Z"
   },
   {
    "duration": 1165,
    "start_time": "2022-12-06T23:00:25.704Z"
   },
   {
    "duration": 3,
    "start_time": "2022-12-06T23:00:26.870Z"
   },
   {
    "duration": 32,
    "start_time": "2022-12-06T23:00:26.875Z"
   },
   {
    "duration": 7,
    "start_time": "2022-12-06T23:00:26.908Z"
   },
   {
    "duration": 9,
    "start_time": "2022-12-06T23:00:26.916Z"
   },
   {
    "duration": 28238,
    "start_time": "2022-12-06T23:00:26.926Z"
   },
   {
    "duration": 131675,
    "start_time": "2022-12-06T23:00:55.166Z"
   },
   {
    "duration": 2863,
    "start_time": "2022-12-06T23:03:06.843Z"
   },
   {
    "duration": 487,
    "start_time": "2022-12-06T23:18:02.816Z"
   },
   {
    "duration": 1058,
    "start_time": "2022-12-06T23:22:22.055Z"
   },
   {
    "duration": 107,
    "start_time": "2022-12-06T23:48:00.702Z"
   },
   {
    "duration": 4,
    "start_time": "2022-12-06T23:48:37.947Z"
   },
   {
    "duration": 38,
    "start_time": "2022-12-06T23:48:46.078Z"
   },
   {
    "duration": 41,
    "start_time": "2022-12-06T23:49:50.498Z"
   },
   {
    "duration": 1378,
    "start_time": "2022-12-06T23:54:28.821Z"
   },
   {
    "duration": 692,
    "start_time": "2022-12-06T23:54:30.204Z"
   },
   {
    "duration": 252,
    "start_time": "2022-12-06T23:54:30.897Z"
   },
   {
    "duration": 155,
    "start_time": "2022-12-06T23:54:31.150Z"
   },
   {
    "duration": 278,
    "start_time": "2022-12-06T23:54:31.308Z"
   },
   {
    "duration": 18,
    "start_time": "2022-12-06T23:54:31.587Z"
   },
   {
    "duration": 4,
    "start_time": "2022-12-06T23:54:31.606Z"
   },
   {
    "duration": 8,
    "start_time": "2022-12-06T23:54:31.611Z"
   },
   {
    "duration": 45,
    "start_time": "2022-12-06T23:54:31.621Z"
   },
   {
    "duration": 36,
    "start_time": "2022-12-06T23:54:31.668Z"
   },
   {
    "duration": 16,
    "start_time": "2022-12-06T23:54:31.706Z"
   },
   {
    "duration": 87,
    "start_time": "2022-12-06T23:54:31.723Z"
   },
   {
    "duration": 21,
    "start_time": "2022-12-06T23:54:31.811Z"
   },
   {
    "duration": 100,
    "start_time": "2022-12-06T23:54:31.835Z"
   },
   {
    "duration": 13,
    "start_time": "2022-12-06T23:54:31.936Z"
   },
   {
    "duration": 1983,
    "start_time": "2022-12-06T23:54:31.950Z"
   },
   {
    "duration": 1816,
    "start_time": "2022-12-06T23:54:33.935Z"
   },
   {
    "duration": 2057,
    "start_time": "2022-12-06T23:54:35.753Z"
   },
   {
    "duration": 409,
    "start_time": "2022-12-06T23:54:37.811Z"
   },
   {
    "duration": 1265,
    "start_time": "2022-12-06T23:54:38.222Z"
   },
   {
    "duration": 3,
    "start_time": "2022-12-06T23:54:39.489Z"
   },
   {
    "duration": 28,
    "start_time": "2022-12-06T23:54:39.493Z"
   },
   {
    "duration": 8,
    "start_time": "2022-12-06T23:54:39.522Z"
   },
   {
    "duration": 7,
    "start_time": "2022-12-06T23:54:39.531Z"
   },
   {
    "duration": 27992,
    "start_time": "2022-12-06T23:54:39.539Z"
   },
   {
    "duration": 130001,
    "start_time": "2022-12-06T23:55:07.532Z"
   },
   {
    "duration": 2875,
    "start_time": "2022-12-06T23:57:17.534Z"
   },
   {
    "duration": 1151,
    "start_time": "2022-12-06T23:57:20.411Z"
   },
   {
    "duration": 44,
    "start_time": "2022-12-06T23:57:21.564Z"
   },
   {
    "duration": 1410,
    "start_time": "2022-12-07T09:07:13.535Z"
   },
   {
    "duration": 683,
    "start_time": "2022-12-07T09:07:14.947Z"
   },
   {
    "duration": 345,
    "start_time": "2022-12-07T09:07:15.632Z"
   },
   {
    "duration": 172,
    "start_time": "2022-12-07T09:07:15.979Z"
   },
   {
    "duration": 299,
    "start_time": "2022-12-07T09:07:16.153Z"
   },
   {
    "duration": 8,
    "start_time": "2022-12-07T09:07:16.454Z"
   },
   {
    "duration": 14,
    "start_time": "2022-12-07T09:07:16.463Z"
   },
   {
    "duration": 20,
    "start_time": "2022-12-07T09:07:16.479Z"
   },
   {
    "duration": 64,
    "start_time": "2022-12-07T09:07:16.501Z"
   },
   {
    "duration": 21,
    "start_time": "2022-12-07T09:07:16.568Z"
   },
   {
    "duration": 18,
    "start_time": "2022-12-07T09:07:16.622Z"
   },
   {
    "duration": 128,
    "start_time": "2022-12-07T09:07:16.641Z"
   },
   {
    "duration": 25,
    "start_time": "2022-12-07T09:07:16.771Z"
   },
   {
    "duration": 159,
    "start_time": "2022-12-07T09:07:16.798Z"
   },
   {
    "duration": 15,
    "start_time": "2022-12-07T09:07:16.959Z"
   },
   {
    "duration": 2304,
    "start_time": "2022-12-07T09:07:16.976Z"
   },
   {
    "duration": 2065,
    "start_time": "2022-12-07T09:07:19.282Z"
   },
   {
    "duration": 2126,
    "start_time": "2022-12-07T09:07:21.349Z"
   },
   {
    "duration": 477,
    "start_time": "2022-12-07T09:07:23.477Z"
   },
   {
    "duration": 1564,
    "start_time": "2022-12-07T09:07:23.956Z"
   },
   {
    "duration": 4,
    "start_time": "2022-12-07T09:07:25.522Z"
   },
   {
    "duration": 52,
    "start_time": "2022-12-07T09:07:25.527Z"
   },
   {
    "duration": 8,
    "start_time": "2022-12-07T09:07:25.581Z"
   },
   {
    "duration": 13,
    "start_time": "2022-12-07T09:07:25.591Z"
   },
   {
    "duration": 28615,
    "start_time": "2022-12-07T09:07:25.607Z"
   },
   {
    "duration": 28453,
    "start_time": "2022-12-07T09:09:24.214Z"
   },
   {
    "duration": 4,
    "start_time": "2022-12-07T09:10:25.432Z"
   },
   {
    "duration": 4,
    "start_time": "2022-12-07T09:10:37.730Z"
   },
   {
    "duration": 28491,
    "start_time": "2022-12-07T09:10:39.793Z"
   },
   {
    "duration": 4,
    "start_time": "2022-12-10T07:43:48.088Z"
   },
   {
    "duration": 1767,
    "start_time": "2022-12-10T07:50:25.766Z"
   },
   {
    "duration": 2430,
    "start_time": "2022-12-10T07:50:27.552Z"
   },
   {
    "duration": 332,
    "start_time": "2022-12-10T07:50:30.146Z"
   },
   {
    "duration": 169,
    "start_time": "2022-12-10T07:50:31.608Z"
   },
   {
    "duration": 316,
    "start_time": "2022-12-10T07:50:34.069Z"
   },
   {
    "duration": 9,
    "start_time": "2022-12-10T07:50:48.388Z"
   },
   {
    "duration": 4,
    "start_time": "2022-12-10T07:50:52.777Z"
   },
   {
    "duration": 8,
    "start_time": "2022-12-10T07:50:57.208Z"
   },
   {
    "duration": 48,
    "start_time": "2022-12-10T07:51:07.829Z"
   },
   {
    "duration": 23,
    "start_time": "2022-12-10T07:51:15.587Z"
   },
   {
    "duration": 3,
    "start_time": "2022-12-10T07:51:21.069Z"
   },
   {
    "duration": 130,
    "start_time": "2022-12-10T07:51:23.029Z"
   },
   {
    "duration": 27,
    "start_time": "2022-12-10T07:51:31.557Z"
   },
   {
    "duration": 157,
    "start_time": "2022-12-10T07:51:36.225Z"
   },
   {
    "duration": 15,
    "start_time": "2022-12-10T07:51:39.906Z"
   },
   {
    "duration": 2402,
    "start_time": "2022-12-10T07:52:37.475Z"
   },
   {
    "duration": 2204,
    "start_time": "2022-12-10T07:52:47.508Z"
   },
   {
    "duration": 2233,
    "start_time": "2022-12-10T07:52:56.670Z"
   },
   {
    "duration": 481,
    "start_time": "2022-12-10T07:53:10.728Z"
   },
   {
    "duration": 1404,
    "start_time": "2022-12-10T07:53:19.470Z"
   },
   {
    "duration": 1318,
    "start_time": "2022-12-10T07:59:21.639Z"
   },
   {
    "duration": 26,
    "start_time": "2022-12-10T07:59:47.190Z"
   },
   {
    "duration": 1409,
    "start_time": "2022-12-10T07:59:51.350Z"
   },
   {
    "duration": 14,
    "start_time": "2022-12-10T08:01:57.119Z"
   },
   {
    "duration": 1272,
    "start_time": "2022-12-10T08:02:00.904Z"
   },
   {
    "duration": 1206,
    "start_time": "2022-12-10T08:02:41.653Z"
   },
   {
    "duration": 1203,
    "start_time": "2022-12-10T08:06:31.839Z"
   },
   {
    "duration": 14,
    "start_time": "2022-12-10T08:09:30.464Z"
   },
   {
    "duration": 1342,
    "start_time": "2022-12-10T08:10:08.715Z"
   },
   {
    "duration": 53,
    "start_time": "2022-12-10T08:50:29.039Z"
   },
   {
    "duration": 1273,
    "start_time": "2022-12-10T08:51:19.595Z"
   },
   {
    "duration": 18,
    "start_time": "2022-12-10T08:55:25.776Z"
   },
   {
    "duration": 5,
    "start_time": "2022-12-10T08:55:43.654Z"
   },
   {
    "duration": 26,
    "start_time": "2022-12-10T08:55:52.658Z"
   },
   {
    "duration": 8,
    "start_time": "2022-12-10T08:56:12.448Z"
   },
   {
    "duration": 4,
    "start_time": "2022-12-10T08:56:16.909Z"
   },
   {
    "duration": 32982,
    "start_time": "2022-12-10T08:56:36.894Z"
   },
   {
    "duration": 209598,
    "start_time": "2022-12-10T09:04:57.898Z"
   },
   {
    "duration": 4843,
    "start_time": "2022-12-10T09:10:21.608Z"
   },
   {
    "duration": 2560,
    "start_time": "2022-12-10T09:12:00.499Z"
   },
   {
    "duration": 12,
    "start_time": "2022-12-10T09:20:15.474Z"
   },
   {
    "duration": 75,
    "start_time": "2022-12-10T09:22:38.314Z"
   },
   {
    "duration": 12,
    "start_time": "2022-12-10T09:26:19.955Z"
   }
  ],
  "kernelspec": {
   "display_name": "Python 3 (ipykernel)",
   "language": "python",
   "name": "python3"
  },
  "language_info": {
   "codemirror_mode": {
    "name": "ipython",
    "version": 3
   },
   "file_extension": ".py",
   "mimetype": "text/x-python",
   "name": "python",
   "nbconvert_exporter": "python",
   "pygments_lexer": "ipython3",
   "version": "3.9.7"
  },
  "toc": {
   "base_numbering": 1,
   "nav_menu": {},
   "number_sections": true,
   "sideBar": true,
   "skip_h1_title": true,
   "title_cell": "Содержание",
   "title_sidebar": "Contents",
   "toc_cell": true,
   "toc_position": {
    "height": "calc(100% - 180px)",
    "left": "10px",
    "top": "150px",
    "width": "165px"
   },
   "toc_section_display": true,
   "toc_window_display": true
  }
 },
 "nbformat": 4,
 "nbformat_minor": 2
}
