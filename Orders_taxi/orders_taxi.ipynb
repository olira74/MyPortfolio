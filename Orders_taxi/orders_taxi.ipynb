{
 "cells": [
  {
   "cell_type": "markdown",
   "metadata": {
    "toc": true
   },
   "source": [
    "<h1>Содержание<span class=\"tocSkip\"></span></h1>\n",
    "<div class=\"toc\"></li><li><span><a href=\"#Подготовка\" data-toc-modified-id=\"Подготовка-1\"><span class=\"toc-item-num\">1&nbsp;&nbsp;</span>Подготовка</a></span></li><li><span><a href=\"#Анализ\" data-toc-modified-id=\"Анализ-2\"><span class=\"toc-item-num\">2&nbsp;&nbsp;</span>Анализ</a></span></li><li><span><a href=\"#Обучение\" data-toc-modified-id=\"Обучение-3\"><span class=\"toc-item-num\">3&nbsp;&nbsp;</span>Обучение</a></span></li><li><span><a href=\"#Тестирование\" data-toc-modified-id=\"Тестирование-4\"><span class=\"toc-item-num\">4&nbsp;&nbsp;</span>Тестирование</a></span></li></ul></div>"
   ]
  },
  {
   "cell_type": "markdown",
   "metadata": {},
   "source": [
    "#  Прогнозирование заказов такси"
   ]
  },
  {
   "cell_type": "markdown",
   "metadata": {},
   "source": [
    "Компания «Чётенькое такси» собрала исторические данные о заказах такси в аэропортах. Чтобы привлекать больше водителей в период пиковой нагрузки, нужно спрогнозировать количество заказов такси на следующий час. Постройте модель для такого предсказания.\n",
    "\n",
    "Данные лежат в файле `taxi.csv`. Количество заказов находится в столбце `num_orders` (от англ. *number of orders*, «число заказов»)."
   ]
  },
  {
   "cell_type": "markdown",
   "metadata": {},
   "source": [
    "**Цель работы**\n",
    "\n",
    "Спрогнозировать количество заказов такси на следующий час. Построить модель для такого предсказания.\n",
    "\n",
    "**Описание данных**\n",
    "\n",
    "Набор данных находится в файле /datasets/taxi.csv.\n",
    "\n",
    "Количество заказов находится в столбце 'num_orders' \n",
    "\n",
    "**План работы**\n",
    "\n",
    "- Изучить данные, выявить пропущенные значения\n",
    "- Провести предобработку и анализ данных\n",
    "- Разделить выборку на тренировочную и тестовую\n",
    "- Выбрать для каждой из четырех моделей лучшие параметры\n",
    "- Обучить четыре модели с выбранными параметрами и сравнить их по качеству\n",
    "- Лучшую модель проверить на тестовой выборке\n",
    "- Написать вывод"
   ]
  },
  {
   "cell_type": "markdown",
   "metadata": {},
   "source": [
    "## Подготовка"
   ]
  },
  {
   "cell_type": "code",
   "execution_count": 1,
   "metadata": {},
   "outputs": [
    {
     "name": "stdout",
     "output_type": "stream",
     "text": [
      "Requirement already satisfied: scikit-learn==1.1.3 in /opt/conda/lib/python3.9/site-packages (1.1.3)\r\n",
      "Requirement already satisfied: joblib>=1.0.0 in /opt/conda/lib/python3.9/site-packages (from scikit-learn==1.1.3) (1.1.0)\r\n",
      "Requirement already satisfied: threadpoolctl>=2.0.0 in /opt/conda/lib/python3.9/site-packages (from scikit-learn==1.1.3) (3.1.0)\r\n",
      "Requirement already satisfied: scipy>=1.3.2 in /opt/conda/lib/python3.9/site-packages (from scikit-learn==1.1.3) (1.9.1)\r\n",
      "Requirement already satisfied: numpy>=1.17.3 in /opt/conda/lib/python3.9/site-packages (from scikit-learn==1.1.3) (1.21.1)\r\n"
     ]
    }
   ],
   "source": [
    "!pip install scikit-learn==1.1.3"
   ]
  },
  {
   "cell_type": "code",
   "execution_count": 2,
   "metadata": {},
   "outputs": [],
   "source": [
    "# загрузка необходимых библиотек\n",
    "import time\n",
    "import numpy as np\n",
    "import pandas as pd\n",
    "import matplotlib.pyplot as plt\n",
    "import seaborn as sns\n",
    "from statsmodels.tsa.seasonal import seasonal_decompose\n",
    "from sklearn.model_selection import train_test_split\n",
    "from sklearn.model_selection import cross_val_score\n",
    "from sklearn.model_selection import GridSearchCV\n",
    "from sklearn.model_selection import TimeSeriesSplit\n",
    "from sklearn.metrics import mean_squared_error\n",
    "from sklearn.linear_model import LinearRegression\n",
    "from sklearn.tree import DecisionTreeRegressor\n",
    "from catboost import CatBoostRegressor\n",
    "from lightgbm import LGBMRegressor"
   ]
  },
  {
   "cell_type": "code",
   "execution_count": 3,
   "metadata": {},
   "outputs": [],
   "source": [
    "# загрузка данных \n",
    "data = pd.read_csv('/datasets/taxi.csv',index_col=[0], parse_dates=[0])"
   ]
  },
  {
   "cell_type": "code",
   "execution_count": 4,
   "metadata": {},
   "outputs": [
    {
     "name": "stdout",
     "output_type": "stream",
     "text": [
      "True\n"
     ]
    }
   ],
   "source": [
    "# проверим монотонность индекса\n",
    "print(data.index.is_monotonic)"
   ]
  },
  {
   "cell_type": "code",
   "execution_count": 5,
   "metadata": {},
   "outputs": [
    {
     "data": {
      "text/html": [
       "<div>\n",
       "<style scoped>\n",
       "    .dataframe tbody tr th:only-of-type {\n",
       "        vertical-align: middle;\n",
       "    }\n",
       "\n",
       "    .dataframe tbody tr th {\n",
       "        vertical-align: top;\n",
       "    }\n",
       "\n",
       "    .dataframe thead th {\n",
       "        text-align: right;\n",
       "    }\n",
       "</style>\n",
       "<table border=\"1\" class=\"dataframe\">\n",
       "  <thead>\n",
       "    <tr style=\"text-align: right;\">\n",
       "      <th></th>\n",
       "      <th>num_orders</th>\n",
       "    </tr>\n",
       "    <tr>\n",
       "      <th>datetime</th>\n",
       "      <th></th>\n",
       "    </tr>\n",
       "  </thead>\n",
       "  <tbody>\n",
       "    <tr>\n",
       "      <th>2018-03-01 00:00:00</th>\n",
       "      <td>9</td>\n",
       "    </tr>\n",
       "    <tr>\n",
       "      <th>2018-03-01 00:10:00</th>\n",
       "      <td>14</td>\n",
       "    </tr>\n",
       "    <tr>\n",
       "      <th>2018-03-01 00:20:00</th>\n",
       "      <td>28</td>\n",
       "    </tr>\n",
       "    <tr>\n",
       "      <th>2018-03-01 00:30:00</th>\n",
       "      <td>20</td>\n",
       "    </tr>\n",
       "    <tr>\n",
       "      <th>2018-03-01 00:40:00</th>\n",
       "      <td>32</td>\n",
       "    </tr>\n",
       "  </tbody>\n",
       "</table>\n",
       "</div>"
      ],
      "text/plain": [
       "                     num_orders\n",
       "datetime                       \n",
       "2018-03-01 00:00:00           9\n",
       "2018-03-01 00:10:00          14\n",
       "2018-03-01 00:20:00          28\n",
       "2018-03-01 00:30:00          20\n",
       "2018-03-01 00:40:00          32"
      ]
     },
     "metadata": {},
     "output_type": "display_data"
    },
    {
     "data": {
      "text/html": [
       "<div>\n",
       "<style scoped>\n",
       "    .dataframe tbody tr th:only-of-type {\n",
       "        vertical-align: middle;\n",
       "    }\n",
       "\n",
       "    .dataframe tbody tr th {\n",
       "        vertical-align: top;\n",
       "    }\n",
       "\n",
       "    .dataframe thead th {\n",
       "        text-align: right;\n",
       "    }\n",
       "</style>\n",
       "<table border=\"1\" class=\"dataframe\">\n",
       "  <thead>\n",
       "    <tr style=\"text-align: right;\">\n",
       "      <th></th>\n",
       "      <th>num_orders</th>\n",
       "    </tr>\n",
       "    <tr>\n",
       "      <th>datetime</th>\n",
       "      <th></th>\n",
       "    </tr>\n",
       "  </thead>\n",
       "  <tbody>\n",
       "    <tr>\n",
       "      <th>2018-08-31 23:10:00</th>\n",
       "      <td>32</td>\n",
       "    </tr>\n",
       "    <tr>\n",
       "      <th>2018-08-31 23:20:00</th>\n",
       "      <td>24</td>\n",
       "    </tr>\n",
       "    <tr>\n",
       "      <th>2018-08-31 23:30:00</th>\n",
       "      <td>27</td>\n",
       "    </tr>\n",
       "    <tr>\n",
       "      <th>2018-08-31 23:40:00</th>\n",
       "      <td>39</td>\n",
       "    </tr>\n",
       "    <tr>\n",
       "      <th>2018-08-31 23:50:00</th>\n",
       "      <td>53</td>\n",
       "    </tr>\n",
       "  </tbody>\n",
       "</table>\n",
       "</div>"
      ],
      "text/plain": [
       "                     num_orders\n",
       "datetime                       \n",
       "2018-08-31 23:10:00          32\n",
       "2018-08-31 23:20:00          24\n",
       "2018-08-31 23:30:00          27\n",
       "2018-08-31 23:40:00          39\n",
       "2018-08-31 23:50:00          53"
      ]
     },
     "metadata": {},
     "output_type": "display_data"
    }
   ],
   "source": [
    "# первые пять сторок и последние пять строк\n",
    "display(data.head())\n",
    "display(data.tail())"
   ]
  },
  {
   "cell_type": "code",
   "execution_count": 6,
   "metadata": {},
   "outputs": [
    {
     "name": "stdout",
     "output_type": "stream",
     "text": [
      "<class 'pandas.core.frame.DataFrame'>\n",
      "DatetimeIndex: 26496 entries, 2018-03-01 00:00:00 to 2018-08-31 23:50:00\n",
      "Data columns (total 1 columns):\n",
      " #   Column      Non-Null Count  Dtype\n",
      "---  ------      --------------  -----\n",
      " 0   num_orders  26496 non-null  int64\n",
      "dtypes: int64(1)\n",
      "memory usage: 414.0 KB\n"
     ]
    },
    {
     "data": {
      "text/html": [
       "<div>\n",
       "<style scoped>\n",
       "    .dataframe tbody tr th:only-of-type {\n",
       "        vertical-align: middle;\n",
       "    }\n",
       "\n",
       "    .dataframe tbody tr th {\n",
       "        vertical-align: top;\n",
       "    }\n",
       "\n",
       "    .dataframe thead th {\n",
       "        text-align: right;\n",
       "    }\n",
       "</style>\n",
       "<table border=\"1\" class=\"dataframe\">\n",
       "  <thead>\n",
       "    <tr style=\"text-align: right;\">\n",
       "      <th></th>\n",
       "      <th>num_orders</th>\n",
       "    </tr>\n",
       "  </thead>\n",
       "  <tbody>\n",
       "    <tr>\n",
       "      <th>count</th>\n",
       "      <td>26496.000000</td>\n",
       "    </tr>\n",
       "    <tr>\n",
       "      <th>mean</th>\n",
       "      <td>14.070463</td>\n",
       "    </tr>\n",
       "    <tr>\n",
       "      <th>std</th>\n",
       "      <td>9.211330</td>\n",
       "    </tr>\n",
       "    <tr>\n",
       "      <th>min</th>\n",
       "      <td>0.000000</td>\n",
       "    </tr>\n",
       "    <tr>\n",
       "      <th>25%</th>\n",
       "      <td>8.000000</td>\n",
       "    </tr>\n",
       "    <tr>\n",
       "      <th>50%</th>\n",
       "      <td>13.000000</td>\n",
       "    </tr>\n",
       "    <tr>\n",
       "      <th>75%</th>\n",
       "      <td>19.000000</td>\n",
       "    </tr>\n",
       "    <tr>\n",
       "      <th>max</th>\n",
       "      <td>119.000000</td>\n",
       "    </tr>\n",
       "  </tbody>\n",
       "</table>\n",
       "</div>"
      ],
      "text/plain": [
       "         num_orders\n",
       "count  26496.000000\n",
       "mean      14.070463\n",
       "std        9.211330\n",
       "min        0.000000\n",
       "25%        8.000000\n",
       "50%       13.000000\n",
       "75%       19.000000\n",
       "max      119.000000"
      ]
     },
     "metadata": {},
     "output_type": "display_data"
    }
   ],
   "source": [
    "# информация о данных \n",
    "data.info()\n",
    "display(data.describe())"
   ]
  },
  {
   "cell_type": "code",
   "execution_count": 7,
   "metadata": {},
   "outputs": [
    {
     "data": {
      "image/png": "[encoded data removed]",
      "text/plain": [
       "<Figure size 1080x576 with 1 Axes>"
      ]
     },
     "metadata": {
      "needs_background": "light"
     },
     "output_type": "display_data"
    }
   ],
   "source": [
    "# ресемплирование по одному часу\n",
    "data = data.resample('1H').sum()\n",
    "figsize = (15,8)\n",
    "data.plot(figsize=figsize)\n",
    "plt.xlabel('Month')\n",
    "plt.ylabel('Number_orders')\n",
    "plt.title('Price')\n",
    "plt.show()"
   ]
  },
  {
   "cell_type": "markdown",
   "metadata": {},
   "source": [
    "**Вывод по пункту 1**\n",
    "\n",
    "В ходе изучения данных было получено следующее:\n",
    "- данные состоят из 26496 сторок и одного столбца с количеством заказов\n",
    "- временной промежуток составляет полгода\n",
    "- пропусков нет\n",
    "- в основном, количество заказов находится в промежутке от 0 до 100\n",
    "- после разбиения по одному часу мы получили нестационарный временной ряд, значения которого к августу увеличились, есть единичные выбросы"
   ]
  },
  {
   "cell_type": "markdown",
   "metadata": {},
   "source": [
    "## Анализ"
   ]
  },
  {
   "cell_type": "markdown",
   "metadata": {},
   "source": [
    "Разложим временной ряд на тренд, сезонность и остатки"
   ]
  },
  {
   "cell_type": "code",
   "execution_count": 8,
   "metadata": {},
   "outputs": [],
   "source": [
    "decomposed = seasonal_decompose(data)"
   ]
  },
  {
   "cell_type": "code",
   "execution_count": 9,
   "metadata": {},
   "outputs": [
    {
     "data": {
      "image/png": "[encoded data removed]",
      "text/plain": [
       "<Figure size 1080x576 with 1 Axes>"
      ]
     },
     "metadata": {
      "needs_background": "light"
     },
     "output_type": "display_data"
    }
   ],
   "source": [
    "# построение графика тренда\n",
    "decomposed.trend.plot(ax=plt.gca(), figsize=(15,8))\n",
    "plt.xlabel('Month')\n",
    "plt.ylabel('Number_orders')\n",
    "plt.title('Тренд')\n",
    "plt.tight_layout()\n",
    "plt.show()"
   ]
  },
  {
   "cell_type": "code",
   "execution_count": 10,
   "metadata": {},
   "outputs": [
    {
     "data": {
      "image/png": "[encoded data removed]",
      "text/plain": [
       "<Figure size 1080x576 with 1 Axes>"
      ]
     },
     "metadata": {
      "needs_background": "light"
     },
     "output_type": "display_data"
    }
   ],
   "source": [
    "# построение графика сезонности\n",
    "decomposed.seasonal.plot(ax=plt.gca(), figsize=(15,8))\n",
    "plt.xlabel('Month')\n",
    "plt.ylabel('Number_orders')\n",
    "plt.title('Сезонность')\n",
    "plt.tight_layout()\n",
    "plt.show()"
   ]
  },
  {
   "cell_type": "code",
   "execution_count": 11,
   "metadata": {},
   "outputs": [
    {
     "data": {
      "image/png": "[encoded data removed]",
      "text/plain": [
       "<Figure size 1080x576 with 1 Axes>"
      ]
     },
     "metadata": {
      "needs_background": "light"
     },
     "output_type": "display_data"
    }
   ],
   "source": [
    "# построение графика остатков\n",
    "decomposed.resid.plot(ax=plt.gca(), figsize=(15,8))\n",
    "plt.xlabel('Month')\n",
    "plt.ylabel('Number_orders')\n",
    "plt.title('Остатки')\n",
    "plt.tight_layout()\n",
    "plt.show()"
   ]
  },
  {
   "cell_type": "markdown",
   "metadata": {},
   "source": [
    "По графику тренда видно, что со временем происходит рост количества заказов, особенно к сентябрю. Заметна сезонность, но чтобы лучше ее понять, необходимо рассмотреть на меньшем промежутке времени. Рассмотрим какую-нибудь неделю"
   ]
  },
  {
   "cell_type": "code",
   "execution_count": 12,
   "metadata": {},
   "outputs": [
    {
     "data": {
      "image/png": "[encoded data removed]",
      "text/plain": [
       "<Figure size 1080x576 with 1 Axes>"
      ]
     },
     "metadata": {
      "needs_background": "light"
     },
     "output_type": "display_data"
    }
   ],
   "source": [
    "decomposed = decomposed.seasonal['2018-03-12':'2018-03-18']\n",
    "decomposed.plot(ax=plt.gca(), figsize=(15,8))\n",
    "plt.xlabel('Date')\n",
    "plt.ylabel('Number_orders')\n",
    "plt.title('Сезонность за неделю')\n",
    "plt.tight_layout()\n",
    "plt.show()"
   ]
  },
  {
   "cell_type": "markdown",
   "metadata": {},
   "source": [
    "По графику за неделю мы видим,что каждый день пик заказов приходится на ночное время, затем спад и потом рост заказов во второй половине дня."
   ]
  },
  {
   "cell_type": "markdown",
   "metadata": {},
   "source": [
    "**Вывод по пункту 2**\n",
    "\n",
    "В ходе анализа данных было выполнено и получено следующее:\n",
    "- произведено разделение временного ряда на тренд, сезонность и остатки\n",
    "- по графику тренда был замечен рост заказов к концу рассматриваемого периода\n",
    "- по графику сезонности был замечен ежедневный пик заказов в ночное время, затем спад и потом рост заказов во второй половине дня."
   ]
  },
  {
   "cell_type": "markdown",
   "metadata": {},
   "source": [
    "## Обучение"
   ]
  },
  {
   "cell_type": "markdown",
   "metadata": {},
   "source": [
    "**3.1 Подготовка признаков**"
   ]
  },
  {
   "cell_type": "markdown",
   "metadata": {},
   "source": [
    "Создадим новые признаки для обучения моделей: \n",
    "- календарные(час, день и день недели)\n",
    "- отстающие значения\n",
    "- скользящее среднее"
   ]
  },
  {
   "cell_type": "code",
   "execution_count": 13,
   "metadata": {},
   "outputs": [],
   "source": [
    "def make_features(data, max_lag, rolling_mean_size):\n",
    "    data['hour'] = data.index.hour\n",
    "    data['day'] = data.index.day\n",
    "    data['dayofweek'] = data.index.dayofweek\n",
    "    \n",
    "    for lag in range(1, max_lag + 1):\n",
    "        data['lag_{}'.format(lag)] = data['num_orders'].shift(lag)\n",
    "    \n",
    "    data['rolling_mean'] = data['num_orders'].rolling(rolling_mean_size).mean().shift()\n",
    "    "
   ]
  },
  {
   "cell_type": "code",
   "execution_count": 14,
   "metadata": {},
   "outputs": [],
   "source": [
    "make_features(data, 4, 24)"
   ]
  },
  {
   "cell_type": "code",
   "execution_count": 15,
   "metadata": {},
   "outputs": [
    {
     "data": {
      "text/html": [
       "<div>\n",
       "<style scoped>\n",
       "    .dataframe tbody tr th:only-of-type {\n",
       "        vertical-align: middle;\n",
       "    }\n",
       "\n",
       "    .dataframe tbody tr th {\n",
       "        vertical-align: top;\n",
       "    }\n",
       "\n",
       "    .dataframe thead th {\n",
       "        text-align: right;\n",
       "    }\n",
       "</style>\n",
       "<table border=\"1\" class=\"dataframe\">\n",
       "  <thead>\n",
       "    <tr style=\"text-align: right;\">\n",
       "      <th></th>\n",
       "      <th>num_orders</th>\n",
       "      <th>hour</th>\n",
       "      <th>day</th>\n",
       "      <th>dayofweek</th>\n",
       "      <th>lag_1</th>\n",
       "      <th>lag_2</th>\n",
       "      <th>lag_3</th>\n",
       "      <th>lag_4</th>\n",
       "      <th>rolling_mean</th>\n",
       "    </tr>\n",
       "    <tr>\n",
       "      <th>datetime</th>\n",
       "      <th></th>\n",
       "      <th></th>\n",
       "      <th></th>\n",
       "      <th></th>\n",
       "      <th></th>\n",
       "      <th></th>\n",
       "      <th></th>\n",
       "      <th></th>\n",
       "      <th></th>\n",
       "    </tr>\n",
       "  </thead>\n",
       "  <tbody>\n",
       "    <tr>\n",
       "      <th>2018-03-01 00:00:00</th>\n",
       "      <td>124</td>\n",
       "      <td>0</td>\n",
       "      <td>1</td>\n",
       "      <td>3</td>\n",
       "      <td>NaN</td>\n",
       "      <td>NaN</td>\n",
       "      <td>NaN</td>\n",
       "      <td>NaN</td>\n",
       "      <td>NaN</td>\n",
       "    </tr>\n",
       "    <tr>\n",
       "      <th>2018-03-01 01:00:00</th>\n",
       "      <td>85</td>\n",
       "      <td>1</td>\n",
       "      <td>1</td>\n",
       "      <td>3</td>\n",
       "      <td>124.0</td>\n",
       "      <td>NaN</td>\n",
       "      <td>NaN</td>\n",
       "      <td>NaN</td>\n",
       "      <td>NaN</td>\n",
       "    </tr>\n",
       "    <tr>\n",
       "      <th>2018-03-01 02:00:00</th>\n",
       "      <td>71</td>\n",
       "      <td>2</td>\n",
       "      <td>1</td>\n",
       "      <td>3</td>\n",
       "      <td>85.0</td>\n",
       "      <td>124.0</td>\n",
       "      <td>NaN</td>\n",
       "      <td>NaN</td>\n",
       "      <td>NaN</td>\n",
       "    </tr>\n",
       "    <tr>\n",
       "      <th>2018-03-01 03:00:00</th>\n",
       "      <td>66</td>\n",
       "      <td>3</td>\n",
       "      <td>1</td>\n",
       "      <td>3</td>\n",
       "      <td>71.0</td>\n",
       "      <td>85.0</td>\n",
       "      <td>124.0</td>\n",
       "      <td>NaN</td>\n",
       "      <td>NaN</td>\n",
       "    </tr>\n",
       "    <tr>\n",
       "      <th>2018-03-01 04:00:00</th>\n",
       "      <td>43</td>\n",
       "      <td>4</td>\n",
       "      <td>1</td>\n",
       "      <td>3</td>\n",
       "      <td>66.0</td>\n",
       "      <td>71.0</td>\n",
       "      <td>85.0</td>\n",
       "      <td>124.0</td>\n",
       "      <td>NaN</td>\n",
       "    </tr>\n",
       "    <tr>\n",
       "      <th>2018-03-01 05:00:00</th>\n",
       "      <td>6</td>\n",
       "      <td>5</td>\n",
       "      <td>1</td>\n",
       "      <td>3</td>\n",
       "      <td>43.0</td>\n",
       "      <td>66.0</td>\n",
       "      <td>71.0</td>\n",
       "      <td>85.0</td>\n",
       "      <td>NaN</td>\n",
       "    </tr>\n",
       "    <tr>\n",
       "      <th>2018-03-01 06:00:00</th>\n",
       "      <td>12</td>\n",
       "      <td>6</td>\n",
       "      <td>1</td>\n",
       "      <td>3</td>\n",
       "      <td>6.0</td>\n",
       "      <td>43.0</td>\n",
       "      <td>66.0</td>\n",
       "      <td>71.0</td>\n",
       "      <td>NaN</td>\n",
       "    </tr>\n",
       "    <tr>\n",
       "      <th>2018-03-01 07:00:00</th>\n",
       "      <td>15</td>\n",
       "      <td>7</td>\n",
       "      <td>1</td>\n",
       "      <td>3</td>\n",
       "      <td>12.0</td>\n",
       "      <td>6.0</td>\n",
       "      <td>43.0</td>\n",
       "      <td>66.0</td>\n",
       "      <td>NaN</td>\n",
       "    </tr>\n",
       "    <tr>\n",
       "      <th>2018-03-01 08:00:00</th>\n",
       "      <td>34</td>\n",
       "      <td>8</td>\n",
       "      <td>1</td>\n",
       "      <td>3</td>\n",
       "      <td>15.0</td>\n",
       "      <td>12.0</td>\n",
       "      <td>6.0</td>\n",
       "      <td>43.0</td>\n",
       "      <td>NaN</td>\n",
       "    </tr>\n",
       "    <tr>\n",
       "      <th>2018-03-01 09:00:00</th>\n",
       "      <td>69</td>\n",
       "      <td>9</td>\n",
       "      <td>1</td>\n",
       "      <td>3</td>\n",
       "      <td>34.0</td>\n",
       "      <td>15.0</td>\n",
       "      <td>12.0</td>\n",
       "      <td>6.0</td>\n",
       "      <td>NaN</td>\n",
       "    </tr>\n",
       "  </tbody>\n",
       "</table>\n",
       "</div>"
      ],
      "text/plain": [
       "                     num_orders  hour  day  dayofweek  lag_1  lag_2  lag_3  \\\n",
       "datetime                                                                     \n",
       "2018-03-01 00:00:00         124     0    1          3    NaN    NaN    NaN   \n",
       "2018-03-01 01:00:00          85     1    1          3  124.0    NaN    NaN   \n",
       "2018-03-01 02:00:00          71     2    1          3   85.0  124.0    NaN   \n",
       "2018-03-01 03:00:00          66     3    1          3   71.0   85.0  124.0   \n",
       "2018-03-01 04:00:00          43     4    1          3   66.0   71.0   85.0   \n",
       "2018-03-01 05:00:00           6     5    1          3   43.0   66.0   71.0   \n",
       "2018-03-01 06:00:00          12     6    1          3    6.0   43.0   66.0   \n",
       "2018-03-01 07:00:00          15     7    1          3   12.0    6.0   43.0   \n",
       "2018-03-01 08:00:00          34     8    1          3   15.0   12.0    6.0   \n",
       "2018-03-01 09:00:00          69     9    1          3   34.0   15.0   12.0   \n",
       "\n",
       "                     lag_4  rolling_mean  \n",
       "datetime                                  \n",
       "2018-03-01 00:00:00    NaN           NaN  \n",
       "2018-03-01 01:00:00    NaN           NaN  \n",
       "2018-03-01 02:00:00    NaN           NaN  \n",
       "2018-03-01 03:00:00    NaN           NaN  \n",
       "2018-03-01 04:00:00  124.0           NaN  \n",
       "2018-03-01 05:00:00   85.0           NaN  \n",
       "2018-03-01 06:00:00   71.0           NaN  \n",
       "2018-03-01 07:00:00   66.0           NaN  \n",
       "2018-03-01 08:00:00   43.0           NaN  \n",
       "2018-03-01 09:00:00    6.0           NaN  "
      ]
     },
     "metadata": {},
     "output_type": "display_data"
    },
    {
     "name": "stdout",
     "output_type": "stream",
     "text": [
      "(4416, 9)\n"
     ]
    }
   ],
   "source": [
    "display(data.head(10))\n",
    "print(data.shape)"
   ]
  },
  {
   "cell_type": "markdown",
   "metadata": {},
   "source": [
    "Разобьем данные на тренировочную и тестовую выборки. Для временных рядов перемешивать данные нельзя. "
   ]
  },
  {
   "cell_type": "code",
   "execution_count": 16,
   "metadata": {},
   "outputs": [],
   "source": [
    "train, test = train_test_split(data, shuffle=False, test_size=0.1)\n",
    "train = train.dropna()"
   ]
  },
  {
   "cell_type": "markdown",
   "metadata": {},
   "source": [
    "Отделим целевой признак от остальных"
   ]
  },
  {
   "cell_type": "code",
   "execution_count": 17,
   "metadata": {},
   "outputs": [
    {
     "name": "stdout",
     "output_type": "stream",
     "text": [
      "(3950, 8)\n",
      "(3950,)\n",
      "(442, 8)\n",
      "(442,)\n"
     ]
    }
   ],
   "source": [
    "features_train = train.drop(['num_orders'], axis=1)\n",
    "target_train = train['num_orders']\n",
    "\n",
    "features_test = test.drop(['num_orders'], axis=1)\n",
    "target_test = test['num_orders']\n",
    "\n",
    "print(features_train.shape)\n",
    "print(target_train.shape)\n",
    "\n",
    "print(features_test.shape)\n",
    "print(target_test.shape)"
   ]
  },
  {
   "cell_type": "markdown",
   "metadata": {},
   "source": [
    "Данные готовы к работе"
   ]
  },
  {
   "cell_type": "markdown",
   "metadata": {},
   "source": [
    "**3.2 Обучение моделей и подбор параметров**"
   ]
  },
  {
   "cell_type": "markdown",
   "metadata": {},
   "source": [
    "**LinearRegression**"
   ]
  },
  {
   "cell_type": "code",
   "execution_count": 18,
   "metadata": {},
   "outputs": [
    {
     "name": "stdout",
     "output_type": "stream",
     "text": [
      "Mean RMSE LinearRegression = 31.984317891506883\n"
     ]
    }
   ],
   "source": [
    "splits = TimeSeriesSplit(n_splits=5)\n",
    "model_linear= LinearRegression()\n",
    "cross_score_linear = (cross_val_score(model_linear, features_train, target_train, cv=splits, scoring='neg_mean_squared_error').mean() * -1) ** 0.5\n",
    "print('Mean RMSE LinearRegression =', cross_score_linear)"
   ]
  },
  {
   "cell_type": "markdown",
   "metadata": {},
   "source": [
    "**DecisionTreeRegressor**"
   ]
  },
  {
   "cell_type": "code",
   "execution_count": 19,
   "metadata": {},
   "outputs": [
    {
     "name": "stdout",
     "output_type": "stream",
     "text": [
      "Best parameters set found on development set:\n",
      "\n",
      "{'criterion': 'squared_error', 'max_depth': 8, 'random_state': 12345}\n",
      "\n",
      "Grid scores on development set:\n",
      "\n",
      "36.974653 for {'criterion': 'squared_error', 'max_depth': 1, 'random_state': 12345}\n",
      "34.819055 for {'criterion': 'squared_error', 'max_depth': 2, 'random_state': 12345}\n",
      "32.587885 for {'criterion': 'squared_error', 'max_depth': 3, 'random_state': 12345}\n",
      "31.762378 for {'criterion': 'squared_error', 'max_depth': 4, 'random_state': 12345}\n",
      "30.240672 for {'criterion': 'squared_error', 'max_depth': 5, 'random_state': 12345}\n",
      "29.437483 for {'criterion': 'squared_error', 'max_depth': 6, 'random_state': 12345}\n",
      "29.718647 for {'criterion': 'squared_error', 'max_depth': 7, 'random_state': 12345}\n",
      "29.357581 for {'criterion': 'squared_error', 'max_depth': 8, 'random_state': 12345}\n",
      "31.503790 for {'criterion': 'squared_error', 'max_depth': 9, 'random_state': 12345}\n",
      "30.491613 for {'criterion': 'squared_error', 'max_depth': 10, 'random_state': 12345}\n",
      "31.244343 for {'criterion': 'squared_error', 'max_depth': 11, 'random_state': 12345}\n",
      "32.885249 for {'criterion': 'squared_error', 'max_depth': 12, 'random_state': 12345}\n",
      "32.848222 for {'criterion': 'squared_error', 'max_depth': 13, 'random_state': 12345}\n",
      "32.683814 for {'criterion': 'squared_error', 'max_depth': 14, 'random_state': 12345}\n",
      "33.397742 for {'criterion': 'squared_error', 'max_depth': 15, 'random_state': 12345}\n",
      "33.399325 for {'criterion': 'squared_error', 'max_depth': 16, 'random_state': 12345}\n",
      "33.778430 for {'criterion': 'squared_error', 'max_depth': 17, 'random_state': 12345}\n",
      "33.477457 for {'criterion': 'squared_error', 'max_depth': 18, 'random_state': 12345}\n",
      "32.963483 for {'criterion': 'squared_error', 'max_depth': 19, 'random_state': 12345}\n",
      "33.700820 for {'criterion': 'squared_error', 'max_depth': 20, 'random_state': 12345}\n",
      "33.503598 for {'criterion': 'squared_error', 'max_depth': 21, 'random_state': 12345}\n",
      "32.768133 for {'criterion': 'squared_error', 'max_depth': 22, 'random_state': 12345}\n",
      "34.004661 for {'criterion': 'squared_error', 'max_depth': 23, 'random_state': 12345}\n",
      "32.711338 for {'criterion': 'squared_error', 'max_depth': 24, 'random_state': 12345}\n",
      "33.652638 for {'criterion': 'squared_error', 'max_depth': 25, 'random_state': 12345}\n",
      "32.846613 for {'criterion': 'squared_error', 'max_depth': 26, 'random_state': 12345}\n",
      "32.804658 for {'criterion': 'squared_error', 'max_depth': 27, 'random_state': 12345}\n",
      "32.804658 for {'criterion': 'squared_error', 'max_depth': 28, 'random_state': 12345}\n",
      "32.804658 for {'criterion': 'squared_error', 'max_depth': 29, 'random_state': 12345}\n",
      "32.804658 for {'criterion': 'squared_error', 'max_depth': 30, 'random_state': 12345}\n",
      "\n",
      "Best RMSE DecisionTreeRegressor = 29.357580820172476\n"
     ]
    }
   ],
   "source": [
    "model_tree = DecisionTreeRegressor()\n",
    "max_depth_list = [x for x in range(1, 31)]\n",
    "hyperparams = [{'criterion':['squared_error'], 'max_depth':max_depth_list, 'random_state':[12345]}]\n",
    "score_tree = GridSearchCV(model_tree, hyperparams, scoring='neg_mean_squared_error', cv=splits)\n",
    "score_tree.fit(features_train, target_train)\n",
    "print(\"Best parameters set found on development set:\")\n",
    "print()\n",
    "print(score_tree.best_params_)\n",
    "print()\n",
    "print(\"Grid scores on development set:\")\n",
    "print()\n",
    "means = score_tree.cv_results_['mean_test_score']\n",
    "for mean, params in zip(means, score_tree.cv_results_['params']):\n",
    "    print(\"%0.6f for %r\"% ((mean*-1)** 0.5, params))\n",
    "cv_RMSE_tree = (max(means)*-1) ** 0.5\n",
    "print()\n",
    "print('Best RMSE DecisionTreeRegressor =', cv_RMSE_tree)"
   ]
  },
  {
   "cell_type": "markdown",
   "metadata": {},
   "source": [
    "Лучшее RMSE показала модель с глубиной 8"
   ]
  },
  {
   "cell_type": "markdown",
   "metadata": {},
   "source": [
    "**CatBoostRegressor**"
   ]
  },
  {
   "cell_type": "code",
   "execution_count": 20,
   "metadata": {},
   "outputs": [
    {
     "name": "stdout",
     "output_type": "stream",
     "text": [
      "Best parameters set found on development set:\n",
      "\n",
      "{'depth': 3, 'learning_rate': 0.1, 'random_state': 12345, 'verbose': False}\n",
      "\n",
      "Grid scores on development set:\n",
      "\n",
      "26.488208 for {'depth': 3, 'learning_rate': 0.1, 'random_state': 12345, 'verbose': False}\n",
      "\n",
      "28.241707 for {'depth': 3, 'learning_rate': 0.3, 'random_state': 12345, 'verbose': False}\n",
      "\n",
      "29.298822 for {'depth': 3, 'learning_rate': 0.5, 'random_state': 12345, 'verbose': False}\n",
      "\n",
      "30.273929 for {'depth': 3, 'learning_rate': 0.7, 'random_state': 12345, 'verbose': False}\n",
      "\n",
      "32.160195 for {'depth': 3, 'learning_rate': 0.9, 'random_state': 12345, 'verbose': False}\n",
      "\n",
      "26.841612 for {'depth': 6, 'learning_rate': 0.1, 'random_state': 12345, 'verbose': False}\n",
      "\n",
      "27.634822 for {'depth': 6, 'learning_rate': 0.3, 'random_state': 12345, 'verbose': False}\n",
      "\n",
      "28.773552 for {'depth': 6, 'learning_rate': 0.5, 'random_state': 12345, 'verbose': False}\n",
      "\n",
      "29.515828 for {'depth': 6, 'learning_rate': 0.7, 'random_state': 12345, 'verbose': False}\n",
      "\n",
      "30.959432 for {'depth': 6, 'learning_rate': 0.9, 'random_state': 12345, 'verbose': False}\n",
      "\n",
      "27.169077 for {'depth': 9, 'learning_rate': 0.1, 'random_state': 12345, 'verbose': False}\n",
      "\n",
      "27.717292 for {'depth': 9, 'learning_rate': 0.3, 'random_state': 12345, 'verbose': False}\n",
      "\n",
      "28.563576 for {'depth': 9, 'learning_rate': 0.5, 'random_state': 12345, 'verbose': False}\n",
      "\n",
      "29.008116 for {'depth': 9, 'learning_rate': 0.7, 'random_state': 12345, 'verbose': False}\n",
      "\n",
      "30.448336 for {'depth': 9, 'learning_rate': 0.9, 'random_state': 12345, 'verbose': False}\n",
      "\n",
      "\n",
      "Best RMSE CatBoostRegressor = 26.488207664020283\n"
     ]
    }
   ],
   "source": [
    "model_catboost = CatBoostRegressor()\n",
    "hyperparams = [{'depth':[3, 6, 9], 'learning_rate':[0.1, 0.3, 0.5, 0.7, 0.9], 'random_state':[12345], 'verbose':[False]}]\n",
    "score_catboost = GridSearchCV(model_catboost, hyperparams, scoring='neg_mean_squared_error', cv=splits)\n",
    "score_catboost.fit(features_train, target_train)\n",
    "print(\"Best parameters set found on development set:\")\n",
    "print()\n",
    "print(score_catboost.best_params_)\n",
    "print()\n",
    "print(\"Grid scores on development set:\")\n",
    "print()\n",
    "means = score_catboost.cv_results_['mean_test_score']\n",
    "for mean, params in zip(means, score_catboost.cv_results_['params']):\n",
    "    print(\"%0.6f for %r\"% ((mean*-1)** 0.5, params))\n",
    "    print()\n",
    "cv_RMSE_catboost = (max(means)*-1) ** 0.5\n",
    "print()\n",
    "print('Best RMSE CatBoostRegressor =', cv_RMSE_catboost)"
   ]
  },
  {
   "cell_type": "markdown",
   "metadata": {},
   "source": [
    "Лучшее RMSE показала модель с параметром learning_rate=0.1 и depth=3"
   ]
  },
  {
   "cell_type": "markdown",
   "metadata": {},
   "source": [
    "**LGBMRegressor**"
   ]
  },
  {
   "cell_type": "code",
   "execution_count": 21,
   "metadata": {},
   "outputs": [
    {
     "name": "stdout",
     "output_type": "stream",
     "text": [
      "Best parameters set found on development set:\n",
      "\n",
      "{'learning_rate': 0.1, 'num_leaves': 31, 'random_state': 12345}\n",
      "\n",
      "Grid scores on development set:\n",
      "\n",
      "25.903436 for {'learning_rate': 0.1, 'num_leaves': 31, 'random_state': 12345}\n",
      "26.260500 for {'learning_rate': 0.1, 'num_leaves': 100, 'random_state': 12345}\n",
      "26.317542 for {'learning_rate': 0.1, 'num_leaves': 200, 'random_state': 12345}\n",
      "28.071990 for {'learning_rate': 0.4, 'num_leaves': 31, 'random_state': 12345}\n",
      "27.991190 for {'learning_rate': 0.4, 'num_leaves': 100, 'random_state': 12345}\n",
      "27.892991 for {'learning_rate': 0.4, 'num_leaves': 200, 'random_state': 12345}\n",
      "29.552420 for {'learning_rate': 0.7, 'num_leaves': 31, 'random_state': 12345}\n",
      "29.265742 for {'learning_rate': 0.7, 'num_leaves': 100, 'random_state': 12345}\n",
      "29.213769 for {'learning_rate': 0.7, 'num_leaves': 200, 'random_state': 12345}\n",
      "\n",
      "\n",
      "Best RMSE LGBMRegressor = 25.903436477736253\n"
     ]
    }
   ],
   "source": [
    "model_lgbm = LGBMRegressor()\n",
    "hyperparams = [{'num_leaves':[31, 100, 200], 'learning_rate':[0.1, 0.4, 0.7], 'random_state':[12345]}]\n",
    "score_lgbm = GridSearchCV(model_lgbm, hyperparams, scoring='neg_mean_squared_error', cv=splits)\n",
    "score_lgbm.fit(features_train, target_train)\n",
    "print(\"Best parameters set found on development set:\")\n",
    "print()\n",
    "print(score_lgbm.best_params_)\n",
    "print()\n",
    "print(\"Grid scores on development set:\")\n",
    "print()\n",
    "means = score_lgbm.cv_results_['mean_test_score']\n",
    "for mean, params in zip(means, score_lgbm.cv_results_['params']):\n",
    "    print(\"%0.6f for %r\"% ((mean*-1)** 0.5, params))\n",
    "print()\n",
    "cv_RMSE_lgbm = (max(means)*-1) ** 0.5\n",
    "print()\n",
    "print('Best RMSE LGBMRegressor =', cv_RMSE_lgbm)"
   ]
  },
  {
   "cell_type": "markdown",
   "metadata": {},
   "source": [
    "Лучшее RMSE показала модель с параметрами learning_rate=0.1 и num_leaves=31"
   ]
  },
  {
   "cell_type": "markdown",
   "metadata": {},
   "source": [
    "**3.3 Выбор лучшей модели по RMSE** "
   ]
  },
  {
   "cell_type": "markdown",
   "metadata": {},
   "source": [
    "**Сводная таблица результатов**"
   ]
  },
  {
   "cell_type": "code",
   "execution_count": 22,
   "metadata": {},
   "outputs": [
    {
     "data": {
      "text/html": [
       "<div>\n",
       "<style scoped>\n",
       "    .dataframe tbody tr th:only-of-type {\n",
       "        vertical-align: middle;\n",
       "    }\n",
       "\n",
       "    .dataframe tbody tr th {\n",
       "        vertical-align: top;\n",
       "    }\n",
       "\n",
       "    .dataframe thead th {\n",
       "        text-align: right;\n",
       "    }\n",
       "</style>\n",
       "<table border=\"1\" class=\"dataframe\">\n",
       "  <thead>\n",
       "    <tr style=\"text-align: right;\">\n",
       "      <th></th>\n",
       "      <th>RMSE</th>\n",
       "      <th>Рейтинг RMSE</th>\n",
       "    </tr>\n",
       "  </thead>\n",
       "  <tbody>\n",
       "    <tr>\n",
       "      <th>LinearRegression</th>\n",
       "      <td>31.984318</td>\n",
       "      <td>0.809879</td>\n",
       "    </tr>\n",
       "    <tr>\n",
       "      <th>DecisionTreeRegressor</th>\n",
       "      <td>29.357581</td>\n",
       "      <td>0.882342</td>\n",
       "    </tr>\n",
       "    <tr>\n",
       "      <th>CatBoostRegressor</th>\n",
       "      <td>26.488208</td>\n",
       "      <td>0.977923</td>\n",
       "    </tr>\n",
       "    <tr>\n",
       "      <th>LGBMRegressor</th>\n",
       "      <td>25.903436</td>\n",
       "      <td>1.000000</td>\n",
       "    </tr>\n",
       "  </tbody>\n",
       "</table>\n",
       "</div>"
      ],
      "text/plain": [
       "                            RMSE  Рейтинг RMSE\n",
       "LinearRegression       31.984318      0.809879\n",
       "DecisionTreeRegressor  29.357581      0.882342\n",
       "CatBoostRegressor      26.488208      0.977923\n",
       "LGBMRegressor          25.903436      1.000000"
      ]
     },
     "execution_count": 22,
     "metadata": {},
     "output_type": "execute_result"
    }
   ],
   "source": [
    "index = ['LinearRegression','DecisionTreeRegressor', 'CatBoostRegressor', 'LGBMRegressor']\n",
    "data = {'RMSE':[cross_score_linear, cv_RMSE_tree, cv_RMSE_catboost, cv_RMSE_lgbm]}\n",
    "        \n",
    "data_score = pd.DataFrame(data=data, index=index)\n",
    "data_score['Рейтинг RMSE'] = (data_score['RMSE'].min() / data_score['RMSE'])\n",
    "\n",
    "data_score"
   ]
  },
  {
   "cell_type": "markdown",
   "metadata": {},
   "source": [
    "**Вывод по пункту 3**\n",
    "\n",
    "В ходе выполнения данного пункта было сделано и получено следующее:\n",
    "- Созданы новые признаки для обучения моделей: \n",
    "    - календарные(час, день и день недели)\n",
    "    - отстающие значения\n",
    "    - скользящее среднее\n",
    "- Разбили данные на тренировочную и тестовую выборки. \n",
    "- Отделили целевой признак от остальных\n",
    "- У четырех выбранных моделей подобрали по RMSE лучшие параметры\n",
    "- Результаты свели в таблицу\n",
    "\n",
    "Самую лучшую точность показала модель LGBMRegressor, ее и будем тестировать\t"
   ]
  },
  {
   "cell_type": "markdown",
   "metadata": {},
   "source": [
    "## Тестирование"
   ]
  },
  {
   "cell_type": "code",
   "execution_count": 23,
   "metadata": {},
   "outputs": [
    {
     "name": "stdout",
     "output_type": "stream",
     "text": [
      "CPU times: user 120 ms, sys: 6 µs, total: 120 ms\n",
      "Wall time: 60.5 ms\n"
     ]
    }
   ],
   "source": [
    "%%time\n",
    "\n",
    "# проверка финальной модели на тестовой выборке\n",
    "\n",
    "predict_lgbm = score_lgbm.predict(features_test)"
   ]
  },
  {
   "cell_type": "code",
   "execution_count": 24,
   "metadata": {},
   "outputs": [
    {
     "name": "stdout",
     "output_type": "stream",
     "text": [
      "RMSE LGBMRegressor = 45.61428181294412\n"
     ]
    }
   ],
   "source": [
    "RMSE_lgbm = mean_squared_error(target_test, predict_lgbm) ** 0.5\n",
    "\n",
    "print('RMSE LGBMRegressor =', RMSE_lgbm)"
   ]
  },
  {
   "cell_type": "code",
   "execution_count": 25,
   "metadata": {},
   "outputs": [
    {
     "data": {
      "image/png": "[encoded data removed]",
      "text/plain": [
       "<Figure size 1224x576 with 1 Axes>"
      ]
     },
     "metadata": {
      "needs_background": "light"
     },
     "output_type": "display_data"
    }
   ],
   "source": [
    "a = predict_lgbm.tolist()\n",
    "b = target_test.tolist()\n",
    "plt.figure(figsize=(17, 8))\n",
    "plt.plot(a, label = \"predict\")\n",
    "plt.plot(b, label = \"target\")\n",
    "plt.legend()\n",
    "plt.xlabel('Number_orders')\n",
    "plt.ylabel('Number_orders')\n",
    "plt.title('Predict_target')\n",
    "plt.show()"
   ]
  },
  {
   "cell_type": "markdown",
   "metadata": {},
   "source": [
    "На тестовой выборке финальная модель показала себя также хорошо"
   ]
  },
  {
   "cell_type": "markdown",
   "metadata": {},
   "source": [
    "**Общий вывод**\n",
    "\n",
    "В ходе изучения данных было получено следующее:\n",
    "- данные состоят из 26496 сторок и одного столбца с количеством заказов\n",
    "- временной промежуток составляет полгода\n",
    "- пропусков нет\n",
    "- в основном, количество заказов находится в промежутке от 0 до 100\n",
    "- после разбиения по одному часу мы получили почти стационарный временной ряд, значения которого к августу увеличились, есть единичные выбросы\n",
    "\n",
    "В ходе анализа данных было выполнено и получено следующее:\n",
    "- произведено разделение временного ряда на тренд, сезонность и остатки\n",
    "- по графику тренда был замечен рост заказов к концу рассматриваемого периода\n",
    "- по графику сезонности был замечен ежедневный пик заказов в ночное время, затем спад и потом рост заказов во второй половине дня.\n",
    "\n",
    "В ходе выполнения пункта 3 было сделано и получено следующее:\n",
    "- Созданы новые признаки для обучения моделей: \n",
    "    - календарные(час, день и день недели)\n",
    "    - отстающие значения\n",
    "    - скользящее среднее\n",
    "- Разбили данные на тренировочную и тестовую выборки. \n",
    "- Отделили целевой признак от остальных\n",
    "- У четырех выбранных моделей подобрали по RMSE лучшие параметры\n",
    "- Результаты свели в таблицу\n",
    "\n",
    "Самую лучшую точность и неплохое время показала модель LGBMRegressor, ее и выбрали для тестирования\n",
    "\n",
    "\n",
    "На тестовой выборке финальная модель также показала хорошую точность"
   ]
  }
 ],
 "metadata": {
  "ExecuteTimeLog": [
   {
    "duration": 58,
    "start_time": "2023-01-20T18:51:19.496Z"
   },
   {
    "duration": 1428,
    "start_time": "2023-01-20T18:51:32.066Z"
   },
   {
    "duration": 138,
    "start_time": "2023-01-20T18:53:11.551Z"
   },
   {
    "duration": 4,
    "start_time": "2023-01-20T18:55:15.068Z"
   },
   {
    "duration": 14,
    "start_time": "2023-01-20T18:56:46.407Z"
   },
   {
    "duration": 12,
    "start_time": "2023-01-20T18:58:21.431Z"
   },
   {
    "duration": 4,
    "start_time": "2023-01-20T19:01:10.052Z"
   },
   {
    "duration": 48,
    "start_time": "2023-01-20T19:01:10.780Z"
   },
   {
    "duration": 109,
    "start_time": "2023-01-20T19:01:12.746Z"
   },
   {
    "duration": 60,
    "start_time": "2023-01-20T19:01:35.637Z"
   },
   {
    "duration": 10,
    "start_time": "2023-01-20T19:01:37.107Z"
   },
   {
    "duration": 3,
    "start_time": "2023-01-20T19:04:20.054Z"
   },
   {
    "duration": 53,
    "start_time": "2023-01-20T19:04:20.804Z"
   },
   {
    "duration": 4,
    "start_time": "2023-01-20T19:04:22.048Z"
   },
   {
    "duration": 11,
    "start_time": "2023-01-20T19:04:33.257Z"
   },
   {
    "duration": 11,
    "start_time": "2023-01-20T19:04:38.093Z"
   },
   {
    "duration": 7,
    "start_time": "2023-01-20T19:05:52.032Z"
   },
   {
    "duration": 5,
    "start_time": "2023-01-20T19:06:55.648Z"
   },
   {
    "duration": 16,
    "start_time": "2023-01-20T19:14:10.527Z"
   },
   {
    "duration": 13,
    "start_time": "2023-01-20T19:14:33.424Z"
   },
   {
    "duration": 246,
    "start_time": "2023-01-20T19:15:02.999Z"
   },
   {
    "duration": 23,
    "start_time": "2023-01-20T19:16:31.255Z"
   },
   {
    "duration": 22,
    "start_time": "2023-01-20T19:16:49.288Z"
   },
   {
    "duration": 228,
    "start_time": "2023-01-20T19:17:08.024Z"
   },
   {
    "duration": 6,
    "start_time": "2023-01-20T19:28:56.096Z"
   },
   {
    "duration": 4,
    "start_time": "2023-01-20T19:29:10.072Z"
   },
   {
    "duration": 46,
    "start_time": "2023-01-20T19:31:43.851Z"
   },
   {
    "duration": 4,
    "start_time": "2023-01-20T19:31:44.905Z"
   },
   {
    "duration": 12,
    "start_time": "2023-01-20T19:31:47.855Z"
   },
   {
    "duration": 21,
    "start_time": "2023-01-20T19:31:53.410Z"
   },
   {
    "duration": 5,
    "start_time": "2023-01-20T19:32:08.513Z"
   },
   {
    "duration": 50,
    "start_time": "2023-01-20T19:32:09.345Z"
   },
   {
    "duration": 3,
    "start_time": "2023-01-20T19:32:10.241Z"
   },
   {
    "duration": 11,
    "start_time": "2023-01-20T19:32:14.640Z"
   },
   {
    "duration": 24,
    "start_time": "2023-01-20T19:32:17.369Z"
   },
   {
    "duration": 5,
    "start_time": "2023-01-20T19:32:20.793Z"
   },
   {
    "duration": 1204,
    "start_time": "2023-01-20T19:32:33.248Z"
   },
   {
    "duration": 47,
    "start_time": "2023-01-20T19:32:34.454Z"
   },
   {
    "duration": 3,
    "start_time": "2023-01-20T19:32:34.503Z"
   },
   {
    "duration": 27,
    "start_time": "2023-01-20T19:32:34.508Z"
   },
   {
    "duration": 20,
    "start_time": "2023-01-20T19:32:34.537Z"
   },
   {
    "duration": 5,
    "start_time": "2023-01-20T19:32:34.558Z"
   },
   {
    "duration": 273,
    "start_time": "2023-01-20T19:32:34.564Z"
   },
   {
    "duration": 1180,
    "start_time": "2023-01-20T19:35:06.862Z"
   },
   {
    "duration": 54,
    "start_time": "2023-01-20T19:35:08.044Z"
   },
   {
    "duration": 4,
    "start_time": "2023-01-20T19:35:08.102Z"
   },
   {
    "duration": 56,
    "start_time": "2023-01-20T19:35:08.107Z"
   },
   {
    "duration": 43,
    "start_time": "2023-01-20T19:35:08.164Z"
   },
   {
    "duration": 25,
    "start_time": "2023-01-20T19:35:08.209Z"
   },
   {
    "duration": 335,
    "start_time": "2023-01-20T19:35:08.236Z"
   },
   {
    "duration": 1225,
    "start_time": "2023-01-20T19:36:39.439Z"
   },
   {
    "duration": 48,
    "start_time": "2023-01-20T19:36:40.668Z"
   },
   {
    "duration": 4,
    "start_time": "2023-01-20T19:36:40.718Z"
   },
   {
    "duration": 33,
    "start_time": "2023-01-20T19:36:40.725Z"
   },
   {
    "duration": 21,
    "start_time": "2023-01-20T19:36:40.761Z"
   },
   {
    "duration": 274,
    "start_time": "2023-01-20T19:36:40.783Z"
   },
   {
    "duration": 225,
    "start_time": "2023-01-20T19:56:07.243Z"
   },
   {
    "duration": 1422,
    "start_time": "2023-01-22T18:01:29.959Z"
   },
   {
    "duration": 132,
    "start_time": "2023-01-22T18:01:31.383Z"
   },
   {
    "duration": 3,
    "start_time": "2023-01-22T18:01:31.517Z"
   },
   {
    "duration": 15,
    "start_time": "2023-01-22T18:01:31.522Z"
   },
   {
    "duration": 21,
    "start_time": "2023-01-22T18:01:31.538Z"
   },
   {
    "duration": 236,
    "start_time": "2023-01-22T18:01:31.561Z"
   },
   {
    "duration": 225,
    "start_time": "2023-01-22T18:19:28.718Z"
   },
   {
    "duration": 237,
    "start_time": "2023-01-22T18:19:55.935Z"
   },
   {
    "duration": 415,
    "start_time": "2023-01-22T18:22:50.989Z"
   },
   {
    "duration": 397,
    "start_time": "2023-01-22T18:23:12.290Z"
   },
   {
    "duration": 254,
    "start_time": "2023-01-22T18:27:27.617Z"
   },
   {
    "duration": 337,
    "start_time": "2023-01-22T18:27:56.642Z"
   },
   {
    "duration": 231,
    "start_time": "2023-01-22T18:28:18.873Z"
   },
   {
    "duration": 369,
    "start_time": "2023-01-22T18:28:47.546Z"
   },
   {
    "duration": 240,
    "start_time": "2023-01-22T18:29:11.166Z"
   },
   {
    "duration": 335,
    "start_time": "2023-01-22T18:29:51.346Z"
   },
   {
    "duration": 239,
    "start_time": "2023-01-22T18:30:23.330Z"
   },
   {
    "duration": 251,
    "start_time": "2023-01-22T18:30:44.019Z"
   },
   {
    "duration": 294,
    "start_time": "2023-01-22T18:30:56.610Z"
   },
   {
    "duration": 12,
    "start_time": "2023-01-22T18:34:35.941Z"
   },
   {
    "duration": 11,
    "start_time": "2023-01-22T18:37:36.142Z"
   },
   {
    "duration": 1209,
    "start_time": "2023-01-22T18:37:44.307Z"
   },
   {
    "duration": 54,
    "start_time": "2023-01-22T18:37:45.519Z"
   },
   {
    "duration": 4,
    "start_time": "2023-01-22T18:37:45.575Z"
   },
   {
    "duration": 43,
    "start_time": "2023-01-22T18:37:45.582Z"
   },
   {
    "duration": 27,
    "start_time": "2023-01-22T18:37:45.629Z"
   },
   {
    "duration": 373,
    "start_time": "2023-01-22T18:37:45.658Z"
   },
   {
    "duration": 107,
    "start_time": "2023-01-22T18:37:46.032Z"
   },
   {
    "duration": 10,
    "start_time": "2023-01-22T18:41:20.543Z"
   },
   {
    "duration": 1047,
    "start_time": "2023-01-22T18:41:31.096Z"
   },
   {
    "duration": 48,
    "start_time": "2023-01-22T18:41:32.145Z"
   },
   {
    "duration": 4,
    "start_time": "2023-01-22T18:41:32.195Z"
   },
   {
    "duration": 13,
    "start_time": "2023-01-22T18:41:32.201Z"
   },
   {
    "duration": 16,
    "start_time": "2023-01-22T18:41:32.215Z"
   },
   {
    "duration": 307,
    "start_time": "2023-01-22T18:41:32.232Z"
   },
   {
    "duration": 222,
    "start_time": "2023-01-22T18:41:32.541Z"
   },
   {
    "duration": 15,
    "start_time": "2023-01-22T18:45:38.942Z"
   },
   {
    "duration": 7,
    "start_time": "2023-01-22T18:46:43.180Z"
   },
   {
    "duration": 115,
    "start_time": "2023-01-22T18:48:52.483Z"
   },
   {
    "duration": 9,
    "start_time": "2023-01-22T18:49:11.186Z"
   },
   {
    "duration": 1160,
    "start_time": "2023-01-22T18:49:17.380Z"
   },
   {
    "duration": 64,
    "start_time": "2023-01-22T18:49:18.542Z"
   },
   {
    "duration": 3,
    "start_time": "2023-01-22T18:49:18.608Z"
   },
   {
    "duration": 13,
    "start_time": "2023-01-22T18:49:18.614Z"
   },
   {
    "duration": 27,
    "start_time": "2023-01-22T18:49:18.629Z"
   },
   {
    "duration": 352,
    "start_time": "2023-01-22T18:49:18.658Z"
   },
   {
    "duration": 110,
    "start_time": "2023-01-22T18:49:19.012Z"
   },
   {
    "duration": 0,
    "start_time": "2023-01-22T18:49:19.124Z"
   },
   {
    "duration": 0,
    "start_time": "2023-01-22T18:49:19.125Z"
   },
   {
    "duration": 12,
    "start_time": "2023-01-22T18:50:07.985Z"
   },
   {
    "duration": 14,
    "start_time": "2023-01-22T18:50:39.083Z"
   },
   {
    "duration": 208,
    "start_time": "2023-01-22T18:51:18.891Z"
   },
   {
    "duration": 13,
    "start_time": "2023-01-22T18:51:33.388Z"
   },
   {
    "duration": 8,
    "start_time": "2023-01-22T18:52:01.835Z"
   },
   {
    "duration": 21,
    "start_time": "2023-01-22T19:32:42.676Z"
   },
   {
    "duration": 97,
    "start_time": "2023-01-22T19:45:55.717Z"
   },
   {
    "duration": 7,
    "start_time": "2023-01-22T19:46:26.074Z"
   },
   {
    "duration": 256,
    "start_time": "2023-01-22T19:46:28.064Z"
   },
   {
    "duration": 251,
    "start_time": "2023-01-22T19:46:56.225Z"
   },
   {
    "duration": 687,
    "start_time": "2023-01-22T19:49:35.506Z"
   },
   {
    "duration": 755,
    "start_time": "2023-01-22T19:49:49.906Z"
   },
   {
    "duration": 1139,
    "start_time": "2023-01-22T19:53:07.426Z"
   },
   {
    "duration": 47,
    "start_time": "2023-01-22T19:53:08.567Z"
   },
   {
    "duration": 4,
    "start_time": "2023-01-22T19:53:08.616Z"
   },
   {
    "duration": 18,
    "start_time": "2023-01-22T19:53:08.623Z"
   },
   {
    "duration": 23,
    "start_time": "2023-01-22T19:53:08.643Z"
   },
   {
    "duration": 362,
    "start_time": "2023-01-22T19:53:08.669Z"
   },
   {
    "duration": 9,
    "start_time": "2023-01-22T19:53:09.033Z"
   },
   {
    "duration": 472,
    "start_time": "2023-01-22T19:53:09.044Z"
   },
   {
    "duration": 755,
    "start_time": "2023-01-22T19:53:09.518Z"
   },
   {
    "duration": 294,
    "start_time": "2023-01-22T19:53:10.276Z"
   },
   {
    "duration": 10,
    "start_time": "2023-01-22T19:53:10.572Z"
   },
   {
    "duration": 250,
    "start_time": "2023-01-22T19:53:21.876Z"
   },
   {
    "duration": 1090,
    "start_time": "2023-01-22T19:53:33.973Z"
   },
   {
    "duration": 47,
    "start_time": "2023-01-22T19:53:35.065Z"
   },
   {
    "duration": 4,
    "start_time": "2023-01-22T19:53:35.114Z"
   },
   {
    "duration": 19,
    "start_time": "2023-01-22T19:53:35.120Z"
   },
   {
    "duration": 20,
    "start_time": "2023-01-22T19:53:35.140Z"
   },
   {
    "duration": 349,
    "start_time": "2023-01-22T19:53:35.162Z"
   },
   {
    "duration": 9,
    "start_time": "2023-01-22T19:53:35.513Z"
   },
   {
    "duration": 542,
    "start_time": "2023-01-22T19:53:35.524Z"
   },
   {
    "duration": 792,
    "start_time": "2023-01-22T19:53:36.068Z"
   },
   {
    "duration": 296,
    "start_time": "2023-01-22T19:53:36.863Z"
   },
   {
    "duration": 11,
    "start_time": "2023-01-22T19:53:37.161Z"
   },
   {
    "duration": 443,
    "start_time": "2023-01-22T19:55:00.334Z"
   },
   {
    "duration": 389,
    "start_time": "2023-01-22T19:55:48.106Z"
   },
   {
    "duration": 344,
    "start_time": "2023-01-22T20:48:28.896Z"
   },
   {
    "duration": 218,
    "start_time": "2023-01-22T21:02:17.085Z"
   },
   {
    "duration": 10,
    "start_time": "2023-01-22T21:02:23.012Z"
   },
   {
    "duration": 94,
    "start_time": "2023-01-22T21:27:03.613Z"
   },
   {
    "duration": 9,
    "start_time": "2023-01-22T21:27:35.149Z"
   },
   {
    "duration": 18,
    "start_time": "2023-01-22T21:30:27.510Z"
   },
   {
    "duration": 20,
    "start_time": "2023-01-22T21:30:51.503Z"
   },
   {
    "duration": 23,
    "start_time": "2023-01-22T21:31:35.576Z"
   },
   {
    "duration": 86,
    "start_time": "2023-01-22T21:32:19.567Z"
   },
   {
    "duration": 5,
    "start_time": "2023-01-22T21:33:42.518Z"
   },
   {
    "duration": 6,
    "start_time": "2023-01-22T21:33:46.087Z"
   },
   {
    "duration": 16,
    "start_time": "2023-01-22T21:33:50.095Z"
   },
   {
    "duration": 6,
    "start_time": "2023-01-22T21:34:53.848Z"
   },
   {
    "duration": 13,
    "start_time": "2023-01-22T21:34:54.893Z"
   },
   {
    "duration": 23,
    "start_time": "2023-01-22T21:34:55.776Z"
   },
   {
    "duration": 98,
    "start_time": "2023-01-22T21:35:16.119Z"
   },
   {
    "duration": 162,
    "start_time": "2023-01-22T21:35:46.912Z"
   },
   {
    "duration": 4,
    "start_time": "2023-01-22T21:36:23.469Z"
   },
   {
    "duration": 181,
    "start_time": "2023-01-22T21:36:25.442Z"
   },
   {
    "duration": 5,
    "start_time": "2023-01-22T21:38:23.616Z"
   },
   {
    "duration": 20,
    "start_time": "2023-01-22T21:38:26.547Z"
   },
   {
    "duration": 42,
    "start_time": "2023-01-22T21:38:29.354Z"
   },
   {
    "duration": 1394,
    "start_time": "2023-01-22T21:38:43.801Z"
   },
   {
    "duration": 92,
    "start_time": "2023-01-22T21:38:45.203Z"
   },
   {
    "duration": 4,
    "start_time": "2023-01-22T21:38:45.297Z"
   },
   {
    "duration": 30,
    "start_time": "2023-01-22T21:38:45.303Z"
   },
   {
    "duration": 29,
    "start_time": "2023-01-22T21:38:45.337Z"
   },
   {
    "duration": 495,
    "start_time": "2023-01-22T21:38:45.368Z"
   },
   {
    "duration": 12,
    "start_time": "2023-01-22T21:38:45.866Z"
   },
   {
    "duration": 458,
    "start_time": "2023-01-22T21:38:45.880Z"
   },
   {
    "duration": 548,
    "start_time": "2023-01-22T21:38:46.340Z"
   },
   {
    "duration": 462,
    "start_time": "2023-01-22T21:38:46.890Z"
   },
   {
    "duration": 416,
    "start_time": "2023-01-22T21:38:47.356Z"
   },
   {
    "duration": 251,
    "start_time": "2023-01-22T21:38:47.778Z"
   },
   {
    "duration": 10,
    "start_time": "2023-01-22T21:38:48.031Z"
   },
   {
    "duration": 12,
    "start_time": "2023-01-22T21:38:48.057Z"
   },
   {
    "duration": 38,
    "start_time": "2023-01-22T21:38:48.076Z"
   },
   {
    "duration": 19,
    "start_time": "2023-01-22T21:38:48.116Z"
   },
   {
    "duration": 6,
    "start_time": "2023-01-22T21:39:46.185Z"
   },
   {
    "duration": 8,
    "start_time": "2023-01-22T21:39:47.025Z"
   },
   {
    "duration": 27,
    "start_time": "2023-01-22T21:39:47.937Z"
   },
   {
    "duration": 4,
    "start_time": "2023-01-22T21:41:00.201Z"
   },
   {
    "duration": 8,
    "start_time": "2023-01-22T21:41:02.185Z"
   },
   {
    "duration": 19,
    "start_time": "2023-01-22T21:41:03.071Z"
   },
   {
    "duration": 1149,
    "start_time": "2023-01-22T21:41:11.120Z"
   },
   {
    "duration": 46,
    "start_time": "2023-01-22T21:41:12.275Z"
   },
   {
    "duration": 3,
    "start_time": "2023-01-22T21:41:12.322Z"
   },
   {
    "duration": 17,
    "start_time": "2023-01-22T21:41:12.327Z"
   },
   {
    "duration": 37,
    "start_time": "2023-01-22T21:41:12.345Z"
   },
   {
    "duration": 323,
    "start_time": "2023-01-22T21:41:12.384Z"
   },
   {
    "duration": 7,
    "start_time": "2023-01-22T21:41:12.709Z"
   },
   {
    "duration": 396,
    "start_time": "2023-01-22T21:41:12.718Z"
   },
   {
    "duration": 485,
    "start_time": "2023-01-22T21:41:13.115Z"
   },
   {
    "duration": 406,
    "start_time": "2023-01-22T21:41:13.603Z"
   },
   {
    "duration": 425,
    "start_time": "2023-01-22T21:41:14.011Z"
   },
   {
    "duration": 242,
    "start_time": "2023-01-22T21:41:14.437Z"
   },
   {
    "duration": 10,
    "start_time": "2023-01-22T21:41:14.681Z"
   },
   {
    "duration": 9,
    "start_time": "2023-01-22T21:41:14.692Z"
   },
   {
    "duration": 11,
    "start_time": "2023-01-22T21:41:14.702Z"
   },
   {
    "duration": 14,
    "start_time": "2023-01-22T21:41:14.714Z"
   },
   {
    "duration": 1159,
    "start_time": "2023-01-22T21:41:56.024Z"
   },
   {
    "duration": 47,
    "start_time": "2023-01-22T21:41:57.186Z"
   },
   {
    "duration": 3,
    "start_time": "2023-01-22T21:41:57.235Z"
   },
   {
    "duration": 17,
    "start_time": "2023-01-22T21:41:57.239Z"
   },
   {
    "duration": 35,
    "start_time": "2023-01-22T21:41:57.261Z"
   },
   {
    "duration": 337,
    "start_time": "2023-01-22T21:41:57.298Z"
   },
   {
    "duration": 8,
    "start_time": "2023-01-22T21:41:57.637Z"
   },
   {
    "duration": 449,
    "start_time": "2023-01-22T21:41:57.647Z"
   },
   {
    "duration": 478,
    "start_time": "2023-01-22T21:41:58.098Z"
   },
   {
    "duration": 430,
    "start_time": "2023-01-22T21:41:58.579Z"
   },
   {
    "duration": 429,
    "start_time": "2023-01-22T21:41:59.010Z"
   },
   {
    "duration": 244,
    "start_time": "2023-01-22T21:41:59.441Z"
   },
   {
    "duration": 9,
    "start_time": "2023-01-22T21:41:59.687Z"
   },
   {
    "duration": 7,
    "start_time": "2023-01-22T21:41:59.697Z"
   },
   {
    "duration": 13,
    "start_time": "2023-01-22T21:41:59.705Z"
   },
   {
    "duration": 12,
    "start_time": "2023-01-22T21:41:59.720Z"
   },
   {
    "duration": 1408,
    "start_time": "2023-01-23T08:30:54.887Z"
   },
   {
    "duration": 167,
    "start_time": "2023-01-23T08:30:56.297Z"
   },
   {
    "duration": 44,
    "start_time": "2023-01-23T08:30:56.466Z"
   },
   {
    "duration": 62,
    "start_time": "2023-01-23T08:30:56.513Z"
   },
   {
    "duration": 50,
    "start_time": "2023-01-23T08:30:56.577Z"
   },
   {
    "duration": 337,
    "start_time": "2023-01-23T08:30:56.628Z"
   },
   {
    "duration": 8,
    "start_time": "2023-01-23T08:30:56.968Z"
   },
   {
    "duration": 474,
    "start_time": "2023-01-23T08:30:56.978Z"
   },
   {
    "duration": 486,
    "start_time": "2023-01-23T08:30:57.454Z"
   },
   {
    "duration": 417,
    "start_time": "2023-01-23T08:30:57.943Z"
   },
   {
    "duration": 407,
    "start_time": "2023-01-23T08:30:58.368Z"
   },
   {
    "duration": 232,
    "start_time": "2023-01-23T08:30:58.777Z"
   },
   {
    "duration": 10,
    "start_time": "2023-01-23T08:30:59.011Z"
   },
   {
    "duration": 10,
    "start_time": "2023-01-23T08:30:59.022Z"
   },
   {
    "duration": 17,
    "start_time": "2023-01-23T08:30:59.034Z"
   },
   {
    "duration": 18,
    "start_time": "2023-01-23T08:30:59.053Z"
   },
   {
    "duration": 213,
    "start_time": "2023-01-23T08:37:30.090Z"
   },
   {
    "duration": 23,
    "start_time": "2023-01-23T08:38:51.826Z"
   },
   {
    "duration": 8,
    "start_time": "2023-01-23T08:42:09.318Z"
   },
   {
    "duration": 6,
    "start_time": "2023-01-23T08:43:25.490Z"
   },
   {
    "duration": 9,
    "start_time": "2023-01-23T08:45:17.858Z"
   },
   {
    "duration": 16,
    "start_time": "2023-01-23T08:46:15.679Z"
   },
   {
    "duration": 7,
    "start_time": "2023-01-23T08:46:23.036Z"
   },
   {
    "duration": 8,
    "start_time": "2023-01-23T08:46:24.940Z"
   },
   {
    "duration": 4,
    "start_time": "2023-01-23T08:52:34.407Z"
   },
   {
    "duration": 48,
    "start_time": "2023-01-23T09:04:36.783Z"
   },
   {
    "duration": 108,
    "start_time": "2023-01-23T09:05:04.899Z"
   },
   {
    "duration": 292,
    "start_time": "2023-01-23T09:05:51.400Z"
   },
   {
    "duration": 4,
    "start_time": "2023-01-23T09:08:58.699Z"
   },
   {
    "duration": 94,
    "start_time": "2023-01-23T09:08:58.705Z"
   },
   {
    "duration": 4,
    "start_time": "2023-01-23T09:08:58.801Z"
   },
   {
    "duration": 50,
    "start_time": "2023-01-23T09:08:58.807Z"
   },
   {
    "duration": 34,
    "start_time": "2023-01-23T09:08:58.859Z"
   },
   {
    "duration": 322,
    "start_time": "2023-01-23T09:08:58.895Z"
   },
   {
    "duration": 10,
    "start_time": "2023-01-23T09:08:59.219Z"
   },
   {
    "duration": 503,
    "start_time": "2023-01-23T09:08:59.230Z"
   },
   {
    "duration": 453,
    "start_time": "2023-01-23T09:08:59.737Z"
   },
   {
    "duration": 465,
    "start_time": "2023-01-23T09:09:00.192Z"
   },
   {
    "duration": 324,
    "start_time": "2023-01-23T09:09:00.659Z"
   },
   {
    "duration": 253,
    "start_time": "2023-01-23T09:09:00.985Z"
   },
   {
    "duration": 14,
    "start_time": "2023-01-23T09:09:01.240Z"
   },
   {
    "duration": 146,
    "start_time": "2023-01-23T09:09:01.257Z"
   },
   {
    "duration": 79,
    "start_time": "2023-01-23T09:09:01.405Z"
   },
   {
    "duration": 53,
    "start_time": "2023-01-23T09:09:01.486Z"
   },
   {
    "duration": 86,
    "start_time": "2023-01-23T09:09:01.542Z"
   },
   {
    "duration": 30,
    "start_time": "2023-01-23T09:09:01.629Z"
   },
   {
    "duration": 82,
    "start_time": "2023-01-23T09:09:01.661Z"
   },
   {
    "duration": 157,
    "start_time": "2023-01-23T09:13:23.081Z"
   },
   {
    "duration": 22,
    "start_time": "2023-01-23T09:14:02.527Z"
   },
   {
    "duration": 14,
    "start_time": "2023-01-23T09:14:34.789Z"
   },
   {
    "duration": 22,
    "start_time": "2023-01-23T09:15:28.580Z"
   },
   {
    "duration": 28,
    "start_time": "2023-01-23T09:16:11.791Z"
   },
   {
    "duration": 32,
    "start_time": "2023-01-23T09:17:48.872Z"
   },
   {
    "duration": 10,
    "start_time": "2023-01-23T09:18:07.199Z"
   },
   {
    "duration": 8,
    "start_time": "2023-01-23T09:18:10.565Z"
   },
   {
    "duration": 71,
    "start_time": "2023-01-23T09:18:17.727Z"
   },
   {
    "duration": 33,
    "start_time": "2023-01-23T09:25:22.660Z"
   },
   {
    "duration": 510,
    "start_time": "2023-01-23T09:27:33.076Z"
   },
   {
    "duration": 6847,
    "start_time": "2023-01-23T09:30:01.300Z"
   },
   {
    "duration": 5,
    "start_time": "2023-01-23T09:30:10.996Z"
   },
   {
    "duration": 161,
    "start_time": "2023-01-23T09:30:37.242Z"
   },
   {
    "duration": 512,
    "start_time": "2023-01-23T09:30:41.392Z"
   },
   {
    "duration": 2408,
    "start_time": "2023-01-23T09:31:38.685Z"
   },
   {
    "duration": 63937,
    "start_time": "2023-01-23T09:35:07.415Z"
   },
   {
    "duration": 11,
    "start_time": "2023-01-23T09:41:37.001Z"
   },
   {
    "duration": 30,
    "start_time": "2023-01-23T09:42:26.926Z"
   },
   {
    "duration": 91325,
    "start_time": "2023-01-23T09:42:32.985Z"
   },
   {
    "duration": 58,
    "start_time": "2023-01-23T09:46:39.097Z"
   },
   {
    "duration": 10,
    "start_time": "2023-01-23T09:46:49.088Z"
   },
   {
    "duration": 4,
    "start_time": "2023-01-23T09:47:28.113Z"
   },
   {
    "duration": 6,
    "start_time": "2023-01-23T09:47:41.955Z"
   },
   {
    "duration": 3,
    "start_time": "2023-01-23T09:48:01.010Z"
   },
   {
    "duration": 14,
    "start_time": "2023-01-23T09:49:04.689Z"
   },
   {
    "duration": 6,
    "start_time": "2023-01-23T09:49:29.456Z"
   },
   {
    "duration": 4,
    "start_time": "2023-01-23T09:49:54.233Z"
   },
   {
    "duration": 2501,
    "start_time": "2023-01-23T09:51:22.084Z"
   },
   {
    "duration": 6,
    "start_time": "2023-01-23T09:51:46.556Z"
   },
   {
    "duration": 6,
    "start_time": "2023-01-23T09:52:14.683Z"
   },
   {
    "duration": 80950,
    "start_time": "2023-01-23T09:53:07.053Z"
   },
   {
    "duration": 13,
    "start_time": "2023-01-23T09:54:36.141Z"
   },
   {
    "duration": 4,
    "start_time": "2023-01-23T09:54:39.531Z"
   },
   {
    "duration": 16,
    "start_time": "2023-01-23T09:58:43.802Z"
   },
   {
    "duration": 6,
    "start_time": "2023-01-23T10:06:50.005Z"
   },
   {
    "duration": 4,
    "start_time": "2023-01-23T10:07:10.924Z"
   },
   {
    "duration": 1885,
    "start_time": "2023-01-23T10:15:51.818Z"
   },
   {
    "duration": 1317,
    "start_time": "2023-01-23T10:15:53.705Z"
   },
   {
    "duration": 43,
    "start_time": "2023-01-23T10:15:55.024Z"
   },
   {
    "duration": 5,
    "start_time": "2023-01-23T10:15:55.069Z"
   },
   {
    "duration": 79,
    "start_time": "2023-01-23T10:15:55.075Z"
   },
   {
    "duration": 59,
    "start_time": "2023-01-23T10:15:55.155Z"
   },
   {
    "duration": 334,
    "start_time": "2023-01-23T10:15:55.215Z"
   },
   {
    "duration": 9,
    "start_time": "2023-01-23T10:15:55.551Z"
   },
   {
    "duration": 459,
    "start_time": "2023-01-23T10:15:55.561Z"
   },
   {
    "duration": 581,
    "start_time": "2023-01-23T10:15:56.023Z"
   },
   {
    "duration": 417,
    "start_time": "2023-01-23T10:15:56.606Z"
   },
   {
    "duration": 355,
    "start_time": "2023-01-23T10:15:57.025Z"
   },
   {
    "duration": 263,
    "start_time": "2023-01-23T10:15:57.382Z"
   },
   {
    "duration": 10,
    "start_time": "2023-01-23T10:15:57.647Z"
   },
   {
    "duration": 26,
    "start_time": "2023-01-23T10:15:57.658Z"
   },
   {
    "duration": 18,
    "start_time": "2023-01-23T10:15:57.686Z"
   },
   {
    "duration": 29,
    "start_time": "2023-01-23T10:15:57.705Z"
   },
   {
    "duration": 22,
    "start_time": "2023-01-23T10:15:57.736Z"
   },
   {
    "duration": 25,
    "start_time": "2023-01-23T10:15:57.760Z"
   },
   {
    "duration": 72,
    "start_time": "2023-01-23T10:15:57.786Z"
   },
   {
    "duration": 2639,
    "start_time": "2023-01-23T10:15:57.860Z"
   },
   {
    "duration": 59361,
    "start_time": "2023-01-23T10:16:00.501Z"
   },
   {
    "duration": 85342,
    "start_time": "2023-01-23T10:16:59.863Z"
   },
   {
    "duration": 9,
    "start_time": "2023-01-23T10:18:25.207Z"
   },
   {
    "duration": 12,
    "start_time": "2023-01-23T10:18:25.218Z"
   },
   {
    "duration": 71,
    "start_time": "2023-01-23T10:18:25.231Z"
   },
   {
    "duration": 19,
    "start_time": "2023-01-23T10:18:25.303Z"
   },
   {
    "duration": 6,
    "start_time": "2023-01-23T10:18:25.326Z"
   },
   {
    "duration": 66,
    "start_time": "2023-01-23T10:18:25.334Z"
   },
   {
    "duration": 2297,
    "start_time": "2023-01-23T10:18:25.401Z"
   },
   {
    "duration": 5,
    "start_time": "2023-01-23T10:18:27.699Z"
   },
   {
    "duration": 22,
    "start_time": "2023-01-23T10:18:27.706Z"
   },
   {
    "duration": 587,
    "start_time": "2023-01-23T10:18:27.729Z"
   },
   {
    "duration": 90,
    "start_time": "2023-01-23T10:18:28.318Z"
   },
   {
    "duration": 6,
    "start_time": "2023-01-23T10:18:28.410Z"
   },
   {
    "duration": 25,
    "start_time": "2023-01-23T10:18:28.418Z"
   },
   {
    "duration": 14,
    "start_time": "2023-01-23T10:18:28.444Z"
   },
   {
    "duration": 11,
    "start_time": "2023-01-23T10:18:28.498Z"
   },
   {
    "duration": 1912,
    "start_time": "2023-01-23T10:19:22.175Z"
   },
   {
    "duration": 1232,
    "start_time": "2023-01-23T10:19:24.090Z"
   },
   {
    "duration": 45,
    "start_time": "2023-01-23T10:19:25.323Z"
   },
   {
    "duration": 3,
    "start_time": "2023-01-23T10:19:25.370Z"
   },
   {
    "duration": 38,
    "start_time": "2023-01-23T10:19:25.374Z"
   },
   {
    "duration": 24,
    "start_time": "2023-01-23T10:19:25.414Z"
   },
   {
    "duration": 305,
    "start_time": "2023-01-23T10:19:25.440Z"
   },
   {
    "duration": 10,
    "start_time": "2023-01-23T10:19:25.747Z"
   },
   {
    "duration": 368,
    "start_time": "2023-01-23T10:19:25.758Z"
   },
   {
    "duration": 549,
    "start_time": "2023-01-23T10:19:26.129Z"
   },
   {
    "duration": 446,
    "start_time": "2023-01-23T10:19:26.679Z"
   },
   {
    "duration": 352,
    "start_time": "2023-01-23T10:19:27.127Z"
   },
   {
    "duration": 238,
    "start_time": "2023-01-23T10:19:27.481Z"
   },
   {
    "duration": 12,
    "start_time": "2023-01-23T10:19:27.721Z"
   },
   {
    "duration": 22,
    "start_time": "2023-01-23T10:19:27.736Z"
   },
   {
    "duration": 15,
    "start_time": "2023-01-23T10:19:27.760Z"
   },
   {
    "duration": 28,
    "start_time": "2023-01-23T10:19:27.777Z"
   },
   {
    "duration": 27,
    "start_time": "2023-01-23T10:19:27.807Z"
   },
   {
    "duration": 22,
    "start_time": "2023-01-23T10:19:27.836Z"
   },
   {
    "duration": 73,
    "start_time": "2023-01-23T10:19:27.860Z"
   },
   {
    "duration": 2617,
    "start_time": "2023-01-23T10:19:27.934Z"
   },
   {
    "duration": 60112,
    "start_time": "2023-01-23T10:19:30.553Z"
   },
   {
    "duration": 91641,
    "start_time": "2023-01-23T10:20:30.667Z"
   },
   {
    "duration": 12,
    "start_time": "2023-01-23T10:22:02.310Z"
   },
   {
    "duration": 6,
    "start_time": "2023-01-23T10:22:02.400Z"
   },
   {
    "duration": 14,
    "start_time": "2023-01-23T10:22:02.408Z"
   },
   {
    "duration": 75,
    "start_time": "2023-01-23T10:22:02.424Z"
   },
   {
    "duration": 6,
    "start_time": "2023-01-23T10:22:02.502Z"
   },
   {
    "duration": 10,
    "start_time": "2023-01-23T10:22:02.509Z"
   },
   {
    "duration": 2384,
    "start_time": "2023-01-23T10:22:02.521Z"
   },
   {
    "duration": 5,
    "start_time": "2023-01-23T10:22:04.906Z"
   },
   {
    "duration": 28,
    "start_time": "2023-01-23T10:22:04.913Z"
   },
   {
    "duration": 568,
    "start_time": "2023-01-23T10:22:04.943Z"
   },
   {
    "duration": 92,
    "start_time": "2023-01-23T10:22:05.513Z"
   },
   {
    "duration": 19,
    "start_time": "2023-01-23T10:22:05.607Z"
   },
   {
    "duration": 22,
    "start_time": "2023-01-23T10:22:05.628Z"
   },
   {
    "duration": 53,
    "start_time": "2023-01-23T10:22:05.653Z"
   },
   {
    "duration": 26,
    "start_time": "2023-01-23T10:22:05.707Z"
   },
   {
    "duration": 22,
    "start_time": "2023-01-23T10:27:57.188Z"
   },
   {
    "duration": 115,
    "start_time": "2023-01-23T10:28:30.383Z"
   },
   {
    "duration": 2278,
    "start_time": "2023-01-23T10:28:44.486Z"
   },
   {
    "duration": 6,
    "start_time": "2023-01-23T10:28:49.778Z"
   },
   {
    "duration": 4,
    "start_time": "2023-01-23T10:28:54.055Z"
   },
   {
    "duration": 711,
    "start_time": "2023-01-23T10:29:14.693Z"
   },
   {
    "duration": 11,
    "start_time": "2023-01-23T10:29:17.907Z"
   },
   {
    "duration": 4,
    "start_time": "2023-01-23T10:29:19.029Z"
   },
   {
    "duration": 16,
    "start_time": "2023-01-23T10:29:59.714Z"
   },
   {
    "duration": 5,
    "start_time": "2023-01-23T10:30:33.712Z"
   },
   {
    "duration": 4,
    "start_time": "2023-01-23T10:30:38.597Z"
   },
   {
    "duration": 7107,
    "start_time": "2023-01-24T08:18:49.469Z"
   },
   {
    "duration": 1386,
    "start_time": "2023-01-24T08:19:00.493Z"
   },
   {
    "duration": 127,
    "start_time": "2023-01-24T08:19:08.636Z"
   },
   {
    "duration": 3,
    "start_time": "2023-01-24T08:19:11.903Z"
   },
   {
    "duration": 13,
    "start_time": "2023-01-24T08:19:19.268Z"
   },
   {
    "duration": 19,
    "start_time": "2023-01-24T08:19:25.539Z"
   },
   {
    "duration": 283,
    "start_time": "2023-01-24T08:19:33.397Z"
   },
   {
    "duration": 8,
    "start_time": "2023-01-24T08:19:44.068Z"
   },
   {
    "duration": 385,
    "start_time": "2023-01-24T08:19:48.035Z"
   },
   {
    "duration": 588,
    "start_time": "2023-01-24T08:20:00.592Z"
   },
   {
    "duration": 422,
    "start_time": "2023-01-24T08:20:06.686Z"
   },
   {
    "duration": 314,
    "start_time": "2023-01-24T08:20:45.053Z"
   },
   {
    "duration": 218,
    "start_time": "2023-01-24T08:20:57.472Z"
   },
   {
    "duration": 10,
    "start_time": "2023-01-24T08:21:00.844Z"
   },
   {
    "duration": 4,
    "start_time": "2023-01-24T08:21:17.480Z"
   },
   {
    "duration": 10,
    "start_time": "2023-01-24T08:21:22.532Z"
   },
   {
    "duration": 15,
    "start_time": "2023-01-24T08:21:27.247Z"
   },
   {
    "duration": 7,
    "start_time": "2023-01-24T08:21:31.424Z"
   },
   {
    "duration": 8,
    "start_time": "2023-01-24T08:21:36.170Z"
   },
   {
    "duration": 119,
    "start_time": "2023-01-24T08:23:02.701Z"
   },
   {
    "duration": 7,
    "start_time": "2023-01-24T08:23:38.593Z"
   },
   {
    "duration": 23,
    "start_time": "2023-01-24T08:23:54.220Z"
   },
   {
    "duration": 38,
    "start_time": "2023-01-24T08:25:34.222Z"
   },
   {
    "duration": 14,
    "start_time": "2023-01-24T08:26:44.330Z"
   },
   {
    "duration": 24,
    "start_time": "2023-01-24T08:50:12.031Z"
   },
   {
    "duration": 25,
    "start_time": "2023-01-24T08:50:20.415Z"
   },
   {
    "duration": 1160,
    "start_time": "2023-01-24T08:50:36.465Z"
   },
   {
    "duration": 37935,
    "start_time": "2023-01-24T08:53:28.528Z"
   },
   {
    "duration": 286249,
    "start_time": "2023-01-24T08:54:29.420Z"
   },
   {
    "duration": 14,
    "start_time": "2023-01-24T08:59:32.186Z"
   },
   {
    "duration": 6,
    "start_time": "2023-01-24T08:59:36.308Z"
   },
   {
    "duration": 4,
    "start_time": "2023-01-24T08:59:37.870Z"
   },
   {
    "duration": 16,
    "start_time": "2023-01-24T08:59:57.667Z"
   },
   {
    "duration": 13,
    "start_time": "2023-01-24T09:00:11.821Z"
   },
   {
    "duration": 6,
    "start_time": "2023-01-24T09:00:20.518Z"
   },
   {
    "duration": 5,
    "start_time": "2023-01-24T09:00:25.531Z"
   },
   {
    "duration": 2525,
    "start_time": "2023-01-24T09:00:34.598Z"
   },
   {
    "duration": 5,
    "start_time": "2023-01-24T09:00:40.586Z"
   },
   {
    "duration": 5,
    "start_time": "2023-01-24T09:00:42.196Z"
   },
   {
    "duration": 698,
    "start_time": "2023-01-24T09:00:49.070Z"
   },
   {
    "duration": 7,
    "start_time": "2023-01-24T09:00:52.692Z"
   },
   {
    "duration": 4,
    "start_time": "2023-01-24T09:00:54.340Z"
   },
   {
    "duration": 16,
    "start_time": "2023-01-24T09:02:24.670Z"
   },
   {
    "duration": 5,
    "start_time": "2023-01-24T09:04:14.076Z"
   },
   {
    "duration": 4,
    "start_time": "2023-01-24T09:04:17.187Z"
   },
   {
    "duration": 9,
    "start_time": "2023-01-24T09:10:20.201Z"
   },
   {
    "duration": 181,
    "start_time": "2023-01-24T09:12:00.501Z"
   },
   {
    "duration": 196,
    "start_time": "2023-01-24T09:12:34.074Z"
   },
   {
    "duration": 10,
    "start_time": "2023-01-24T09:14:22.588Z"
   },
   {
    "duration": 116,
    "start_time": "2023-01-24T09:15:54.704Z"
   },
   {
    "duration": 187,
    "start_time": "2023-01-24T09:17:41.066Z"
   },
   {
    "duration": 210,
    "start_time": "2023-01-24T09:18:05.535Z"
   },
   {
    "duration": 227,
    "start_time": "2023-01-24T09:18:46.807Z"
   },
   {
    "duration": 213,
    "start_time": "2023-01-24T09:19:03.273Z"
   },
   {
    "duration": 2112,
    "start_time": "2023-01-24T09:20:46.589Z"
   },
   {
    "duration": 1182,
    "start_time": "2023-01-24T09:20:48.704Z"
   },
   {
    "duration": 49,
    "start_time": "2023-01-24T09:20:49.887Z"
   },
   {
    "duration": 2,
    "start_time": "2023-01-24T09:20:49.938Z"
   },
   {
    "duration": 22,
    "start_time": "2023-01-24T09:20:49.942Z"
   },
   {
    "duration": 21,
    "start_time": "2023-01-24T09:20:49.965Z"
   },
   {
    "duration": 292,
    "start_time": "2023-01-24T09:20:49.988Z"
   },
   {
    "duration": 7,
    "start_time": "2023-01-24T09:20:50.282Z"
   },
   {
    "duration": 408,
    "start_time": "2023-01-24T09:20:50.290Z"
   },
   {
    "duration": 554,
    "start_time": "2023-01-24T09:20:50.700Z"
   },
   {
    "duration": 436,
    "start_time": "2023-01-24T09:20:51.255Z"
   },
   {
    "duration": 377,
    "start_time": "2023-01-24T09:20:51.693Z"
   },
   {
    "duration": 209,
    "start_time": "2023-01-24T09:20:52.071Z"
   },
   {
    "duration": 10,
    "start_time": "2023-01-24T09:20:52.282Z"
   },
   {
    "duration": 5,
    "start_time": "2023-01-24T09:20:52.293Z"
   },
   {
    "duration": 12,
    "start_time": "2023-01-24T09:20:52.299Z"
   },
   {
    "duration": 16,
    "start_time": "2023-01-24T09:20:52.312Z"
   },
   {
    "duration": 11,
    "start_time": "2023-01-24T09:20:52.330Z"
   },
   {
    "duration": 25,
    "start_time": "2023-01-24T09:20:52.343Z"
   },
   {
    "duration": 22,
    "start_time": "2023-01-24T09:20:52.370Z"
   },
   {
    "duration": 1203,
    "start_time": "2023-01-24T09:20:52.394Z"
   },
   {
    "duration": 33763,
    "start_time": "2023-01-24T09:20:53.599Z"
   },
   {
    "duration": 278510,
    "start_time": "2023-01-24T09:21:27.364Z"
   },
   {
    "duration": 10,
    "start_time": "2023-01-24T09:26:05.876Z"
   },
   {
    "duration": 5,
    "start_time": "2023-01-24T09:26:05.888Z"
   },
   {
    "duration": 73,
    "start_time": "2023-01-24T09:26:05.895Z"
   },
   {
    "duration": 15,
    "start_time": "2023-01-24T09:26:05.970Z"
   },
   {
    "duration": 5,
    "start_time": "2023-01-24T09:26:05.988Z"
   },
   {
    "duration": 6,
    "start_time": "2023-01-24T09:26:05.995Z"
   },
   {
    "duration": 2732,
    "start_time": "2023-01-24T09:26:06.002Z"
   },
   {
    "duration": 5,
    "start_time": "2023-01-24T09:26:08.736Z"
   },
   {
    "duration": 7,
    "start_time": "2023-01-24T09:26:08.743Z"
   },
   {
    "duration": 724,
    "start_time": "2023-01-24T09:26:08.751Z"
   },
   {
    "duration": 9,
    "start_time": "2023-01-24T09:26:09.477Z"
   },
   {
    "duration": 5,
    "start_time": "2023-01-24T09:26:09.566Z"
   },
   {
    "duration": 32,
    "start_time": "2023-01-24T09:26:09.573Z"
   },
   {
    "duration": 8,
    "start_time": "2023-01-24T09:26:09.607Z"
   },
   {
    "duration": 5,
    "start_time": "2023-01-24T09:26:09.617Z"
   },
   {
    "duration": 206,
    "start_time": "2023-01-24T09:26:09.624Z"
   },
   {
    "duration": 20,
    "start_time": "2023-01-24T09:27:36.780Z"
   },
   {
    "duration": 2565,
    "start_time": "2023-01-24T09:28:09.947Z"
   },
   {
    "duration": 7,
    "start_time": "2023-01-24T09:28:29.165Z"
   },
   {
    "duration": 5,
    "start_time": "2023-01-24T09:28:35.508Z"
   },
   {
    "duration": 721,
    "start_time": "2023-01-24T09:28:43.854Z"
   },
   {
    "duration": 13,
    "start_time": "2023-01-24T09:28:55.573Z"
   },
   {
    "duration": 4,
    "start_time": "2023-01-24T09:29:11.035Z"
   },
   {
    "duration": 16,
    "start_time": "2023-01-24T09:29:14.687Z"
   },
   {
    "duration": 5,
    "start_time": "2023-01-24T09:29:41.788Z"
   },
   {
    "duration": 4,
    "start_time": "2023-01-24T09:29:43.655Z"
   },
   {
    "duration": 202,
    "start_time": "2023-01-24T09:29:46.824Z"
   },
   {
    "duration": 6886,
    "start_time": "2023-01-25T10:04:23.451Z"
   },
   {
    "duration": 1556,
    "start_time": "2023-01-25T10:04:30.340Z"
   },
   {
    "duration": 139,
    "start_time": "2023-01-25T10:04:31.898Z"
   },
   {
    "duration": 3,
    "start_time": "2023-01-25T10:04:32.039Z"
   },
   {
    "duration": 56,
    "start_time": "2023-01-25T10:04:32.044Z"
   },
   {
    "duration": 61,
    "start_time": "2023-01-25T10:04:32.102Z"
   },
   {
    "duration": 362,
    "start_time": "2023-01-25T10:04:32.164Z"
   },
   {
    "duration": 8,
    "start_time": "2023-01-25T10:04:32.528Z"
   },
   {
    "duration": 478,
    "start_time": "2023-01-25T10:04:32.538Z"
   },
   {
    "duration": 551,
    "start_time": "2023-01-25T10:04:33.019Z"
   },
   {
    "duration": 448,
    "start_time": "2023-01-25T10:04:33.572Z"
   },
   {
    "duration": 346,
    "start_time": "2023-01-25T10:04:34.022Z"
   },
   {
    "duration": 225,
    "start_time": "2023-01-25T10:04:34.370Z"
   },
   {
    "duration": 10,
    "start_time": "2023-01-25T10:04:34.597Z"
   },
   {
    "duration": 16,
    "start_time": "2023-01-25T10:04:34.609Z"
   },
   {
    "duration": 17,
    "start_time": "2023-01-25T10:04:34.626Z"
   },
   {
    "duration": 22,
    "start_time": "2023-01-25T10:04:34.645Z"
   },
   {
    "duration": 13,
    "start_time": "2023-01-25T10:04:34.669Z"
   },
   {
    "duration": 7,
    "start_time": "2023-01-25T10:04:34.684Z"
   },
   {
    "duration": 32,
    "start_time": "2023-01-25T10:04:34.693Z"
   },
   {
    "duration": 1284,
    "start_time": "2023-01-25T10:04:34.727Z"
   },
   {
    "duration": 34361,
    "start_time": "2023-01-25T10:04:36.013Z"
   },
   {
    "duration": 43286,
    "start_time": "2023-01-25T10:05:10.376Z"
   },
   {
    "duration": 11,
    "start_time": "2023-01-25T10:05:53.663Z"
   },
   {
    "duration": 83,
    "start_time": "2023-01-25T10:05:53.675Z"
   },
   {
    "duration": 30,
    "start_time": "2023-01-25T10:05:53.759Z"
   },
   {
    "duration": 29,
    "start_time": "2023-01-25T10:05:53.790Z"
   },
   {
    "duration": 6,
    "start_time": "2023-01-25T10:05:53.855Z"
   },
   {
    "duration": 37,
    "start_time": "2023-01-25T10:05:53.863Z"
   },
   {
    "duration": 2350,
    "start_time": "2023-01-25T10:05:53.902Z"
   },
   {
    "duration": 5,
    "start_time": "2023-01-25T10:05:56.254Z"
   },
   {
    "duration": 6,
    "start_time": "2023-01-25T10:05:56.261Z"
   },
   {
    "duration": 1597,
    "start_time": "2023-01-25T10:05:56.268Z"
   },
   {
    "duration": 88,
    "start_time": "2023-01-25T10:05:57.868Z"
   },
   {
    "duration": 4,
    "start_time": "2023-01-25T10:05:57.957Z"
   },
   {
    "duration": 31,
    "start_time": "2023-01-25T10:05:57.963Z"
   },
   {
    "duration": 14,
    "start_time": "2023-01-25T10:05:57.996Z"
   },
   {
    "duration": 6,
    "start_time": "2023-01-25T10:05:58.011Z"
   },
   {
    "duration": 223,
    "start_time": "2023-01-25T10:05:58.018Z"
   },
   {
    "duration": 9,
    "start_time": "2023-01-25T10:08:30.995Z"
   },
   {
    "duration": 5,
    "start_time": "2023-01-25T10:10:55.580Z"
   },
   {
    "duration": 4,
    "start_time": "2023-01-25T10:13:22.913Z"
   },
   {
    "duration": 118,
    "start_time": "2023-01-25T10:13:28.070Z"
   },
   {
    "duration": 4,
    "start_time": "2023-01-25T10:13:47.205Z"
   },
   {
    "duration": 47,
    "start_time": "2023-01-25T10:13:48.556Z"
   },
   {
    "duration": 3,
    "start_time": "2023-01-25T10:13:49.132Z"
   },
   {
    "duration": 10,
    "start_time": "2023-01-25T10:13:49.883Z"
   },
   {
    "duration": 20,
    "start_time": "2023-01-25T10:13:50.506Z"
   },
   {
    "duration": 274,
    "start_time": "2023-01-25T10:13:51.102Z"
   },
   {
    "duration": 10,
    "start_time": "2023-01-25T10:13:54.105Z"
   },
   {
    "duration": 491,
    "start_time": "2023-01-25T10:13:54.687Z"
   },
   {
    "duration": 418,
    "start_time": "2023-01-25T10:13:55.331Z"
   },
   {
    "duration": 410,
    "start_time": "2023-01-25T10:13:55.895Z"
   },
   {
    "duration": 331,
    "start_time": "2023-01-25T10:13:57.013Z"
   },
   {
    "duration": 2,
    "start_time": "2023-01-25T10:13:58.873Z"
   },
   {
    "duration": 10,
    "start_time": "2023-01-25T10:13:59.688Z"
   },
   {
    "duration": 5,
    "start_time": "2023-01-25T10:14:26.510Z"
   },
   {
    "duration": 12,
    "start_time": "2023-01-25T10:14:27.701Z"
   },
   {
    "duration": 15,
    "start_time": "2023-01-25T10:14:30.166Z"
   },
   {
    "duration": 2221,
    "start_time": "2023-01-25T10:16:21.376Z"
   },
   {
    "duration": 1175,
    "start_time": "2023-01-25T10:16:23.600Z"
   },
   {
    "duration": 45,
    "start_time": "2023-01-25T10:16:24.776Z"
   },
   {
    "duration": 3,
    "start_time": "2023-01-25T10:16:24.823Z"
   },
   {
    "duration": 18,
    "start_time": "2023-01-25T10:16:24.827Z"
   },
   {
    "duration": 19,
    "start_time": "2023-01-25T10:16:24.846Z"
   },
   {
    "duration": 315,
    "start_time": "2023-01-25T10:16:24.867Z"
   },
   {
    "duration": 7,
    "start_time": "2023-01-25T10:16:25.184Z"
   },
   {
    "duration": 429,
    "start_time": "2023-01-25T10:16:25.193Z"
   },
   {
    "duration": 555,
    "start_time": "2023-01-25T10:16:25.625Z"
   },
   {
    "duration": 448,
    "start_time": "2023-01-25T10:16:26.182Z"
   },
   {
    "duration": 316,
    "start_time": "2023-01-25T10:16:26.632Z"
   },
   {
    "duration": 2,
    "start_time": "2023-01-25T10:16:26.953Z"
   },
   {
    "duration": 29,
    "start_time": "2023-01-25T10:16:26.957Z"
   },
   {
    "duration": 8,
    "start_time": "2023-01-25T10:16:26.989Z"
   },
   {
    "duration": 16,
    "start_time": "2023-01-25T10:16:26.998Z"
   },
   {
    "duration": 14,
    "start_time": "2023-01-25T10:16:27.015Z"
   },
   {
    "duration": 15,
    "start_time": "2023-01-25T10:16:27.031Z"
   },
   {
    "duration": 16,
    "start_time": "2023-01-25T10:16:27.048Z"
   },
   {
    "duration": 39,
    "start_time": "2023-01-25T10:16:27.065Z"
   },
   {
    "duration": 1309,
    "start_time": "2023-01-25T10:16:27.106Z"
   },
   {
    "duration": 33725,
    "start_time": "2023-01-25T10:16:28.417Z"
   },
   {
    "duration": 34928,
    "start_time": "2023-01-25T10:17:02.143Z"
   },
   {
    "duration": 90,
    "start_time": "2023-01-25T10:17:37.073Z"
   },
   {
    "duration": 11,
    "start_time": "2023-01-25T10:17:37.165Z"
   },
   {
    "duration": 14,
    "start_time": "2023-01-25T10:17:37.178Z"
   },
   {
    "duration": 69,
    "start_time": "2023-01-25T10:17:37.193Z"
   },
   {
    "duration": 6,
    "start_time": "2023-01-25T10:17:37.265Z"
   },
   {
    "duration": 19,
    "start_time": "2023-01-25T10:17:37.272Z"
   },
   {
    "duration": 2324,
    "start_time": "2023-01-25T10:17:37.293Z"
   },
   {
    "duration": 5,
    "start_time": "2023-01-25T10:17:39.618Z"
   },
   {
    "duration": 16,
    "start_time": "2023-01-25T10:17:39.625Z"
   },
   {
    "duration": 1115,
    "start_time": "2023-01-25T10:17:39.643Z"
   },
   {
    "duration": 8,
    "start_time": "2023-01-25T10:17:40.760Z"
   },
   {
    "duration": 11,
    "start_time": "2023-01-25T10:17:40.770Z"
   },
   {
    "duration": 83,
    "start_time": "2023-01-25T10:17:40.783Z"
   },
   {
    "duration": 12,
    "start_time": "2023-01-25T10:17:40.867Z"
   },
   {
    "duration": 7,
    "start_time": "2023-01-25T10:17:40.880Z"
   },
   {
    "duration": 270,
    "start_time": "2023-01-25T10:17:40.888Z"
   },
   {
    "duration": 12,
    "start_time": "2023-01-25T10:18:44.041Z"
   },
   {
    "duration": 2274,
    "start_time": "2023-01-25T10:32:35.722Z"
   },
   {
    "duration": 1214,
    "start_time": "2023-01-25T10:32:37.998Z"
   },
   {
    "duration": 43,
    "start_time": "2023-01-25T10:32:39.214Z"
   },
   {
    "duration": 4,
    "start_time": "2023-01-25T10:32:39.259Z"
   },
   {
    "duration": 23,
    "start_time": "2023-01-25T10:32:39.265Z"
   },
   {
    "duration": 21,
    "start_time": "2023-01-25T10:32:39.290Z"
   },
   {
    "duration": 369,
    "start_time": "2023-01-25T10:32:39.313Z"
   },
   {
    "duration": 8,
    "start_time": "2023-01-25T10:32:39.685Z"
   },
   {
    "duration": 486,
    "start_time": "2023-01-25T10:32:39.694Z"
   },
   {
    "duration": 563,
    "start_time": "2023-01-25T10:32:40.184Z"
   },
   {
    "duration": 469,
    "start_time": "2023-01-25T10:32:40.749Z"
   },
   {
    "duration": 350,
    "start_time": "2023-01-25T10:32:41.220Z"
   },
   {
    "duration": 3,
    "start_time": "2023-01-25T10:32:41.572Z"
   },
   {
    "duration": 13,
    "start_time": "2023-01-25T10:32:41.577Z"
   },
   {
    "duration": 8,
    "start_time": "2023-01-25T10:32:41.593Z"
   },
   {
    "duration": 19,
    "start_time": "2023-01-25T10:32:41.602Z"
   },
   {
    "duration": 17,
    "start_time": "2023-01-25T10:32:41.622Z"
   },
   {
    "duration": 8,
    "start_time": "2023-01-25T10:32:41.654Z"
   },
   {
    "duration": 8,
    "start_time": "2023-01-25T10:32:41.664Z"
   },
   {
    "duration": 31,
    "start_time": "2023-01-25T10:32:41.674Z"
   },
   {
    "duration": 1196,
    "start_time": "2023-01-25T10:32:41.707Z"
   },
   {
    "duration": 33773,
    "start_time": "2023-01-25T10:32:42.905Z"
   },
   {
    "duration": 34985,
    "start_time": "2023-01-25T10:33:16.680Z"
   },
   {
    "duration": 87,
    "start_time": "2023-01-25T10:33:51.667Z"
   },
   {
    "duration": 6,
    "start_time": "2023-01-25T10:33:51.756Z"
   },
   {
    "duration": 13,
    "start_time": "2023-01-25T10:33:51.763Z"
   },
   {
    "duration": 76,
    "start_time": "2023-01-25T10:33:51.778Z"
   },
   {
    "duration": 7,
    "start_time": "2023-01-25T10:33:51.856Z"
   },
   {
    "duration": 9,
    "start_time": "2023-01-25T10:33:51.864Z"
   },
   {
    "duration": 2241,
    "start_time": "2023-01-25T10:33:51.875Z"
   },
   {
    "duration": 5,
    "start_time": "2023-01-25T10:33:54.118Z"
   },
   {
    "duration": 8,
    "start_time": "2023-01-25T10:33:54.124Z"
   },
   {
    "duration": 628,
    "start_time": "2023-01-25T10:33:54.134Z"
   },
   {
    "duration": 94,
    "start_time": "2023-01-25T10:33:54.763Z"
   },
   {
    "duration": 7,
    "start_time": "2023-01-25T10:33:54.859Z"
   },
   {
    "duration": 20,
    "start_time": "2023-01-25T10:33:54.868Z"
   },
   {
    "duration": 65,
    "start_time": "2023-01-25T10:33:54.889Z"
   },
   {
    "duration": 4,
    "start_time": "2023-01-25T10:33:54.956Z"
   },
   {
    "duration": 220,
    "start_time": "2023-01-25T10:33:54.962Z"
   },
   {
    "duration": 2132,
    "start_time": "2023-01-25T10:41:21.170Z"
   },
   {
    "duration": 1278,
    "start_time": "2023-01-25T10:41:23.304Z"
   },
   {
    "duration": 43,
    "start_time": "2023-01-25T10:41:24.583Z"
   },
   {
    "duration": 3,
    "start_time": "2023-01-25T10:41:24.628Z"
   },
   {
    "duration": 21,
    "start_time": "2023-01-25T10:41:24.633Z"
   },
   {
    "duration": 25,
    "start_time": "2023-01-25T10:41:24.655Z"
   },
   {
    "duration": 309,
    "start_time": "2023-01-25T10:41:24.681Z"
   },
   {
    "duration": 8,
    "start_time": "2023-01-25T10:41:24.992Z"
   },
   {
    "duration": 464,
    "start_time": "2023-01-25T10:41:25.002Z"
   },
   {
    "duration": 551,
    "start_time": "2023-01-25T10:41:25.469Z"
   },
   {
    "duration": 458,
    "start_time": "2023-01-25T10:41:26.022Z"
   },
   {
    "duration": 362,
    "start_time": "2023-01-25T10:41:26.482Z"
   },
   {
    "duration": 3,
    "start_time": "2023-01-25T10:41:26.853Z"
   },
   {
    "duration": 24,
    "start_time": "2023-01-25T10:41:26.857Z"
   },
   {
    "duration": 27,
    "start_time": "2023-01-25T10:41:26.883Z"
   },
   {
    "duration": 30,
    "start_time": "2023-01-25T10:41:26.911Z"
   },
   {
    "duration": 29,
    "start_time": "2023-01-25T10:41:26.943Z"
   },
   {
    "duration": 25,
    "start_time": "2023-01-25T10:41:26.974Z"
   },
   {
    "duration": 22,
    "start_time": "2023-01-25T10:41:27.001Z"
   },
   {
    "duration": 46,
    "start_time": "2023-01-25T10:41:27.025Z"
   },
   {
    "duration": 1417,
    "start_time": "2023-01-25T10:41:27.073Z"
   },
   {
    "duration": 35932,
    "start_time": "2023-01-25T10:41:28.491Z"
   },
   {
    "duration": 34038,
    "start_time": "2023-01-25T10:42:04.425Z"
   },
   {
    "duration": 90,
    "start_time": "2023-01-25T10:42:38.465Z"
   },
   {
    "duration": 7,
    "start_time": "2023-01-25T10:42:38.557Z"
   },
   {
    "duration": 9,
    "start_time": "2023-01-25T10:42:38.566Z"
   },
   {
    "duration": 90,
    "start_time": "2023-01-25T10:42:38.576Z"
   },
   {
    "duration": 5,
    "start_time": "2023-01-25T10:42:38.669Z"
   },
   {
    "duration": 10,
    "start_time": "2023-01-25T10:42:38.676Z"
   },
   {
    "duration": 2370,
    "start_time": "2023-01-25T10:42:38.688Z"
   },
   {
    "duration": 5,
    "start_time": "2023-01-25T10:42:41.060Z"
   },
   {
    "duration": 20,
    "start_time": "2023-01-25T10:42:41.067Z"
   },
   {
    "duration": 673,
    "start_time": "2023-01-25T10:42:41.089Z"
   },
   {
    "duration": 96,
    "start_time": "2023-01-25T10:42:41.764Z"
   },
   {
    "duration": 6,
    "start_time": "2023-01-25T10:42:41.862Z"
   },
   {
    "duration": 20,
    "start_time": "2023-01-25T10:42:41.870Z"
   },
   {
    "duration": 61,
    "start_time": "2023-01-25T10:42:41.891Z"
   },
   {
    "duration": 6,
    "start_time": "2023-01-25T10:42:41.955Z"
   },
   {
    "duration": 218,
    "start_time": "2023-01-25T10:42:41.962Z"
   },
   {
    "duration": 2142,
    "start_time": "2023-01-25T10:48:24.416Z"
   },
   {
    "duration": 1345,
    "start_time": "2023-01-25T10:48:26.561Z"
   },
   {
    "duration": 41,
    "start_time": "2023-01-25T10:48:27.908Z"
   },
   {
    "duration": 3,
    "start_time": "2023-01-25T10:48:27.951Z"
   },
   {
    "duration": 17,
    "start_time": "2023-01-25T10:48:27.956Z"
   },
   {
    "duration": 18,
    "start_time": "2023-01-25T10:48:27.974Z"
   },
   {
    "duration": 377,
    "start_time": "2023-01-25T10:48:27.993Z"
   },
   {
    "duration": 9,
    "start_time": "2023-01-25T10:48:28.372Z"
   },
   {
    "duration": 402,
    "start_time": "2023-01-25T10:48:28.382Z"
   },
   {
    "duration": 546,
    "start_time": "2023-01-25T10:48:28.786Z"
   },
   {
    "duration": 419,
    "start_time": "2023-01-25T10:48:29.334Z"
   },
   {
    "duration": 351,
    "start_time": "2023-01-25T10:48:29.755Z"
   },
   {
    "duration": 3,
    "start_time": "2023-01-25T10:48:30.107Z"
   },
   {
    "duration": 29,
    "start_time": "2023-01-25T10:48:30.111Z"
   },
   {
    "duration": 32,
    "start_time": "2023-01-25T10:48:30.142Z"
   },
   {
    "duration": 22,
    "start_time": "2023-01-25T10:48:30.175Z"
   },
   {
    "duration": 21,
    "start_time": "2023-01-25T10:48:30.198Z"
   },
   {
    "duration": 22,
    "start_time": "2023-01-25T10:48:30.221Z"
   },
   {
    "duration": 18,
    "start_time": "2023-01-25T10:48:30.244Z"
   },
   {
    "duration": 53,
    "start_time": "2023-01-25T10:48:30.263Z"
   },
   {
    "duration": 1312,
    "start_time": "2023-01-25T10:48:30.318Z"
   },
   {
    "duration": 34146,
    "start_time": "2023-01-25T10:48:31.632Z"
   },
   {
    "duration": 35285,
    "start_time": "2023-01-25T10:49:05.780Z"
   },
   {
    "duration": 89,
    "start_time": "2023-01-25T10:49:41.066Z"
   },
   {
    "duration": 7,
    "start_time": "2023-01-25T10:49:41.157Z"
   },
   {
    "duration": 18,
    "start_time": "2023-01-25T10:49:41.166Z"
   },
   {
    "duration": 19,
    "start_time": "2023-01-25T10:49:41.253Z"
   },
   {
    "duration": 18,
    "start_time": "2023-01-25T10:49:41.275Z"
   },
   {
    "duration": 13,
    "start_time": "2023-01-25T10:49:41.295Z"
   },
   {
    "duration": 2419,
    "start_time": "2023-01-25T10:49:41.310Z"
   },
   {
    "duration": 5,
    "start_time": "2023-01-25T10:49:43.730Z"
   },
   {
    "duration": 5,
    "start_time": "2023-01-25T10:49:43.737Z"
   },
   {
    "duration": 712,
    "start_time": "2023-01-25T10:49:43.744Z"
   },
   {
    "duration": 11,
    "start_time": "2023-01-25T10:49:44.458Z"
   },
   {
    "duration": 21,
    "start_time": "2023-01-25T10:49:44.470Z"
   },
   {
    "duration": 67,
    "start_time": "2023-01-25T10:49:44.493Z"
   },
   {
    "duration": 14,
    "start_time": "2023-01-25T10:49:44.561Z"
   },
   {
    "duration": 8,
    "start_time": "2023-01-25T10:49:44.577Z"
   },
   {
    "duration": 237,
    "start_time": "2023-01-25T10:49:44.586Z"
   },
   {
    "duration": 2399,
    "start_time": "2023-01-25T11:00:26.704Z"
   },
   {
    "duration": 1322,
    "start_time": "2023-01-25T11:00:29.106Z"
   },
   {
    "duration": 47,
    "start_time": "2023-01-25T11:00:30.430Z"
   },
   {
    "duration": 12,
    "start_time": "2023-01-25T11:00:30.479Z"
   },
   {
    "duration": 49,
    "start_time": "2023-01-25T11:00:30.493Z"
   },
   {
    "duration": 52,
    "start_time": "2023-01-25T11:00:30.544Z"
   },
   {
    "duration": 372,
    "start_time": "2023-01-25T11:00:30.598Z"
   },
   {
    "duration": 10,
    "start_time": "2023-01-25T11:00:30.972Z"
   },
   {
    "duration": 439,
    "start_time": "2023-01-25T11:00:30.984Z"
   },
   {
    "duration": 576,
    "start_time": "2023-01-25T11:00:31.425Z"
   },
   {
    "duration": 424,
    "start_time": "2023-01-25T11:00:32.004Z"
   },
   {
    "duration": 333,
    "start_time": "2023-01-25T11:00:32.430Z"
   },
   {
    "duration": 3,
    "start_time": "2023-01-25T11:00:32.765Z"
   },
   {
    "duration": 19,
    "start_time": "2023-01-25T11:00:32.769Z"
   },
   {
    "duration": 3,
    "start_time": "2023-01-25T11:00:32.790Z"
   },
   {
    "duration": 18,
    "start_time": "2023-01-25T11:00:32.795Z"
   },
   {
    "duration": 18,
    "start_time": "2023-01-25T11:00:32.814Z"
   },
   {
    "duration": 24,
    "start_time": "2023-01-25T11:00:32.834Z"
   },
   {
    "duration": 8,
    "start_time": "2023-01-25T11:00:32.860Z"
   },
   {
    "duration": 35,
    "start_time": "2023-01-25T11:00:32.870Z"
   },
   {
    "duration": 1410,
    "start_time": "2023-01-25T11:00:32.908Z"
   },
   {
    "duration": 35048,
    "start_time": "2023-01-25T11:00:34.320Z"
   },
   {
    "duration": 43189,
    "start_time": "2023-01-25T11:01:09.370Z"
   },
   {
    "duration": 11,
    "start_time": "2023-01-25T11:01:52.561Z"
   },
   {
    "duration": 80,
    "start_time": "2023-01-25T11:01:52.574Z"
   },
   {
    "duration": 7,
    "start_time": "2023-01-25T11:01:52.656Z"
   },
   {
    "duration": 94,
    "start_time": "2023-01-25T11:01:52.664Z"
   },
   {
    "duration": 6,
    "start_time": "2023-01-25T11:01:52.761Z"
   },
   {
    "duration": 8,
    "start_time": "2023-01-25T11:01:52.769Z"
   },
   {
    "duration": 2422,
    "start_time": "2023-01-25T11:01:52.778Z"
   },
   {
    "duration": 5,
    "start_time": "2023-01-25T11:01:55.202Z"
   },
   {
    "duration": 13,
    "start_time": "2023-01-25T11:01:55.209Z"
   },
   {
    "duration": 833,
    "start_time": "2023-01-25T11:01:55.224Z"
   },
   {
    "duration": 11,
    "start_time": "2023-01-25T11:01:56.060Z"
   },
   {
    "duration": 21,
    "start_time": "2023-01-25T11:01:56.073Z"
   },
   {
    "duration": 59,
    "start_time": "2023-01-25T11:01:56.096Z"
   },
   {
    "duration": 28,
    "start_time": "2023-01-25T11:01:56.158Z"
   },
   {
    "duration": 25,
    "start_time": "2023-01-25T11:01:56.189Z"
   },
   {
    "duration": 231,
    "start_time": "2023-01-25T11:01:56.215Z"
   },
   {
    "duration": 2311,
    "start_time": "2023-01-25T11:08:26.608Z"
   },
   {
    "duration": 1338,
    "start_time": "2023-01-25T11:08:28.921Z"
   },
   {
    "duration": 46,
    "start_time": "2023-01-25T11:08:30.261Z"
   },
   {
    "duration": 3,
    "start_time": "2023-01-25T11:08:30.309Z"
   },
   {
    "duration": 43,
    "start_time": "2023-01-25T11:08:30.314Z"
   },
   {
    "duration": 65,
    "start_time": "2023-01-25T11:08:30.359Z"
   },
   {
    "duration": 377,
    "start_time": "2023-01-25T11:08:30.425Z"
   },
   {
    "duration": 8,
    "start_time": "2023-01-25T11:08:30.804Z"
   },
   {
    "duration": 462,
    "start_time": "2023-01-25T11:08:30.814Z"
   },
   {
    "duration": 565,
    "start_time": "2023-01-25T11:08:31.278Z"
   },
   {
    "duration": 448,
    "start_time": "2023-01-25T11:08:31.845Z"
   },
   {
    "duration": 359,
    "start_time": "2023-01-25T11:08:32.294Z"
   },
   {
    "duration": 3,
    "start_time": "2023-01-25T11:08:32.655Z"
   },
   {
    "duration": 15,
    "start_time": "2023-01-25T11:08:32.659Z"
   },
   {
    "duration": 4,
    "start_time": "2023-01-25T11:08:32.676Z"
   },
   {
    "duration": 14,
    "start_time": "2023-01-25T11:08:32.682Z"
   },
   {
    "duration": 16,
    "start_time": "2023-01-25T11:08:32.697Z"
   },
   {
    "duration": 16,
    "start_time": "2023-01-25T11:08:32.714Z"
   },
   {
    "duration": 8,
    "start_time": "2023-01-25T11:08:32.752Z"
   },
   {
    "duration": 27,
    "start_time": "2023-01-25T11:08:32.762Z"
   },
   {
    "duration": 1403,
    "start_time": "2023-01-25T11:08:32.790Z"
   },
   {
    "duration": 49,
    "start_time": "2023-01-25T11:08:34.195Z"
   },
   {
    "duration": 0,
    "start_time": "2023-01-25T11:08:34.246Z"
   },
   {
    "duration": 0,
    "start_time": "2023-01-25T11:08:34.247Z"
   },
   {
    "duration": 0,
    "start_time": "2023-01-25T11:08:34.248Z"
   },
   {
    "duration": 0,
    "start_time": "2023-01-25T11:08:34.249Z"
   },
   {
    "duration": 0,
    "start_time": "2023-01-25T11:08:34.250Z"
   },
   {
    "duration": 0,
    "start_time": "2023-01-25T11:08:34.252Z"
   },
   {
    "duration": 0,
    "start_time": "2023-01-25T11:08:34.252Z"
   },
   {
    "duration": 0,
    "start_time": "2023-01-25T11:08:34.254Z"
   },
   {
    "duration": 0,
    "start_time": "2023-01-25T11:08:34.255Z"
   },
   {
    "duration": 0,
    "start_time": "2023-01-25T11:08:34.256Z"
   },
   {
    "duration": 0,
    "start_time": "2023-01-25T11:08:34.257Z"
   },
   {
    "duration": 0,
    "start_time": "2023-01-25T11:08:34.258Z"
   },
   {
    "duration": 0,
    "start_time": "2023-01-25T11:08:34.260Z"
   },
   {
    "duration": 0,
    "start_time": "2023-01-25T11:08:34.261Z"
   },
   {
    "duration": 0,
    "start_time": "2023-01-25T11:08:34.261Z"
   },
   {
    "duration": 0,
    "start_time": "2023-01-25T11:08:34.263Z"
   },
   {
    "duration": 0,
    "start_time": "2023-01-25T11:08:34.264Z"
   },
   {
    "duration": 47,
    "start_time": "2023-01-25T20:12:55.866Z"
   },
   {
    "duration": 9706,
    "start_time": "2023-01-25T20:13:12.619Z"
   },
   {
    "duration": 1436,
    "start_time": "2023-01-25T20:14:28.890Z"
   },
   {
    "duration": 129,
    "start_time": "2023-01-25T20:14:35.896Z"
   },
   {
    "duration": 3,
    "start_time": "2023-01-25T20:14:38.721Z"
   },
   {
    "duration": 15,
    "start_time": "2023-01-25T20:14:44.128Z"
   },
   {
    "duration": 19,
    "start_time": "2023-01-25T20:14:50.962Z"
   },
   {
    "duration": 300,
    "start_time": "2023-01-25T20:15:06.512Z"
   },
   {
    "duration": 7,
    "start_time": "2023-01-25T20:16:43.072Z"
   },
   {
    "duration": 550,
    "start_time": "2023-01-25T20:16:46.274Z"
   },
   {
    "duration": 468,
    "start_time": "2023-01-25T20:16:51.720Z"
   },
   {
    "duration": 402,
    "start_time": "2023-01-25T20:16:54.524Z"
   },
   {
    "duration": 347,
    "start_time": "2023-01-25T20:17:03.137Z"
   },
   {
    "duration": 207,
    "start_time": "2023-01-25T20:17:11.545Z"
   },
   {
    "duration": 11,
    "start_time": "2023-01-25T20:17:24.442Z"
   },
   {
    "duration": 6,
    "start_time": "2023-01-25T20:19:10.419Z"
   },
   {
    "duration": 10,
    "start_time": "2023-01-25T20:20:22.714Z"
   },
   {
    "duration": 17,
    "start_time": "2023-01-25T20:20:38.358Z"
   },
   {
    "duration": 11,
    "start_time": "2023-01-25T20:21:14.908Z"
   },
   {
    "duration": 12,
    "start_time": "2023-01-25T20:22:03.496Z"
   },
   {
    "duration": 40,
    "start_time": "2023-01-25T20:23:39.227Z"
   },
   {
    "duration": 1562,
    "start_time": "2023-01-25T20:24:39.719Z"
   },
   {
    "duration": 241819,
    "start_time": "2023-01-25T20:25:31.105Z"
   },
   {
    "duration": 1991,
    "start_time": "2023-01-25T21:00:47.504Z"
   },
   {
    "duration": 4,
    "start_time": "2023-01-25T21:00:59.453Z"
   },
   {
    "duration": 50,
    "start_time": "2023-01-25T21:01:03.510Z"
   },
   {
    "duration": 3,
    "start_time": "2023-01-25T21:01:05.664Z"
   },
   {
    "duration": 11,
    "start_time": "2023-01-25T21:01:10.168Z"
   },
   {
    "duration": 17,
    "start_time": "2023-01-25T21:01:14.930Z"
   },
   {
    "duration": 272,
    "start_time": "2023-01-25T21:01:22.790Z"
   },
   {
    "duration": 7,
    "start_time": "2023-01-25T21:01:33.613Z"
   },
   {
    "duration": 531,
    "start_time": "2023-01-25T21:01:39.762Z"
   },
   {
    "duration": 422,
    "start_time": "2023-01-25T21:01:45.247Z"
   },
   {
    "duration": 381,
    "start_time": "2023-01-25T21:01:52.930Z"
   },
   {
    "duration": 294,
    "start_time": "2023-01-25T21:01:59.895Z"
   },
   {
    "duration": 4,
    "start_time": "2023-01-25T21:03:32.621Z"
   },
   {
    "duration": 10,
    "start_time": "2023-01-25T21:03:47.519Z"
   },
   {
    "duration": 13,
    "start_time": "2023-01-25T21:04:01.011Z"
   },
   {
    "duration": 7,
    "start_time": "2023-01-25T21:05:01.313Z"
   },
   {
    "duration": 6,
    "start_time": "2023-01-25T21:05:32.868Z"
   },
   {
    "duration": 173,
    "start_time": "2023-01-25T21:06:09.809Z"
   },
   {
    "duration": 1804,
    "start_time": "2023-01-25T21:08:09.829Z"
   },
   {
    "duration": 1754,
    "start_time": "2023-01-25T21:09:36.313Z"
   },
   {
    "duration": 256982,
    "start_time": "2023-01-25T21:10:46.973Z"
   },
   {
    "duration": 1402604,
    "start_time": "2023-01-25T21:28:36.767Z"
   },
   {
    "duration": 762672,
    "start_time": "2023-01-25T21:52:13.936Z"
   },
   {
    "duration": 2185,
    "start_time": "2023-01-25T22:05:15.711Z"
   },
   {
    "duration": 1229,
    "start_time": "2023-01-25T22:05:17.899Z"
   },
   {
    "duration": 49,
    "start_time": "2023-01-25T22:05:19.131Z"
   },
   {
    "duration": 3,
    "start_time": "2023-01-25T22:05:19.182Z"
   },
   {
    "duration": 20,
    "start_time": "2023-01-25T22:05:19.187Z"
   },
   {
    "duration": 19,
    "start_time": "2023-01-25T22:05:19.209Z"
   },
   {
    "duration": 352,
    "start_time": "2023-01-25T22:05:19.229Z"
   },
   {
    "duration": 11,
    "start_time": "2023-01-25T22:05:19.584Z"
   },
   {
    "duration": 436,
    "start_time": "2023-01-25T22:05:19.597Z"
   },
   {
    "duration": 595,
    "start_time": "2023-01-25T22:05:20.037Z"
   },
   {
    "duration": 439,
    "start_time": "2023-01-25T22:05:20.634Z"
   },
   {
    "duration": 328,
    "start_time": "2023-01-25T22:05:21.075Z"
   },
   {
    "duration": 4,
    "start_time": "2023-01-25T22:05:21.405Z"
   },
   {
    "duration": 19,
    "start_time": "2023-01-25T22:05:21.411Z"
   },
   {
    "duration": 19,
    "start_time": "2023-01-25T22:05:21.431Z"
   },
   {
    "duration": 14,
    "start_time": "2023-01-25T22:05:21.453Z"
   },
   {
    "duration": 9,
    "start_time": "2023-01-25T22:05:21.482Z"
   },
   {
    "duration": 87,
    "start_time": "2023-01-25T22:05:21.494Z"
   },
   {
    "duration": 2028,
    "start_time": "2023-01-25T22:05:21.584Z"
   },
   {
    "duration": 263085,
    "start_time": "2023-01-25T22:05:23.613Z"
   },
   {
    "duration": 11689787,
    "start_time": "2023-01-25T22:09:46.700Z"
   },
   {
    "duration": 94,
    "start_time": "2023-01-26T01:24:36.488Z"
   },
   {
    "duration": 0,
    "start_time": "2023-01-26T01:24:36.583Z"
   },
   {
    "duration": 0,
    "start_time": "2023-01-26T01:24:36.585Z"
   },
   {
    "duration": 0,
    "start_time": "2023-01-26T01:24:36.586Z"
   },
   {
    "duration": 9,
    "start_time": "2023-01-26T05:32:43.410Z"
   },
   {
    "duration": 84,
    "start_time": "2023-01-26T18:21:23.859Z"
   },
   {
    "duration": 6,
    "start_time": "2023-01-26T18:21:37.323Z"
   },
   {
    "duration": 6253,
    "start_time": "2023-01-26T18:21:43.294Z"
   },
   {
    "duration": 1276,
    "start_time": "2023-01-26T18:21:49.549Z"
   },
   {
    "duration": 125,
    "start_time": "2023-01-26T18:21:50.827Z"
   },
   {
    "duration": 3,
    "start_time": "2023-01-26T18:21:50.954Z"
   },
   {
    "duration": 21,
    "start_time": "2023-01-26T18:21:50.958Z"
   },
   {
    "duration": 18,
    "start_time": "2023-01-26T18:21:50.980Z"
   },
   {
    "duration": 276,
    "start_time": "2023-01-26T18:21:50.999Z"
   },
   {
    "duration": 7,
    "start_time": "2023-01-26T18:21:51.277Z"
   },
   {
    "duration": 491,
    "start_time": "2023-01-26T18:21:51.286Z"
   },
   {
    "duration": 421,
    "start_time": "2023-01-26T18:21:51.780Z"
   },
   {
    "duration": 382,
    "start_time": "2023-01-26T18:21:52.202Z"
   },
   {
    "duration": 336,
    "start_time": "2023-01-26T18:21:52.585Z"
   },
   {
    "duration": 4,
    "start_time": "2023-01-26T18:21:52.923Z"
   },
   {
    "duration": 48,
    "start_time": "2023-01-26T18:21:52.938Z"
   },
   {
    "duration": 38,
    "start_time": "2023-01-26T18:21:52.988Z"
   },
   {
    "duration": 60,
    "start_time": "2023-01-26T18:21:53.027Z"
   },
   {
    "duration": 44,
    "start_time": "2023-01-26T18:21:53.089Z"
   },
   {
    "duration": 78,
    "start_time": "2023-01-26T18:21:53.135Z"
   },
   {
    "duration": 1669,
    "start_time": "2023-01-26T18:21:53.215Z"
   },
   {
    "duration": 224754,
    "start_time": "2023-01-26T18:21:54.886Z"
   },
   {
    "duration": 166602,
    "start_time": "2023-01-26T18:25:39.642Z"
   },
   {
    "duration": 10,
    "start_time": "2023-01-26T18:28:26.246Z"
   },
   {
    "duration": 14,
    "start_time": "2023-01-26T18:28:26.258Z"
   },
   {
    "duration": 14,
    "start_time": "2023-01-26T18:28:26.273Z"
   },
   {
    "duration": 51,
    "start_time": "2023-01-26T18:28:26.288Z"
   },
   {
    "duration": 14,
    "start_time": "2023-01-26T18:40:37.497Z"
   },
   {
    "duration": 5,
    "start_time": "2023-01-26T18:41:13.040Z"
   },
   {
    "duration": 16,
    "start_time": "2023-01-26T18:51:53.255Z"
   },
   {
    "duration": 5,
    "start_time": "2023-01-26T18:55:40.730Z"
   },
   {
    "duration": 172,
    "start_time": "2023-01-26T18:56:34.483Z"
   },
   {
    "duration": 8227,
    "start_time": "2023-03-23T18:20:35.113Z"
   },
   {
    "duration": 1556,
    "start_time": "2023-03-23T18:20:46.602Z"
   },
   {
    "duration": 98,
    "start_time": "2023-03-23T18:20:52.857Z"
   },
   {
    "duration": 4,
    "start_time": "2023-03-23T18:20:55.831Z"
   },
   {
    "duration": 16,
    "start_time": "2023-03-23T18:21:01.150Z"
   },
   {
    "duration": 23,
    "start_time": "2023-03-23T18:21:06.595Z"
   },
   {
    "duration": 314,
    "start_time": "2023-03-23T18:22:31.297Z"
   },
   {
    "duration": 263,
    "start_time": "2023-03-23T18:24:01.600Z"
   },
   {
    "duration": 9,
    "start_time": "2023-03-23T18:24:15.364Z"
   },
   {
    "duration": 524,
    "start_time": "2023-03-23T18:26:10.828Z"
   },
   {
    "duration": 419,
    "start_time": "2023-03-23T18:26:59.033Z"
   },
   {
    "duration": 394,
    "start_time": "2023-03-23T18:27:33.967Z"
   },
   {
    "duration": 407,
    "start_time": "2023-03-23T18:28:32.091Z"
   },
   {
    "duration": 4,
    "start_time": "2023-03-23T18:30:07.531Z"
   },
   {
    "duration": 11,
    "start_time": "2023-03-23T18:30:12.298Z"
   },
   {
    "duration": 19,
    "start_time": "2023-03-23T18:30:16.784Z"
   },
   {
    "duration": 8,
    "start_time": "2023-03-23T18:30:22.723Z"
   },
   {
    "duration": 7,
    "start_time": "2023-03-23T18:30:25.725Z"
   },
   {
    "duration": 44,
    "start_time": "2023-03-23T18:30:37.998Z"
   },
   {
    "duration": 1949,
    "start_time": "2023-03-23T18:30:44.446Z"
   },
   {
    "duration": 235335,
    "start_time": "2023-03-23T18:31:05.395Z"
   },
   {
    "duration": 7453374,
    "start_time": "2023-03-23T18:37:30.203Z"
   },
   {
    "duration": 2388,
    "start_time": "2023-03-23T20:41:46.806Z"
   },
   {
    "duration": 1359,
    "start_time": "2023-03-23T20:41:49.196Z"
   },
   {
    "duration": 69,
    "start_time": "2023-03-23T20:41:50.556Z"
   },
   {
    "duration": 4,
    "start_time": "2023-03-23T20:41:50.627Z"
   },
   {
    "duration": 22,
    "start_time": "2023-03-23T20:41:50.634Z"
   },
   {
    "duration": 29,
    "start_time": "2023-03-23T20:41:50.657Z"
   },
   {
    "duration": 379,
    "start_time": "2023-03-23T20:41:50.696Z"
   },
   {
    "duration": 8,
    "start_time": "2023-03-23T20:41:51.079Z"
   },
   {
    "duration": 482,
    "start_time": "2023-03-23T20:41:51.089Z"
   },
   {
    "duration": 617,
    "start_time": "2023-03-23T20:41:51.577Z"
   },
   {
    "duration": 430,
    "start_time": "2023-03-23T20:41:52.196Z"
   },
   {
    "duration": 354,
    "start_time": "2023-03-23T20:41:52.628Z"
   },
   {
    "duration": 4,
    "start_time": "2023-03-23T20:41:52.983Z"
   },
   {
    "duration": 52,
    "start_time": "2023-03-23T20:41:52.989Z"
   },
   {
    "duration": 20,
    "start_time": "2023-03-23T20:41:53.043Z"
   },
   {
    "duration": 61,
    "start_time": "2023-03-23T20:41:53.064Z"
   },
   {
    "duration": 36,
    "start_time": "2023-03-23T20:41:53.127Z"
   },
   {
    "duration": 82,
    "start_time": "2023-03-23T20:41:53.165Z"
   },
   {
    "duration": 2226,
    "start_time": "2023-03-23T20:41:53.249Z"
   },
   {
    "duration": 290077,
    "start_time": "2023-03-23T20:41:55.477Z"
   },
   {
    "duration": 42569520,
    "start_time": "2023-03-23T20:46:45.556Z"
   },
   {
    "duration": 36,
    "start_time": "2023-03-24T08:36:15.082Z"
   },
   {
    "duration": 85,
    "start_time": "2023-03-24T08:36:15.120Z"
   },
   {
    "duration": 29,
    "start_time": "2023-03-24T08:36:15.284Z"
   },
   {
    "duration": 216,
    "start_time": "2023-03-24T08:36:15.315Z"
   }
  ],
  "kernelspec": {
   "display_name": "Python 3 (ipykernel)",
   "language": "python",
   "name": "python3"
  },
  "language_info": {
   "codemirror_mode": {
    "name": "ipython",
    "version": 3
   },
   "file_extension": ".py",
   "mimetype": "text/x-python",
   "name": "python",
   "nbconvert_exporter": "python",
   "pygments_lexer": "ipython3",
   "version": "3.9.7"
  },
  "toc": {
   "base_numbering": 1,
   "nav_menu": {},
   "number_sections": true,
   "sideBar": true,
   "skip_h1_title": true,
   "title_cell": "Содержание",
   "title_sidebar": "Contents",
   "toc_cell": true,
   "toc_position": {},
   "toc_section_display": true,
   "toc_window_display": false
  }
 },
 "nbformat": 4,
 "nbformat_minor": 2
}
