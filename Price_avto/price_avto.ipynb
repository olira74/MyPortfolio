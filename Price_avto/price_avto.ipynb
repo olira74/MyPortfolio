{
 "cells": [
  {
   "cell_type": "markdown",
   "metadata": {},
   "source": [
    "# Определение стоимости автомобилей"
   ]
  },
  {
   "cell_type": "markdown",
   "metadata": {},
   "source": [
    "Сервис по продаже автомобилей с пробегом «Не бит, не крашен» разрабатывает приложение для привлечения новых клиентов. В нём можно быстро узнать рыночную стоимость своего автомобиля. В вашем распоряжении исторические данные: технические характеристики, комплектации и цены автомобилей. Вам нужно построить модель для определения стоимости. \n",
    "\n",
    "Заказчику важны:\n",
    "\n",
    "- качество предсказания;\n",
    "- скорость предсказания;\n",
    "- время обучения."
   ]
  },
  {
   "cell_type": "markdown",
   "metadata": {},
   "source": [
    "**Цель работы**\n",
    "\n",
    "Построить модель для определения стоимости автомобиля. \n",
    "\n",
    "**Описание данных**\n",
    "\n",
    "Набор данных находится в файле /datasets/autos.csv.\n",
    "\n",
    "Признаки\n",
    "\n",
    "- DateCrawled — дата скачивания анкеты из базы\n",
    "- VehicleType — тип автомобильного кузова\n",
    "- RegistrationYear — год регистрации автомобиля\n",
    "- Gearbox — тип коробки передач\n",
    "- Power — мощность (л. с.)\n",
    "- Model — модель автомобиля\n",
    "- Kilometer — пробег (км)\n",
    "- RegistrationMonth — месяц регистрации автомобиля\n",
    "- FuelType — тип топлива\n",
    "- Brand — марка автомобиля\n",
    "- NotRepaired — была машина в ремонте или нет\n",
    "- DateCreated — дата создания анкеты\n",
    "- NumberOfPictures — количество фотографий автомобиля\n",
    "- PostalCode — почтовый индекс владельца анкеты (пользователя)\n",
    "- LastSeen — дата последней активности пользователя\n",
    "\n",
    "Целевой признак\n",
    "\n",
    "- Price — цена (евро)\n",
    "\n",
    "**План работы**\n",
    "\n",
    "- Изучить данные, выявить пропущенные значения, дубликаты, аномалии и ненужные столбцы\n",
    "- Провести предобработку данных\n",
    "- Разделить выборку на тренировочную, валидационную и тестовую\n",
    "- Выбрать для каждой из четырех моделей лучшие параметры\n",
    "- Обучить четыре модели с выбранными параметрами и сравнить их по качеству и времени предсказания и обучения\n",
    "- Лучшую модель проверить на тестовой выборке\n",
    "- Написать вывод"
   ]
  },
  {
   "cell_type": "markdown",
   "metadata": {},
   "source": [
    "## Подготовка данных"
   ]
  },
  {
   "cell_type": "markdown",
   "metadata": {},
   "source": [
    "**1.1 Изучение данных**"
   ]
  },
  {
   "cell_type": "code",
   "execution_count": 2,
   "metadata": {},
   "outputs": [
    {
     "name": "stdout",
     "output_type": "stream",
     "text": [
      "Collecting scikit-learn==1.1.3\n",
      "  Downloading scikit_learn-1.1.3-cp39-cp39-manylinux_2_17_x86_64.manylinux2014_x86_64.whl (30.8 MB)\n",
      "\u001b[K     |████████████████████████████████| 30.8 MB 40 kB/s  eta 0:00:01\n",
      "\u001b[?25hRequirement already satisfied: scipy>=1.3.2 in /opt/conda/lib/python3.9/site-packages (from scikit-learn==1.1.3) (1.9.1)\n",
      "Requirement already satisfied: joblib>=1.0.0 in /opt/conda/lib/python3.9/site-packages (from scikit-learn==1.1.3) (1.1.0)\n",
      "Requirement already satisfied: threadpoolctl>=2.0.0 in /opt/conda/lib/python3.9/site-packages (from scikit-learn==1.1.3) (3.1.0)\n",
      "Requirement already satisfied: numpy>=1.17.3 in /opt/conda/lib/python3.9/site-packages (from scikit-learn==1.1.3) (1.21.1)\n",
      "Installing collected packages: scikit-learn\n",
      "  Attempting uninstall: scikit-learn\n",
      "    Found existing installation: scikit-learn 0.24.1\n",
      "    Uninstalling scikit-learn-0.24.1:\n",
      "      Successfully uninstalled scikit-learn-0.24.1\n",
      "Successfully installed scikit-learn-1.1.3\n"
     ]
    }
   ],
   "source": [
    "!pip install scikit-learn==1.1.3"
   ]
  },
  {
   "cell_type": "code",
   "execution_count": 3,
   "metadata": {},
   "outputs": [],
   "source": [
    "# импорт необходимых библиотек \n",
    "from sklearn.linear_model import LinearRegression\n",
    "from sklearn.tree import DecisionTreeRegressor\n",
    "from sklearn.model_selection import train_test_split\n",
    "from sklearn.model_selection import cross_val_score\n",
    "from sklearn.model_selection import GridSearchCV\n",
    "from sklearn.preprocessing import OneHotEncoder\n",
    "from sklearn.preprocessing import StandardScaler\n",
    "from sklearn.preprocessing import OrdinalEncoder\n",
    "from sklearn.metrics import mean_squared_error"
   ]
  },
  {
   "cell_type": "code",
   "execution_count": 4,
   "metadata": {},
   "outputs": [],
   "source": [
    "import matplotlib.pyplot as plt\n",
    "import numpy as np\n",
    "import pandas as pd\n",
    "import time\n",
    "\n",
    "from catboost import CatBoostRegressor, Pool\n",
    "from lightgbm import LGBMRegressor"
   ]
  },
  {
   "cell_type": "code",
   "execution_count": 5,
   "metadata": {},
   "outputs": [
    {
     "data": {
      "text/html": [
       "<div>\n",
       "<style scoped>\n",
       "    .dataframe tbody tr th:only-of-type {\n",
       "        vertical-align: middle;\n",
       "    }\n",
       "\n",
       "    .dataframe tbody tr th {\n",
       "        vertical-align: top;\n",
       "    }\n",
       "\n",
       "    .dataframe thead th {\n",
       "        text-align: right;\n",
       "    }\n",
       "</style>\n",
       "<table border=\"1\" class=\"dataframe\">\n",
       "  <thead>\n",
       "    <tr style=\"text-align: right;\">\n",
       "      <th></th>\n",
       "      <th>DateCrawled</th>\n",
       "      <th>Price</th>\n",
       "      <th>VehicleType</th>\n",
       "      <th>RegistrationYear</th>\n",
       "      <th>Gearbox</th>\n",
       "      <th>Power</th>\n",
       "      <th>Model</th>\n",
       "      <th>Kilometer</th>\n",
       "      <th>RegistrationMonth</th>\n",
       "      <th>FuelType</th>\n",
       "      <th>Brand</th>\n",
       "      <th>Repaired</th>\n",
       "      <th>DateCreated</th>\n",
       "      <th>NumberOfPictures</th>\n",
       "      <th>PostalCode</th>\n",
       "      <th>LastSeen</th>\n",
       "    </tr>\n",
       "  </thead>\n",
       "  <tbody>\n",
       "    <tr>\n",
       "      <th>0</th>\n",
       "      <td>2016-03-24 11:52:17</td>\n",
       "      <td>480</td>\n",
       "      <td>NaN</td>\n",
       "      <td>1993</td>\n",
       "      <td>manual</td>\n",
       "      <td>0</td>\n",
       "      <td>golf</td>\n",
       "      <td>150000</td>\n",
       "      <td>0</td>\n",
       "      <td>petrol</td>\n",
       "      <td>volkswagen</td>\n",
       "      <td>NaN</td>\n",
       "      <td>2016-03-24 00:00:00</td>\n",
       "      <td>0</td>\n",
       "      <td>70435</td>\n",
       "      <td>2016-04-07 03:16:57</td>\n",
       "    </tr>\n",
       "    <tr>\n",
       "      <th>1</th>\n",
       "      <td>2016-03-24 10:58:45</td>\n",
       "      <td>18300</td>\n",
       "      <td>coupe</td>\n",
       "      <td>2011</td>\n",
       "      <td>manual</td>\n",
       "      <td>190</td>\n",
       "      <td>NaN</td>\n",
       "      <td>125000</td>\n",
       "      <td>5</td>\n",
       "      <td>gasoline</td>\n",
       "      <td>audi</td>\n",
       "      <td>yes</td>\n",
       "      <td>2016-03-24 00:00:00</td>\n",
       "      <td>0</td>\n",
       "      <td>66954</td>\n",
       "      <td>2016-04-07 01:46:50</td>\n",
       "    </tr>\n",
       "    <tr>\n",
       "      <th>2</th>\n",
       "      <td>2016-03-14 12:52:21</td>\n",
       "      <td>9800</td>\n",
       "      <td>suv</td>\n",
       "      <td>2004</td>\n",
       "      <td>auto</td>\n",
       "      <td>163</td>\n",
       "      <td>grand</td>\n",
       "      <td>125000</td>\n",
       "      <td>8</td>\n",
       "      <td>gasoline</td>\n",
       "      <td>jeep</td>\n",
       "      <td>NaN</td>\n",
       "      <td>2016-03-14 00:00:00</td>\n",
       "      <td>0</td>\n",
       "      <td>90480</td>\n",
       "      <td>2016-04-05 12:47:46</td>\n",
       "    </tr>\n",
       "    <tr>\n",
       "      <th>3</th>\n",
       "      <td>2016-03-17 16:54:04</td>\n",
       "      <td>1500</td>\n",
       "      <td>small</td>\n",
       "      <td>2001</td>\n",
       "      <td>manual</td>\n",
       "      <td>75</td>\n",
       "      <td>golf</td>\n",
       "      <td>150000</td>\n",
       "      <td>6</td>\n",
       "      <td>petrol</td>\n",
       "      <td>volkswagen</td>\n",
       "      <td>no</td>\n",
       "      <td>2016-03-17 00:00:00</td>\n",
       "      <td>0</td>\n",
       "      <td>91074</td>\n",
       "      <td>2016-03-17 17:40:17</td>\n",
       "    </tr>\n",
       "    <tr>\n",
       "      <th>4</th>\n",
       "      <td>2016-03-31 17:25:20</td>\n",
       "      <td>3600</td>\n",
       "      <td>small</td>\n",
       "      <td>2008</td>\n",
       "      <td>manual</td>\n",
       "      <td>69</td>\n",
       "      <td>fabia</td>\n",
       "      <td>90000</td>\n",
       "      <td>7</td>\n",
       "      <td>gasoline</td>\n",
       "      <td>skoda</td>\n",
       "      <td>no</td>\n",
       "      <td>2016-03-31 00:00:00</td>\n",
       "      <td>0</td>\n",
       "      <td>60437</td>\n",
       "      <td>2016-04-06 10:17:21</td>\n",
       "    </tr>\n",
       "  </tbody>\n",
       "</table>\n",
       "</div>"
      ],
      "text/plain": [
       "           DateCrawled  Price VehicleType  RegistrationYear Gearbox  Power  \\\n",
       "0  2016-03-24 11:52:17    480         NaN              1993  manual      0   \n",
       "1  2016-03-24 10:58:45  18300       coupe              2011  manual    190   \n",
       "2  2016-03-14 12:52:21   9800         suv              2004    auto    163   \n",
       "3  2016-03-17 16:54:04   1500       small              2001  manual     75   \n",
       "4  2016-03-31 17:25:20   3600       small              2008  manual     69   \n",
       "\n",
       "   Model  Kilometer  RegistrationMonth  FuelType       Brand Repaired  \\\n",
       "0   golf     150000                  0    petrol  volkswagen      NaN   \n",
       "1    NaN     125000                  5  gasoline        audi      yes   \n",
       "2  grand     125000                  8  gasoline        jeep      NaN   \n",
       "3   golf     150000                  6    petrol  volkswagen       no   \n",
       "4  fabia      90000                  7  gasoline       skoda       no   \n",
       "\n",
       "           DateCreated  NumberOfPictures  PostalCode             LastSeen  \n",
       "0  2016-03-24 00:00:00                 0       70435  2016-04-07 03:16:57  \n",
       "1  2016-03-24 00:00:00                 0       66954  2016-04-07 01:46:50  \n",
       "2  2016-03-14 00:00:00                 0       90480  2016-04-05 12:47:46  \n",
       "3  2016-03-17 00:00:00                 0       91074  2016-03-17 17:40:17  \n",
       "4  2016-03-31 00:00:00                 0       60437  2016-04-06 10:17:21  "
      ]
     },
     "metadata": {},
     "output_type": "display_data"
    }
   ],
   "source": [
    "# загрузка данных\n",
    "df = pd.read_csv('/datasets/autos.csv')\n",
    "display(df.head())"
   ]
  },
  {
   "cell_type": "code",
   "execution_count": 6,
   "metadata": {},
   "outputs": [
    {
     "name": "stdout",
     "output_type": "stream",
     "text": [
      "<class 'pandas.core.frame.DataFrame'>\n",
      "RangeIndex: 354369 entries, 0 to 354368\n",
      "Data columns (total 16 columns):\n",
      " #   Column             Non-Null Count   Dtype \n",
      "---  ------             --------------   ----- \n",
      " 0   DateCrawled        354369 non-null  object\n",
      " 1   Price              354369 non-null  int64 \n",
      " 2   VehicleType        316879 non-null  object\n",
      " 3   RegistrationYear   354369 non-null  int64 \n",
      " 4   Gearbox            334536 non-null  object\n",
      " 5   Power              354369 non-null  int64 \n",
      " 6   Model              334664 non-null  object\n",
      " 7   Kilometer          354369 non-null  int64 \n",
      " 8   RegistrationMonth  354369 non-null  int64 \n",
      " 9   FuelType           321474 non-null  object\n",
      " 10  Brand              354369 non-null  object\n",
      " 11  Repaired           283215 non-null  object\n",
      " 12  DateCreated        354369 non-null  object\n",
      " 13  NumberOfPictures   354369 non-null  int64 \n",
      " 14  PostalCode         354369 non-null  int64 \n",
      " 15  LastSeen           354369 non-null  object\n",
      "dtypes: int64(7), object(9)\n",
      "memory usage: 43.3+ MB\n"
     ]
    },
    {
     "data": {
      "text/plain": [
       "None"
      ]
     },
     "metadata": {},
     "output_type": "display_data"
    }
   ],
   "source": [
    "display(df.info())"
   ]
  },
  {
   "cell_type": "code",
   "execution_count": 7,
   "metadata": {},
   "outputs": [
    {
     "data": {
      "text/plain": [
       "4"
      ]
     },
     "execution_count": 7,
     "metadata": {},
     "output_type": "execute_result"
    }
   ],
   "source": [
    "# проверим дубликаты\n",
    "df.duplicated().sum()"
   ]
  },
  {
   "cell_type": "code",
   "execution_count": 8,
   "metadata": {},
   "outputs": [
    {
     "data": {
      "text/html": [
       "<div>\n",
       "<style scoped>\n",
       "    .dataframe tbody tr th:only-of-type {\n",
       "        vertical-align: middle;\n",
       "    }\n",
       "\n",
       "    .dataframe tbody tr th {\n",
       "        vertical-align: top;\n",
       "    }\n",
       "\n",
       "    .dataframe thead th {\n",
       "        text-align: right;\n",
       "    }\n",
       "</style>\n",
       "<table border=\"1\" class=\"dataframe\">\n",
       "  <thead>\n",
       "    <tr style=\"text-align: right;\">\n",
       "      <th></th>\n",
       "      <th>Price</th>\n",
       "      <th>RegistrationYear</th>\n",
       "      <th>Power</th>\n",
       "      <th>Kilometer</th>\n",
       "      <th>RegistrationMonth</th>\n",
       "      <th>NumberOfPictures</th>\n",
       "      <th>PostalCode</th>\n",
       "    </tr>\n",
       "  </thead>\n",
       "  <tbody>\n",
       "    <tr>\n",
       "      <th>count</th>\n",
       "      <td>354369.000000</td>\n",
       "      <td>354369.000000</td>\n",
       "      <td>354369.000000</td>\n",
       "      <td>354369.000000</td>\n",
       "      <td>354369.000000</td>\n",
       "      <td>354369.0</td>\n",
       "      <td>354369.000000</td>\n",
       "    </tr>\n",
       "    <tr>\n",
       "      <th>mean</th>\n",
       "      <td>4416.656776</td>\n",
       "      <td>2004.234448</td>\n",
       "      <td>110.094337</td>\n",
       "      <td>128211.172535</td>\n",
       "      <td>5.714645</td>\n",
       "      <td>0.0</td>\n",
       "      <td>50508.689087</td>\n",
       "    </tr>\n",
       "    <tr>\n",
       "      <th>std</th>\n",
       "      <td>4514.158514</td>\n",
       "      <td>90.227958</td>\n",
       "      <td>189.850405</td>\n",
       "      <td>37905.341530</td>\n",
       "      <td>3.726421</td>\n",
       "      <td>0.0</td>\n",
       "      <td>25783.096248</td>\n",
       "    </tr>\n",
       "    <tr>\n",
       "      <th>min</th>\n",
       "      <td>0.000000</td>\n",
       "      <td>1000.000000</td>\n",
       "      <td>0.000000</td>\n",
       "      <td>5000.000000</td>\n",
       "      <td>0.000000</td>\n",
       "      <td>0.0</td>\n",
       "      <td>1067.000000</td>\n",
       "    </tr>\n",
       "    <tr>\n",
       "      <th>25%</th>\n",
       "      <td>1050.000000</td>\n",
       "      <td>1999.000000</td>\n",
       "      <td>69.000000</td>\n",
       "      <td>125000.000000</td>\n",
       "      <td>3.000000</td>\n",
       "      <td>0.0</td>\n",
       "      <td>30165.000000</td>\n",
       "    </tr>\n",
       "    <tr>\n",
       "      <th>50%</th>\n",
       "      <td>2700.000000</td>\n",
       "      <td>2003.000000</td>\n",
       "      <td>105.000000</td>\n",
       "      <td>150000.000000</td>\n",
       "      <td>6.000000</td>\n",
       "      <td>0.0</td>\n",
       "      <td>49413.000000</td>\n",
       "    </tr>\n",
       "    <tr>\n",
       "      <th>75%</th>\n",
       "      <td>6400.000000</td>\n",
       "      <td>2008.000000</td>\n",
       "      <td>143.000000</td>\n",
       "      <td>150000.000000</td>\n",
       "      <td>9.000000</td>\n",
       "      <td>0.0</td>\n",
       "      <td>71083.000000</td>\n",
       "    </tr>\n",
       "    <tr>\n",
       "      <th>max</th>\n",
       "      <td>20000.000000</td>\n",
       "      <td>9999.000000</td>\n",
       "      <td>20000.000000</td>\n",
       "      <td>150000.000000</td>\n",
       "      <td>12.000000</td>\n",
       "      <td>0.0</td>\n",
       "      <td>99998.000000</td>\n",
       "    </tr>\n",
       "  </tbody>\n",
       "</table>\n",
       "</div>"
      ],
      "text/plain": [
       "               Price  RegistrationYear          Power      Kilometer  \\\n",
       "count  354369.000000     354369.000000  354369.000000  354369.000000   \n",
       "mean     4416.656776       2004.234448     110.094337  128211.172535   \n",
       "std      4514.158514         90.227958     189.850405   37905.341530   \n",
       "min         0.000000       1000.000000       0.000000    5000.000000   \n",
       "25%      1050.000000       1999.000000      69.000000  125000.000000   \n",
       "50%      2700.000000       2003.000000     105.000000  150000.000000   \n",
       "75%      6400.000000       2008.000000     143.000000  150000.000000   \n",
       "max     20000.000000       9999.000000   20000.000000  150000.000000   \n",
       "\n",
       "       RegistrationMonth  NumberOfPictures     PostalCode  \n",
       "count      354369.000000          354369.0  354369.000000  \n",
       "mean            5.714645               0.0   50508.689087  \n",
       "std             3.726421               0.0   25783.096248  \n",
       "min             0.000000               0.0    1067.000000  \n",
       "25%             3.000000               0.0   30165.000000  \n",
       "50%             6.000000               0.0   49413.000000  \n",
       "75%             9.000000               0.0   71083.000000  \n",
       "max            12.000000               0.0   99998.000000  "
      ]
     },
     "execution_count": 8,
     "metadata": {},
     "output_type": "execute_result"
    }
   ],
   "source": [
    "df.describe()"
   ]
  },
  {
   "cell_type": "markdown",
   "metadata": {},
   "source": [
    "**Вывод по пункту 1.1**\n",
    " \n",
    "- Изучив данные, мы видим, что пропуски есть в столбцах VehicleType, Gearbox, Model, FuelType и Repaired.\n",
    "- В данных есть дубликаты\n",
    "- В столбцах RegistrationYear и Power есть аномальные значения. В столбцах RegistrationMonth и Price есть нулевые значения.\n",
    "- Для обучения модели не несут ценности столбцы DateCrawled, DateCreated, LastSeen, NumberOfPictures, PostalCode, их можно удалить"
   ]
  },
  {
   "cell_type": "code",
   "execution_count": 9,
   "metadata": {},
   "outputs": [
    {
     "name": "stdout",
     "output_type": "stream",
     "text": [
      "90713     2016-04-07 14:36:58\n",
      "339649    2016-04-07 14:36:56\n",
      "301030    2016-04-07 14:36:55\n",
      "53739     2016-04-07 14:36:54\n",
      "204218    2016-04-07 14:36:53\n",
      "                 ...         \n",
      "99885     2016-03-05 14:06:24\n",
      "324763    2016-03-05 14:06:24\n",
      "176823    2016-03-05 14:06:24\n",
      "220583    2016-03-05 14:06:23\n",
      "329497    2016-03-05 14:06:22\n",
      "Name: DateCrawled, Length: 354369, dtype: object\n"
     ]
    }
   ],
   "source": [
    "print(df['DateCrawled'].sort_values(ascending=False))"
   ]
  },
  {
   "cell_type": "markdown",
   "metadata": {},
   "source": [
    "Следовательно, год регистрации не может превышать 2016"
   ]
  },
  {
   "cell_type": "markdown",
   "metadata": {},
   "source": [
    "**1.2 Предобработка данных**"
   ]
  },
  {
   "cell_type": "code",
   "execution_count": 10,
   "metadata": {
    "scrolled": true
   },
   "outputs": [
    {
     "name": "stdout",
     "output_type": "stream",
     "text": [
      "<class 'pandas.core.frame.DataFrame'>\n",
      "RangeIndex: 354369 entries, 0 to 354368\n",
      "Data columns (total 11 columns):\n",
      " #   Column             Non-Null Count   Dtype \n",
      "---  ------             --------------   ----- \n",
      " 0   Price              354369 non-null  int64 \n",
      " 1   VehicleType        316879 non-null  object\n",
      " 2   RegistrationYear   354369 non-null  int64 \n",
      " 3   Gearbox            334536 non-null  object\n",
      " 4   Power              354369 non-null  int64 \n",
      " 5   Model              334664 non-null  object\n",
      " 6   Kilometer          354369 non-null  int64 \n",
      " 7   RegistrationMonth  354369 non-null  int64 \n",
      " 8   FuelType           321474 non-null  object\n",
      " 9   Brand              354369 non-null  object\n",
      " 10  Repaired           283215 non-null  object\n",
      "dtypes: int64(5), object(6)\n",
      "memory usage: 29.7+ MB\n",
      "None\n"
     ]
    }
   ],
   "source": [
    "# удаление ненужных столбцов\n",
    "df = df.drop(['DateCrawled', 'DateCreated', 'LastSeen', 'NumberOfPictures', 'PostalCode'], axis=1)\n",
    "print(df.info())"
   ]
  },
  {
   "cell_type": "code",
   "execution_count": 11,
   "metadata": {},
   "outputs": [
    {
     "data": {
      "text/plain": [
       "0"
      ]
     },
     "execution_count": 11,
     "metadata": {},
     "output_type": "execute_result"
    }
   ],
   "source": [
    "# удаление дубликатов\n",
    "df = df.drop_duplicates()\n",
    "df.duplicated().sum()"
   ]
  },
  {
   "cell_type": "code",
   "execution_count": 12,
   "metadata": {},
   "outputs": [
    {
     "name": "stdout",
     "output_type": "stream",
     "text": [
      "manual    248135\n",
      "auto       61113\n",
      "Name: Gearbox, dtype: int64\n",
      "\n",
      "no     225970\n",
      "yes     34429\n",
      "Name: Repaired, dtype: int64\n",
      "\n",
      "golf                  26444\n",
      "other                 23231\n",
      "3er                   18037\n",
      "polo                  11934\n",
      "corsa                 11381\n",
      "                      ...  \n",
      "serie_2                   8\n",
      "serie_3                   4\n",
      "rangerover                4\n",
      "serie_1                   2\n",
      "range_rover_evoque        1\n",
      "Name: Model, Length: 250, dtype: int64\n",
      "\n",
      "<class 'pandas.core.frame.DataFrame'>\n",
      "Int64Index: 326826 entries, 0 to 354368\n",
      "Data columns (total 11 columns):\n",
      " #   Column             Non-Null Count   Dtype \n",
      "---  ------             --------------   ----- \n",
      " 0   Price              326826 non-null  int64 \n",
      " 1   VehicleType        291577 non-null  object\n",
      " 2   RegistrationYear   326826 non-null  int64 \n",
      " 3   Gearbox            326826 non-null  object\n",
      " 4   Power              326826 non-null  int64 \n",
      " 5   Model              326826 non-null  object\n",
      " 6   Kilometer          326826 non-null  int64 \n",
      " 7   RegistrationMonth  326826 non-null  int64 \n",
      " 8   FuelType           295704 non-null  object\n",
      " 9   Brand              326826 non-null  object\n",
      " 10  Repaired           326826 non-null  object\n",
      "dtypes: int64(5), object(6)\n",
      "memory usage: 29.9+ MB\n",
      "None\n"
     ]
    }
   ],
   "source": [
    "# посмотрим уникальные значения столбцов Gearbox, Repaired и Model\n",
    "print(df['Gearbox'].value_counts())\n",
    "print()\n",
    "print(df['Repaired'].value_counts())\n",
    "print()\n",
    "print(df['Model'].value_counts())\n",
    "\n",
    "# обработаем пропуски в столбцах Gearbox, Repaired наиболее популярными значениями, а в столбце Model значением unknown\n",
    "df.fillna({'Gearbox':'manual', 'Repaired':'no', 'Model':'unknown'},inplace=True)\n",
    "print()\n",
    "print(df.info())"
   ]
  },
  {
   "cell_type": "code",
   "execution_count": 13,
   "metadata": {},
   "outputs": [
    {
     "data": {
      "text/html": [
       "<div>\n",
       "<style scoped>\n",
       "    .dataframe tbody tr th:only-of-type {\n",
       "        vertical-align: middle;\n",
       "    }\n",
       "\n",
       "    .dataframe tbody tr th {\n",
       "        vertical-align: top;\n",
       "    }\n",
       "\n",
       "    .dataframe thead th {\n",
       "        text-align: right;\n",
       "    }\n",
       "</style>\n",
       "<table border=\"1\" class=\"dataframe\">\n",
       "  <thead>\n",
       "    <tr style=\"text-align: right;\">\n",
       "      <th></th>\n",
       "      <th>Price</th>\n",
       "      <th>VehicleType</th>\n",
       "      <th>RegistrationYear</th>\n",
       "      <th>Gearbox</th>\n",
       "      <th>Power</th>\n",
       "      <th>Model</th>\n",
       "      <th>Kilometer</th>\n",
       "      <th>RegistrationMonth</th>\n",
       "      <th>FuelType</th>\n",
       "      <th>Brand</th>\n",
       "      <th>Repaired</th>\n",
       "    </tr>\n",
       "  </thead>\n",
       "  <tbody>\n",
       "    <tr>\n",
       "      <th>0</th>\n",
       "      <td>480</td>\n",
       "      <td>sedan</td>\n",
       "      <td>1993</td>\n",
       "      <td>manual</td>\n",
       "      <td>0</td>\n",
       "      <td>golf</td>\n",
       "      <td>150000</td>\n",
       "      <td>0</td>\n",
       "      <td>petrol</td>\n",
       "      <td>volkswagen</td>\n",
       "      <td>no</td>\n",
       "    </tr>\n",
       "    <tr>\n",
       "      <th>1</th>\n",
       "      <td>18300</td>\n",
       "      <td>coupe</td>\n",
       "      <td>2011</td>\n",
       "      <td>manual</td>\n",
       "      <td>190</td>\n",
       "      <td>unknown</td>\n",
       "      <td>125000</td>\n",
       "      <td>5</td>\n",
       "      <td>gasoline</td>\n",
       "      <td>audi</td>\n",
       "      <td>yes</td>\n",
       "    </tr>\n",
       "    <tr>\n",
       "      <th>2</th>\n",
       "      <td>9800</td>\n",
       "      <td>suv</td>\n",
       "      <td>2004</td>\n",
       "      <td>auto</td>\n",
       "      <td>163</td>\n",
       "      <td>grand</td>\n",
       "      <td>125000</td>\n",
       "      <td>8</td>\n",
       "      <td>gasoline</td>\n",
       "      <td>jeep</td>\n",
       "      <td>no</td>\n",
       "    </tr>\n",
       "    <tr>\n",
       "      <th>3</th>\n",
       "      <td>1500</td>\n",
       "      <td>small</td>\n",
       "      <td>2001</td>\n",
       "      <td>manual</td>\n",
       "      <td>75</td>\n",
       "      <td>golf</td>\n",
       "      <td>150000</td>\n",
       "      <td>6</td>\n",
       "      <td>petrol</td>\n",
       "      <td>volkswagen</td>\n",
       "      <td>no</td>\n",
       "    </tr>\n",
       "    <tr>\n",
       "      <th>4</th>\n",
       "      <td>3600</td>\n",
       "      <td>small</td>\n",
       "      <td>2008</td>\n",
       "      <td>manual</td>\n",
       "      <td>69</td>\n",
       "      <td>fabia</td>\n",
       "      <td>90000</td>\n",
       "      <td>7</td>\n",
       "      <td>gasoline</td>\n",
       "      <td>skoda</td>\n",
       "      <td>no</td>\n",
       "    </tr>\n",
       "    <tr>\n",
       "      <th>5</th>\n",
       "      <td>650</td>\n",
       "      <td>sedan</td>\n",
       "      <td>1995</td>\n",
       "      <td>manual</td>\n",
       "      <td>102</td>\n",
       "      <td>3er</td>\n",
       "      <td>150000</td>\n",
       "      <td>10</td>\n",
       "      <td>petrol</td>\n",
       "      <td>bmw</td>\n",
       "      <td>yes</td>\n",
       "    </tr>\n",
       "    <tr>\n",
       "      <th>6</th>\n",
       "      <td>2200</td>\n",
       "      <td>convertible</td>\n",
       "      <td>2004</td>\n",
       "      <td>manual</td>\n",
       "      <td>109</td>\n",
       "      <td>2_reihe</td>\n",
       "      <td>150000</td>\n",
       "      <td>8</td>\n",
       "      <td>petrol</td>\n",
       "      <td>peugeot</td>\n",
       "      <td>no</td>\n",
       "    </tr>\n",
       "    <tr>\n",
       "      <th>7</th>\n",
       "      <td>0</td>\n",
       "      <td>sedan</td>\n",
       "      <td>1980</td>\n",
       "      <td>manual</td>\n",
       "      <td>50</td>\n",
       "      <td>other</td>\n",
       "      <td>40000</td>\n",
       "      <td>7</td>\n",
       "      <td>petrol</td>\n",
       "      <td>volkswagen</td>\n",
       "      <td>no</td>\n",
       "    </tr>\n",
       "    <tr>\n",
       "      <th>8</th>\n",
       "      <td>14500</td>\n",
       "      <td>bus</td>\n",
       "      <td>2014</td>\n",
       "      <td>manual</td>\n",
       "      <td>125</td>\n",
       "      <td>c_max</td>\n",
       "      <td>30000</td>\n",
       "      <td>8</td>\n",
       "      <td>petrol</td>\n",
       "      <td>ford</td>\n",
       "      <td>no</td>\n",
       "    </tr>\n",
       "    <tr>\n",
       "      <th>9</th>\n",
       "      <td>999</td>\n",
       "      <td>small</td>\n",
       "      <td>1998</td>\n",
       "      <td>manual</td>\n",
       "      <td>101</td>\n",
       "      <td>golf</td>\n",
       "      <td>150000</td>\n",
       "      <td>0</td>\n",
       "      <td>petrol</td>\n",
       "      <td>volkswagen</td>\n",
       "      <td>no</td>\n",
       "    </tr>\n",
       "  </tbody>\n",
       "</table>\n",
       "</div>"
      ],
      "text/plain": [
       "   Price  VehicleType  RegistrationYear Gearbox  Power    Model  Kilometer  \\\n",
       "0    480        sedan              1993  manual      0     golf     150000   \n",
       "1  18300        coupe              2011  manual    190  unknown     125000   \n",
       "2   9800          suv              2004    auto    163    grand     125000   \n",
       "3   1500        small              2001  manual     75     golf     150000   \n",
       "4   3600        small              2008  manual     69    fabia      90000   \n",
       "5    650        sedan              1995  manual    102      3er     150000   \n",
       "6   2200  convertible              2004  manual    109  2_reihe     150000   \n",
       "7      0        sedan              1980  manual     50    other      40000   \n",
       "8  14500          bus              2014  manual    125    c_max      30000   \n",
       "9    999        small              1998  manual    101     golf     150000   \n",
       "\n",
       "   RegistrationMonth  FuelType       Brand Repaired  \n",
       "0                  0    petrol  volkswagen       no  \n",
       "1                  5  gasoline        audi      yes  \n",
       "2                  8  gasoline        jeep       no  \n",
       "3                  6    petrol  volkswagen       no  \n",
       "4                  7  gasoline       skoda       no  \n",
       "5                 10    petrol         bmw      yes  \n",
       "6                  8    petrol     peugeot       no  \n",
       "7                  7    petrol  volkswagen       no  \n",
       "8                  8    petrol        ford       no  \n",
       "9                  0    petrol  volkswagen       no  "
      ]
     },
     "metadata": {},
     "output_type": "display_data"
    },
    {
     "name": "stdout",
     "output_type": "stream",
     "text": [
      "<class 'pandas.core.frame.DataFrame'>\n",
      "Int64Index: 326826 entries, 0 to 354368\n",
      "Data columns (total 11 columns):\n",
      " #   Column             Non-Null Count   Dtype \n",
      "---  ------             --------------   ----- \n",
      " 0   Price              326826 non-null  int64 \n",
      " 1   VehicleType        326826 non-null  object\n",
      " 2   RegistrationYear   326826 non-null  int64 \n",
      " 3   Gearbox            326826 non-null  object\n",
      " 4   Power              326826 non-null  int64 \n",
      " 5   Model              326826 non-null  object\n",
      " 6   Kilometer          326826 non-null  int64 \n",
      " 7   RegistrationMonth  326826 non-null  int64 \n",
      " 8   FuelType           326826 non-null  object\n",
      " 9   Brand              326826 non-null  object\n",
      " 10  Repaired           326826 non-null  object\n",
      "dtypes: int64(5), object(6)\n",
      "memory usage: 29.9+ MB\n",
      "None\n"
     ]
    }
   ],
   "source": [
    "# заменим пропуски в столбцах VehicleType и FuelType модой по каждой группе\n",
    "for t in df['Brand'].unique():\n",
    "    df.loc[(df['Brand']==t) & (df['VehicleType'].isna()), 'VehicleType'] = df.loc[(df['Brand']==t), 'VehicleType'].mode().values[0]\n",
    "    df.loc[(df['Brand']==t) & (df['FuelType'].isna()), 'FuelType'] = df.loc[(df['Brand']==t), 'FuelType'].mode().values[0]\n",
    "display(df.head(10))\n",
    "print(df.info())"
   ]
  },
  {
   "cell_type": "code",
   "execution_count": 14,
   "metadata": {},
   "outputs": [
    {
     "data": {
      "image/png": "[encoded data removed]",
      "text/plain": [
       "<Figure size 864x648 with 1 Axes>"
      ]
     },
     "metadata": {
      "needs_background": "light"
     },
     "output_type": "display_data"
    }
   ],
   "source": [
    "# избавимся от аномалий в столбце RegistrationYear\n",
    "df = df.query('1899 < RegistrationYear < 2017')\n",
    "df['RegistrationYear'].hist(bins=100, figsize=(12,9))\n",
    "df['RegistrationYear'].describe()\n",
    "plt.xlabel('Год регистрации')\n",
    "plt.ylabel('Количество машин')\n",
    "plt.title('RegistrationYear')\n",
    "plt.show()"
   ]
  },
  {
   "cell_type": "code",
   "execution_count": 15,
   "metadata": {},
   "outputs": [
    {
     "data": {
      "image/png": "[encoded data removed]",
      "text/plain": [
       "<Figure size 864x648 with 1 Axes>"
      ]
     },
     "metadata": {
      "needs_background": "light"
     },
     "output_type": "display_data"
    }
   ],
   "source": [
    "# есть смысл смотреть с 1970 года\n",
    "df = df.query('1969 < RegistrationYear < 2017')\n",
    "df['RegistrationYear'].hist(bins=100, figsize=(12,9))\n",
    "df['RegistrationYear'].describe()\n",
    "plt.xlabel('Год регистрации')\n",
    "plt.ylabel('Количество машин')\n",
    "plt.title('RegistrationYear')\n",
    "plt.show()"
   ]
  },
  {
   "cell_type": "code",
   "execution_count": 16,
   "metadata": {},
   "outputs": [
    {
     "data": {
      "image/png": "[encoded data removed]",
      "text/plain": [
       "<Figure size 864x648 with 1 Axes>"
      ]
     },
     "metadata": {
      "needs_background": "light"
     },
     "output_type": "display_data"
    }
   ],
   "source": [
    "# избавимся от аномалий в столбце Power, отсечем те, у которых мощность больше 1000 л.с.\n",
    "df = df.query('Power < 1001')\n",
    "df['Power'].hist(bins=100, figsize=(12,9))\n",
    "df['Power'].describe()\n",
    "plt.xlabel('Мощность автомобиля')\n",
    "plt.ylabel('Количество машин')\n",
    "plt.title('Power')\n",
    "plt.show()"
   ]
  },
  {
   "cell_type": "code",
   "execution_count": 17,
   "metadata": {},
   "outputs": [
    {
     "data": {
      "image/png": "[encoded data removed]",
      "text/plain": [
       "<Figure size 864x648 with 1 Axes>"
      ]
     },
     "metadata": {
      "needs_background": "light"
     },
     "output_type": "display_data"
    }
   ],
   "source": [
    "# уберем нулевые значения и больше 400 л.с.\n",
    "df = df.query('0 < Power < 401')\n",
    "df['Power'].hist(bins=100, figsize=(12,9))\n",
    "df['Power'].describe()\n",
    "plt.xlabel('Мощность автомобиля')\n",
    "plt.ylabel('Количество машин')\n",
    "plt.title('Power')\n",
    "plt.show()"
   ]
  },
  {
   "cell_type": "code",
   "execution_count": 18,
   "metadata": {
    "scrolled": false
   },
   "outputs": [
    {
     "data": {
      "image/png": "[encoded data removed]",
      "text/plain": [
       "<Figure size 864x648 with 1 Axes>"
      ]
     },
     "metadata": {
      "needs_background": "light"
     },
     "output_type": "display_data"
    }
   ],
   "source": [
    "# избавимся от аномалий в столбце Price, отсечем нулевые значения\n",
    "df = df.query('Price > 0')\n",
    "df['Price'].hist(bins=100, figsize=(12,9))\n",
    "df['Price'].describe()\n",
    "plt.xlabel('Стоимость автомобиля')\n",
    "plt.ylabel('Количество машин')\n",
    "plt.title('Price')\n",
    "plt.show()"
   ]
  },
  {
   "cell_type": "code",
   "execution_count": 19,
   "metadata": {},
   "outputs": [
    {
     "name": "stdout",
     "output_type": "stream",
     "text": [
      "<class 'pandas.core.frame.DataFrame'>\n",
      "Int64Index: 272411 entries, 1 to 354368\n",
      "Data columns (total 11 columns):\n",
      " #   Column             Non-Null Count   Dtype \n",
      "---  ------             --------------   ----- \n",
      " 0   Price              272411 non-null  int64 \n",
      " 1   VehicleType        272411 non-null  object\n",
      " 2   RegistrationYear   272411 non-null  int64 \n",
      " 3   Gearbox            272411 non-null  object\n",
      " 4   Power              272411 non-null  int64 \n",
      " 5   Model              272411 non-null  object\n",
      " 6   Kilometer          272411 non-null  int64 \n",
      " 7   RegistrationMonth  272411 non-null  int64 \n",
      " 8   FuelType           272411 non-null  object\n",
      " 9   Brand              272411 non-null  object\n",
      " 10  Repaired           272411 non-null  object\n",
      "dtypes: int64(5), object(6)\n",
      "memory usage: 24.9+ MB\n",
      "None\n"
     ]
    }
   ],
   "source": [
    "# проверим, сколько данных осталось\n",
    "print(df.info())"
   ]
  },
  {
   "cell_type": "markdown",
   "metadata": {},
   "source": [
    "В процессе предобработки данных было удалено около 23% объектов"
   ]
  },
  {
   "cell_type": "markdown",
   "metadata": {},
   "source": [
    "**Вывод по пункту 1.2**\n",
    "\n",
    "В ходе предобработки данных было проделано следующее:\n",
    "- удалены ненужные столбцы\n",
    "- удалены дубликаты\n",
    "- обработали пропуски в столбцах Gearbox, Repaired наиболее популярными значениями, а в столбце Model значением unknown\n",
    "- заменили пропуски в столбцах VehicleType и FuelType модой по каждой группе\n",
    "- избавились от аномалий в столбце RegistrationYear; оставили значения от 1970 до 2016 года\n",
    "- избавились от аномалий в столбце Power; отсекли нулевые значения и те, у которых мощность больше 400 л.с.\n",
    "- избавились от аномалий в столбце Price, отсекли нулевые значения\n",
    "\n",
    "Было удалено около 23% объектов. Данные готовы к работе "
   ]
  },
  {
   "cell_type": "markdown",
   "metadata": {},
   "source": [
    "## Обучение моделей"
   ]
  },
  {
   "cell_type": "markdown",
   "metadata": {},
   "source": [
    "Для обучения выберем следующие модели:\n",
    "\n",
    "- LinearRegression\n",
    "- DecisionTreeRegressor\n",
    "- CatBoostRegressor\n",
    "- LGBMRegressor"
   ]
  },
  {
   "cell_type": "code",
   "execution_count": 19,
   "metadata": {},
   "outputs": [],
   "source": [
    "# отделим целевой признак от остальных признаков\n",
    "features = df.drop('Price', axis=1)\n",
    "target = df['Price']"
   ]
  },
  {
   "cell_type": "code",
   "execution_count": 20,
   "metadata": {},
   "outputs": [],
   "source": [
    "# разобьем данные на обучающую, валидационную и тестовую выборки\n",
    "features_train, features_tmp, target_train, target_tmp = train_test_split(features, target, test_size = 0.4, random_state=12345)\n",
    "features_valid, features_test, target_valid, target_test = train_test_split(features_tmp, target_tmp, test_size = 0.5, random_state=12345)"
   ]
  },
  {
   "cell_type": "code",
   "execution_count": 21,
   "metadata": {},
   "outputs": [
    {
     "name": "stderr",
     "output_type": "stream",
     "text": [
      "/opt/conda/lib/python3.9/site-packages/sklearn/preprocessing/_encoders.py:188: UserWarning: Found unknown categories in columns [4] during transform. These unknown categories will be encoded as all zeros\n",
      "  warnings.warn(\n"
     ]
    }
   ],
   "source": [
    "# OHE-кодирование\n",
    "cat_columns = ['VehicleType', 'Gearbox', 'FuelType','Brand','Model', 'Repaired']\n",
    "numeric = ['RegistrationYear', 'Power', 'Kilometer', 'RegistrationMonth']\n",
    "\n",
    "ohe_enc = OneHotEncoder(drop = 'first', handle_unknown='ignore')\n",
    "ohe_enc.fit(features_train[cat_columns])\n",
    "new_columns = ohe_enc.get_feature_names_out(cat_columns)\n",
    "\n",
    "features_train_ohe = pd.DataFrame(ohe_enc.transform(features_train[cat_columns]).toarray(), \n",
    "                            columns = new_columns, index = features_train.index)\n",
    "features_train_ohe = features_train_ohe.join(features_train[numeric])\n",
    "\n",
    "\n",
    "features_valid_ohe = pd.DataFrame(ohe_enc.transform(features_valid[cat_columns]).toarray(), \n",
    "                            columns = new_columns, index = features_valid.index)\n",
    "features_valid_ohe = features_valid_ohe.join(features_valid[numeric])"
   ]
  },
  {
   "cell_type": "code",
   "execution_count": 22,
   "metadata": {},
   "outputs": [],
   "source": [
    "# порядковое кодирование\n",
    "encoder = OrdinalEncoder()\n",
    "\n",
    "cat_features_train = features_train[cat_columns]\n",
    "cat_features_train = pd.DataFrame(encoder.fit_transform(cat_features_train), columns=cat_features_train.columns, index=cat_features_train.index)\n",
    "features_train_ordinal = features_train.copy()\n",
    "for column in cat_columns:\n",
    "    features_train_ordinal[column] = cat_features_train[column]\n",
    "    \n",
    "cat_features_valid = features_valid[cat_columns]\n",
    "cat_features_valid = pd.DataFrame(encoder.fit_transform(cat_features_valid), columns=cat_features_valid.columns, index=cat_features_valid.index)\n",
    "features_valid_ordinal = features_valid.copy()\n",
    "for column in cat_columns:\n",
    "    features_valid_ordinal[column] = cat_features_valid[column]"
   ]
  },
  {
   "cell_type": "code",
   "execution_count": 23,
   "metadata": {},
   "outputs": [
    {
     "name": "stdout",
     "output_type": "stream",
     "text": [
      "(163446, 306)\n",
      "(163446, 10)\n",
      "(54482, 306)\n",
      "(54482, 10)\n"
     ]
    }
   ],
   "source": [
    "print(features_train_ohe.shape)\n",
    "print(features_train_ordinal.shape)\n",
    "print(features_valid_ohe.shape)\n",
    "print(features_valid_ordinal.shape)"
   ]
  },
  {
   "cell_type": "markdown",
   "metadata": {},
   "source": [
    "**2.1 LinearRegression**"
   ]
  },
  {
   "cell_type": "code",
   "execution_count": 24,
   "metadata": {},
   "outputs": [
    {
     "name": "stdout",
     "output_type": "stream",
     "text": [
      "Mean RMSE LinearRegression = 2573.684146415363\n"
     ]
    }
   ],
   "source": [
    "# обучение модели Линейной регрессии с помощью кроссвалидации без масштабирования\n",
    "model_lin_1 = LinearRegression()\n",
    "cross_score = (cross_val_score(model_lin_1, features_train_ohe, target_train, cv=5, scoring='neg_mean_squared_error').mean() * -1) ** 0.5\n",
    "print('Mean RMSE LinearRegression =', cross_score)"
   ]
  },
  {
   "cell_type": "code",
   "execution_count": 25,
   "metadata": {},
   "outputs": [],
   "source": [
    "# для масштабирования нужны количественные переменные\n",
    "features_train_scaller = features_train_ohe.copy()\n",
    "features_valid_scaller = features_valid_ohe.copy()\n",
    "\n",
    "# чтобы не появлялось предупреждение\n",
    "pd.options.mode.chained_assignment = None\n",
    "\n",
    "# преобразование обучающей выборки\n",
    "scaler = StandardScaler()\n",
    "scaler.fit(features_train_scaller[numeric])\n",
    "features_train_scaller[numeric] = scaler.transform(features_train_scaller[numeric])\n",
    "features_valid_scaller[numeric] = scaler.transform(features_valid_scaller[numeric])"
   ]
  },
  {
   "cell_type": "code",
   "execution_count": 26,
   "metadata": {
    "scrolled": true
   },
   "outputs": [
    {
     "name": "stdout",
     "output_type": "stream",
     "text": [
      "Mean RMSE LinearRegression = 2573.684146415242\n"
     ]
    }
   ],
   "source": [
    "# обучение модели Линейной регрессии с помощью кроссвалидации с масштабированием\n",
    "model_lin_2 = LinearRegression()\n",
    "cross_score_scaller = (cross_val_score(model_lin_2, features_train_scaller, target_train, cv=5, scoring='neg_mean_squared_error').mean() * -1) ** 0.5\n",
    "print('Mean RMSE LinearRegression =', cross_score_scaller)"
   ]
  },
  {
   "cell_type": "markdown",
   "metadata": {},
   "source": [
    "**Вывод по пункту 2.1**\n",
    "\n",
    "Точность модели с масштабированием немного лучше"
   ]
  },
  {
   "cell_type": "markdown",
   "metadata": {},
   "source": [
    "**2.2 DecisionTreeRegressor**"
   ]
  },
  {
   "cell_type": "code",
   "execution_count": 27,
   "metadata": {},
   "outputs": [
    {
     "name": "stdout",
     "output_type": "stream",
     "text": [
      "Best parameters set found on development set:\n",
      "\n",
      "{'criterion': 'squared_error', 'max_depth': 14, 'random_state': 12345}\n",
      "\n",
      "Grid scores on development set:\n",
      "\n",
      "3641.453908 for {'criterion': 'squared_error', 'max_depth': 1, 'random_state': 12345}\n",
      "3176.927907 for {'criterion': 'squared_error', 'max_depth': 2, 'random_state': 12345}\n",
      "2907.994083 for {'criterion': 'squared_error', 'max_depth': 3, 'random_state': 12345}\n",
      "2576.277867 for {'criterion': 'squared_error', 'max_depth': 4, 'random_state': 12345}\n",
      "2401.229169 for {'criterion': 'squared_error', 'max_depth': 5, 'random_state': 12345}\n",
      "2248.726185 for {'criterion': 'squared_error', 'max_depth': 6, 'random_state': 12345}\n",
      "2151.703665 for {'criterion': 'squared_error', 'max_depth': 7, 'random_state': 12345}\n",
      "2072.685420 for {'criterion': 'squared_error', 'max_depth': 8, 'random_state': 12345}\n",
      "2014.922781 for {'criterion': 'squared_error', 'max_depth': 9, 'random_state': 12345}\n",
      "1971.019737 for {'criterion': 'squared_error', 'max_depth': 10, 'random_state': 12345}\n",
      "1941.586854 for {'criterion': 'squared_error', 'max_depth': 11, 'random_state': 12345}\n",
      "1920.829803 for {'criterion': 'squared_error', 'max_depth': 12, 'random_state': 12345}\n",
      "1912.996593 for {'criterion': 'squared_error', 'max_depth': 13, 'random_state': 12345}\n",
      "1908.772875 for {'criterion': 'squared_error', 'max_depth': 14, 'random_state': 12345}\n",
      "1916.852484 for {'criterion': 'squared_error', 'max_depth': 15, 'random_state': 12345}\n",
      "1926.719080 for {'criterion': 'squared_error', 'max_depth': 16, 'random_state': 12345}\n",
      "1944.134415 for {'criterion': 'squared_error', 'max_depth': 17, 'random_state': 12345}\n",
      "1958.557095 for {'criterion': 'squared_error', 'max_depth': 18, 'random_state': 12345}\n",
      "1972.793821 for {'criterion': 'squared_error', 'max_depth': 19, 'random_state': 12345}\n",
      "1986.152628 for {'criterion': 'squared_error', 'max_depth': 20, 'random_state': 12345}\n",
      "2001.555374 for {'criterion': 'squared_error', 'max_depth': 21, 'random_state': 12345}\n",
      "2016.917435 for {'criterion': 'squared_error', 'max_depth': 22, 'random_state': 12345}\n",
      "2029.111487 for {'criterion': 'squared_error', 'max_depth': 23, 'random_state': 12345}\n",
      "2036.407556 for {'criterion': 'squared_error', 'max_depth': 24, 'random_state': 12345}\n",
      "2040.660974 for {'criterion': 'squared_error', 'max_depth': 25, 'random_state': 12345}\n",
      "2053.910048 for {'criterion': 'squared_error', 'max_depth': 26, 'random_state': 12345}\n",
      "2054.745896 for {'criterion': 'squared_error', 'max_depth': 27, 'random_state': 12345}\n",
      "2067.072951 for {'criterion': 'squared_error', 'max_depth': 28, 'random_state': 12345}\n",
      "2066.730156 for {'criterion': 'squared_error', 'max_depth': 29, 'random_state': 12345}\n",
      "2075.215991 for {'criterion': 'squared_error', 'max_depth': 30, 'random_state': 12345}\n",
      "\n",
      "Best RMSE DecisionTreeRegressor = 1908.772875272666\n"
     ]
    }
   ],
   "source": [
    "# рассмотрим эту модель на ОНЕ-кодировании\n",
    "model_tree_1 = DecisionTreeRegressor()\n",
    "max_depth_list_1 = [x for x in range(1, 31)]\n",
    "hyperparams_1 = [{'criterion':['squared_error'], 'max_depth':max_depth_list_1, 'random_state':[12345]}]\n",
    "score_tree_1 = GridSearchCV(model_tree_1, hyperparams_1, scoring='neg_mean_squared_error')\n",
    "score_tree_1.fit(features_train_ohe, target_train)\n",
    "print(\"Best parameters set found on development set:\")\n",
    "print()\n",
    "print(score_tree_1.best_params_)\n",
    "print()\n",
    "print(\"Grid scores on development set:\")\n",
    "print()\n",
    "means = score_tree_1.cv_results_['mean_test_score']\n",
    "for mean, params in zip(means, score_tree_1.cv_results_['params']):\n",
    "    print(\"%0.6f for %r\"% ((mean*-1)** 0.5, params))\n",
    "cv_RMSE_1 = (max(means)*-1) ** 0.5\n",
    "print()\n",
    "print('Best RMSE DecisionTreeRegressor =', cv_RMSE_1)"
   ]
  },
  {
   "cell_type": "code",
   "execution_count": 28,
   "metadata": {},
   "outputs": [
    {
     "name": "stdout",
     "output_type": "stream",
     "text": [
      "Best parameters set found on development set:\n",
      "\n",
      "{'criterion': 'squared_error', 'max_depth': 12, 'random_state': 12345}\n",
      "\n",
      "Grid scores on development set:\n",
      "\n",
      "3641.453908 for {'criterion': 'squared_error', 'max_depth': 1, 'random_state': 12345}\n",
      "3176.927907 for {'criterion': 'squared_error', 'max_depth': 2, 'random_state': 12345}\n",
      "2907.994083 for {'criterion': 'squared_error', 'max_depth': 3, 'random_state': 12345}\n",
      "2577.672356 for {'criterion': 'squared_error', 'max_depth': 4, 'random_state': 12345}\n",
      "2397.883512 for {'criterion': 'squared_error', 'max_depth': 5, 'random_state': 12345}\n",
      "2252.563958 for {'criterion': 'squared_error', 'max_depth': 6, 'random_state': 12345}\n",
      "2157.670523 for {'criterion': 'squared_error', 'max_depth': 7, 'random_state': 12345}\n",
      "2076.628685 for {'criterion': 'squared_error', 'max_depth': 8, 'random_state': 12345}\n",
      "2017.365857 for {'criterion': 'squared_error', 'max_depth': 9, 'random_state': 12345}\n",
      "1971.868263 for {'criterion': 'squared_error', 'max_depth': 10, 'random_state': 12345}\n",
      "1942.902360 for {'criterion': 'squared_error', 'max_depth': 11, 'random_state': 12345}\n",
      "1929.194173 for {'criterion': 'squared_error', 'max_depth': 12, 'random_state': 12345}\n",
      "1930.284521 for {'criterion': 'squared_error', 'max_depth': 13, 'random_state': 12345}\n",
      "1948.213423 for {'criterion': 'squared_error', 'max_depth': 14, 'random_state': 12345}\n",
      "1973.376364 for {'criterion': 'squared_error', 'max_depth': 15, 'random_state': 12345}\n",
      "2002.714878 for {'criterion': 'squared_error', 'max_depth': 16, 'random_state': 12345}\n",
      "2034.114494 for {'criterion': 'squared_error', 'max_depth': 17, 'random_state': 12345}\n",
      "2066.979807 for {'criterion': 'squared_error', 'max_depth': 18, 'random_state': 12345}\n",
      "2094.954022 for {'criterion': 'squared_error', 'max_depth': 19, 'random_state': 12345}\n",
      "2119.879425 for {'criterion': 'squared_error', 'max_depth': 20, 'random_state': 12345}\n",
      "2145.280699 for {'criterion': 'squared_error', 'max_depth': 21, 'random_state': 12345}\n",
      "2151.592608 for {'criterion': 'squared_error', 'max_depth': 22, 'random_state': 12345}\n",
      "2160.516825 for {'criterion': 'squared_error', 'max_depth': 23, 'random_state': 12345}\n",
      "2167.862204 for {'criterion': 'squared_error', 'max_depth': 24, 'random_state': 12345}\n",
      "2174.167638 for {'criterion': 'squared_error', 'max_depth': 25, 'random_state': 12345}\n",
      "2182.964654 for {'criterion': 'squared_error', 'max_depth': 26, 'random_state': 12345}\n",
      "2183.153222 for {'criterion': 'squared_error', 'max_depth': 27, 'random_state': 12345}\n",
      "2190.345667 for {'criterion': 'squared_error', 'max_depth': 28, 'random_state': 12345}\n",
      "2188.878593 for {'criterion': 'squared_error', 'max_depth': 29, 'random_state': 12345}\n",
      "2192.098768 for {'criterion': 'squared_error', 'max_depth': 30, 'random_state': 12345}\n",
      "\n",
      "Best RMSE DecisionTreeRegressor = 1929.1941734497414\n"
     ]
    }
   ],
   "source": [
    "# рассмотрим эту модель на порядковом кодировании\n",
    "model_tree_2 = DecisionTreeRegressor()\n",
    "max_depth_list_2 = [i for i in range(1, 31)]\n",
    "hyperparams_2 = [{'criterion':['squared_error'], 'max_depth':max_depth_list_2, 'random_state':[12345]}]\n",
    "score_tree_2 = GridSearchCV(model_tree_2, hyperparams_2, scoring='neg_mean_squared_error')\n",
    "score_tree_2.fit(features_train_ordinal, target_train)\n",
    "print(\"Best parameters set found on development set:\")\n",
    "print()\n",
    "print(score_tree_2.best_params_)\n",
    "print()\n",
    "print(\"Grid scores on development set:\")\n",
    "print()\n",
    "means_2 = score_tree_2.cv_results_['mean_test_score']\n",
    "for mean_2, params_2 in zip(means_2, score_tree_2.cv_results_['params']):\n",
    "    print(\"%0.6f for %r\"% ((mean_2*-1)** 0.5, params_2))\n",
    "cv_RMSE_2 = (max(means_2)*-1) ** 0.5\n",
    "print()\n",
    "print('Best RMSE DecisionTreeRegressor =', cv_RMSE_2)"
   ]
  },
  {
   "cell_type": "markdown",
   "metadata": {},
   "source": [
    "**Вывод по пункту 2.2**\n",
    "\n",
    "С ОНЕ-кодированием глубиной 14 модель DecisionTreeRegressor показала лучшую точность."
   ]
  },
  {
   "cell_type": "markdown",
   "metadata": {},
   "source": [
    "**2.3 CatBoostRegressor**"
   ]
  },
  {
   "cell_type": "code",
   "execution_count": 29,
   "metadata": {},
   "outputs": [
    {
     "name": "stdout",
     "output_type": "stream",
     "text": [
      "Best parameters set found on development set:\n",
      "\n",
      "{'learning_rate': 0.3, 'random_state': 12345, 'verbose': False}\n",
      "\n",
      "Grid scores on development set:\n",
      "\n",
      "1595.159039 for {'learning_rate': 0.1, 'random_state': 12345, 'verbose': False}\n",
      "\n",
      "1577.789926 for {'learning_rate': 0.3, 'random_state': 12345, 'verbose': False}\n",
      "\n",
      "1600.628536 for {'learning_rate': 0.5, 'random_state': 12345, 'verbose': False}\n",
      "\n",
      "1625.816219 for {'learning_rate': 0.7, 'random_state': 12345, 'verbose': False}\n",
      "\n",
      "1658.931039 for {'learning_rate': 0.9, 'random_state': 12345, 'verbose': False}\n",
      "\n",
      "\n",
      "Best RMSE CatBoostRegressor = 1577.789926026762\n"
     ]
    }
   ],
   "source": [
    "# модель CatBoostRegressor \n",
    "model_catboost = CatBoostRegressor()\n",
    "hyperparams = [{'learning_rate':[0.1, 0.3, 0.5, 0.7, 0.9], 'random_state':[12345], 'verbose':[False]}]\n",
    "score_catboost = GridSearchCV(model_catboost, hyperparams, scoring='neg_mean_squared_error')\n",
    "score_catboost.fit(features_train_ordinal, target_train)\n",
    "print(\"Best parameters set found on development set:\")\n",
    "print()\n",
    "print(score_catboost.best_params_)\n",
    "print()\n",
    "print(\"Grid scores on development set:\")\n",
    "print()\n",
    "means_3 = score_catboost.cv_results_['mean_test_score']\n",
    "for mean_3, params_3 in zip(means_3, score_catboost.cv_results_['params']):\n",
    "    print(\"%0.6f for %r\"% ((mean_3*-1)** 0.5, params_3))\n",
    "    print()\n",
    "cv_RMSE_3 = (max(means_3)*-1) ** 0.5\n",
    "print()\n",
    "print('Best RMSE CatBoostRegressor =', cv_RMSE_3)"
   ]
  },
  {
   "cell_type": "markdown",
   "metadata": {},
   "source": [
    "**Вывод по пункту 2.3**\n",
    "\n",
    "Лучшую точность показала модель с параметром learning_rate = 0.3"
   ]
  },
  {
   "cell_type": "markdown",
   "metadata": {},
   "source": [
    "**2.4 LGBMRegressor**"
   ]
  },
  {
   "cell_type": "code",
   "execution_count": 30,
   "metadata": {},
   "outputs": [
    {
     "name": "stdout",
     "output_type": "stream",
     "text": [
      "Best parameters set found on development set:\n",
      "\n",
      "{'learning_rate': 0.1, 'num_leaves': 200, 'random_state': 12345}\n",
      "\n",
      "Grid scores on development set:\n",
      "\n",
      "1672.422537 for {'learning_rate': 0.1, 'num_leaves': 31, 'random_state': 12345}\n",
      "1602.409834 for {'learning_rate': 0.1, 'num_leaves': 100, 'random_state': 12345}\n",
      "1578.425626 for {'learning_rate': 0.1, 'num_leaves': 200, 'random_state': 12345}\n",
      "1624.733051 for {'learning_rate': 0.4, 'num_leaves': 31, 'random_state': 12345}\n",
      "1612.432032 for {'learning_rate': 0.4, 'num_leaves': 100, 'random_state': 12345}\n",
      "1619.716524 for {'learning_rate': 0.4, 'num_leaves': 200, 'random_state': 12345}\n",
      "1662.074498 for {'learning_rate': 0.7, 'num_leaves': 31, 'random_state': 12345}\n",
      "1693.897180 for {'learning_rate': 0.7, 'num_leaves': 100, 'random_state': 12345}\n",
      "1718.851792 for {'learning_rate': 0.7, 'num_leaves': 200, 'random_state': 12345}\n",
      "\n",
      "\n",
      "Best RMSE LGBMRegressor = 1578.4256263556276\n"
     ]
    }
   ],
   "source": [
    "# модель LGBMRegressor с параметрами\n",
    "model_lgbm = LGBMRegressor()\n",
    "hyperparams = [{'num_leaves':[31, 100, 200], 'learning_rate':[0.1, 0.4, 0.7], 'random_state':[12345]}]\n",
    "score_lgbm = GridSearchCV(model_lgbm, hyperparams, scoring='neg_mean_squared_error')\n",
    "score_lgbm.fit(features_train_ordinal, target_train)\n",
    "print(\"Best parameters set found on development set:\")\n",
    "print()\n",
    "print(score_lgbm.best_params_)\n",
    "print()\n",
    "print(\"Grid scores on development set:\")\n",
    "print()\n",
    "means_4 = score_lgbm.cv_results_['mean_test_score']\n",
    "for mean_4, params_4 in zip(means_4, score_lgbm.cv_results_['params']):\n",
    "    print(\"%0.6f for %r\"% ((mean_4*-1)** 0.5, params_4))\n",
    "print()\n",
    "cv_RMSE_4 = (max(means_4)*-1) ** 0.5\n",
    "print()\n",
    "print('Best RMSE LGBMRegressor =', cv_RMSE_4)"
   ]
  },
  {
   "cell_type": "markdown",
   "metadata": {},
   "source": [
    "**Вывод по пункту 2.4**\n",
    "Лучшую точность показала модель с параметром learning_rate = 0.1 и num_leaves = 200"
   ]
  },
  {
   "cell_type": "markdown",
   "metadata": {},
   "source": [
    "## Анализ моделей"
   ]
  },
  {
   "cell_type": "markdown",
   "metadata": {},
   "source": [
    "Проведем обучение на каждой модели с лучшими гиперпараметрами и определим время обучения и предсказания"
   ]
  },
  {
   "cell_type": "markdown",
   "metadata": {},
   "source": [
    "**3.1 LinearRegression**"
   ]
  },
  {
   "cell_type": "code",
   "execution_count": 31,
   "metadata": {},
   "outputs": [
    {
     "name": "stdout",
     "output_type": "stream",
     "text": [
      "CPU times: user 13.9 s, sys: 7.71 s, total: 21.6 s\n",
      "Wall time: 21.6 s\n"
     ]
    },
    {
     "data": {
      "text/html": [
       "<style>#sk-container-id-1 {color: black;background-color: white;}#sk-container-id-1 pre{padding: 0;}#sk-container-id-1 div.sk-toggleable {background-color: white;}#sk-container-id-1 label.sk-toggleable__label {cursor: pointer;display: block;width: 100%;margin-bottom: 0;padding: 0.3em;box-sizing: border-box;text-align: center;}#sk-container-id-1 label.sk-toggleable__label-arrow:before {content: \"▸\";float: left;margin-right: 0.25em;color: #696969;}#sk-container-id-1 label.sk-toggleable__label-arrow:hover:before {color: black;}#sk-container-id-1 div.sk-estimator:hover label.sk-toggleable__label-arrow:before {color: black;}#sk-container-id-1 div.sk-toggleable__content {max-height: 0;max-width: 0;overflow: hidden;text-align: left;background-color: #f0f8ff;}#sk-container-id-1 div.sk-toggleable__content pre {margin: 0.2em;color: black;border-radius: 0.25em;background-color: #f0f8ff;}#sk-container-id-1 input.sk-toggleable__control:checked~div.sk-toggleable__content {max-height: 200px;max-width: 100%;overflow: auto;}#sk-container-id-1 input.sk-toggleable__control:checked~label.sk-toggleable__label-arrow:before {content: \"▾\";}#sk-container-id-1 div.sk-estimator input.sk-toggleable__control:checked~label.sk-toggleable__label {background-color: #d4ebff;}#sk-container-id-1 div.sk-label input.sk-toggleable__control:checked~label.sk-toggleable__label {background-color: #d4ebff;}#sk-container-id-1 input.sk-hidden--visually {border: 0;clip: rect(1px 1px 1px 1px);clip: rect(1px, 1px, 1px, 1px);height: 1px;margin: -1px;overflow: hidden;padding: 0;position: absolute;width: 1px;}#sk-container-id-1 div.sk-estimator {font-family: monospace;background-color: #f0f8ff;border: 1px dotted black;border-radius: 0.25em;box-sizing: border-box;margin-bottom: 0.5em;}#sk-container-id-1 div.sk-estimator:hover {background-color: #d4ebff;}#sk-container-id-1 div.sk-parallel-item::after {content: \"\";width: 100%;border-bottom: 1px solid gray;flex-grow: 1;}#sk-container-id-1 div.sk-label:hover label.sk-toggleable__label {background-color: #d4ebff;}#sk-container-id-1 div.sk-serial::before {content: \"\";position: absolute;border-left: 1px solid gray;box-sizing: border-box;top: 0;bottom: 0;left: 50%;z-index: 0;}#sk-container-id-1 div.sk-serial {display: flex;flex-direction: column;align-items: center;background-color: white;padding-right: 0.2em;padding-left: 0.2em;position: relative;}#sk-container-id-1 div.sk-item {position: relative;z-index: 1;}#sk-container-id-1 div.sk-parallel {display: flex;align-items: stretch;justify-content: center;background-color: white;position: relative;}#sk-container-id-1 div.sk-item::before, #sk-container-id-1 div.sk-parallel-item::before {content: \"\";position: absolute;border-left: 1px solid gray;box-sizing: border-box;top: 0;bottom: 0;left: 50%;z-index: -1;}#sk-container-id-1 div.sk-parallel-item {display: flex;flex-direction: column;z-index: 1;position: relative;background-color: white;}#sk-container-id-1 div.sk-parallel-item:first-child::after {align-self: flex-end;width: 50%;}#sk-container-id-1 div.sk-parallel-item:last-child::after {align-self: flex-start;width: 50%;}#sk-container-id-1 div.sk-parallel-item:only-child::after {width: 0;}#sk-container-id-1 div.sk-dashed-wrapped {border: 1px dashed gray;margin: 0 0.4em 0.5em 0.4em;box-sizing: border-box;padding-bottom: 0.4em;background-color: white;}#sk-container-id-1 div.sk-label label {font-family: monospace;font-weight: bold;display: inline-block;line-height: 1.2em;}#sk-container-id-1 div.sk-label-container {text-align: center;}#sk-container-id-1 div.sk-container {/* jupyter's `normalize.less` sets `[hidden] { display: none; }` but bootstrap.min.css set `[hidden] { display: none !important; }` so we also need the `!important` here to be able to override the default hidden behavior on the sphinx rendered scikit-learn.org. See: https://github.com/scikit-learn/scikit-learn/issues/21755 */display: inline-block !important;position: relative;}#sk-container-id-1 div.sk-text-repr-fallback {display: none;}</style><div id=\"sk-container-id-1\" class=\"sk-top-container\"><div class=\"sk-text-repr-fallback\"><pre>LinearRegression()</pre><b>In a Jupyter environment, please rerun this cell to show the HTML representation or trust the notebook. <br />On GitHub, the HTML representation is unable to render, please try loading this page with nbviewer.org.</b></div><div class=\"sk-container\" hidden><div class=\"sk-item\"><div class=\"sk-estimator sk-toggleable\"><input class=\"sk-toggleable__control sk-hidden--visually\" id=\"sk-estimator-id-1\" type=\"checkbox\" checked><label for=\"sk-estimator-id-1\" class=\"sk-toggleable__label sk-toggleable__label-arrow\">LinearRegression</label><div class=\"sk-toggleable__content\"><pre>LinearRegression()</pre></div></div></div></div></div>"
      ],
      "text/plain": [
       "LinearRegression()"
      ]
     },
     "execution_count": 31,
     "metadata": {},
     "output_type": "execute_result"
    }
   ],
   "source": [
    "%%time\n",
    "\n",
    "model_lin = LinearRegression()\n",
    "model_lin.fit(features_train_scaller, target_train)"
   ]
  },
  {
   "cell_type": "code",
   "execution_count": 32,
   "metadata": {},
   "outputs": [
    {
     "name": "stdout",
     "output_type": "stream",
     "text": [
      "CPU times: user 70.9 ms, sys: 56.3 ms, total: 127 ms\n",
      "Wall time: 126 ms\n"
     ]
    }
   ],
   "source": [
    "%%time\n",
    "\n",
    "predict_lin = model_lin.predict(features_valid_scaller)"
   ]
  },
  {
   "cell_type": "code",
   "execution_count": 33,
   "metadata": {},
   "outputs": [
    {
     "name": "stdout",
     "output_type": "stream",
     "text": [
      "RMSE LinearRegression = 2555.3519972959753\n"
     ]
    }
   ],
   "source": [
    "RMSE_lin = mean_squared_error(target_valid, predict_lin) ** 0.5\n",
    "print('RMSE LinearRegression =', RMSE_lin)"
   ]
  },
  {
   "cell_type": "markdown",
   "metadata": {},
   "source": [
    "**3.2 DecisionTreeRegressor**"
   ]
  },
  {
   "cell_type": "code",
   "execution_count": 34,
   "metadata": {},
   "outputs": [
    {
     "name": "stdout",
     "output_type": "stream",
     "text": [
      "CPU times: user 4.18 s, sys: 157 ms, total: 4.34 s\n",
      "Wall time: 4.34 s\n"
     ]
    },
    {
     "data": {
      "text/html": [
       "<style>#sk-container-id-2 {color: black;background-color: white;}#sk-container-id-2 pre{padding: 0;}#sk-container-id-2 div.sk-toggleable {background-color: white;}#sk-container-id-2 label.sk-toggleable__label {cursor: pointer;display: block;width: 100%;margin-bottom: 0;padding: 0.3em;box-sizing: border-box;text-align: center;}#sk-container-id-2 label.sk-toggleable__label-arrow:before {content: \"▸\";float: left;margin-right: 0.25em;color: #696969;}#sk-container-id-2 label.sk-toggleable__label-arrow:hover:before {color: black;}#sk-container-id-2 div.sk-estimator:hover label.sk-toggleable__label-arrow:before {color: black;}#sk-container-id-2 div.sk-toggleable__content {max-height: 0;max-width: 0;overflow: hidden;text-align: left;background-color: #f0f8ff;}#sk-container-id-2 div.sk-toggleable__content pre {margin: 0.2em;color: black;border-radius: 0.25em;background-color: #f0f8ff;}#sk-container-id-2 input.sk-toggleable__control:checked~div.sk-toggleable__content {max-height: 200px;max-width: 100%;overflow: auto;}#sk-container-id-2 input.sk-toggleable__control:checked~label.sk-toggleable__label-arrow:before {content: \"▾\";}#sk-container-id-2 div.sk-estimator input.sk-toggleable__control:checked~label.sk-toggleable__label {background-color: #d4ebff;}#sk-container-id-2 div.sk-label input.sk-toggleable__control:checked~label.sk-toggleable__label {background-color: #d4ebff;}#sk-container-id-2 input.sk-hidden--visually {border: 0;clip: rect(1px 1px 1px 1px);clip: rect(1px, 1px, 1px, 1px);height: 1px;margin: -1px;overflow: hidden;padding: 0;position: absolute;width: 1px;}#sk-container-id-2 div.sk-estimator {font-family: monospace;background-color: #f0f8ff;border: 1px dotted black;border-radius: 0.25em;box-sizing: border-box;margin-bottom: 0.5em;}#sk-container-id-2 div.sk-estimator:hover {background-color: #d4ebff;}#sk-container-id-2 div.sk-parallel-item::after {content: \"\";width: 100%;border-bottom: 1px solid gray;flex-grow: 1;}#sk-container-id-2 div.sk-label:hover label.sk-toggleable__label {background-color: #d4ebff;}#sk-container-id-2 div.sk-serial::before {content: \"\";position: absolute;border-left: 1px solid gray;box-sizing: border-box;top: 0;bottom: 0;left: 50%;z-index: 0;}#sk-container-id-2 div.sk-serial {display: flex;flex-direction: column;align-items: center;background-color: white;padding-right: 0.2em;padding-left: 0.2em;position: relative;}#sk-container-id-2 div.sk-item {position: relative;z-index: 1;}#sk-container-id-2 div.sk-parallel {display: flex;align-items: stretch;justify-content: center;background-color: white;position: relative;}#sk-container-id-2 div.sk-item::before, #sk-container-id-2 div.sk-parallel-item::before {content: \"\";position: absolute;border-left: 1px solid gray;box-sizing: border-box;top: 0;bottom: 0;left: 50%;z-index: -1;}#sk-container-id-2 div.sk-parallel-item {display: flex;flex-direction: column;z-index: 1;position: relative;background-color: white;}#sk-container-id-2 div.sk-parallel-item:first-child::after {align-self: flex-end;width: 50%;}#sk-container-id-2 div.sk-parallel-item:last-child::after {align-self: flex-start;width: 50%;}#sk-container-id-2 div.sk-parallel-item:only-child::after {width: 0;}#sk-container-id-2 div.sk-dashed-wrapped {border: 1px dashed gray;margin: 0 0.4em 0.5em 0.4em;box-sizing: border-box;padding-bottom: 0.4em;background-color: white;}#sk-container-id-2 div.sk-label label {font-family: monospace;font-weight: bold;display: inline-block;line-height: 1.2em;}#sk-container-id-2 div.sk-label-container {text-align: center;}#sk-container-id-2 div.sk-container {/* jupyter's `normalize.less` sets `[hidden] { display: none; }` but bootstrap.min.css set `[hidden] { display: none !important; }` so we also need the `!important` here to be able to override the default hidden behavior on the sphinx rendered scikit-learn.org. See: https://github.com/scikit-learn/scikit-learn/issues/21755 */display: inline-block !important;position: relative;}#sk-container-id-2 div.sk-text-repr-fallback {display: none;}</style><div id=\"sk-container-id-2\" class=\"sk-top-container\"><div class=\"sk-text-repr-fallback\"><pre>DecisionTreeRegressor(max_depth=14, random_state=12345)</pre><b>In a Jupyter environment, please rerun this cell to show the HTML representation or trust the notebook. <br />On GitHub, the HTML representation is unable to render, please try loading this page with nbviewer.org.</b></div><div class=\"sk-container\" hidden><div class=\"sk-item\"><div class=\"sk-estimator sk-toggleable\"><input class=\"sk-toggleable__control sk-hidden--visually\" id=\"sk-estimator-id-2\" type=\"checkbox\" checked><label for=\"sk-estimator-id-2\" class=\"sk-toggleable__label sk-toggleable__label-arrow\">DecisionTreeRegressor</label><div class=\"sk-toggleable__content\"><pre>DecisionTreeRegressor(max_depth=14, random_state=12345)</pre></div></div></div></div></div>"
      ],
      "text/plain": [
       "DecisionTreeRegressor(max_depth=14, random_state=12345)"
      ]
     },
     "execution_count": 34,
     "metadata": {},
     "output_type": "execute_result"
    }
   ],
   "source": [
    "%%time\n",
    "model_tree = DecisionTreeRegressor(max_depth=14, random_state=12345) \n",
    "model_tree.fit(features_train_ohe, target_train)"
   ]
  },
  {
   "cell_type": "code",
   "execution_count": 35,
   "metadata": {},
   "outputs": [
    {
     "name": "stdout",
     "output_type": "stream",
     "text": [
      "CPU times: user 66.9 ms, sys: 55.4 ms, total: 122 ms\n",
      "Wall time: 127 ms\n"
     ]
    }
   ],
   "source": [
    "%%time\n",
    "predict_tree = model_tree.predict(features_valid_ohe)"
   ]
  },
  {
   "cell_type": "code",
   "execution_count": 36,
   "metadata": {},
   "outputs": [
    {
     "name": "stdout",
     "output_type": "stream",
     "text": [
      "RMSE DecisionTreeRegressor = 1897.3461862824213\n"
     ]
    }
   ],
   "source": [
    "RMSE_tree = mean_squared_error(target_valid, predict_tree) ** 0.5\n",
    "print('RMSE DecisionTreeRegressor =', RMSE_tree)"
   ]
  },
  {
   "cell_type": "markdown",
   "metadata": {},
   "source": [
    "**3.3 CatBoostRegressor**"
   ]
  },
  {
   "cell_type": "code",
   "execution_count": 37,
   "metadata": {},
   "outputs": [
    {
     "name": "stdout",
     "output_type": "stream",
     "text": [
      "CPU times: user 22.6 s, sys: 183 ms, total: 22.8 s\n",
      "Wall time: 23.8 s\n"
     ]
    },
    {
     "data": {
      "text/plain": [
       "<catboost.core.CatBoostRegressor at 0x7f1d70639af0>"
      ]
     },
     "execution_count": 37,
     "metadata": {},
     "output_type": "execute_result"
    }
   ],
   "source": [
    "%%time\n",
    "model_catboost = CatBoostRegressor(learning_rate=0.3, random_state=12345, verbose=False) \n",
    "model_catboost.fit(features_train_ordinal, target_train)"
   ]
  },
  {
   "cell_type": "code",
   "execution_count": 38,
   "metadata": {},
   "outputs": [
    {
     "name": "stdout",
     "output_type": "stream",
     "text": [
      "CPU times: user 53.6 ms, sys: 85 µs, total: 53.6 ms\n",
      "Wall time: 51.8 ms\n"
     ]
    }
   ],
   "source": [
    "%%time\n",
    "predict_catboost = model_catboost.predict(features_valid_ordinal)"
   ]
  },
  {
   "cell_type": "code",
   "execution_count": 39,
   "metadata": {},
   "outputs": [
    {
     "name": "stdout",
     "output_type": "stream",
     "text": [
      "RMSE CatBoostRegressor = 1687.8949774841758\n"
     ]
    }
   ],
   "source": [
    "RMSE_catboost = mean_squared_error(target_valid, predict_catboost) ** 0.5\n",
    "print('RMSE CatBoostRegressor =', RMSE_catboost)"
   ]
  },
  {
   "cell_type": "markdown",
   "metadata": {},
   "source": [
    "**3.4 LGBMRegressor**"
   ]
  },
  {
   "cell_type": "code",
   "execution_count": 40,
   "metadata": {},
   "outputs": [
    {
     "name": "stdout",
     "output_type": "stream",
     "text": [
      "CPU times: user 12.5 s, sys: 262 ms, total: 12.7 s\n",
      "Wall time: 12.8 s\n"
     ]
    },
    {
     "data": {
      "text/html": [
       "<style>#sk-container-id-3 {color: black;background-color: white;}#sk-container-id-3 pre{padding: 0;}#sk-container-id-3 div.sk-toggleable {background-color: white;}#sk-container-id-3 label.sk-toggleable__label {cursor: pointer;display: block;width: 100%;margin-bottom: 0;padding: 0.3em;box-sizing: border-box;text-align: center;}#sk-container-id-3 label.sk-toggleable__label-arrow:before {content: \"▸\";float: left;margin-right: 0.25em;color: #696969;}#sk-container-id-3 label.sk-toggleable__label-arrow:hover:before {color: black;}#sk-container-id-3 div.sk-estimator:hover label.sk-toggleable__label-arrow:before {color: black;}#sk-container-id-3 div.sk-toggleable__content {max-height: 0;max-width: 0;overflow: hidden;text-align: left;background-color: #f0f8ff;}#sk-container-id-3 div.sk-toggleable__content pre {margin: 0.2em;color: black;border-radius: 0.25em;background-color: #f0f8ff;}#sk-container-id-3 input.sk-toggleable__control:checked~div.sk-toggleable__content {max-height: 200px;max-width: 100%;overflow: auto;}#sk-container-id-3 input.sk-toggleable__control:checked~label.sk-toggleable__label-arrow:before {content: \"▾\";}#sk-container-id-3 div.sk-estimator input.sk-toggleable__control:checked~label.sk-toggleable__label {background-color: #d4ebff;}#sk-container-id-3 div.sk-label input.sk-toggleable__control:checked~label.sk-toggleable__label {background-color: #d4ebff;}#sk-container-id-3 input.sk-hidden--visually {border: 0;clip: rect(1px 1px 1px 1px);clip: rect(1px, 1px, 1px, 1px);height: 1px;margin: -1px;overflow: hidden;padding: 0;position: absolute;width: 1px;}#sk-container-id-3 div.sk-estimator {font-family: monospace;background-color: #f0f8ff;border: 1px dotted black;border-radius: 0.25em;box-sizing: border-box;margin-bottom: 0.5em;}#sk-container-id-3 div.sk-estimator:hover {background-color: #d4ebff;}#sk-container-id-3 div.sk-parallel-item::after {content: \"\";width: 100%;border-bottom: 1px solid gray;flex-grow: 1;}#sk-container-id-3 div.sk-label:hover label.sk-toggleable__label {background-color: #d4ebff;}#sk-container-id-3 div.sk-serial::before {content: \"\";position: absolute;border-left: 1px solid gray;box-sizing: border-box;top: 0;bottom: 0;left: 50%;z-index: 0;}#sk-container-id-3 div.sk-serial {display: flex;flex-direction: column;align-items: center;background-color: white;padding-right: 0.2em;padding-left: 0.2em;position: relative;}#sk-container-id-3 div.sk-item {position: relative;z-index: 1;}#sk-container-id-3 div.sk-parallel {display: flex;align-items: stretch;justify-content: center;background-color: white;position: relative;}#sk-container-id-3 div.sk-item::before, #sk-container-id-3 div.sk-parallel-item::before {content: \"\";position: absolute;border-left: 1px solid gray;box-sizing: border-box;top: 0;bottom: 0;left: 50%;z-index: -1;}#sk-container-id-3 div.sk-parallel-item {display: flex;flex-direction: column;z-index: 1;position: relative;background-color: white;}#sk-container-id-3 div.sk-parallel-item:first-child::after {align-self: flex-end;width: 50%;}#sk-container-id-3 div.sk-parallel-item:last-child::after {align-self: flex-start;width: 50%;}#sk-container-id-3 div.sk-parallel-item:only-child::after {width: 0;}#sk-container-id-3 div.sk-dashed-wrapped {border: 1px dashed gray;margin: 0 0.4em 0.5em 0.4em;box-sizing: border-box;padding-bottom: 0.4em;background-color: white;}#sk-container-id-3 div.sk-label label {font-family: monospace;font-weight: bold;display: inline-block;line-height: 1.2em;}#sk-container-id-3 div.sk-label-container {text-align: center;}#sk-container-id-3 div.sk-container {/* jupyter's `normalize.less` sets `[hidden] { display: none; }` but bootstrap.min.css set `[hidden] { display: none !important; }` so we also need the `!important` here to be able to override the default hidden behavior on the sphinx rendered scikit-learn.org. See: https://github.com/scikit-learn/scikit-learn/issues/21755 */display: inline-block !important;position: relative;}#sk-container-id-3 div.sk-text-repr-fallback {display: none;}</style><div id=\"sk-container-id-3\" class=\"sk-top-container\"><div class=\"sk-text-repr-fallback\"><pre>LGBMRegressor(num_leaves=200, random_state=12345)</pre><b>In a Jupyter environment, please rerun this cell to show the HTML representation or trust the notebook. <br />On GitHub, the HTML representation is unable to render, please try loading this page with nbviewer.org.</b></div><div class=\"sk-container\" hidden><div class=\"sk-item\"><div class=\"sk-estimator sk-toggleable\"><input class=\"sk-toggleable__control sk-hidden--visually\" id=\"sk-estimator-id-3\" type=\"checkbox\" checked><label for=\"sk-estimator-id-3\" class=\"sk-toggleable__label sk-toggleable__label-arrow\">LGBMRegressor</label><div class=\"sk-toggleable__content\"><pre>LGBMRegressor(num_leaves=200, random_state=12345)</pre></div></div></div></div></div>"
      ],
      "text/plain": [
       "LGBMRegressor(num_leaves=200, random_state=12345)"
      ]
     },
     "execution_count": 40,
     "metadata": {},
     "output_type": "execute_result"
    }
   ],
   "source": [
    "%%time\n",
    "model_lgbm = LGBMRegressor(learning_rate=0.1, num_leaves=200, random_state=12345)\n",
    "model_lgbm.fit(features_train_ordinal, target_train)"
   ]
  },
  {
   "cell_type": "code",
   "execution_count": 41,
   "metadata": {},
   "outputs": [
    {
     "name": "stdout",
     "output_type": "stream",
     "text": [
      "CPU times: user 667 ms, sys: 8.15 ms, total: 675 ms\n",
      "Wall time: 612 ms\n"
     ]
    }
   ],
   "source": [
    "%%time\n",
    "predict_lgbm = model_lgbm.predict(features_valid_ordinal)"
   ]
  },
  {
   "cell_type": "code",
   "execution_count": 42,
   "metadata": {},
   "outputs": [
    {
     "name": "stdout",
     "output_type": "stream",
     "text": [
      "RMSE LGBMRegressor = 1634.0714727014815\n"
     ]
    }
   ],
   "source": [
    "RMSE_lgbm = mean_squared_error(target_valid, predict_lgbm) ** 0.5\n",
    "print('RMSE LGBMRegressor =', RMSE_lgbm)"
   ]
  },
  {
   "cell_type": "markdown",
   "metadata": {},
   "source": [
    "**3.5 Сводная таблица результатов**"
   ]
  },
  {
   "cell_type": "code",
   "execution_count": 47,
   "metadata": {},
   "outputs": [
    {
     "data": {
      "text/html": [
       "<div>\n",
       "<style scoped>\n",
       "    .dataframe tbody tr th:only-of-type {\n",
       "        vertical-align: middle;\n",
       "    }\n",
       "\n",
       "    .dataframe tbody tr th {\n",
       "        vertical-align: top;\n",
       "    }\n",
       "\n",
       "    .dataframe thead th {\n",
       "        text-align: right;\n",
       "    }\n",
       "</style>\n",
       "<table border=\"1\" class=\"dataframe\">\n",
       "  <thead>\n",
       "    <tr style=\"text-align: right;\">\n",
       "      <th></th>\n",
       "      <th>RMSE</th>\n",
       "      <th>Время обучения модели, сек</th>\n",
       "      <th>Время предсказания модели, сек</th>\n",
       "      <th>Рейтинг RMSE</th>\n",
       "      <th>Рейтинг времени обучения</th>\n",
       "      <th>Рейтинг времени предсказания</th>\n",
       "    </tr>\n",
       "  </thead>\n",
       "  <tbody>\n",
       "    <tr>\n",
       "      <th>LinearRegression</th>\n",
       "      <td>2555.351997</td>\n",
       "      <td>21.60</td>\n",
       "      <td>0.126</td>\n",
       "      <td>0.639470</td>\n",
       "      <td>0.200926</td>\n",
       "      <td>0.412698</td>\n",
       "    </tr>\n",
       "    <tr>\n",
       "      <th>DecisionTreeRegressor on OHE features</th>\n",
       "      <td>1897.346186</td>\n",
       "      <td>4.34</td>\n",
       "      <td>0.127</td>\n",
       "      <td>0.861241</td>\n",
       "      <td>1.000000</td>\n",
       "      <td>0.409449</td>\n",
       "    </tr>\n",
       "    <tr>\n",
       "      <th>CatBoostRegressor</th>\n",
       "      <td>1697.491425</td>\n",
       "      <td>23.80</td>\n",
       "      <td>0.052</td>\n",
       "      <td>0.962639</td>\n",
       "      <td>0.182353</td>\n",
       "      <td>1.000000</td>\n",
       "    </tr>\n",
       "    <tr>\n",
       "      <th>LGBMRegressor</th>\n",
       "      <td>1634.071473</td>\n",
       "      <td>12.80</td>\n",
       "      <td>0.612</td>\n",
       "      <td>1.000000</td>\n",
       "      <td>0.339062</td>\n",
       "      <td>0.084967</td>\n",
       "    </tr>\n",
       "  </tbody>\n",
       "</table>\n",
       "</div>"
      ],
      "text/plain": [
       "                                              RMSE  \\\n",
       "LinearRegression                       2555.351997   \n",
       "DecisionTreeRegressor on OHE features  1897.346186   \n",
       "CatBoostRegressor                      1697.491425   \n",
       "LGBMRegressor                          1634.071473   \n",
       "\n",
       "                                       Время обучения модели, сек  \\\n",
       "LinearRegression                                            21.60   \n",
       "DecisionTreeRegressor on OHE features                        4.34   \n",
       "CatBoostRegressor                                           23.80   \n",
       "LGBMRegressor                                               12.80   \n",
       "\n",
       "                                       Время предсказания модели, сек  \\\n",
       "LinearRegression                                                0.126   \n",
       "DecisionTreeRegressor on OHE features                           0.127   \n",
       "CatBoostRegressor                                               0.052   \n",
       "LGBMRegressor                                                   0.612   \n",
       "\n",
       "                                       Рейтинг RMSE  Рейтинг времени обучения  \\\n",
       "LinearRegression                           0.639470                  0.200926   \n",
       "DecisionTreeRegressor on OHE features      0.861241                  1.000000   \n",
       "CatBoostRegressor                          0.962639                  0.182353   \n",
       "LGBMRegressor                              1.000000                  0.339062   \n",
       "\n",
       "                                       Рейтинг времени предсказания  \n",
       "LinearRegression                                           0.412698  \n",
       "DecisionTreeRegressor on OHE features                      0.409449  \n",
       "CatBoostRegressor                                          1.000000  \n",
       "LGBMRegressor                                              0.084967  "
      ]
     },
     "execution_count": 47,
     "metadata": {},
     "output_type": "execute_result"
    }
   ],
   "source": [
    "index = ['LinearRegression','DecisionTreeRegressor on OHE features', 'CatBoostRegressor', 'LGBMRegressor']\n",
    "data = {'RMSE':[RMSE_lin, RMSE_tree, RMSE_catboost, RMSE_lgbm],\n",
    "        'Время обучения модели, сек':[21.6, 4.34, 23.8, 12.8],\n",
    "        'Время предсказания модели, сек':[0.126, 0.127, 0.052, 0.612]}\n",
    "data_score = pd.DataFrame(data=data, index=index)\n",
    "data_score['Рейтинг RMSE'] = (data_score['RMSE'].min() / data_score['RMSE'])\n",
    "data_score['Рейтинг времени обучения'] = (data_score['Время обучения модели, сек'].min() / data_score['Время обучения модели, сек'])\n",
    "data_score['Рейтинг времени предсказания'] = (data_score['Время предсказания модели, сек'].min() / data_score['Время предсказания модели, сек'])\n",
    "data_score"
   ]
  },
  {
   "cell_type": "markdown",
   "metadata": {},
   "source": [
    "**Вывод по пункту 3**\n",
    "\n",
    "Сравнивая результаты в сводной таблице, получаем следующее:\n",
    "- для быстрых решений с хорошей точностью подойдет DecisionTreeRegressor on OHE features\n",
    "- если важна точность и есть время, то лучше справится LGBMRegressor\n",
    "- CatBoostRegressor показал хорошую точность и время предсказания самое лучшее, но дольше обучается\n",
    "\n",
    "По точности  и с небольшим временем предсказания лучше оказался CatBoostRegressor, поэтому его проверим на тестовой выборке"
   ]
  },
  {
   "cell_type": "code",
   "execution_count": 48,
   "metadata": {},
   "outputs": [],
   "source": [
    "# кодирование тестовой выборки\n",
    "cat_features_test = features_test[cat_columns]\n",
    "cat_features_test = pd.DataFrame(encoder.fit_transform(cat_features_test), columns=cat_features_test.columns, index=cat_features_test.index)\n",
    "features_test_ordinal = features_test.copy()\n",
    "for column in cat_columns:\n",
    "    features_test_ordinal[column] = cat_features_test[column]"
   ]
  },
  {
   "cell_type": "code",
   "execution_count": 49,
   "metadata": {},
   "outputs": [
    {
     "name": "stdout",
     "output_type": "stream",
     "text": [
      "CPU times: user 58.8 ms, sys: 0 ns, total: 58.8 ms\n",
      "Wall time: 56.8 ms\n"
     ]
    }
   ],
   "source": [
    "%%time\n",
    "\n",
    "# проверка финальной модели на тестовой выборке\n",
    "predict_catboost = model_catboost.predict(features_test_ordinal)"
   ]
  },
  {
   "cell_type": "code",
   "execution_count": 50,
   "metadata": {},
   "outputs": [
    {
     "name": "stdout",
     "output_type": "stream",
     "text": [
      "RMSE CatBoostRegressor = 1697.4914249804772\n"
     ]
    }
   ],
   "source": [
    "RMSE_catboost = mean_squared_error(target_test, predict_catboost) ** 0.5\n",
    "print('RMSE CatBoostRegressor =', RMSE_catboost)"
   ]
  },
  {
   "cell_type": "markdown",
   "metadata": {},
   "source": [
    "На тестовой выборке финальная модель показала себя также хорошо"
   ]
  },
  {
   "cell_type": "markdown",
   "metadata": {},
   "source": [
    "**Общий вывод**\n",
    "\n",
    "1. В ходе изучения данных было получено следующее:\n",
    "\n",
    "- Пропуски есть в столбцах VehicleType, Gearbox, Model, FuelType и Repaired.\n",
    "- В данных есть дубликаты\n",
    "- В столбцах RegistrationYear и Power есть аномальные значения. В столбцах RegistrationMonth и Price есть нулевые значения.\n",
    "- Для обучения модели не несут ценности столбцы DateCrawled, DateCreated, LastSeen, NumberOfPictures, PostalCode, их можно удалить\n",
    "\n",
    "2. В ходе предобработки данных было проделано следующее:\n",
    "\n",
    "- удалены ненужные столбцы\n",
    "- удалены дубликаты\n",
    "- обработали пропуски в столбцах Gearbox, Repaired наиболее популярными значениями, а в столбце Model значением unknown\n",
    "- заменили пропуски в столбцах VehicleType и FuelType модой по каждой группе\n",
    "- избавились от аномалий в столбце RegistrationYear; оставили значения от 1970 до 2016 года\n",
    "- избавились от аномалий в столбце Power; отсекли нулевые значения и те, у которых мощность больше 400 л.с.\n",
    "- избавились от аномалий в столбце Price, отсекли нулевые значения\n",
    "\n",
    "3. Подобрали лучшие параметры для четырех моделей:\n",
    "- для LinearRegression рассмотрели ОНЕ-кодирование и ОЕ-кодирование, лучшая точность была у ОНЕ-кодирования\n",
    "- для DecisionTreeRegressor также рассмотрели два вида кодирования и выбрали глубину, лучший результат получили при ОНЕ-кодировании с глубиной 14\n",
    "- для CatBoostRegressor рассмотрели параметр learning_rate, лучший результат при learning_rate=0.3\n",
    "- для LGBMRegressor рассмотрели параметры learning_rate и num_leaves, лучший результат при learning_rate=0.1 и num_leaves=200\n",
    "\n",
    "4. Лучшие представители каждой модели обучили, нашли время обучения и предсказания и значение RMSE, полученные данные занесли в сводную таблицу.\n",
    "\n",
    "Сравнив результаты в сводной таблице, получили следующее:\n",
    "- для быстрых решений с хорошей точностью подойдет DecisionTreeRegressor on OHE features\n",
    "- если важна точность и есть время, то лучше справится LGBMRegressor\n",
    "- CatBoostRegressor показал хорошую точность и время предсказания самое лучшее, но дольше обучается\n",
    "\n",
    "По двум показателям лучше оказался CatBoostRegressor, поэтому его проверили на тестовой выборке, на которой также получили хорошие результаты"
   ]
  }
 ],
 "metadata": {
  "ExecuteTimeLog": [
   {
    "duration": 51,
    "start_time": "2023-01-14T09:33:49.748Z"
   },
   {
    "duration": 420,
    "start_time": "2023-01-14T09:33:56.009Z"
   },
   {
    "duration": 1076,
    "start_time": "2023-01-14T09:33:58.231Z"
   },
   {
    "duration": 143,
    "start_time": "2023-01-14T09:34:55.640Z"
   },
   {
    "duration": 495,
    "start_time": "2023-01-14T09:58:56.350Z"
   },
   {
    "duration": 98,
    "start_time": "2023-01-14T10:00:39.739Z"
   },
   {
    "duration": 79,
    "start_time": "2023-01-14T10:17:44.065Z"
   },
   {
    "duration": 34,
    "start_time": "2023-01-14T10:39:47.320Z"
   },
   {
    "duration": 142,
    "start_time": "2023-01-14T10:43:47.942Z"
   },
   {
    "duration": 394,
    "start_time": "2023-01-14T10:46:34.154Z"
   },
   {
    "duration": 33,
    "start_time": "2023-01-14T11:14:38.798Z"
   },
   {
    "duration": 30,
    "start_time": "2023-01-14T11:15:02.103Z"
   },
   {
    "duration": 84,
    "start_time": "2023-01-14T11:17:04.838Z"
   },
   {
    "duration": 118,
    "start_time": "2023-01-14T11:18:22.399Z"
   },
   {
    "duration": 95,
    "start_time": "2023-01-14T11:19:42.173Z"
   },
   {
    "duration": 205,
    "start_time": "2023-01-14T12:16:24.847Z"
   },
   {
    "duration": 191,
    "start_time": "2023-01-14T12:17:29.800Z"
   },
   {
    "duration": 214,
    "start_time": "2023-01-14T12:17:52.178Z"
   },
   {
    "duration": 5,
    "start_time": "2023-01-14T12:40:28.467Z"
   },
   {
    "duration": 4,
    "start_time": "2023-01-14T12:40:39.268Z"
   },
   {
    "duration": 54,
    "start_time": "2023-01-14T12:40:58.103Z"
   },
   {
    "duration": 2115,
    "start_time": "2023-01-14T12:47:02.098Z"
   },
   {
    "duration": 2028,
    "start_time": "2023-01-14T12:47:32.562Z"
   },
   {
    "duration": 4133,
    "start_time": "2023-01-14T12:49:37.844Z"
   },
   {
    "duration": 4167,
    "start_time": "2023-01-14T12:49:48.032Z"
   },
   {
    "duration": 4139,
    "start_time": "2023-01-14T12:50:23.873Z"
   },
   {
    "duration": 4177,
    "start_time": "2023-01-14T12:50:51.778Z"
   },
   {
    "duration": 4122,
    "start_time": "2023-01-14T12:51:53.668Z"
   },
   {
    "duration": 383,
    "start_time": "2023-01-14T12:52:32.547Z"
   },
   {
    "duration": 803,
    "start_time": "2023-01-14T12:52:32.932Z"
   },
   {
    "duration": 147,
    "start_time": "2023-01-14T12:52:33.736Z"
   },
   {
    "duration": 476,
    "start_time": "2023-01-14T12:52:33.885Z"
   },
   {
    "duration": 98,
    "start_time": "2023-01-14T12:52:34.363Z"
   },
   {
    "duration": 90,
    "start_time": "2023-01-14T12:52:34.462Z"
   },
   {
    "duration": 136,
    "start_time": "2023-01-14T12:52:34.554Z"
   },
   {
    "duration": 383,
    "start_time": "2023-01-14T12:52:34.691Z"
   },
   {
    "duration": 221,
    "start_time": "2023-01-14T12:52:35.075Z"
   },
   {
    "duration": 4294,
    "start_time": "2023-01-14T12:52:35.298Z"
   },
   {
    "duration": 402,
    "start_time": "2023-01-14T12:54:05.952Z"
   },
   {
    "duration": 870,
    "start_time": "2023-01-14T12:54:06.356Z"
   },
   {
    "duration": 145,
    "start_time": "2023-01-14T12:54:07.228Z"
   },
   {
    "duration": 491,
    "start_time": "2023-01-14T12:54:07.375Z"
   },
   {
    "duration": 100,
    "start_time": "2023-01-14T12:54:07.868Z"
   },
   {
    "duration": 91,
    "start_time": "2023-01-14T12:54:07.969Z"
   },
   {
    "duration": 141,
    "start_time": "2023-01-14T12:54:08.061Z"
   },
   {
    "duration": 385,
    "start_time": "2023-01-14T12:54:08.204Z"
   },
   {
    "duration": 225,
    "start_time": "2023-01-14T12:54:08.591Z"
   },
   {
    "duration": 3976,
    "start_time": "2023-01-14T12:54:08.818Z"
   },
   {
    "duration": 704,
    "start_time": "2023-01-14T13:07:57.096Z"
   },
   {
    "duration": 330,
    "start_time": "2023-01-14T13:09:37.786Z"
   },
   {
    "duration": 388,
    "start_time": "2023-01-14T13:16:36.477Z"
   },
   {
    "duration": 304,
    "start_time": "2023-01-14T13:18:00.637Z"
   },
   {
    "duration": 285,
    "start_time": "2023-01-14T13:18:25.205Z"
   },
   {
    "duration": 387,
    "start_time": "2023-01-14T13:18:40.162Z"
   },
   {
    "duration": 817,
    "start_time": "2023-01-14T13:18:40.550Z"
   },
   {
    "duration": 149,
    "start_time": "2023-01-14T13:18:41.368Z"
   },
   {
    "duration": 532,
    "start_time": "2023-01-14T13:18:41.520Z"
   },
   {
    "duration": 100,
    "start_time": "2023-01-14T13:18:42.053Z"
   },
   {
    "duration": 86,
    "start_time": "2023-01-14T13:18:42.155Z"
   },
   {
    "duration": 138,
    "start_time": "2023-01-14T13:18:42.243Z"
   },
   {
    "duration": 411,
    "start_time": "2023-01-14T13:18:42.383Z"
   },
   {
    "duration": 219,
    "start_time": "2023-01-14T13:18:42.795Z"
   },
   {
    "duration": 4074,
    "start_time": "2023-01-14T13:18:43.016Z"
   },
   {
    "duration": 527,
    "start_time": "2023-01-14T13:18:47.092Z"
   },
   {
    "duration": 310,
    "start_time": "2023-01-14T13:18:47.620Z"
   },
   {
    "duration": 370,
    "start_time": "2023-01-14T13:18:47.932Z"
   },
   {
    "duration": 305,
    "start_time": "2023-01-14T13:18:48.304Z"
   },
   {
    "duration": 312,
    "start_time": "2023-01-14T13:19:21.088Z"
   },
   {
    "duration": 299,
    "start_time": "2023-01-14T13:20:15.086Z"
   },
   {
    "duration": 23,
    "start_time": "2023-01-14T13:21:22.782Z"
   },
   {
    "duration": 294,
    "start_time": "2023-01-14T13:22:19.294Z"
   },
   {
    "duration": 89,
    "start_time": "2023-01-14T13:23:35.966Z"
   },
   {
    "duration": 434,
    "start_time": "2023-01-14T13:39:50.415Z"
   },
   {
    "duration": 869,
    "start_time": "2023-01-14T13:39:50.852Z"
   },
   {
    "duration": 145,
    "start_time": "2023-01-14T13:39:51.722Z"
   },
   {
    "duration": 491,
    "start_time": "2023-01-14T13:39:51.869Z"
   },
   {
    "duration": 120,
    "start_time": "2023-01-14T13:39:52.362Z"
   },
   {
    "duration": 104,
    "start_time": "2023-01-14T13:39:52.484Z"
   },
   {
    "duration": 152,
    "start_time": "2023-01-14T13:39:52.589Z"
   },
   {
    "duration": 351,
    "start_time": "2023-01-14T13:39:52.743Z"
   },
   {
    "duration": 223,
    "start_time": "2023-01-14T13:39:53.096Z"
   },
   {
    "duration": 4235,
    "start_time": "2023-01-14T13:39:53.321Z"
   },
   {
    "duration": 539,
    "start_time": "2023-01-14T13:39:57.558Z"
   },
   {
    "duration": 311,
    "start_time": "2023-01-14T13:39:58.099Z"
   },
   {
    "duration": 382,
    "start_time": "2023-01-14T13:39:58.413Z"
   },
   {
    "duration": 295,
    "start_time": "2023-01-14T13:39:58.797Z"
   },
   {
    "duration": 310,
    "start_time": "2023-01-14T13:39:59.094Z"
   },
   {
    "duration": 78,
    "start_time": "2023-01-14T13:39:59.405Z"
   },
   {
    "duration": 13,
    "start_time": "2023-01-14T13:47:40.894Z"
   },
   {
    "duration": 98,
    "start_time": "2023-01-14T13:49:55.111Z"
   },
   {
    "duration": 682,
    "start_time": "2023-01-14T13:50:27.488Z"
   },
   {
    "duration": 68,
    "start_time": "2023-01-14T13:50:35.321Z"
   },
   {
    "duration": 21,
    "start_time": "2023-01-14T14:01:29.613Z"
   },
   {
    "duration": 412,
    "start_time": "2023-01-14T16:09:32.246Z"
   },
   {
    "duration": 41,
    "start_time": "2023-01-14T16:11:00.238Z"
   },
   {
    "duration": 3,
    "start_time": "2023-01-14T16:11:53.663Z"
   },
   {
    "duration": 774,
    "start_time": "2023-01-14T16:12:03.274Z"
   },
   {
    "duration": 419,
    "start_time": "2023-01-14T16:12:12.233Z"
   },
   {
    "duration": 406,
    "start_time": "2023-01-14T16:14:36.600Z"
   },
   {
    "duration": 3,
    "start_time": "2023-01-14T16:17:12.013Z"
   },
   {
    "duration": 409,
    "start_time": "2023-01-14T16:17:24.600Z"
   },
   {
    "duration": 78100,
    "start_time": "2023-01-14T16:24:19.642Z"
   },
   {
    "duration": 3,
    "start_time": "2023-01-14T16:47:20.747Z"
   },
   {
    "duration": 5,
    "start_time": "2023-01-14T16:49:14.404Z"
   },
   {
    "duration": 77623,
    "start_time": "2023-01-14T16:52:55.118Z"
   },
   {
    "duration": 85503,
    "start_time": "2023-01-14T16:54:12.744Z"
   },
   {
    "duration": 389,
    "start_time": "2023-01-14T16:57:07.735Z"
   },
   {
    "duration": 3,
    "start_time": "2023-01-14T16:57:35.896Z"
   },
   {
    "duration": 75894,
    "start_time": "2023-01-14T16:57:42.150Z"
   },
   {
    "duration": 72704,
    "start_time": "2023-01-14T17:01:46.034Z"
   },
   {
    "duration": 84899,
    "start_time": "2023-01-14T17:02:58.741Z"
   },
   {
    "duration": 177172,
    "start_time": "2023-01-14T17:30:31.880Z"
   },
   {
    "duration": 31,
    "start_time": "2023-01-14T17:35:26.292Z"
   },
   {
    "duration": 1444,
    "start_time": "2023-01-14T17:35:42.486Z"
   },
   {
    "duration": 953,
    "start_time": "2023-01-14T17:35:43.932Z"
   },
   {
    "duration": 181,
    "start_time": "2023-01-14T17:35:44.887Z"
   },
   {
    "duration": 537,
    "start_time": "2023-01-14T17:35:45.070Z"
   },
   {
    "duration": 107,
    "start_time": "2023-01-14T17:35:45.609Z"
   },
   {
    "duration": 89,
    "start_time": "2023-01-14T17:35:45.718Z"
   },
   {
    "duration": 182,
    "start_time": "2023-01-14T17:35:45.809Z"
   },
   {
    "duration": 447,
    "start_time": "2023-01-14T17:35:45.994Z"
   },
   {
    "duration": 266,
    "start_time": "2023-01-14T17:35:46.443Z"
   },
   {
    "duration": 4731,
    "start_time": "2023-01-14T17:35:46.711Z"
   },
   {
    "duration": 380,
    "start_time": "2023-01-14T17:35:51.448Z"
   },
   {
    "duration": 373,
    "start_time": "2023-01-14T17:35:51.830Z"
   },
   {
    "duration": 385,
    "start_time": "2023-01-14T17:35:52.205Z"
   },
   {
    "duration": 438,
    "start_time": "2023-01-14T17:35:52.593Z"
   },
   {
    "duration": 370,
    "start_time": "2023-01-14T17:35:53.032Z"
   },
   {
    "duration": 95,
    "start_time": "2023-01-14T17:35:53.404Z"
   },
   {
    "duration": 85,
    "start_time": "2023-01-14T17:35:53.501Z"
   },
   {
    "duration": 179862,
    "start_time": "2023-01-14T17:35:53.587Z"
   },
   {
    "duration": 220,
    "start_time": "2023-01-14T17:38:53.452Z"
   },
   {
    "duration": 1465,
    "start_time": "2023-01-14T17:57:22.391Z"
   },
   {
    "duration": 935,
    "start_time": "2023-01-14T17:57:23.858Z"
   },
   {
    "duration": 176,
    "start_time": "2023-01-14T17:57:24.795Z"
   },
   {
    "duration": 534,
    "start_time": "2023-01-14T17:57:24.975Z"
   },
   {
    "duration": 110,
    "start_time": "2023-01-14T17:57:25.510Z"
   },
   {
    "duration": 92,
    "start_time": "2023-01-14T17:57:25.622Z"
   },
   {
    "duration": 160,
    "start_time": "2023-01-14T17:57:25.716Z"
   },
   {
    "duration": 447,
    "start_time": "2023-01-14T17:57:25.878Z"
   },
   {
    "duration": 275,
    "start_time": "2023-01-14T17:57:26.327Z"
   },
   {
    "duration": 4569,
    "start_time": "2023-01-14T17:57:26.604Z"
   },
   {
    "duration": 338,
    "start_time": "2023-01-14T17:57:31.175Z"
   },
   {
    "duration": 352,
    "start_time": "2023-01-14T17:57:31.515Z"
   },
   {
    "duration": 350,
    "start_time": "2023-01-14T17:57:31.870Z"
   },
   {
    "duration": 499,
    "start_time": "2023-01-14T17:57:32.222Z"
   },
   {
    "duration": 404,
    "start_time": "2023-01-14T17:57:32.723Z"
   },
   {
    "duration": 90,
    "start_time": "2023-01-14T17:57:33.129Z"
   },
   {
    "duration": 99,
    "start_time": "2023-01-14T17:57:33.221Z"
   },
   {
    "duration": 1565,
    "start_time": "2023-01-14T18:01:54.293Z"
   },
   {
    "duration": 1006,
    "start_time": "2023-01-14T18:01:55.862Z"
   },
   {
    "duration": 180,
    "start_time": "2023-01-14T18:01:56.870Z"
   },
   {
    "duration": 595,
    "start_time": "2023-01-14T18:01:57.054Z"
   },
   {
    "duration": 128,
    "start_time": "2023-01-14T18:01:57.652Z"
   },
   {
    "duration": 106,
    "start_time": "2023-01-14T18:01:57.782Z"
   },
   {
    "duration": 177,
    "start_time": "2023-01-14T18:01:57.890Z"
   },
   {
    "duration": 453,
    "start_time": "2023-01-14T18:01:58.069Z"
   },
   {
    "duration": 282,
    "start_time": "2023-01-14T18:01:58.524Z"
   },
   {
    "duration": 4488,
    "start_time": "2023-01-14T18:01:58.809Z"
   },
   {
    "duration": 377,
    "start_time": "2023-01-14T18:02:03.300Z"
   },
   {
    "duration": 392,
    "start_time": "2023-01-14T18:02:03.680Z"
   },
   {
    "duration": 362,
    "start_time": "2023-01-14T18:02:04.075Z"
   },
   {
    "duration": 490,
    "start_time": "2023-01-14T18:02:04.440Z"
   },
   {
    "duration": 443,
    "start_time": "2023-01-14T18:02:04.932Z"
   },
   {
    "duration": 103,
    "start_time": "2023-01-14T18:02:05.377Z"
   },
   {
    "duration": 93,
    "start_time": "2023-01-14T18:02:05.482Z"
   },
   {
    "duration": 255376,
    "start_time": "2023-01-14T18:02:05.577Z"
   },
   {
    "duration": 1883,
    "start_time": "2023-01-14T18:06:20.956Z"
   },
   {
    "duration": 1385,
    "start_time": "2023-01-14T18:13:10.046Z"
   },
   {
    "duration": 868,
    "start_time": "2023-01-14T18:13:11.433Z"
   },
   {
    "duration": 293,
    "start_time": "2023-01-14T18:13:12.303Z"
   },
   {
    "duration": 586,
    "start_time": "2023-01-14T18:13:12.599Z"
   },
   {
    "duration": 111,
    "start_time": "2023-01-14T18:13:13.186Z"
   },
   {
    "duration": 97,
    "start_time": "2023-01-14T18:13:13.299Z"
   },
   {
    "duration": 211,
    "start_time": "2023-01-14T18:13:13.398Z"
   },
   {
    "duration": 468,
    "start_time": "2023-01-14T18:13:13.611Z"
   },
   {
    "duration": 355,
    "start_time": "2023-01-14T18:13:14.082Z"
   },
   {
    "duration": 5175,
    "start_time": "2023-01-14T18:13:14.442Z"
   },
   {
    "duration": 358,
    "start_time": "2023-01-14T18:13:19.619Z"
   },
   {
    "duration": 337,
    "start_time": "2023-01-14T18:13:19.979Z"
   },
   {
    "duration": 329,
    "start_time": "2023-01-14T18:13:20.317Z"
   },
   {
    "duration": 401,
    "start_time": "2023-01-14T18:13:20.649Z"
   },
   {
    "duration": 307,
    "start_time": "2023-01-14T18:13:21.053Z"
   },
   {
    "duration": 118,
    "start_time": "2023-01-14T18:13:21.362Z"
   },
   {
    "duration": 87,
    "start_time": "2023-01-14T18:13:21.481Z"
   },
   {
    "duration": 337870,
    "start_time": "2023-01-14T18:13:21.569Z"
   },
   {
    "duration": 1471,
    "start_time": "2023-01-14T18:21:39.392Z"
   },
   {
    "duration": 1014,
    "start_time": "2023-01-14T18:21:40.865Z"
   },
   {
    "duration": 188,
    "start_time": "2023-01-14T18:21:41.884Z"
   },
   {
    "duration": 606,
    "start_time": "2023-01-14T18:21:42.074Z"
   },
   {
    "duration": 127,
    "start_time": "2023-01-14T18:21:42.683Z"
   },
   {
    "duration": 107,
    "start_time": "2023-01-14T18:21:42.812Z"
   },
   {
    "duration": 168,
    "start_time": "2023-01-14T18:21:42.921Z"
   },
   {
    "duration": 473,
    "start_time": "2023-01-14T18:21:43.090Z"
   },
   {
    "duration": 251,
    "start_time": "2023-01-14T18:21:43.567Z"
   },
   {
    "duration": 5001,
    "start_time": "2023-01-14T18:21:43.819Z"
   },
   {
    "duration": 409,
    "start_time": "2023-01-14T18:21:48.822Z"
   },
   {
    "duration": 357,
    "start_time": "2023-01-14T18:21:49.234Z"
   },
   {
    "duration": 360,
    "start_time": "2023-01-14T18:21:49.593Z"
   },
   {
    "duration": 439,
    "start_time": "2023-01-14T18:21:49.955Z"
   },
   {
    "duration": 379,
    "start_time": "2023-01-14T18:21:50.395Z"
   },
   {
    "duration": 102,
    "start_time": "2023-01-14T18:21:50.776Z"
   },
   {
    "duration": 89,
    "start_time": "2023-01-14T18:21:50.880Z"
   },
   {
    "duration": 365368,
    "start_time": "2023-01-14T18:21:50.971Z"
   },
   {
    "duration": 291354,
    "start_time": "2023-01-14T18:27:56.342Z"
   },
   {
    "duration": 4,
    "start_time": "2023-01-14T18:33:11.905Z"
   },
   {
    "duration": 978,
    "start_time": "2023-01-14T18:33:12.738Z"
   },
   {
    "duration": 160,
    "start_time": "2023-01-14T18:33:14.364Z"
   },
   {
    "duration": 455,
    "start_time": "2023-01-14T18:33:19.465Z"
   },
   {
    "duration": 98,
    "start_time": "2023-01-14T18:33:22.066Z"
   },
   {
    "duration": 76,
    "start_time": "2023-01-14T18:33:24.201Z"
   },
   {
    "duration": 156,
    "start_time": "2023-01-14T18:33:27.731Z"
   },
   {
    "duration": 405,
    "start_time": "2023-01-14T18:33:30.360Z"
   },
   {
    "duration": 319,
    "start_time": "2023-01-14T18:33:34.735Z"
   },
   {
    "duration": 5004,
    "start_time": "2023-01-14T18:33:38.787Z"
   },
   {
    "duration": 386,
    "start_time": "2023-01-14T18:33:43.793Z"
   },
   {
    "duration": 335,
    "start_time": "2023-01-14T18:33:47.552Z"
   },
   {
    "duration": 347,
    "start_time": "2023-01-14T18:33:50.481Z"
   },
   {
    "duration": 437,
    "start_time": "2023-01-14T18:33:54.770Z"
   },
   {
    "duration": 350,
    "start_time": "2023-01-14T18:33:56.070Z"
   },
   {
    "duration": 87,
    "start_time": "2023-01-14T18:33:58.705Z"
   },
   {
    "duration": 88,
    "start_time": "2023-01-14T18:34:06.873Z"
   },
   {
    "duration": 354714,
    "start_time": "2023-01-14T18:34:33.860Z"
   },
   {
    "duration": 368171,
    "start_time": "2023-01-14T18:41:55.494Z"
   },
   {
    "duration": 21,
    "start_time": "2023-01-14T19:03:25.550Z"
   },
   {
    "duration": 89105,
    "start_time": "2023-01-14T19:18:37.437Z"
   },
   {
    "duration": 86593,
    "start_time": "2023-01-14T19:20:06.546Z"
   },
   {
    "duration": 706111,
    "start_time": "2023-01-14T19:37:30.535Z"
   },
   {
    "duration": 582931,
    "start_time": "2023-01-14T19:49:58.435Z"
   },
   {
    "duration": 466,
    "start_time": "2023-01-14T20:16:49.710Z"
   },
   {
    "duration": 100776,
    "start_time": "2023-01-14T20:16:53.863Z"
   },
   {
    "duration": 593565,
    "start_time": "2023-01-14T20:33:05.858Z"
   },
   {
    "duration": 596456,
    "start_time": "2023-01-14T20:46:25.286Z"
   },
   {
    "duration": 10,
    "start_time": "2023-01-14T20:56:21.744Z"
   },
   {
    "duration": 13,
    "start_time": "2023-01-14T20:56:42.220Z"
   },
   {
    "duration": 5,
    "start_time": "2023-01-14T20:56:50.544Z"
   },
   {
    "duration": 598707,
    "start_time": "2023-01-14T21:00:35.942Z"
   },
   {
    "duration": 476,
    "start_time": "2023-01-14T21:11:16.247Z"
   },
   {
    "duration": 585913,
    "start_time": "2023-01-14T21:11:27.162Z"
   },
   {
    "duration": 433,
    "start_time": "2023-01-14T21:44:25.437Z"
   },
   {
    "duration": 46,
    "start_time": "2023-01-15T08:05:18.261Z"
   },
   {
    "duration": 1554,
    "start_time": "2023-01-15T08:05:28.306Z"
   },
   {
    "duration": 3027,
    "start_time": "2023-01-15T08:05:29.862Z"
   },
   {
    "duration": 116,
    "start_time": "2023-01-15T08:05:32.891Z"
   },
   {
    "duration": 430,
    "start_time": "2023-01-15T08:05:33.009Z"
   },
   {
    "duration": 105,
    "start_time": "2023-01-15T08:05:33.441Z"
   },
   {
    "duration": 83,
    "start_time": "2023-01-15T08:05:33.547Z"
   },
   {
    "duration": 129,
    "start_time": "2023-01-15T08:05:33.631Z"
   },
   {
    "duration": 401,
    "start_time": "2023-01-15T08:05:33.761Z"
   },
   {
    "duration": 207,
    "start_time": "2023-01-15T08:05:34.164Z"
   },
   {
    "duration": 3578,
    "start_time": "2023-01-15T08:05:34.373Z"
   },
   {
    "duration": 328,
    "start_time": "2023-01-15T08:05:37.953Z"
   },
   {
    "duration": 319,
    "start_time": "2023-01-15T08:05:38.282Z"
   },
   {
    "duration": 373,
    "start_time": "2023-01-15T08:05:38.603Z"
   },
   {
    "duration": 287,
    "start_time": "2023-01-15T08:05:38.978Z"
   },
   {
    "duration": 308,
    "start_time": "2023-01-15T08:05:39.267Z"
   },
   {
    "duration": 64,
    "start_time": "2023-01-15T08:05:39.577Z"
   },
   {
    "duration": 83,
    "start_time": "2023-01-15T08:05:39.643Z"
   },
   {
    "duration": 434,
    "start_time": "2023-01-15T08:05:39.728Z"
   },
   {
    "duration": 76361,
    "start_time": "2023-01-15T08:05:40.164Z"
   },
   {
    "duration": 2304,
    "start_time": "2023-01-15T08:06:56.527Z"
   },
   {
    "duration": 78099,
    "start_time": "2023-01-15T08:06:58.832Z"
   },
   {
    "duration": 578350,
    "start_time": "2023-01-15T08:08:17.023Z"
   },
   {
    "duration": 372,
    "start_time": "2023-01-15T08:17:55.375Z"
   },
   {
    "duration": 3,
    "start_time": "2023-01-15T08:17:55.749Z"
   },
   {
    "duration": 470,
    "start_time": "2023-01-15T08:28:19.030Z"
   },
   {
    "duration": 314,
    "start_time": "2023-01-15T08:28:38.705Z"
   },
   {
    "duration": 311,
    "start_time": "2023-01-15T08:29:18.291Z"
   },
   {
    "duration": 74448,
    "start_time": "2023-01-15T08:31:43.448Z"
   },
   {
    "duration": 73,
    "start_time": "2023-01-15T08:49:25.182Z"
   },
   {
    "duration": 4,
    "start_time": "2023-01-15T09:06:44.551Z"
   },
   {
    "duration": 17,
    "start_time": "2023-01-15T09:17:35.064Z"
   },
   {
    "duration": 335,
    "start_time": "2023-01-15T09:19:20.340Z"
   },
   {
    "duration": 14,
    "start_time": "2023-01-15T09:22:09.534Z"
   },
   {
    "duration": 3,
    "start_time": "2023-01-15T09:29:42.097Z"
   },
   {
    "duration": 1042062,
    "start_time": "2023-01-15T09:42:12.181Z"
   },
   {
    "duration": 348,
    "start_time": "2023-01-15T10:00:20.759Z"
   },
   {
    "duration": 79086,
    "start_time": "2023-01-15T10:00:28.658Z"
   },
   {
    "duration": 589334,
    "start_time": "2023-01-15T10:04:51.708Z"
   },
   {
    "duration": 343,
    "start_time": "2023-01-15T10:14:41.043Z"
   },
   {
    "duration": 73664,
    "start_time": "2023-01-15T10:14:41.388Z"
   },
   {
    "duration": 416,
    "start_time": "2023-01-15T10:32:23.019Z"
   },
   {
    "duration": 79428,
    "start_time": "2023-01-15T10:32:25.802Z"
   },
   {
    "duration": 0,
    "start_time": "2023-01-15T10:40:51.883Z"
   },
   {
    "duration": 73,
    "start_time": "2023-01-15T10:41:55.528Z"
   },
   {
    "duration": 78,
    "start_time": "2023-01-15T10:42:32.736Z"
   },
   {
    "duration": 0,
    "start_time": "2023-01-15T10:45:09.355Z"
   },
   {
    "duration": 262245,
    "start_time": "2023-01-15T10:45:24.688Z"
   },
   {
    "duration": 0,
    "start_time": "2023-01-15T10:53:02.070Z"
   },
   {
    "duration": 0,
    "start_time": "2023-01-15T10:57:48.337Z"
   },
   {
    "duration": 80,
    "start_time": "2023-01-15T11:14:43.800Z"
   },
   {
    "duration": 654535,
    "start_time": "2023-01-15T11:17:40.306Z"
   },
   {
    "duration": 2698190,
    "start_time": "2023-01-15T12:20:58.438Z"
   },
   {
    "duration": 618411,
    "start_time": "2023-01-15T13:05:56.630Z"
   },
   {
    "duration": 20098,
    "start_time": "2023-01-15T13:16:42.738Z"
   },
   {
    "duration": 100,
    "start_time": "2023-01-15T13:17:14.867Z"
   },
   {
    "duration": 116,
    "start_time": "2023-01-15T13:21:21.236Z"
   },
   {
    "duration": 90,
    "start_time": "2023-01-15T13:21:24.509Z"
   },
   {
    "duration": 389,
    "start_time": "2023-01-15T13:22:32.556Z"
   },
   {
    "duration": 108495,
    "start_time": "2023-01-15T13:22:33.939Z"
   },
   {
    "duration": 23285,
    "start_time": "2023-01-15T13:24:22.437Z"
   },
   {
    "duration": 128,
    "start_time": "2023-01-15T13:26:59.061Z"
   },
   {
    "duration": 121,
    "start_time": "2023-01-15T13:27:01.165Z"
   },
   {
    "duration": 10,
    "start_time": "2023-01-15T13:27:08.182Z"
   },
   {
    "duration": 5154,
    "start_time": "2023-01-15T13:27:12.868Z"
   },
   {
    "duration": 5051,
    "start_time": "2023-01-15T13:27:40.272Z"
   },
   {
    "duration": 246,
    "start_time": "2023-01-15T13:27:59.716Z"
   },
   {
    "duration": 12,
    "start_time": "2023-01-15T13:28:14.998Z"
   },
   {
    "duration": 28948,
    "start_time": "2023-01-15T13:28:24.253Z"
   },
   {
    "duration": 108,
    "start_time": "2023-01-15T13:29:19.365Z"
   },
   {
    "duration": 135,
    "start_time": "2023-01-15T13:30:04.136Z"
   },
   {
    "duration": 70,
    "start_time": "2023-01-15T13:30:11.669Z"
   },
   {
    "duration": 10,
    "start_time": "2023-01-15T13:30:19.653Z"
   },
   {
    "duration": 5,
    "start_time": "2023-01-15T13:30:52.287Z"
   },
   {
    "duration": 509298,
    "start_time": "2023-01-15T13:31:09.736Z"
   },
   {
    "duration": 244,
    "start_time": "2023-01-15T13:40:10.415Z"
   },
   {
    "duration": 115,
    "start_time": "2023-01-15T13:41:45.525Z"
   },
   {
    "duration": 128,
    "start_time": "2023-01-15T13:41:52.890Z"
   },
   {
    "duration": 84,
    "start_time": "2023-01-15T13:41:53.690Z"
   },
   {
    "duration": 288,
    "start_time": "2023-01-15T13:42:02.194Z"
   },
   {
    "duration": 307,
    "start_time": "2023-01-15T13:42:37.461Z"
   },
   {
    "duration": 846,
    "start_time": "2023-01-15T13:45:03.180Z"
   },
   {
    "duration": 6,
    "start_time": "2023-01-15T13:45:08.884Z"
   },
   {
    "duration": 4,
    "start_time": "2023-01-15T13:49:18.455Z"
   },
   {
    "duration": 1157,
    "start_time": "2023-01-15T13:49:20.341Z"
   },
   {
    "duration": 115,
    "start_time": "2023-01-15T13:49:27.719Z"
   },
   {
    "duration": 425,
    "start_time": "2023-01-15T13:49:31.367Z"
   },
   {
    "duration": 95,
    "start_time": "2023-01-15T13:49:33.831Z"
   },
   {
    "duration": 81,
    "start_time": "2023-01-15T13:49:37.551Z"
   },
   {
    "duration": 101,
    "start_time": "2023-01-15T13:50:12.231Z"
   },
   {
    "duration": 302,
    "start_time": "2023-01-15T13:50:16.271Z"
   },
   {
    "duration": 185,
    "start_time": "2023-01-15T13:50:25.655Z"
   },
   {
    "duration": 3687,
    "start_time": "2023-01-15T13:50:29.807Z"
   },
   {
    "duration": 331,
    "start_time": "2023-01-15T13:50:39.683Z"
   },
   {
    "duration": 474,
    "start_time": "2023-01-15T13:51:05.120Z"
   },
   {
    "duration": 317,
    "start_time": "2023-01-15T13:51:21.115Z"
   },
   {
    "duration": 315,
    "start_time": "2023-01-15T13:51:32.247Z"
   },
   {
    "duration": 301,
    "start_time": "2023-01-15T13:52:28.154Z"
   },
   {
    "duration": 66,
    "start_time": "2023-01-15T14:01:28.700Z"
   },
   {
    "duration": 15,
    "start_time": "2023-01-15T14:02:32.860Z"
   },
   {
    "duration": 659,
    "start_time": "2023-01-15T14:02:33.549Z"
   },
   {
    "duration": 418,
    "start_time": "2023-01-15T14:04:26.371Z"
   },
   {
    "duration": 465,
    "start_time": "2023-01-15T14:16:47.245Z"
   },
   {
    "duration": 388,
    "start_time": "2023-01-15T14:18:58.389Z"
   },
   {
    "duration": 380,
    "start_time": "2023-01-15T14:19:09.974Z"
   },
   {
    "duration": 412,
    "start_time": "2023-01-15T14:23:45.142Z"
   },
   {
    "duration": 80055,
    "start_time": "2023-01-15T14:24:11.774Z"
   },
   {
    "duration": 1794,
    "start_time": "2023-01-15T14:25:50.303Z"
   },
   {
    "duration": 96608,
    "start_time": "2023-01-15T14:26:03.238Z"
   },
   {
    "duration": 475268,
    "start_time": "2023-01-15T14:32:28.585Z"
   },
   {
    "duration": 61638,
    "start_time": "2023-01-15T14:41:10.235Z"
   },
   {
    "duration": 542105,
    "start_time": "2023-01-15T14:42:57.961Z"
   },
   {
    "duration": 4731515,
    "start_time": "2023-01-15T14:52:32.414Z"
   },
   {
    "duration": 23105,
    "start_time": "2023-01-15T16:12:49.130Z"
   },
   {
    "duration": 187,
    "start_time": "2023-01-15T16:13:45.443Z"
   },
   {
    "duration": 6,
    "start_time": "2023-01-15T16:14:14.947Z"
   },
   {
    "duration": 4068,
    "start_time": "2023-01-15T16:14:41.481Z"
   },
   {
    "duration": 112,
    "start_time": "2023-01-15T16:14:52.770Z"
   },
   {
    "duration": 6,
    "start_time": "2023-01-15T16:14:57.026Z"
   },
   {
    "duration": 26048,
    "start_time": "2023-01-15T16:15:16.114Z"
   },
   {
    "duration": 60,
    "start_time": "2023-01-15T16:16:20.834Z"
   },
   {
    "duration": 5,
    "start_time": "2023-01-15T16:16:51.227Z"
   },
   {
    "duration": 1380289,
    "start_time": "2023-01-15T16:17:16.042Z"
   },
   {
    "duration": 603,
    "start_time": "2023-01-15T16:42:34.146Z"
   },
   {
    "duration": 14,
    "start_time": "2023-01-15T16:42:56.410Z"
   },
   {
    "duration": 5,
    "start_time": "2023-01-15T16:43:06.754Z"
   },
   {
    "duration": 4,
    "start_time": "2023-01-15T16:44:49.851Z"
   },
   {
    "duration": 8,
    "start_time": "2023-01-15T16:49:27.773Z"
   },
   {
    "duration": 17,
    "start_time": "2023-01-15T16:49:44.007Z"
   },
   {
    "duration": 3,
    "start_time": "2023-01-15T17:18:47.168Z"
   },
   {
    "duration": 4,
    "start_time": "2023-01-15T17:21:18.449Z"
   },
   {
    "duration": 4,
    "start_time": "2023-01-15T17:22:04.121Z"
   },
   {
    "duration": 3,
    "start_time": "2023-01-15T17:22:14.377Z"
   },
   {
    "duration": 60,
    "start_time": "2023-01-15T17:22:30.345Z"
   },
   {
    "duration": 6,
    "start_time": "2023-01-15T17:22:34.200Z"
   },
   {
    "duration": 4,
    "start_time": "2023-01-15T17:23:24.457Z"
   },
   {
    "duration": 68,
    "start_time": "2023-01-15T17:24:34.185Z"
   },
   {
    "duration": 4,
    "start_time": "2023-01-15T17:24:51.867Z"
   },
   {
    "duration": 2156,
    "start_time": "2023-01-16T08:56:47.889Z"
   },
   {
    "duration": 1046,
    "start_time": "2023-01-16T08:56:50.047Z"
   },
   {
    "duration": 129,
    "start_time": "2023-01-16T08:56:51.095Z"
   },
   {
    "duration": 442,
    "start_time": "2023-01-16T08:56:51.226Z"
   },
   {
    "duration": 110,
    "start_time": "2023-01-16T08:56:51.671Z"
   },
   {
    "duration": 84,
    "start_time": "2023-01-16T08:56:51.782Z"
   },
   {
    "duration": 129,
    "start_time": "2023-01-16T08:57:30.039Z"
   },
   {
    "duration": 354,
    "start_time": "2023-01-16T08:57:30.189Z"
   },
   {
    "duration": 227,
    "start_time": "2023-01-16T08:57:30.546Z"
   },
   {
    "duration": 3735,
    "start_time": "2023-01-16T08:57:30.775Z"
   },
   {
    "duration": 304,
    "start_time": "2023-01-16T08:57:34.512Z"
   },
   {
    "duration": 278,
    "start_time": "2023-01-16T08:57:34.818Z"
   },
   {
    "duration": 433,
    "start_time": "2023-01-16T08:57:35.098Z"
   },
   {
    "duration": 290,
    "start_time": "2023-01-16T08:57:35.533Z"
   },
   {
    "duration": 307,
    "start_time": "2023-01-16T08:57:35.824Z"
   },
   {
    "duration": 68,
    "start_time": "2023-01-16T08:57:36.133Z"
   },
   {
    "duration": 13,
    "start_time": "2023-01-16T09:07:58.109Z"
   },
   {
    "duration": 524,
    "start_time": "2023-01-16T09:07:58.341Z"
   },
   {
    "duration": 449,
    "start_time": "2023-01-16T09:08:54.373Z"
   },
   {
    "duration": 47,
    "start_time": "2023-01-16T15:20:01.520Z"
   },
   {
    "duration": 1574,
    "start_time": "2023-01-16T15:20:23.322Z"
   },
   {
    "duration": 3055,
    "start_time": "2023-01-16T15:20:26.495Z"
   },
   {
    "duration": 127,
    "start_time": "2023-01-16T15:20:29.552Z"
   },
   {
    "duration": 477,
    "start_time": "2023-01-16T15:20:29.680Z"
   },
   {
    "duration": 110,
    "start_time": "2023-01-16T15:20:30.160Z"
   },
   {
    "duration": 56,
    "start_time": "2023-01-16T15:23:04.339Z"
   },
   {
    "duration": 84,
    "start_time": "2023-01-16T15:24:03.423Z"
   },
   {
    "duration": 56,
    "start_time": "2023-01-16T15:24:08.787Z"
   },
   {
    "duration": 45,
    "start_time": "2023-01-16T15:27:22.532Z"
   },
   {
    "duration": 109,
    "start_time": "2023-01-16T15:29:46.225Z"
   },
   {
    "duration": 353,
    "start_time": "2023-01-16T15:29:53.667Z"
   },
   {
    "duration": 305,
    "start_time": "2023-01-16T15:29:57.720Z"
   },
   {
    "duration": 179,
    "start_time": "2023-01-16T15:30:07.107Z"
   },
   {
    "duration": 3684,
    "start_time": "2023-01-16T15:30:34.355Z"
   },
   {
    "duration": 902,
    "start_time": "2023-01-16T15:30:43.491Z"
   },
   {
    "duration": 722,
    "start_time": "2023-01-16T15:31:53.245Z"
   },
   {
    "duration": 4,
    "start_time": "2023-01-16T15:32:07.316Z"
   },
   {
    "duration": 775,
    "start_time": "2023-01-16T15:32:08.885Z"
   },
   {
    "duration": 110,
    "start_time": "2023-01-16T15:32:09.768Z"
   },
   {
    "duration": 392,
    "start_time": "2023-01-16T15:32:11.436Z"
   },
   {
    "duration": 87,
    "start_time": "2023-01-16T15:32:13.652Z"
   },
   {
    "duration": 12,
    "start_time": "2023-01-16T15:32:19.782Z"
   },
   {
    "duration": 84,
    "start_time": "2023-01-16T15:35:58.828Z"
   },
   {
    "duration": 102,
    "start_time": "2023-01-16T15:36:28.204Z"
   },
   {
    "duration": 516,
    "start_time": "2023-01-16T15:37:57.804Z"
   },
   {
    "duration": 661,
    "start_time": "2023-01-16T15:39:55.941Z"
   },
   {
    "duration": 506,
    "start_time": "2023-01-16T15:41:09.845Z"
   },
   {
    "duration": 338,
    "start_time": "2023-01-16T15:43:33.831Z"
   },
   {
    "duration": 340,
    "start_time": "2023-01-16T15:43:55.846Z"
   },
   {
    "duration": 411,
    "start_time": "2023-01-16T15:44:09.081Z"
   },
   {
    "duration": 295,
    "start_time": "2023-01-16T15:44:40.806Z"
   },
   {
    "duration": 3,
    "start_time": "2023-01-16T15:44:48.766Z"
   },
   {
    "duration": 5,
    "start_time": "2023-01-16T15:44:54.205Z"
   },
   {
    "duration": 815,
    "start_time": "2023-01-16T15:44:55.628Z"
   },
   {
    "duration": 113,
    "start_time": "2023-01-16T15:44:56.528Z"
   },
   {
    "duration": 385,
    "start_time": "2023-01-16T15:44:57.654Z"
   },
   {
    "duration": 87,
    "start_time": "2023-01-16T15:44:59.015Z"
   },
   {
    "duration": 625,
    "start_time": "2023-01-16T15:45:05.004Z"
   },
   {
    "duration": 119,
    "start_time": "2023-01-16T15:45:13.695Z"
   },
   {
    "duration": 351,
    "start_time": "2023-01-16T15:45:16.382Z"
   },
   {
    "duration": 183,
    "start_time": "2023-01-16T15:45:21.277Z"
   },
   {
    "duration": 3571,
    "start_time": "2023-01-16T15:45:28.913Z"
   },
   {
    "duration": 303,
    "start_time": "2023-01-16T15:45:33.311Z"
   },
   {
    "duration": 283,
    "start_time": "2023-01-16T15:45:58.406Z"
   },
   {
    "duration": 4,
    "start_time": "2023-01-16T15:49:11.191Z"
   },
   {
    "duration": 745,
    "start_time": "2023-01-16T15:49:12.601Z"
   },
   {
    "duration": 107,
    "start_time": "2023-01-16T15:49:13.495Z"
   },
   {
    "duration": 399,
    "start_time": "2023-01-16T15:49:17.935Z"
   },
   {
    "duration": 85,
    "start_time": "2023-01-16T15:49:18.737Z"
   },
   {
    "duration": 605,
    "start_time": "2023-01-16T15:49:27.080Z"
   },
   {
    "duration": 114,
    "start_time": "2023-01-16T15:49:35.214Z"
   },
   {
    "duration": 345,
    "start_time": "2023-01-16T15:49:39.454Z"
   },
   {
    "duration": 175,
    "start_time": "2023-01-16T15:49:45.165Z"
   },
   {
    "duration": 3512,
    "start_time": "2023-01-16T15:49:55.294Z"
   },
   {
    "duration": 311,
    "start_time": "2023-01-16T15:50:40.495Z"
   },
   {
    "duration": 387,
    "start_time": "2023-01-16T15:51:11.363Z"
   },
   {
    "duration": 269,
    "start_time": "2023-01-16T15:51:34.571Z"
   },
   {
    "duration": 298,
    "start_time": "2023-01-16T15:51:51.425Z"
   },
   {
    "duration": 295,
    "start_time": "2023-01-16T15:52:32.727Z"
   },
   {
    "duration": 442,
    "start_time": "2023-01-16T15:52:46.416Z"
   },
   {
    "duration": 57,
    "start_time": "2023-01-16T15:52:56.720Z"
   },
   {
    "duration": 13,
    "start_time": "2023-01-16T18:35:19.429Z"
   },
   {
    "duration": 71,
    "start_time": "2023-01-16T18:36:22.806Z"
   },
   {
    "duration": 5,
    "start_time": "2023-01-16T18:57:29.054Z"
   },
   {
    "duration": 22,
    "start_time": "2023-01-16T19:00:28.580Z"
   },
   {
    "duration": 684,
    "start_time": "2023-01-16T19:02:39.254Z"
   },
   {
    "duration": 2108,
    "start_time": "2023-01-16T19:02:56.637Z"
   },
   {
    "duration": 272,
    "start_time": "2023-01-16T19:04:49.917Z"
   },
   {
    "duration": 323,
    "start_time": "2023-01-16T19:13:49.271Z"
   },
   {
    "duration": 11,
    "start_time": "2023-01-16T19:14:26.304Z"
   },
   {
    "duration": 4,
    "start_time": "2023-01-16T19:15:05.729Z"
   },
   {
    "duration": 67982,
    "start_time": "2023-01-16T19:19:07.735Z"
   },
   {
    "duration": 2658,
    "start_time": "2023-01-16T19:24:09.492Z"
   },
   {
    "duration": 62600,
    "start_time": "2023-01-16T19:24:13.724Z"
   },
   {
    "duration": 21,
    "start_time": "2023-01-16T19:31:17.404Z"
   },
   {
    "duration": 75,
    "start_time": "2023-01-16T19:31:18.380Z"
   },
   {
    "duration": 2015,
    "start_time": "2023-01-16T19:31:19.476Z"
   },
   {
    "duration": 329,
    "start_time": "2023-01-16T19:31:21.494Z"
   },
   {
    "duration": 4,
    "start_time": "2023-01-16T19:31:22.707Z"
   },
   {
    "duration": 58458,
    "start_time": "2023-01-16T19:31:27.459Z"
   },
   {
    "duration": 1876,
    "start_time": "2023-01-16T19:32:30.788Z"
   },
   {
    "duration": 101842,
    "start_time": "2023-01-16T19:32:33.684Z"
   },
   {
    "duration": 63448,
    "start_time": "2023-01-16T19:40:45.664Z"
   },
   {
    "duration": 452864,
    "start_time": "2023-01-16T19:42:43.450Z"
   },
   {
    "duration": 52248,
    "start_time": "2023-01-16T19:50:53.650Z"
   },
   {
    "duration": 452882,
    "start_time": "2023-01-16T19:54:42.225Z"
   },
   {
    "duration": 274980,
    "start_time": "2023-01-16T20:04:16.540Z"
   },
   {
    "duration": 14162,
    "start_time": "2023-01-16T20:11:07.351Z"
   },
   {
    "duration": 128,
    "start_time": "2023-01-16T20:12:06.790Z"
   },
   {
    "duration": 11,
    "start_time": "2023-01-16T20:16:20.595Z"
   },
   {
    "duration": 4326,
    "start_time": "2023-01-16T20:16:32.788Z"
   },
   {
    "duration": 207,
    "start_time": "2023-01-16T20:17:00.539Z"
   },
   {
    "duration": 5,
    "start_time": "2023-01-16T20:17:21.892Z"
   },
   {
    "duration": 20611,
    "start_time": "2023-01-16T20:17:48.036Z"
   },
   {
    "duration": 61,
    "start_time": "2023-01-16T20:18:37.869Z"
   },
   {
    "duration": 4,
    "start_time": "2023-01-16T20:18:44.469Z"
   },
   {
    "duration": 8939,
    "start_time": "2023-01-16T20:19:00.492Z"
   },
   {
    "duration": 564,
    "start_time": "2023-01-16T20:20:26.853Z"
   },
   {
    "duration": 5,
    "start_time": "2023-01-16T20:21:00.062Z"
   },
   {
    "duration": 17,
    "start_time": "2023-01-16T20:21:05.586Z"
   },
   {
    "duration": 88,
    "start_time": "2023-01-16T20:29:42.015Z"
   },
   {
    "duration": 556,
    "start_time": "2023-01-16T20:30:11.272Z"
   },
   {
    "duration": 26,
    "start_time": "2023-01-16T20:31:33.471Z"
   },
   {
    "duration": 5,
    "start_time": "2023-01-16T20:32:41.090Z"
   },
   {
    "duration": 93,
    "start_time": "2023-01-17T04:35:13.460Z"
   },
   {
    "duration": 2412,
    "start_time": "2023-01-17T04:35:26.750Z"
   },
   {
    "duration": 4240,
    "start_time": "2023-01-17T04:35:29.170Z"
   },
   {
    "duration": 266,
    "start_time": "2023-01-17T04:35:33.415Z"
   },
   {
    "duration": 825,
    "start_time": "2023-01-17T04:35:33.684Z"
   },
   {
    "duration": 148,
    "start_time": "2023-01-17T04:35:34.511Z"
   },
   {
    "duration": 897,
    "start_time": "2023-01-17T04:35:34.666Z"
   },
   {
    "duration": 224,
    "start_time": "2023-01-17T04:35:35.566Z"
   },
   {
    "duration": 554,
    "start_time": "2023-01-17T04:35:35.792Z"
   },
   {
    "duration": 432,
    "start_time": "2023-01-17T04:35:36.348Z"
   },
   {
    "duration": 5887,
    "start_time": "2023-01-17T04:35:36.784Z"
   },
   {
    "duration": 546,
    "start_time": "2023-01-17T04:35:42.673Z"
   },
   {
    "duration": 565,
    "start_time": "2023-01-17T04:35:43.221Z"
   },
   {
    "duration": 669,
    "start_time": "2023-01-17T04:35:43.788Z"
   },
   {
    "duration": 513,
    "start_time": "2023-01-17T04:35:44.459Z"
   },
   {
    "duration": 537,
    "start_time": "2023-01-17T04:35:44.974Z"
   },
   {
    "duration": 144,
    "start_time": "2023-01-17T04:35:45.514Z"
   },
   {
    "duration": 59,
    "start_time": "2023-01-17T04:35:45.662Z"
   },
   {
    "duration": 151,
    "start_time": "2023-01-17T04:35:45.725Z"
   },
   {
    "duration": 3246,
    "start_time": "2023-01-17T04:35:45.878Z"
   },
   {
    "duration": 626,
    "start_time": "2023-01-17T04:35:49.126Z"
   },
   {
    "duration": 13,
    "start_time": "2023-01-17T04:35:49.754Z"
   },
   {
    "duration": 156913,
    "start_time": "2023-01-17T04:35:49.769Z"
   },
   {
    "duration": 2086,
    "start_time": "2023-01-17T04:38:26.757Z"
   },
   {
    "duration": 142705,
    "start_time": "2023-01-17T04:38:28.845Z"
   },
   {
    "duration": 6,
    "start_time": "2023-01-17T04:41:31.620Z"
   },
   {
    "duration": 11,
    "start_time": "2023-01-17T04:41:51.733Z"
   },
   {
    "duration": 374,
    "start_time": "2023-01-17T04:42:00.632Z"
   },
   {
    "duration": 167,
    "start_time": "2023-01-17T04:42:03.867Z"
   },
   {
    "duration": 177060,
    "start_time": "2023-01-17T04:42:12.797Z"
   },
   {
    "duration": 1999,
    "start_time": "2023-01-18T04:44:33.491Z"
   },
   {
    "duration": 2894,
    "start_time": "2023-01-18T04:44:35.492Z"
   },
   {
    "duration": 136,
    "start_time": "2023-01-18T04:44:38.388Z"
   },
   {
    "duration": 497,
    "start_time": "2023-01-18T04:44:38.526Z"
   },
   {
    "duration": 94,
    "start_time": "2023-01-18T04:44:39.025Z"
   },
   {
    "duration": 591,
    "start_time": "2023-01-18T04:44:39.121Z"
   },
   {
    "duration": 145,
    "start_time": "2023-01-18T04:44:39.713Z"
   },
   {
    "duration": 402,
    "start_time": "2023-01-18T04:44:39.859Z"
   },
   {
    "duration": 202,
    "start_time": "2023-01-18T04:44:40.262Z"
   },
   {
    "duration": 3902,
    "start_time": "2023-01-18T04:44:40.466Z"
   },
   {
    "duration": 309,
    "start_time": "2023-01-18T04:44:44.369Z"
   },
   {
    "duration": 283,
    "start_time": "2023-01-18T04:44:44.680Z"
   },
   {
    "duration": 422,
    "start_time": "2023-01-18T04:44:44.965Z"
   },
   {
    "duration": 301,
    "start_time": "2023-01-18T04:44:45.390Z"
   },
   {
    "duration": 304,
    "start_time": "2023-01-18T04:44:45.692Z"
   },
   {
    "duration": 73,
    "start_time": "2023-01-18T04:44:45.998Z"
   },
   {
    "duration": 13,
    "start_time": "2023-01-18T04:44:52.440Z"
   },
   {
    "duration": 88,
    "start_time": "2023-01-18T04:44:52.841Z"
   },
   {
    "duration": 2577,
    "start_time": "2023-01-18T04:44:54.689Z"
   },
   {
    "duration": 331,
    "start_time": "2023-01-18T04:44:58.768Z"
   },
   {
    "duration": 4,
    "start_time": "2023-01-18T04:44:59.101Z"
   },
   {
    "duration": 4,
    "start_time": "2023-01-18T04:45:13.081Z"
   },
   {
    "duration": 3174,
    "start_time": "2023-01-18T04:45:24.883Z"
   },
   {
    "duration": 4,
    "start_time": "2023-01-18T04:45:29.994Z"
   },
   {
    "duration": 6289,
    "start_time": "2023-01-18T04:45:45.845Z"
   },
   {
    "duration": 4,
    "start_time": "2023-01-18T04:45:53.299Z"
   },
   {
    "duration": 4,
    "start_time": "2023-01-18T04:46:19.743Z"
   },
   {
    "duration": 2089,
    "start_time": "2023-01-18T04:46:43.084Z"
   },
   {
    "duration": 1961,
    "start_time": "2023-01-18T04:46:55.493Z"
   },
   {
    "duration": 2062,
    "start_time": "2023-01-18T04:48:34.592Z"
   },
   {
    "duration": 49,
    "start_time": "2023-01-18T04:48:51.897Z"
   },
   {
    "duration": 2,
    "start_time": "2023-01-18T04:48:57.033Z"
   },
   {
    "duration": 4,
    "start_time": "2023-01-18T04:49:04.521Z"
   },
   {
    "duration": 2002,
    "start_time": "2023-01-18T04:51:09.132Z"
   },
   {
    "duration": 4,
    "start_time": "2023-01-18T04:51:18.205Z"
   },
   {
    "duration": 3,
    "start_time": "2023-01-18T04:51:26.559Z"
   },
   {
    "duration": 6775,
    "start_time": "2023-01-18T18:02:49.493Z"
   },
   {
    "duration": 608,
    "start_time": "2023-01-18T18:02:57.811Z"
   },
   {
    "duration": 98,
    "start_time": "2023-01-18T18:04:05.154Z"
   },
   {
    "duration": 654,
    "start_time": "2023-01-18T18:04:06.601Z"
   },
   {
    "duration": 3059,
    "start_time": "2023-01-18T18:04:08.985Z"
   },
   {
    "duration": 132,
    "start_time": "2023-01-18T18:04:39.449Z"
   },
   {
    "duration": 441,
    "start_time": "2023-01-18T18:05:16.410Z"
   },
   {
    "duration": 88,
    "start_time": "2023-01-18T18:05:19.297Z"
   },
   {
    "duration": 585,
    "start_time": "2023-01-18T18:05:27.161Z"
   },
   {
    "duration": 141,
    "start_time": "2023-01-18T18:05:41.567Z"
   },
   {
    "duration": 362,
    "start_time": "2023-01-18T18:05:51.357Z"
   },
   {
    "duration": 191,
    "start_time": "2023-01-18T18:06:09.625Z"
   },
   {
    "duration": 3925,
    "start_time": "2023-01-18T18:06:34.415Z"
   },
   {
    "duration": 302,
    "start_time": "2023-01-18T18:07:10.961Z"
   },
   {
    "duration": 279,
    "start_time": "2023-01-18T18:07:19.257Z"
   },
   {
    "duration": 367,
    "start_time": "2023-01-18T18:07:58.673Z"
   },
   {
    "duration": 303,
    "start_time": "2023-01-18T18:08:24.410Z"
   },
   {
    "duration": 312,
    "start_time": "2023-01-18T18:08:57.899Z"
   },
   {
    "duration": 73,
    "start_time": "2023-01-18T18:09:03.658Z"
   },
   {
    "duration": 2,
    "start_time": "2023-01-18T18:10:43.651Z"
   },
   {
    "duration": 13,
    "start_time": "2023-01-18T18:12:23.491Z"
   },
   {
    "duration": 79,
    "start_time": "2023-01-18T18:12:29.795Z"
   },
   {
    "duration": 2427,
    "start_time": "2023-01-18T18:13:32.900Z"
   },
   {
    "duration": 2106,
    "start_time": "2023-01-18T18:14:38.388Z"
   },
   {
    "duration": 2043,
    "start_time": "2023-01-18T18:16:30.301Z"
   },
   {
    "duration": 2126,
    "start_time": "2023-01-18T18:17:18.269Z"
   },
   {
    "duration": 7,
    "start_time": "2023-01-18T18:17:24.028Z"
   },
   {
    "duration": 3,
    "start_time": "2023-01-18T18:17:27.341Z"
   },
   {
    "duration": 883,
    "start_time": "2023-01-18T18:17:35.102Z"
   },
   {
    "duration": 141,
    "start_time": "2023-01-18T18:17:41.236Z"
   },
   {
    "duration": 376,
    "start_time": "2023-01-18T18:17:45.708Z"
   },
   {
    "duration": 81,
    "start_time": "2023-01-18T18:17:48.077Z"
   },
   {
    "duration": 49,
    "start_time": "2023-01-18T18:19:16.740Z"
   },
   {
    "duration": 565,
    "start_time": "2023-01-18T18:20:07.052Z"
   },
   {
    "duration": 136,
    "start_time": "2023-01-18T18:20:20.795Z"
   },
   {
    "duration": 369,
    "start_time": "2023-01-18T18:20:25.270Z"
   },
   {
    "duration": 237,
    "start_time": "2023-01-18T18:20:39.462Z"
   },
   {
    "duration": 3936,
    "start_time": "2023-01-18T18:20:56.522Z"
   },
   {
    "duration": 303,
    "start_time": "2023-01-18T18:21:21.277Z"
   },
   {
    "duration": 259,
    "start_time": "2023-01-18T18:21:28.663Z"
   },
   {
    "duration": 311,
    "start_time": "2023-01-18T18:21:33.132Z"
   },
   {
    "duration": 482,
    "start_time": "2023-01-18T18:21:45.213Z"
   },
   {
    "duration": 319,
    "start_time": "2023-01-18T18:21:56.430Z"
   },
   {
    "duration": 66,
    "start_time": "2023-01-18T18:22:07.261Z"
   },
   {
    "duration": 15,
    "start_time": "2023-01-18T18:22:49.996Z"
   },
   {
    "duration": 79,
    "start_time": "2023-01-18T18:22:52.718Z"
   },
   {
    "duration": 2816,
    "start_time": "2023-01-18T18:25:29.237Z"
   },
   {
    "duration": 283,
    "start_time": "2023-01-18T18:25:41.748Z"
   },
   {
    "duration": 3,
    "start_time": "2023-01-18T18:25:44.733Z"
   },
   {
    "duration": 66294,
    "start_time": "2023-01-18T18:25:55.473Z"
   },
   {
    "duration": 1187,
    "start_time": "2023-01-18T18:27:09.261Z"
   },
   {
    "duration": 58648,
    "start_time": "2023-01-18T18:27:15.621Z"
   },
   {
    "duration": 47581,
    "start_time": "2023-01-18T18:28:49.366Z"
   },
   {
    "duration": 436169,
    "start_time": "2023-01-18T18:29:56.089Z"
   },
   {
    "duration": 53451,
    "start_time": "2023-01-18T18:39:52.227Z"
   },
   {
    "duration": 463429,
    "start_time": "2023-01-18T18:45:41.218Z"
   },
   {
    "duration": 287253,
    "start_time": "2023-01-18T18:53:54.924Z"
   },
   {
    "duration": 14299,
    "start_time": "2023-01-18T19:03:07.182Z"
   },
   {
    "duration": 92,
    "start_time": "2023-01-18T19:03:57.480Z"
   },
   {
    "duration": 4,
    "start_time": "2023-01-18T19:04:14.840Z"
   },
   {
    "duration": 3836,
    "start_time": "2023-01-18T19:04:25.735Z"
   },
   {
    "duration": 131,
    "start_time": "2023-01-18T19:05:01.963Z"
   },
   {
    "duration": 4,
    "start_time": "2023-01-18T19:05:18.464Z"
   },
   {
    "duration": 22248,
    "start_time": "2023-01-18T19:05:28.463Z"
   },
   {
    "duration": 58,
    "start_time": "2023-01-18T19:06:09.607Z"
   },
   {
    "duration": 6,
    "start_time": "2023-01-18T19:06:23.048Z"
   },
   {
    "duration": 128586,
    "start_time": "2023-01-18T19:06:29.208Z"
   },
   {
    "duration": 548,
    "start_time": "2023-01-18T19:09:14.320Z"
   },
   {
    "duration": 5,
    "start_time": "2023-01-18T19:09:33.714Z"
   },
   {
    "duration": 16,
    "start_time": "2023-01-18T19:09:40.263Z"
   },
   {
    "duration": 72,
    "start_time": "2023-01-18T19:12:57.663Z"
   },
   {
    "duration": 51,
    "start_time": "2023-01-18T19:13:26.041Z"
   },
   {
    "duration": 4,
    "start_time": "2023-01-18T19:14:25.993Z"
   },
   {
    "duration": 10743,
    "start_time": "2023-01-19T11:48:47.986Z"
   },
   {
    "duration": 788,
    "start_time": "2023-01-19T11:49:02.176Z"
   },
   {
    "duration": 11,
    "start_time": "2023-01-19T11:49:31.965Z"
   },
   {
    "duration": 2218,
    "start_time": "2023-01-19T11:51:11.071Z"
   },
   {
    "duration": 14,
    "start_time": "2023-01-19T11:51:19.281Z"
   },
   {
    "duration": 1152,
    "start_time": "2023-01-19T11:52:11.472Z"
   },
   {
    "duration": 1111,
    "start_time": "2023-01-19T11:52:15.821Z"
   },
   {
    "duration": 147,
    "start_time": "2023-01-19T11:52:16.934Z"
   },
   {
    "duration": 515,
    "start_time": "2023-01-19T11:52:17.083Z"
   },
   {
    "duration": 99,
    "start_time": "2023-01-19T11:52:17.847Z"
   },
   {
    "duration": 605,
    "start_time": "2023-01-19T11:52:21.023Z"
   },
   {
    "duration": 131,
    "start_time": "2023-01-19T11:52:24.494Z"
   },
   {
    "duration": 389,
    "start_time": "2023-01-19T11:52:25.471Z"
   },
   {
    "duration": 275,
    "start_time": "2023-01-19T11:52:28.023Z"
   },
   {
    "duration": 4198,
    "start_time": "2023-01-19T11:52:31.358Z"
   },
   {
    "duration": 354,
    "start_time": "2023-01-19T11:52:35.558Z"
   },
   {
    "duration": 310,
    "start_time": "2023-01-19T11:52:35.914Z"
   },
   {
    "duration": 431,
    "start_time": "2023-01-19T11:52:36.227Z"
   },
   {
    "duration": 340,
    "start_time": "2023-01-19T11:52:36.659Z"
   },
   {
    "duration": 333,
    "start_time": "2023-01-19T11:52:37.516Z"
   },
   {
    "duration": 78,
    "start_time": "2023-01-19T11:52:38.643Z"
   },
   {
    "duration": 14,
    "start_time": "2023-01-19T11:52:49.430Z"
   },
   {
    "duration": 85,
    "start_time": "2023-01-19T11:52:50.063Z"
   },
   {
    "duration": 2680,
    "start_time": "2023-01-19T11:52:57.894Z"
   },
   {
    "duration": 347,
    "start_time": "2023-01-19T11:53:04.750Z"
   },
   {
    "duration": 4,
    "start_time": "2023-01-19T11:53:06.127Z"
   },
   {
    "duration": 85258,
    "start_time": "2023-01-19T11:53:10.993Z"
   },
   {
    "duration": 3,
    "start_time": "2023-01-19T11:56:07.128Z"
   },
   {
    "duration": 276,
    "start_time": "2023-01-19T11:56:30.233Z"
   },
   {
    "duration": 67651,
    "start_time": "2023-01-19T11:56:32.896Z"
   },
   {
    "duration": 2448,
    "start_time": "2023-01-19T12:01:46.282Z"
   },
   {
    "duration": 852,
    "start_time": "2023-01-19T12:01:48.733Z"
   },
   {
    "duration": 509,
    "start_time": "2023-01-19T12:01:49.587Z"
   },
   {
    "duration": 858,
    "start_time": "2023-01-19T12:01:50.098Z"
   },
   {
    "duration": 150,
    "start_time": "2023-01-19T12:01:50.958Z"
   },
   {
    "duration": 479,
    "start_time": "2023-01-19T12:01:51.110Z"
   },
   {
    "duration": 103,
    "start_time": "2023-01-19T12:01:51.591Z"
   },
   {
    "duration": 614,
    "start_time": "2023-01-19T12:01:51.695Z"
   },
   {
    "duration": 146,
    "start_time": "2023-01-19T12:01:52.311Z"
   },
   {
    "duration": 387,
    "start_time": "2023-01-19T12:01:52.460Z"
   },
   {
    "duration": 233,
    "start_time": "2023-01-19T12:01:52.848Z"
   },
   {
    "duration": 4232,
    "start_time": "2023-01-19T12:01:53.083Z"
   },
   {
    "duration": 349,
    "start_time": "2023-01-19T12:01:57.317Z"
   },
   {
    "duration": 330,
    "start_time": "2023-01-19T12:01:57.668Z"
   },
   {
    "duration": 458,
    "start_time": "2023-01-19T12:01:58.000Z"
   },
   {
    "duration": 323,
    "start_time": "2023-01-19T12:01:58.460Z"
   },
   {
    "duration": 403,
    "start_time": "2023-01-19T12:01:58.785Z"
   },
   {
    "duration": 71,
    "start_time": "2023-01-19T12:01:59.190Z"
   },
   {
    "duration": 16,
    "start_time": "2023-01-19T12:01:59.263Z"
   },
   {
    "duration": 97,
    "start_time": "2023-01-19T12:01:59.281Z"
   },
   {
    "duration": 2990,
    "start_time": "2023-01-19T12:01:59.380Z"
   },
   {
    "duration": 339,
    "start_time": "2023-01-19T12:02:02.372Z"
   },
   {
    "duration": 4,
    "start_time": "2023-01-19T12:02:02.713Z"
   },
   {
    "duration": 72523,
    "start_time": "2023-01-19T12:02:02.719Z"
   },
   {
    "duration": 385,
    "start_time": "2023-01-19T12:03:15.246Z"
   },
   {
    "duration": 72508,
    "start_time": "2023-01-19T12:03:15.633Z"
   },
   {
    "duration": 257941,
    "start_time": "2023-01-19T12:04:28.143Z"
   },
   {
    "duration": 0,
    "start_time": "2023-01-19T12:08:46.086Z"
   },
   {
    "duration": 0,
    "start_time": "2023-01-19T12:08:46.088Z"
   },
   {
    "duration": 0,
    "start_time": "2023-01-19T12:08:46.088Z"
   },
   {
    "duration": 0,
    "start_time": "2023-01-19T12:08:46.089Z"
   },
   {
    "duration": 0,
    "start_time": "2023-01-19T12:08:46.091Z"
   },
   {
    "duration": 0,
    "start_time": "2023-01-19T12:08:46.092Z"
   },
   {
    "duration": 0,
    "start_time": "2023-01-19T12:08:46.093Z"
   },
   {
    "duration": 0,
    "start_time": "2023-01-19T12:08:46.094Z"
   },
   {
    "duration": 0,
    "start_time": "2023-01-19T12:08:46.095Z"
   },
   {
    "duration": 0,
    "start_time": "2023-01-19T12:08:46.096Z"
   },
   {
    "duration": 0,
    "start_time": "2023-01-19T12:08:46.097Z"
   },
   {
    "duration": 0,
    "start_time": "2023-01-19T12:08:46.098Z"
   },
   {
    "duration": 0,
    "start_time": "2023-01-19T12:08:46.099Z"
   },
   {
    "duration": 0,
    "start_time": "2023-01-19T12:08:46.100Z"
   },
   {
    "duration": 0,
    "start_time": "2023-01-19T12:08:46.101Z"
   },
   {
    "duration": 0,
    "start_time": "2023-01-19T12:08:46.102Z"
   },
   {
    "duration": 1,
    "start_time": "2023-01-19T12:08:46.103Z"
   },
   {
    "duration": 0,
    "start_time": "2023-01-19T12:08:46.104Z"
   },
   {
    "duration": 0,
    "start_time": "2023-01-19T12:08:46.105Z"
   },
   {
    "duration": 380,
    "start_time": "2023-01-19T12:11:04.284Z"
   },
   {
    "duration": 2192,
    "start_time": "2023-01-19T12:12:11.731Z"
   },
   {
    "duration": 754,
    "start_time": "2023-01-19T12:12:13.925Z"
   },
   {
    "duration": 486,
    "start_time": "2023-01-19T12:12:14.680Z"
   },
   {
    "duration": 797,
    "start_time": "2023-01-19T12:12:15.168Z"
   },
   {
    "duration": 145,
    "start_time": "2023-01-19T12:12:15.967Z"
   },
   {
    "duration": 494,
    "start_time": "2023-01-19T12:12:16.113Z"
   },
   {
    "duration": 101,
    "start_time": "2023-01-19T12:12:16.609Z"
   },
   {
    "duration": 603,
    "start_time": "2023-01-19T12:12:16.711Z"
   },
   {
    "duration": 149,
    "start_time": "2023-01-19T12:12:17.316Z"
   },
   {
    "duration": 402,
    "start_time": "2023-01-19T12:12:17.468Z"
   },
   {
    "duration": 215,
    "start_time": "2023-01-19T12:12:17.871Z"
   },
   {
    "duration": 4278,
    "start_time": "2023-01-19T12:12:18.088Z"
   },
   {
    "duration": 344,
    "start_time": "2023-01-19T12:12:22.368Z"
   },
   {
    "duration": 299,
    "start_time": "2023-01-19T12:12:22.713Z"
   },
   {
    "duration": 385,
    "start_time": "2023-01-19T12:12:23.013Z"
   },
   {
    "duration": 311,
    "start_time": "2023-01-19T12:12:23.399Z"
   },
   {
    "duration": 328,
    "start_time": "2023-01-19T12:12:23.711Z"
   },
   {
    "duration": 68,
    "start_time": "2023-01-19T12:12:24.041Z"
   },
   {
    "duration": 25,
    "start_time": "2023-01-19T12:12:24.111Z"
   },
   {
    "duration": 89,
    "start_time": "2023-01-19T12:12:24.140Z"
   },
   {
    "duration": 2385,
    "start_time": "2023-01-19T12:12:24.231Z"
   },
   {
    "duration": 355,
    "start_time": "2023-01-19T12:12:26.619Z"
   },
   {
    "duration": 4,
    "start_time": "2023-01-19T12:12:26.976Z"
   },
   {
    "duration": 70066,
    "start_time": "2023-01-19T12:12:26.981Z"
   },
   {
    "duration": 541,
    "start_time": "2023-01-19T12:13:37.050Z"
   },
   {
    "duration": 71955,
    "start_time": "2023-01-19T12:13:37.593Z"
   },
   {
    "duration": 475879,
    "start_time": "2023-01-19T12:14:49.552Z"
   },
   {
    "duration": 61255,
    "start_time": "2023-01-19T12:22:45.439Z"
   },
   {
    "duration": 495378,
    "start_time": "2023-01-19T12:23:46.697Z"
   },
   {
    "duration": 533479,
    "start_time": "2023-01-19T12:32:02.077Z"
   },
   {
    "duration": 21697,
    "start_time": "2023-01-19T12:40:55.558Z"
   },
   {
    "duration": 182,
    "start_time": "2023-01-19T12:41:17.257Z"
   },
   {
    "duration": 13,
    "start_time": "2023-01-19T12:41:17.442Z"
   },
   {
    "duration": 4444,
    "start_time": "2023-01-19T12:41:17.458Z"
   },
   {
    "duration": 131,
    "start_time": "2023-01-19T12:41:21.904Z"
   },
   {
    "duration": 6,
    "start_time": "2023-01-19T12:41:22.036Z"
   },
   {
    "duration": 23849,
    "start_time": "2023-01-19T12:41:22.044Z"
   },
   {
    "duration": 55,
    "start_time": "2023-01-19T12:41:45.895Z"
   },
   {
    "duration": 4,
    "start_time": "2023-01-19T12:41:45.952Z"
   },
   {
    "duration": 12883,
    "start_time": "2023-01-19T12:41:45.957Z"
   },
   {
    "duration": 698,
    "start_time": "2023-01-19T12:41:58.843Z"
   },
   {
    "duration": 4,
    "start_time": "2023-01-19T12:41:59.543Z"
   },
   {
    "duration": 38,
    "start_time": "2023-01-19T12:41:59.549Z"
   },
   {
    "duration": 104,
    "start_time": "2023-01-19T12:41:59.588Z"
   },
   {
    "duration": 68,
    "start_time": "2023-01-19T12:41:59.694Z"
   },
   {
    "duration": 4,
    "start_time": "2023-01-19T12:41:59.764Z"
   },
   {
    "duration": 17,
    "start_time": "2023-01-19T12:49:24.031Z"
   },
   {
    "duration": 97,
    "start_time": "2023-01-19T12:52:50.552Z"
   },
   {
    "duration": 61,
    "start_time": "2023-01-19T12:52:52.085Z"
   },
   {
    "duration": 6,
    "start_time": "2023-01-19T12:53:03.445Z"
   },
   {
    "duration": 76,
    "start_time": "2023-03-22T22:09:04.197Z"
   },
   {
    "duration": 7814,
    "start_time": "2023-03-22T22:09:26.173Z"
   },
   {
    "duration": 714,
    "start_time": "2023-03-22T22:09:38.242Z"
   },
   {
    "duration": 730,
    "start_time": "2023-03-22T22:09:40.053Z"
   },
   {
    "duration": 1405,
    "start_time": "2023-03-22T22:09:44.411Z"
   },
   {
    "duration": 169,
    "start_time": "2023-03-22T22:09:53.127Z"
   },
   {
    "duration": 537,
    "start_time": "2023-03-22T22:09:57.211Z"
   },
   {
    "duration": 117,
    "start_time": "2023-03-22T22:10:13.350Z"
   },
   {
    "duration": 579,
    "start_time": "2023-03-22T22:10:26.988Z"
   },
   {
    "duration": 179,
    "start_time": "2023-03-22T22:10:34.841Z"
   },
   {
    "duration": 433,
    "start_time": "2023-03-22T22:10:38.981Z"
   },
   {
    "duration": 231,
    "start_time": "2023-03-22T22:10:43.109Z"
   },
   {
    "duration": 4308,
    "start_time": "2023-03-22T22:10:58.511Z"
   },
   {
    "duration": 424,
    "start_time": "2023-03-22T22:11:09.051Z"
   },
   {
    "duration": 315,
    "start_time": "2023-03-22T22:12:07.664Z"
   },
   {
    "duration": 417,
    "start_time": "2023-03-22T22:15:12.445Z"
   },
   {
    "duration": 407,
    "start_time": "2023-03-22T22:16:21.810Z"
   },
   {
    "duration": 395,
    "start_time": "2023-03-22T22:17:34.985Z"
   },
   {
    "duration": 115,
    "start_time": "2023-03-22T22:17:47.842Z"
   }
  ],
  "kernelspec": {
   "display_name": "Python 3 (ipykernel)",
   "language": "python",
   "name": "python3"
  },
  "language_info": {
   "codemirror_mode": {
    "name": "ipython",
    "version": 3
   },
   "file_extension": ".py",
   "mimetype": "text/x-python",
   "name": "python",
   "nbconvert_exporter": "python",
   "pygments_lexer": "ipython3",
   "version": "3.9.7"
  },
  "toc": {
   "base_numbering": 1,
   "nav_menu": {},
   "number_sections": true,
   "sideBar": true,
   "skip_h1_title": true,
   "title_cell": "Table of Contents",
   "title_sidebar": "Contents",
   "toc_cell": false,
   "toc_position": {},
   "toc_section_display": true,
   "toc_window_display": false
  }
 },
 "nbformat": 4,
 "nbformat_minor": 2
}
